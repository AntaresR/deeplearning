{
 "cells": [
  {
   "cell_type": "markdown",
   "metadata": {},
   "source": [
    "## Imports"
   ]
  },
  {
   "cell_type": "code",
   "execution_count": 7,
   "metadata": {},
   "outputs": [],
   "source": [
    "# PYTHON\n",
    "import os\n",
    "import random\n",
    "import librosa\n",
    "from scipy.io import wavfile\n",
    "import numpy as np\n",
    "from collections import Counter\n",
    "import matplotlib.pyplot as plt\n",
    "from skimage.transform import resize\n",
    "from sklearn.metrics import confusion_matrix\n",
    "\n",
    "# JUPYTER\n",
    "import warnings\n",
    "warnings.filterwarnings('ignore')\n",
    "%matplotlib inline\n",
    "\n",
    "#PYTORCH\n",
    "import torch\n",
    "from torch.utils.data import Dataset, DataLoader\n",
    "from torch import nn\n",
    "from torch.nn import functional as F\n",
    "from torch.autograd import Variable as V\n",
    "from torch import optim\n",
    "from torch.utils.data.sampler import *"
   ]
  },
  {
   "cell_type": "markdown",
   "metadata": {},
   "source": [
    "## Dataset Classes"
   ]
  },
  {
   "cell_type": "markdown",
   "metadata": {},
   "source": [
    "### 1.1 Log Mel Spectogram Class\n",
    "\n",
    "Let's show an example of a Dataset and how we do the transformations from wav file into images of log mel spectogram. We need to scale data so that every image same size."
   ]
  },
  {
   "cell_type": "code",
   "execution_count": 8,
   "metadata": {},
   "outputs": [],
   "source": [
    "class logSpecData(Dataset):\n",
    "    def __init__(self, file_path, classes, sample_ratio=1.0):\n",
    "        self.file_path = file_path\n",
    "        self.classes = classes\n",
    "        img_paths = []\n",
    "        for c in classes:\n",
    "            for img_path in os.listdir(file_path + c):\n",
    "                img_paths.append(file_path + c + '/' +  img_path)\n",
    "        #shuffle with sorted\n",
    "        #subsample for easier experimentation \n",
    "        random.shuffle(img_paths)\n",
    "        self.img_paths = img_paths[:int(len(img_paths)*sample_ratio)]\n",
    "        \n",
    "    def __getitem__(self, idx):\n",
    "        img_path = self.img_paths[idx]\n",
    "        label = img_path.split('/')[4]\n",
    "        #read wav file\n",
    "        sample_rate, samples = wavfile.read(img_path)\n",
    "        #get mel spectogram and log mel spectogram\n",
    "        S = librosa.feature.melspectrogram(samples, sr=sample_rate, n_mels=128)\n",
    "        log_S = librosa.power_to_db(S, ref=np.max)\n",
    "        #get label index from classes\n",
    "        label_idx = np.where(np.array(classes) == label)[0][0]\n",
    "        img = log_S.T\n",
    "        #resize images that are not in right size\n",
    "        if img.shape != (32, 128):\n",
    "            img = resize(log_S.T, (32, 128))\n",
    "        #add dimension for 1 channel image\n",
    "        img = img[None, :]\n",
    "        return img, label_idx \n",
    "        \n",
    "    def __len__(self): \n",
    "        return len(self.img_paths)"
   ]
  },
  {
   "cell_type": "code",
   "execution_count": 9,
   "metadata": {},
   "outputs": [],
   "source": [
    "# here is a list of the classes to be predicted\n",
    "classes = ['yes', 'no', 'up', 'down', 'left', 'right', 'on', 'off', 'stop', 'go']#, 'silence', 'unknown']"
   ]
  },
  {
   "cell_type": "code",
   "execution_count": 12,
   "metadata": {},
   "outputs": [],
   "source": [
    "train_path = '../data/train/train/'\n",
    "val_path = '../data/train/val/'"
   ]
  },
  {
   "cell_type": "code",
   "execution_count": 13,
   "metadata": {},
   "outputs": [],
   "source": [
    "train_ds = logSpecData(train_path, classes)\n",
    "val_ds = logSpecData(val_path, classes)"
   ]
  },
  {
   "cell_type": "code",
   "execution_count": 14,
   "metadata": {},
   "outputs": [
    {
     "data": {
      "text/plain": [
       "(21105, 2577)"
      ]
     },
     "execution_count": 14,
     "metadata": {},
     "output_type": "execute_result"
    }
   ],
   "source": [
    "len(train_ds.img_paths), len(val_ds.img_paths)"
   ]
  },
  {
   "cell_type": "code",
   "execution_count": 15,
   "metadata": {},
   "outputs": [],
   "source": [
    "train_data = iter(DataLoader(train_ds ,shuffle=True))"
   ]
  },
  {
   "cell_type": "code",
   "execution_count": 16,
   "metadata": {},
   "outputs": [
    {
     "name": "stdout",
     "output_type": "stream",
     "text": [
      "torch.Size([1, 1, 32, 128])\n"
     ]
    },
    {
     "data": {
      "text/plain": [
       "(\n",
       "  5\n",
       " [torch.LongTensor of size 1], <matplotlib.image.AxesImage at 0x7fdc7405ba58>)"
      ]
     },
     "execution_count": 16,
     "metadata": {},
     "output_type": "execute_result"
    },
    {
     "data": {
      "image/png": "[encoded data removed]",
      "text/plain": [
       "<matplotlib.figure.Figure at 0x7fdcf621cda0>"
      ]
     },
     "metadata": {},
     "output_type": "display_data"
    }
   ],
   "source": [
    "log_s, label = next(train_data)\n",
    "print (log_s.size())\n",
    "label, plt.imshow(log_s.numpy()[0][0], aspect='auto')"
   ]
  },
  {
   "cell_type": "markdown",
   "metadata": {},
   "source": [
    "## Creating Dataloaders\n",
    "\n",
    "- We will define a weighted random sampler to balance class samples\n",
    "- This sampler expects weigths for each data point in the dataset\n",
    "- For this example we will balance out unknown and silence samples"
   ]
  },
  {
   "cell_type": "code",
   "execution_count": 17,
   "metadata": {},
   "outputs": [],
   "source": [
    "def get_sampler_weights(dataset):\n",
    "    labels = [i.split('/')[4] for i in dataset.img_paths]\n",
    "    count_dict = Counter(labels)\n",
    "    total_count = sum(count_dict.values())\n",
    "    weight_dict = {k:total_count / count_dict[k] for k in count_dict}\n",
    "    weights = np.vectorize(weight_dict.get)(np.array(labels))\n",
    "    return weights, weight_dict"
   ]
  },
  {
   "cell_type": "markdown",
   "metadata": {},
   "source": [
    "## NN Models"
   ]
  },
  {
   "cell_type": "markdown",
   "metadata": {},
   "source": [
    "### 1.1 CNN_TRAD_POOL2_NET\n",
    "\n",
    "This model is coming from tensorflow automatic speech recognition tutorial. It's a fairly simple model but it will be a good start."
   ]
  },
  {
   "cell_type": "code",
   "execution_count": 18,
   "metadata": {},
   "outputs": [],
   "source": [
    "class cnn_trad_pool2_net(nn.Module):\n",
    "    def __init__(self, in_shape=(1, 32, 128), num_classes=12):\n",
    "        super(cnn_trad_pool2_net, self).__init__()\n",
    "        self.num_classes = num_classes\n",
    "        \n",
    "        self.conv1 = nn.Conv2d(1,  64, kernel_size=(16, 8), stride=(1, 1))\n",
    "        self.conv2 = nn.Conv2d(64, 64, kernel_size=(8, 4), stride=(1, 1))\n",
    "        self.fc = nn.Linear(3648, num_classes)\n",
    "    \n",
    "    def forward(self, x):\n",
    "        # maxpool + relu is faster than relu + maxpool equivalent ops\n",
    "        # https://discuss.pytorch.org/t/example-on-how-to-use-batch-norm/216/4\n",
    "        x = self.conv1(x)\n",
    "        x = F.max_pool2d(x, kernel_size=(2,2), stride=(2,2))\n",
    "        x = F.relu(x)\n",
    "       \n",
    "        x = self.conv2(x)\n",
    "        x = F.relu(x)\n",
    "        x = x.view(x.size(0), -1)\n",
    "        \n",
    "        x = F.dropout(x, p=0.5, training=True)\n",
    "        x = self.fc(x)\n",
    "        return x"
   ]
  },
  {
   "cell_type": "code",
   "execution_count": 19,
   "metadata": {},
   "outputs": [],
   "source": [
    "net = cnn_trad_pool2_net()"
   ]
  },
  {
   "cell_type": "code",
   "execution_count": 20,
   "metadata": {},
   "outputs": [],
   "source": [
    "logits = net(V(log_s.float()))"
   ]
  },
  {
   "cell_type": "code",
   "execution_count": 21,
   "metadata": {},
   "outputs": [
    {
     "data": {
      "text/plain": [
       "(Variable containing:\n",
       " \n",
       " Columns 0 to 9 \n",
       "  1.9094 -0.7201  6.5278 -0.9413  3.7257 -7.0277  3.2035 -0.7709 -0.7058  1.1887\n",
       " \n",
       " Columns 10 to 11 \n",
       " -5.3194  6.6327\n",
       " [torch.FloatTensor of size 1x12], \n",
       "  5\n",
       " [torch.LongTensor of size 1])"
      ]
     },
     "execution_count": 21,
     "metadata": {},
     "output_type": "execute_result"
    }
   ],
   "source": [
    "logits, label.view(-1)"
   ]
  },
  {
   "cell_type": "code",
   "execution_count": 22,
   "metadata": {},
   "outputs": [
    {
     "data": {
      "text/plain": [
       "Variable containing:\n",
       " 14.3551\n",
       "[torch.FloatTensor of size 1]"
      ]
     },
     "execution_count": 22,
     "metadata": {},
     "output_type": "execute_result"
    }
   ],
   "source": [
    "F.cross_entropy(logits, V(label.view(-1)))"
   ]
  },
  {
   "cell_type": "markdown",
   "metadata": {},
   "source": [
    "## Training Loop\n",
    "\n",
    "A very good reference to use while training your neural network: https://blog.slavv.com/37-reasons-why-your-neural-network-is-not-working-4020854bd607\n",
    "\n",
    "What to learn:\n",
    "\n",
    "- sampler to get equal size class samples (**done**)\n",
    "- Data Augmentation on audio data from scratch (do it after first model without it)\n",
    "- saving models and logging (**done**)\n",
    "- setting learning rate schedular\n",
    "- use parallel gpus (**done**) http://pytorch.org/tutorials/beginner/blitz/data_parallel_tutorial.html#sphx-glr-beginner-blitz-data-parallel-tutorial-py\n",
    "\n",
    "Side notes: \n",
    "- silence and unknown might need some balancing in validation\n",
    "- learn about visdom"
   ]
  },
  {
   "cell_type": "code",
   "execution_count": 23,
   "metadata": {},
   "outputs": [
    {
     "data": {
      "text/plain": [
       "('../data/train/train/', '../data/train/val/')"
      ]
     },
     "execution_count": 23,
     "metadata": {},
     "output_type": "execute_result"
    }
   ],
   "source": [
    "train_path, val_path"
   ]
  },
  {
   "cell_type": "code",
   "execution_count": 25,
   "metadata": {},
   "outputs": [],
   "source": [
    "# here is a list of the classes to be predicted\n",
    "classes = ['yes', 'no', 'up', 'down', 'left', 'right', 'on', 'off', 'stop', 'go']#, 'silence', 'unknown']"
   ]
  },
  {
   "cell_type": "code",
   "execution_count": 26,
   "metadata": {},
   "outputs": [],
   "source": [
    "train_ds = logSpecData(train_path, classes)\n",
    "val_ds = logSpecData(val_path, classes)"
   ]
  },
  {
   "cell_type": "code",
   "execution_count": 27,
   "metadata": {},
   "outputs": [
    {
     "data": {
      "text/plain": [
       "(21105, 2577)"
      ]
     },
     "execution_count": 27,
     "metadata": {},
     "output_type": "execute_result"
    }
   ],
   "source": [
    "train_ds.__len__(), val_ds.__len__()"
   ]
  },
  {
   "cell_type": "code",
   "execution_count": 28,
   "metadata": {},
   "outputs": [],
   "source": [
    "weights, weight_dict = get_sampler_weights(train_ds)\n",
    "sampler = WeightedRandomSampler(weights, len(weights))\n",
    "train_dl = DataLoader(train_ds, 128, sampler=sampler, drop_last=True, num_workers=8)\n",
    "valid_dl = DataLoader(val_ds, 128, num_workers=8)"
   ]
  },
  {
   "cell_type": "code",
   "execution_count": 29,
   "metadata": {},
   "outputs": [],
   "source": [
    "def evaluate(net, valid_dl):\n",
    "    val_true = []\n",
    "    val_pred = []\n",
    "    for i, data in enumerate(valid_dl, 0):\n",
    "        #get the inputs\n",
    "        inputs, labels = data\n",
    "\n",
    "        #wrap them in Variable\n",
    "        inputs, labels = V(inputs.float()), V(labels)\n",
    "        outputs = net(inputs)\n",
    "\n",
    "        #get cross entropy loss and accuracy\n",
    "        val_true.append(labels.data)\n",
    "        val_pred.append(outputs.data)\n",
    "\n",
    "    #define validation variables\n",
    "    val_pred_concat = V(torch.cat(val_pred))\n",
    "    val_true_concat = V(torch.cat(val_true))\n",
    "    #validation cross entropy loss\n",
    "    val_loss = criterion(val_pred_concat, val_true_concat).data[0]\n",
    "    #validation accuracy\n",
    "    _, class_pred = torch.max(val_pred_concat, 1)\n",
    "    val_acc = sum((class_pred == val_true_concat).data) / len(class_pred)\n",
    "    #confusion matrix\n",
    "    cmat = confusion_matrix(val_true_concat.data.numpy(), class_pred.data.numpy())\n",
    "    return val_loss, val_acc, cmat"
   ]
  },
  {
   "cell_type": "code",
   "execution_count": 30,
   "metadata": {
    "scrolled": true
   },
   "outputs": [],
   "source": [
    "def train(net, train_dl, valid_dl, criterion, optimizer, n):\n",
    "    training_loss = []\n",
    "    alpha = 0.98\n",
    "    running_loss = 0.0\n",
    "    batch_num = 0\n",
    "\n",
    "    for epoch in range(n):  # loop over the dataset multiple times\n",
    "        net.train() #back to training\n",
    "        for i, data in enumerate(train_dl, 0):\n",
    "            batch_num += 1\n",
    "            # get the inputs\n",
    "            inputs, labels = data\n",
    "\n",
    "            # wrap them in Variable\n",
    "            inputs, labels = V(inputs.float()), V(labels)\n",
    "\n",
    "            # zero the parameter gradients\n",
    "            optimizer.zero_grad()\n",
    "\n",
    "            # forward + backward + optimize\n",
    "            outputs = net(inputs)\n",
    "            loss = criterion(outputs, labels)\n",
    "            loss.backward()\n",
    "            optimizer.step()\n",
    "            # compute debias running training loss\n",
    "            training_loss.append(loss.data[0])\n",
    "            running_loss = running_loss * alpha + loss.data[0] * (1 - alpha) \n",
    "            debias_loss = running_loss / (1 - alpha**batch_num)\n",
    "\n",
    "        net.eval() #for dropout\n",
    "        val_loss, val_acc, cmat = evaluate(net, valid_dl)\n",
    "        #print epoch evaluation\n",
    "        print(f'epoch {epoch}')\n",
    "        print(f'[{debias_loss} ,{val_loss}, {val_acc}]\\n')\n",
    "        \n",
    "        \n",
    "        #save model at every 1000th step \n",
    "        if batch_num % 1000 == 0:\n",
    "            torch.save(net.state_dict(), f'../models/trad_pool2d_{batch_num}')\n",
    "            torch.save({'optimizer': optimizer.state_dict(),\n",
    "                  'iter':batch_num, \n",
    "                  'epoch':epoch}, f'../models/trad_pool2d_optim_{batch_num}')\n",
    "\n",
    "    #print final cmat\n",
    "    print(cmat)\n",
    "    return training_loss"
   ]
  },
  {
   "cell_type": "code",
   "execution_count": 31,
   "metadata": {},
   "outputs": [],
   "source": [
    "#define network\n",
    "#distribute module to gpu to work on parallel\n",
    "if torch.cuda.is_available():\n",
    "    n_devices = torch.cuda.device_count()\n",
    "    print(f'Running model on {n_devices} GPUs')\n",
    "    net = nn.DataParallel(net)\n",
    "# define optimizer and criterion\n",
    "criterion = F.cross_entropy\n",
    "#optimizer = optim.SGD(net.parameters(),lr=0.005, momentum=0.9, weight_decay=0.0001)\n",
    "optimizer = optim.Adam(net.parameters())"
   ]
  },
  {
   "cell_type": "code",
   "execution_count": 32,
   "metadata": {
    "scrolled": true
   },
   "outputs": [
    {
     "name": "stdout",
     "output_type": "stream",
     "text": [
      "epoch 0\n",
      "[2.4930853412113456 ,2.4507956504821777, 0.10128055878928988]\n",
      "\n",
      "epoch 1\n",
      "[2.4334428608354424 ,2.424734354019165, 0.10128055878928988]\n",
      "\n",
      "epoch 2\n",
      "[2.410920724435713 ,2.4048361778259277, 0.10128055878928988]\n",
      "\n",
      "epoch 3\n",
      "[2.3937490394764334 ,2.389504909515381, 0.10128055878928988]\n",
      "\n",
      "epoch 4\n",
      "[2.380795940415331 ,2.377340316772461, 0.10089251067132324]\n",
      "\n",
      "epoch 5\n",
      "[2.370360989038058 ,2.367594003677368, 0.10089251067132324]\n",
      "\n"
     ]
    },
    {
     "name": "stderr",
     "output_type": "stream",
     "text": [
      "Process Process-104:\n",
      "Process Process-99:\n",
      "Process Process-103:\n",
      "Process Process-97:\n",
      "Process Process-101:\n",
      "Traceback (most recent call last):\n",
      "Traceback (most recent call last):\n",
      "Traceback (most recent call last):\n",
      "Traceback (most recent call last):\n",
      "Traceback (most recent call last):\n",
      "Process Process-100:\n",
      "Process Process-102:\n",
      "  File \"/home/kerem/anaconda3/envs/fastai/lib/python3.6/multiprocessing/process.py\", line 258, in _bootstrap\n",
      "    self.run()\n",
      "  File \"/home/kerem/anaconda3/envs/fastai/lib/python3.6/multiprocessing/process.py\", line 93, in run\n",
      "    self._target(*self._args, **self._kwargs)\n",
      "  File \"/home/kerem/anaconda3/envs/fastai/lib/python3.6/multiprocessing/process.py\", line 258, in _bootstrap\n",
      "    self.run()\n",
      "Process Process-98:\n",
      "  File \"/home/kerem/anaconda3/envs/fastai/lib/python3.6/multiprocessing/process.py\", line 258, in _bootstrap\n",
      "    self.run()\n",
      "  File \"/home/kerem/anaconda3/envs/fastai/lib/python3.6/multiprocessing/process.py\", line 258, in _bootstrap\n",
      "    self.run()\n",
      "Traceback (most recent call last):\n",
      "  File \"/home/kerem/anaconda3/envs/fastai/lib/python3.6/multiprocessing/process.py\", line 93, in run\n",
      "    self._target(*self._args, **self._kwargs)\n",
      "  File \"/home/kerem/anaconda3/envs/fastai/lib/python3.6/site-packages/torch/utils/data/dataloader.py\", line 36, in _worker_loop\n",
      "    r = index_queue.get()\n",
      "  File \"/home/kerem/anaconda3/envs/fastai/lib/python3.6/multiprocessing/queues.py\", line 334, in get\n",
      "    with self._rlock:\n",
      "Traceback (most recent call last):\n",
      "  File \"/home/kerem/anaconda3/envs/fastai/lib/python3.6/multiprocessing/process.py\", line 258, in _bootstrap\n",
      "    self.run()\n",
      "Traceback (most recent call last):\n",
      "  File \"/home/kerem/anaconda3/envs/fastai/lib/python3.6/multiprocessing/process.py\", line 258, in _bootstrap\n",
      "    self.run()\n",
      "  File \"/home/kerem/anaconda3/envs/fastai/lib/python3.6/multiprocessing/process.py\", line 93, in run\n",
      "    self._target(*self._args, **self._kwargs)\n",
      "  File \"/home/kerem/anaconda3/envs/fastai/lib/python3.6/multiprocessing/process.py\", line 93, in run\n",
      "    self._target(*self._args, **self._kwargs)\n",
      "  File \"/home/kerem/anaconda3/envs/fastai/lib/python3.6/multiprocessing/process.py\", line 93, in run\n",
      "    self._target(*self._args, **self._kwargs)\n",
      "  File \"/home/kerem/anaconda3/envs/fastai/lib/python3.6/multiprocessing/process.py\", line 93, in run\n",
      "    self._target(*self._args, **self._kwargs)\n",
      "  File \"/home/kerem/anaconda3/envs/fastai/lib/python3.6/site-packages/torch/utils/data/dataloader.py\", line 36, in _worker_loop\n",
      "    r = index_queue.get()\n",
      "  File \"/home/kerem/anaconda3/envs/fastai/lib/python3.6/site-packages/torch/utils/data/dataloader.py\", line 36, in _worker_loop\n",
      "    r = index_queue.get()\n",
      "  File \"/home/kerem/anaconda3/envs/fastai/lib/python3.6/multiprocessing/process.py\", line 258, in _bootstrap\n",
      "    self.run()\n",
      "  File \"/home/kerem/anaconda3/envs/fastai/lib/python3.6/multiprocessing/queues.py\", line 334, in get\n",
      "    with self._rlock:\n",
      "  File \"/home/kerem/anaconda3/envs/fastai/lib/python3.6/site-packages/torch/utils/data/dataloader.py\", line 42, in _worker_loop\n",
      "    samples = collate_fn([dataset[i] for i in batch_indices])\n",
      "  File \"/home/kerem/anaconda3/envs/fastai/lib/python3.6/multiprocessing/process.py\", line 93, in run\n",
      "    self._target(*self._args, **self._kwargs)\n",
      "  File \"/home/kerem/anaconda3/envs/fastai/lib/python3.6/multiprocessing/queues.py\", line 334, in get\n",
      "    with self._rlock:\n",
      "  File \"/home/kerem/anaconda3/envs/fastai/lib/python3.6/site-packages/torch/utils/data/dataloader.py\", line 36, in _worker_loop\n",
      "    r = index_queue.get()\n",
      "  File \"/home/kerem/anaconda3/envs/fastai/lib/python3.6/site-packages/torch/utils/data/dataloader.py\", line 42, in <listcomp>\n",
      "    samples = collate_fn([dataset[i] for i in batch_indices])\n",
      "  File \"/home/kerem/anaconda3/envs/fastai/lib/python3.6/multiprocessing/process.py\", line 258, in _bootstrap\n",
      "    self.run()\n",
      "  File \"/home/kerem/anaconda3/envs/fastai/lib/python3.6/multiprocessing/synchronize.py\", line 96, in __enter__\n",
      "    return self._semlock.__enter__()\n",
      "  File \"/home/kerem/anaconda3/envs/fastai/lib/python3.6/site-packages/torch/utils/data/dataloader.py\", line 42, in _worker_loop\n",
      "    samples = collate_fn([dataset[i] for i in batch_indices])\n",
      "KeyboardInterrupt\n",
      "  File \"/home/kerem/anaconda3/envs/fastai/lib/python3.6/multiprocessing/synchronize.py\", line 96, in __enter__\n",
      "    return self._semlock.__enter__()\n",
      "  File \"/home/kerem/anaconda3/envs/fastai/lib/python3.6/site-packages/torch/utils/data/dataloader.py\", line 36, in _worker_loop\n",
      "    r = index_queue.get()\n",
      "  File \"/home/kerem/anaconda3/envs/fastai/lib/python3.6/multiprocessing/queues.py\", line 335, in get\n",
      "    res = self._reader.recv_bytes()\n",
      "  File \"/home/kerem/anaconda3/envs/fastai/lib/python3.6/multiprocessing/synchronize.py\", line 96, in __enter__\n",
      "    return self._semlock.__enter__()\n",
      "KeyboardInterrupt\n",
      "  File \"/home/kerem/anaconda3/envs/fastai/lib/python3.6/multiprocessing/queues.py\", line 334, in get\n",
      "    with self._rlock:\n",
      "KeyboardInterrupt\n",
      "  File \"/home/kerem/anaconda3/envs/fastai/lib/python3.6/site-packages/torch/utils/data/dataloader.py\", line 42, in <listcomp>\n",
      "    samples = collate_fn([dataset[i] for i in batch_indices])\n",
      "  File \"/home/kerem/anaconda3/envs/fastai/lib/python3.6/multiprocessing/connection.py\", line 216, in recv_bytes\n",
      "    buf = self._recv_bytes(maxlength)\n",
      "  File \"<ipython-input-8-18462c2fb105>\", line 20, in __getitem__\n",
      "    S = librosa.feature.melspectrogram(samples, sr=sample_rate, n_mels=128)\n",
      "  File \"/home/kerem/anaconda3/envs/fastai/lib/python3.6/multiprocessing/synchronize.py\", line 96, in __enter__\n",
      "    return self._semlock.__enter__()\n",
      "  File \"/home/kerem/anaconda3/envs/fastai/lib/python3.6/multiprocessing/process.py\", line 93, in run\n",
      "    self._target(*self._args, **self._kwargs)\n",
      "  File \"/home/kerem/anaconda3/envs/fastai/lib/python3.6/multiprocessing/connection.py\", line 407, in _recv_bytes\n",
      "    buf = self._recv(4)\n",
      "  File \"/home/kerem/anaconda3/envs/fastai/lib/python3.6/site-packages/librosa/feature/spectral.py\", line 1388, in melspectrogram\n",
      "    power=power)\n",
      "  File \"/home/kerem/anaconda3/envs/fastai/lib/python3.6/site-packages/librosa/core/spectrum.py\", line 1179, in _spectrogram\n",
      "    S = np.abs(stft(y, n_fft=n_fft, hop_length=hop_length))**power\n",
      "  File \"/home/kerem/anaconda3/envs/fastai/lib/python3.6/site-packages/librosa/core/spectrum.py\", line 168, in stft\n",
      "    order='F')\n",
      "  File \"<ipython-input-8-18462c2fb105>\", line 20, in __getitem__\n",
      "    S = librosa.feature.melspectrogram(samples, sr=sample_rate, n_mels=128)\n",
      "  File \"/home/kerem/anaconda3/envs/fastai/lib/python3.6/site-packages/torch/utils/data/dataloader.py\", line 36, in _worker_loop\n",
      "    r = index_queue.get()\n",
      "KeyboardInterrupt\n",
      "  File \"/home/kerem/anaconda3/envs/fastai/lib/python3.6/multiprocessing/connection.py\", line 379, in _recv\n",
      "    chunk = read(handle, remaining)\n",
      "KeyboardInterrupt\n",
      "  File \"/home/kerem/anaconda3/envs/fastai/lib/python3.6/site-packages/librosa/feature/spectral.py\", line 1388, in melspectrogram\n",
      "    power=power)\n",
      "  File \"/home/kerem/anaconda3/envs/fastai/lib/python3.6/multiprocessing/queues.py\", line 334, in get\n",
      "    with self._rlock:\n",
      "KeyboardInterrupt\n",
      "  File \"/home/kerem/anaconda3/envs/fastai/lib/python3.6/multiprocessing/synchronize.py\", line 96, in __enter__\n",
      "    return self._semlock.__enter__()\n",
      "  File \"/home/kerem/anaconda3/envs/fastai/lib/python3.6/site-packages/librosa/core/spectrum.py\", line 1179, in _spectrogram\n",
      "    S = np.abs(stft(y, n_fft=n_fft, hop_length=hop_length))**power\n",
      "KeyboardInterrupt\n",
      "KeyboardInterrupt\n"
     ]
    },
    {
     "ename": "KeyboardInterrupt",
     "evalue": "",
     "output_type": "error",
     "traceback": [
      "\u001b[0;31m---------------------------------------------------------------------------\u001b[0m",
      "\u001b[0;31mKeyboardInterrupt\u001b[0m                         Traceback (most recent call last)",
      "\u001b[0;32m<ipython-input-32-229f4706cddc>\u001b[0m in \u001b[0;36m<module>\u001b[0;34m()\u001b[0m\n\u001b[0;32m----> 1\u001b[0;31m \u001b[0mtraining_loss\u001b[0m \u001b[0;34m=\u001b[0m \u001b[0mtrain\u001b[0m\u001b[0;34m(\u001b[0m\u001b[0mnet\u001b[0m\u001b[0;34m,\u001b[0m \u001b[0mtrain_dl\u001b[0m\u001b[0;34m,\u001b[0m \u001b[0mvalid_dl\u001b[0m\u001b[0;34m,\u001b[0m \u001b[0mcriterion\u001b[0m\u001b[0;34m,\u001b[0m \u001b[0moptimizer\u001b[0m\u001b[0;34m,\u001b[0m \u001b[0;36m20\u001b[0m\u001b[0;34m)\u001b[0m\u001b[0;34m\u001b[0m\u001b[0m\n\u001b[0m",
      "\u001b[0;32m<ipython-input-30-eef534fb88ee>\u001b[0m in \u001b[0;36mtrain\u001b[0;34m(net, train_dl, valid_dl, criterion, optimizer, n)\u001b[0m\n\u001b[1;32m     21\u001b[0m             \u001b[0moutputs\u001b[0m \u001b[0;34m=\u001b[0m \u001b[0mnet\u001b[0m\u001b[0;34m(\u001b[0m\u001b[0minputs\u001b[0m\u001b[0;34m)\u001b[0m\u001b[0;34m\u001b[0m\u001b[0m\n\u001b[1;32m     22\u001b[0m             \u001b[0mloss\u001b[0m \u001b[0;34m=\u001b[0m \u001b[0mcriterion\u001b[0m\u001b[0;34m(\u001b[0m\u001b[0moutputs\u001b[0m\u001b[0;34m,\u001b[0m \u001b[0mlabels\u001b[0m\u001b[0;34m)\u001b[0m\u001b[0;34m\u001b[0m\u001b[0m\n\u001b[0;32m---> 23\u001b[0;31m             \u001b[0mloss\u001b[0m\u001b[0;34m.\u001b[0m\u001b[0mbackward\u001b[0m\u001b[0;34m(\u001b[0m\u001b[0;34m)\u001b[0m\u001b[0;34m\u001b[0m\u001b[0m\n\u001b[0m\u001b[1;32m     24\u001b[0m             \u001b[0moptimizer\u001b[0m\u001b[0;34m.\u001b[0m\u001b[0mstep\u001b[0m\u001b[0;34m(\u001b[0m\u001b[0;34m)\u001b[0m\u001b[0;34m\u001b[0m\u001b[0m\n\u001b[1;32m     25\u001b[0m             \u001b[0;31m# compute debias running training loss\u001b[0m\u001b[0;34m\u001b[0m\u001b[0;34m\u001b[0m\u001b[0m\n",
      "\u001b[0;32m~/anaconda3/envs/fastai/lib/python3.6/site-packages/torch/autograd/variable.py\u001b[0m in \u001b[0;36mbackward\u001b[0;34m(self, gradient, retain_graph, create_graph, retain_variables)\u001b[0m\n\u001b[1;32m    165\u001b[0m                 \u001b[0mVariable\u001b[0m\u001b[0;34m.\u001b[0m\u001b[0;34m\u001b[0m\u001b[0m\n\u001b[1;32m    166\u001b[0m         \"\"\"\n\u001b[0;32m--> 167\u001b[0;31m         \u001b[0mtorch\u001b[0m\u001b[0;34m.\u001b[0m\u001b[0mautograd\u001b[0m\u001b[0;34m.\u001b[0m\u001b[0mbackward\u001b[0m\u001b[0;34m(\u001b[0m\u001b[0mself\u001b[0m\u001b[0;34m,\u001b[0m \u001b[0mgradient\u001b[0m\u001b[0;34m,\u001b[0m \u001b[0mretain_graph\u001b[0m\u001b[0;34m,\u001b[0m \u001b[0mcreate_graph\u001b[0m\u001b[0;34m,\u001b[0m \u001b[0mretain_variables\u001b[0m\u001b[0;34m)\u001b[0m\u001b[0;34m\u001b[0m\u001b[0m\n\u001b[0m\u001b[1;32m    168\u001b[0m \u001b[0;34m\u001b[0m\u001b[0m\n\u001b[1;32m    169\u001b[0m     \u001b[0;32mdef\u001b[0m \u001b[0mregister_hook\u001b[0m\u001b[0;34m(\u001b[0m\u001b[0mself\u001b[0m\u001b[0;34m,\u001b[0m \u001b[0mhook\u001b[0m\u001b[0;34m)\u001b[0m\u001b[0;34m:\u001b[0m\u001b[0;34m\u001b[0m\u001b[0m\n",
      "\u001b[0;32m~/anaconda3/envs/fastai/lib/python3.6/site-packages/torch/autograd/__init__.py\u001b[0m in \u001b[0;36mbackward\u001b[0;34m(variables, grad_variables, retain_graph, create_graph, retain_variables)\u001b[0m\n\u001b[1;32m     97\u001b[0m \u001b[0;34m\u001b[0m\u001b[0m\n\u001b[1;32m     98\u001b[0m     Variable._execution_engine.run_backward(\n\u001b[0;32m---> 99\u001b[0;31m         variables, grad_variables, retain_graph)\n\u001b[0m\u001b[1;32m    100\u001b[0m \u001b[0;34m\u001b[0m\u001b[0m\n\u001b[1;32m    101\u001b[0m \u001b[0;34m\u001b[0m\u001b[0m\n",
      "\u001b[0;31mKeyboardInterrupt\u001b[0m: "
     ]
    }
   ],
   "source": [
    "training_loss = train(net, train_dl, valid_dl, criterion, optimizer, 20)"
   ]
  },
  {
   "cell_type": "code",
   "execution_count": null,
   "metadata": {},
   "outputs": [],
   "source": []
  },
  {
   "cell_type": "code",
   "execution_count": 486,
   "metadata": {},
   "outputs": [
    {
     "data": {
      "text/plain": [
       "[<matplotlib.lines.Line2D at 0x7f8fbb76a9e8>]"
      ]
     },
     "execution_count": 486,
     "metadata": {},
     "output_type": "execute_result"
    },
    {
     "data": {
      "image/png": "[encoded data removed]",
      "text/plain": [
       "<matplotlib.figure.Figure at 0x7f8fbbc33d30>"
      ]
     },
     "metadata": {},
     "output_type": "display_data"
    }
   ],
   "source": [
    "plt.plot(training_loss)"
   ]
  },
  {
   "cell_type": "markdown",
   "metadata": {
    "heading_collapsed": true
   },
   "source": [
    "## Fast.ai tricks"
   ]
  },
  {
   "cell_type": "code",
   "execution_count": null,
   "metadata": {
    "hidden": true
   },
   "outputs": [],
   "source": []
  }
 ],
 "metadata": {
  "kernelspec": {
   "display_name": "Python 3",
   "language": "python",
   "name": "python3"
  },
  "language_info": {
   "codemirror_mode": {
    "name": "ipython",
    "version": 3
   },
   "file_extension": ".py",
   "mimetype": "text/x-python",
   "name": "python",
   "nbconvert_exporter": "python",
   "pygments_lexer": "ipython3",
   "version": "3.6.4"
  }
 },
 "nbformat": 4,
 "nbformat_minor": 2
}
