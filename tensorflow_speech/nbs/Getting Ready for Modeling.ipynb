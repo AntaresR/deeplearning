{
 "cells": [
  {
   "cell_type": "markdown",
   "metadata": {},
   "source": [
    "## Imports"
   ]
  },
  {
   "cell_type": "code",
   "execution_count": 1,
   "metadata": {},
   "outputs": [],
   "source": [
    "# PYTHON\n",
    "import os\n",
    "import random\n",
    "import librosa\n",
    "from scipy.io import wavfile\n",
    "import numpy as np\n",
    "from collections import Counter\n",
    "import matplotlib.pyplot as plt\n",
    "from skimage.transform import resize\n",
    "from sklearn.metrics import confusion_matrix\n",
    "from collections import defaultdict\n",
    "\n",
    "# JUPYTER\n",
    "import warnings\n",
    "warnings.filterwarnings('ignore')\n",
    "%matplotlib inline\n",
    "\n",
    "#PYTORCH\n",
    "import torch\n",
    "from torch.utils.data import Dataset, DataLoader\n",
    "from torch import nn\n",
    "from torch.nn import functional as F\n",
    "from torch.autograd import Variable as V\n",
    "from torch import optim\n",
    "from torch.utils.data.sampler import *"
   ]
  },
  {
   "cell_type": "markdown",
   "metadata": {},
   "source": [
    "## Dataset Classes"
   ]
  },
  {
   "cell_type": "markdown",
   "metadata": {},
   "source": [
    "### 1.1 Log Mel Spectogram Class\n",
    "\n",
    "Let's show an example of a Dataset and how we do the transformations from wav file into images of log mel spectogram. We need to scale data so that every image same size."
   ]
  },
  {
   "cell_type": "code",
   "execution_count": 11,
   "metadata": {},
   "outputs": [],
   "source": [
    "class logSpecData(Dataset):\n",
    "    def __init__(self, file_path, classes, sample_ratio=1.0):\n",
    "        self.file_path = file_path\n",
    "        self.classes = classes\n",
    "        img_paths = []\n",
    "        for c in classes:\n",
    "            for img_path in os.listdir(file_path + c):\n",
    "                img_paths.append(file_path + c + '/' +  img_path)\n",
    "        #shuffle with sorted\n",
    "        #subsample for easier experimentation \n",
    "        random.shuffle(img_paths)\n",
    "        self.img_paths = img_paths[:int(len(img_paths)*sample_ratio)]\n",
    "        \n",
    "    def __getitem__(self, idx):\n",
    "        img_path = self.img_paths[idx]\n",
    "        label = img_path.split('/')[4]\n",
    "        #read wav file\n",
    "        sample_rate, samples = wavfile.read(img_path)\n",
    "        #get mel spectogram and log mel spectogram\n",
    "        S = librosa.feature.melspectrogram(samples, sr=sample_rate, n_mels=128)\n",
    "        log_S = librosa.power_to_db(S, ref=np.max)\n",
    "        #get label index from classes\n",
    "        label_idx = np.where(np.array(classes) == label)[0][0]\n",
    "        img = log_S.T\n",
    "        #resize images that are not in right size\n",
    "        if img.shape != (32, 128):\n",
    "            img = resize(log_S.T, (32, 128))\n",
    "        #add dimension for 1 channel image\n",
    "        img = img[None, :]\n",
    "        return img, label_idx \n",
    "        \n",
    "    def __len__(self): \n",
    "        return len(self.img_paths)"
   ]
  },
  {
   "cell_type": "code",
   "execution_count": 12,
   "metadata": {},
   "outputs": [],
   "source": [
    "# here is a list of the classes to be predicted\n",
    "classes = ['yes', 'no', 'up', 'down', 'left', 'right', 'on', 'off', 'stop', 'go', 'silence', 'unknown']"
   ]
  },
  {
   "cell_type": "code",
   "execution_count": 13,
   "metadata": {},
   "outputs": [],
   "source": [
    "train_path = '../data/train/train/'\n",
    "val_path = '../data/train/val/'"
   ]
  },
  {
   "cell_type": "code",
   "execution_count": 14,
   "metadata": {},
   "outputs": [],
   "source": [
    "train_ds = logSpecData(train_path, classes)\n",
    "val_ds = logSpecData(val_path, classes)"
   ]
  },
  {
   "cell_type": "code",
   "execution_count": 15,
   "metadata": {},
   "outputs": [
    {
     "data": {
      "text/plain": [
       "(71123, 8118)"
      ]
     },
     "execution_count": 15,
     "metadata": {},
     "output_type": "execute_result"
    }
   ],
   "source": [
    "len(train_ds.img_paths), len(val_ds.img_paths)"
   ]
  },
  {
   "cell_type": "code",
   "execution_count": 16,
   "metadata": {},
   "outputs": [],
   "source": [
    "train_data = iter(DataLoader(train_ds ,shuffle=True))"
   ]
  },
  {
   "cell_type": "code",
   "execution_count": 17,
   "metadata": {},
   "outputs": [
    {
     "name": "stdout",
     "output_type": "stream",
     "text": [
      "torch.Size([1, 1, 32, 128])\n"
     ]
    },
    {
     "data": {
      "text/plain": [
       "(\n",
       "  9\n",
       " [torch.LongTensor of size 1], <matplotlib.image.AxesImage at 0x7f5628232d30>)"
      ]
     },
     "execution_count": 17,
     "metadata": {},
     "output_type": "execute_result"
    },
    {
     "data": {
      "image/png": "[encoded data removed]",
      "text/plain": [
       "<matplotlib.figure.Figure at 0x7f5628348710>"
      ]
     },
     "metadata": {},
     "output_type": "display_data"
    }
   ],
   "source": [
    "log_s, label = next(train_data)\n",
    "print (log_s.size())\n",
    "label, plt.imshow(log_s.numpy()[0][0], aspect='auto')"
   ]
  },
  {
   "cell_type": "markdown",
   "metadata": {},
   "source": [
    "## Creating Dataloaders\n",
    "\n",
    "- We will define a weighted random sampler to balance class samples\n",
    "- This sampler expects weigths for each data point in the dataset\n",
    "- For this example we will balance out unknown and silence samples"
   ]
  },
  {
   "cell_type": "code",
   "execution_count": 18,
   "metadata": {},
   "outputs": [],
   "source": [
    "def get_sampler_weights(dataset):\n",
    "    labels = [i.split('/')[4] for i in dataset.img_paths]\n",
    "    count_dict = Counter(labels)\n",
    "    total_count = sum(count_dict.values())\n",
    "    weight_dict = {k:total_count / count_dict[k] for k in count_dict}\n",
    "    weights = np.vectorize(weight_dict.get)(np.array(labels))\n",
    "    return weights, weight_dict"
   ]
  },
  {
   "cell_type": "markdown",
   "metadata": {},
   "source": [
    "## NN Models"
   ]
  },
  {
   "cell_type": "markdown",
   "metadata": {},
   "source": [
    "### 1.1 CNN_TRAD_POOL2_NET\n",
    "\n",
    "This model is coming from tensorflow automatic speech recognition tutorial. It's a fairly simple model but it will be a good start."
   ]
  },
  {
   "cell_type": "code",
   "execution_count": 275,
   "metadata": {},
   "outputs": [],
   "source": [
    "class cnn_trad_pool2_net(nn.Module):\n",
    "    def __init__(self, in_shape=(1, 32, 128), num_classes=12):\n",
    "        super(cnn_trad_pool2_net, self).__init__()\n",
    "        self.num_classes = num_classes\n",
    "        \n",
    "        self.conv1 = nn.Conv2d(1,  64, kernel_size=(16, 8), stride=(1, 1))\n",
    "        self.bn_conv1 = nn.BatchNorm1d(64)\n",
    "        self.conv2 = nn.Conv2d(64, 64, kernel_size=(8, 4), stride=(1, 1))\n",
    "        self.bn_conv2 = nn.BatchNorm1d(64)\n",
    "        self.fc = nn.Linear(3648, num_classes)\n",
    "    \n",
    "    def forward(self, x):\n",
    "        # maxpool + relu is faster than relu + maxpool equivalent ops\n",
    "        # https://discuss.pytorch.org/t/example-on-how-to-use-batch-norm/216/4\n",
    "        x = self.bn_conv1(self.conv1(x))\n",
    "        x = F.max_pool2d(x, kernel_size=(2,2), stride=(2,2))\n",
    "        x = F.relu(x)\n",
    "       \n",
    "        x = self.bn_conv2(self.conv2(x))\n",
    "        x = F.relu(x)\n",
    "        x = x.view(x.size(0), -1)\n",
    "        \n",
    "        x = F.dropout(x, p=0.5, training=self.training)\n",
    "        x = self.fc(x)\n",
    "        return x"
   ]
  },
  {
   "cell_type": "code",
   "execution_count": 276,
   "metadata": {},
   "outputs": [],
   "source": [
    "net = cnn_trad_pool2_net()"
   ]
  },
  {
   "cell_type": "code",
   "execution_count": 277,
   "metadata": {},
   "outputs": [],
   "source": [
    "logits = net(V(log_s.float()))"
   ]
  },
  {
   "cell_type": "code",
   "execution_count": 278,
   "metadata": {},
   "outputs": [
    {
     "data": {
      "text/plain": [
       "(Variable containing:\n",
       " \n",
       " Columns 0 to 9 \n",
       "  0.0471  0.0165 -0.3035  0.1066  0.0496  0.3881 -0.2434 -0.4489  0.0133  0.1738\n",
       " \n",
       " Columns 10 to 11 \n",
       "  0.1714  0.2849\n",
       " [torch.FloatTensor of size 1x12], \n",
       "  11\n",
       " [torch.LongTensor of size 1])"
      ]
     },
     "execution_count": 278,
     "metadata": {},
     "output_type": "execute_result"
    }
   ],
   "source": [
    "logits, label.view(-1)"
   ]
  },
  {
   "cell_type": "code",
   "execution_count": 279,
   "metadata": {},
   "outputs": [
    {
     "data": {
      "text/plain": [
       "Variable containing:\n",
       " 2.2474\n",
       "[torch.FloatTensor of size 1]"
      ]
     },
     "execution_count": 279,
     "metadata": {},
     "output_type": "execute_result"
    }
   ],
   "source": [
    "F.cross_entropy(logits, V(label.view(-1)))"
   ]
  },
  {
   "cell_type": "markdown",
   "metadata": {},
   "source": [
    "## Training Loop\n",
    "\n",
    "A very good reference to use while training your neural network: https://blog.slavv.com/37-reasons-why-your-neural-network-is-not-working-4020854bd607\n",
    "\n",
    "What to learn:\n",
    "\n",
    "- sampler to get equal size class samples (**done**)\n",
    "- Data Augmentation on audio data from scratch (do it after first model without it)\n",
    "- saving models and logging (**done**)\n",
    "- setting learning rate schedular\n",
    "- use parallel gpus (**done**) http://pytorch.org/tutorials/beginner/blitz/data_parallel_tutorial.html#sphx-glr-beginner-blitz-data-parallel-tutorial-py. Doesn't work as expected.\n",
    "\n",
    "Side notes: \n",
    "- learn about visdom"
   ]
  },
  {
   "cell_type": "code",
   "execution_count": 280,
   "metadata": {},
   "outputs": [
    {
     "data": {
      "text/plain": [
       "('../data/train/train/', '../data/train/val/')"
      ]
     },
     "execution_count": 280,
     "metadata": {},
     "output_type": "execute_result"
    }
   ],
   "source": [
    "train_path, val_path"
   ]
  },
  {
   "cell_type": "code",
   "execution_count": 281,
   "metadata": {},
   "outputs": [],
   "source": [
    "# here is a list of the classes to be predicted\n",
    "classes = ['yes', 'no']#, 'up', 'down', 'left', 'right', 'on', 'off', 'stop', 'go', 'silence', 'unknown']"
   ]
  },
  {
   "cell_type": "code",
   "execution_count": 282,
   "metadata": {},
   "outputs": [],
   "source": [
    "train_ds = logSpecData(train_path, classes, 0.5)\n",
    "val_ds = logSpecData(val_path, classes, 0.5)"
   ]
  },
  {
   "cell_type": "code",
   "execution_count": 283,
   "metadata": {},
   "outputs": [
    {
     "data": {
      "text/plain": [
       "(2110, 265)"
      ]
     },
     "execution_count": 283,
     "metadata": {},
     "output_type": "execute_result"
    }
   ],
   "source": [
    "train_ds.__len__(), val_ds.__len__()"
   ]
  },
  {
   "cell_type": "code",
   "execution_count": 284,
   "metadata": {},
   "outputs": [],
   "source": [
    "weights, weight_dict = get_sampler_weights(train_ds)\n",
    "sampler = WeightedRandomSampler(weights, len(weights))\n",
    "sampler_val = SequentialSampler(val_ds)\n",
    "train_dl = DataLoader(train_ds, 128, sampler=sampler, drop_last=True, num_workers=8)\n",
    "valid_dl = DataLoader(val_ds, 128, num_workers=8, sampler=sampler_val)"
   ]
  },
  {
   "cell_type": "code",
   "execution_count": 285,
   "metadata": {},
   "outputs": [],
   "source": [
    "def evaluate(net, valid_dl):\n",
    "    val_true = []\n",
    "    val_pred = []\n",
    "    for i, data in enumerate(valid_dl, 0):\n",
    "        #get the inputs\n",
    "        inputs, labels = data\n",
    "\n",
    "        #wrap them in Variable\n",
    "        inputs, labels = V(inputs.float()), V(labels)\n",
    "        outputs = net(inputs)\n",
    "\n",
    "        #get cross entropy loss and accuracy\n",
    "        val_true.append(labels.data)\n",
    "        val_pred.append(outputs.data)\n",
    "\n",
    "    #define validation variables\n",
    "    val_pred_concat = V(torch.cat(val_pred))\n",
    "    val_true_concat = V(torch.cat(val_true))\n",
    "    #validation cross entropy loss\n",
    "    val_loss = criterion(val_pred_concat, val_true_concat).data[0]\n",
    "    #validation accuracy\n",
    "    _, class_pred = torch.max(val_pred_concat, 1)\n",
    "    val_acc = sum((class_pred == val_true_concat).data) / len(class_pred)\n",
    "    #confusion matrix\n",
    "    cmat = confusion_matrix(val_true_concat.data.numpy(), class_pred.data.numpy())\n",
    "    return val_loss, val_acc, cmat"
   ]
  },
  {
   "cell_type": "code",
   "execution_count": 286,
   "metadata": {
    "scrolled": true
   },
   "outputs": [],
   "source": [
    "def train(net, train_dl, valid_dl, criterion, optimizer, n):\n",
    "    training_loss = []\n",
    "    alpha = 0.98\n",
    "    running_loss = 0.0\n",
    "    batch_num = 0\n",
    "\n",
    "    for epoch in range(n):  # loop over the dataset multiple times\n",
    "        net.train() #back to training\n",
    "        for i, data in enumerate(train_dl, 0):\n",
    "            batch_num += 1\n",
    "            # get the inputs\n",
    "            inputs, labels = data\n",
    "\n",
    "            # wrap them in Variable\n",
    "            inputs, labels = V(inputs.float()), V(labels)\n",
    "\n",
    "            # zero the parameter gradients\n",
    "            optimizer.zero_grad()\n",
    "\n",
    "            # forward + backward + optimize\n",
    "            outputs = net(inputs)\n",
    "            loss = criterion(outputs, labels)\n",
    "            loss.backward()\n",
    "            optimizer.step()\n",
    "            # compute debias running training loss\n",
    "            training_loss.append(loss.data[0])\n",
    "            running_loss = running_loss * alpha + loss.data[0] * (1 - alpha) \n",
    "            debias_loss = running_loss / (1 - alpha**batch_num)\n",
    "\n",
    "        net.eval() #for dropout\n",
    "        val_loss, val_acc, cmat = evaluate(net, valid_dl)\n",
    "        #print epoch evaluation\n",
    "        print(f'epoch {epoch}')\n",
    "        print(f'[{debias_loss} ,{val_loss}, {val_acc}]\\n')\n",
    "        \n",
    "        \n",
    "        #save model at every 1000th step \n",
    "        if batch_num % 1000 == 0:\n",
    "            torch.save(net.state_dict(), f'../models/trad_pool2d_{batch_num}')\n",
    "            torch.save({'optimizer': optimizer.state_dict(),\n",
    "                  'iter':batch_num, \n",
    "                  'epoch':epoch}, f'../models/trad_pool2d_optim_{batch_num}')\n",
    "\n",
    "    #print final cmat\n",
    "    print(cmat)\n",
    "    return training_loss"
   ]
  },
  {
   "cell_type": "code",
   "execution_count": 377,
   "metadata": {},
   "outputs": [],
   "source": [
    "#define network\n",
    "#distribute module to gpu to work on parallel\n",
    "net = cnn_trad_pool2_net()\n",
    "if torch.cuda.is_available():\n",
    "    n_devices = torch.cuda.device_count()\n",
    "    print(f'Running model on {n_devices} GPUs')\n",
    "    net = nn.DataParallel(net)\n",
    "# define optimizer and criterion\n",
    "criterion = F.cross_entropy\n",
    "#optimizer = optim.SGD(net.parameters(),lr=0.005, momentum=0.9, weight_decay=0.0001)\n",
    "optimizer = optim.Adam(net.parameters())"
   ]
  },
  {
   "cell_type": "code",
   "execution_count": null,
   "metadata": {
    "scrolled": true
   },
   "outputs": [],
   "source": [
    "training_loss = train(net, train_dl, valid_dl, criterion, optimizer, 10)"
   ]
  },
  {
   "cell_type": "code",
   "execution_count": 292,
   "metadata": {},
   "outputs": [
    {
     "data": {
      "text/plain": [
       "[<matplotlib.lines.Line2D at 0x7f949b1f9320>]"
      ]
     },
     "execution_count": 292,
     "metadata": {},
     "output_type": "execute_result"
    },
    {
     "data": {
      "image/png": "[encoded data removed]",
      "text/plain": [
       "<matplotlib.figure.Figure at 0x7f949b21bba8>"
      ]
     },
     "metadata": {},
     "output_type": "display_data"
    }
   ],
   "source": [
    "plt.plot(training_loss)"
   ]
  },
  {
   "cell_type": "markdown",
   "metadata": {},
   "source": [
    "### Simple Ensembler by averaging parameter weigths\n",
    "\n",
    "Will take n as number of ensemble models to train and then average their parameters to create a new model. Later we will evaluate by that new model."
   ]
  },
  {
   "cell_type": "code",
   "execution_count": 387,
   "metadata": {
    "scrolled": true
   },
   "outputs": [
    {
     "name": "stdout",
     "output_type": "stream",
     "text": [
      "epoch 0\n",
      "[0.5516645131762007 ,0.4264965057373047, 0.7886792452830189]\n",
      "\n",
      "epoch 1\n",
      "[0.3355259768330036 ,0.18784357607364655, 0.9471698113207547]\n",
      "\n",
      "epoch 2\n",
      "[0.2467837575015801 ,0.24104395508766174, 0.9056603773584906]\n",
      "\n",
      "[[112  24]\n",
      " [  1 128]]\n",
      "epoch 0\n",
      "[0.5471998469476788 ,0.21135440468788147, 0.9471698113207547]\n",
      "\n",
      "epoch 1\n",
      "[0.3225887188502619 ,0.45512375235557556, 0.7811320754716982]\n",
      "\n",
      "epoch 2\n",
      "[0.23291121836213027 ,0.16208305954933167, 0.9471698113207547]\n",
      "\n",
      "[[134   2]\n",
      " [ 12 117]]\n",
      "epoch 0\n",
      "[0.5496209352649164 ,0.3165607154369354, 0.8981132075471698]\n",
      "\n",
      "epoch 1\n",
      "[0.33728072488481753 ,0.11709485203027725, 0.9622641509433962]\n",
      "\n",
      "epoch 2\n",
      "[0.23795432305005207 ,0.10839048027992249, 0.969811320754717]\n",
      "\n",
      "[[129   7]\n",
      " [  1 128]]\n",
      "epoch 0\n",
      "[0.6015075511106445 ,0.23361769318580627, 0.9207547169811321]\n",
      "\n",
      "epoch 1\n",
      "[0.34947736314521544 ,0.21369147300720215, 0.9320754716981132]\n",
      "\n",
      "epoch 2\n",
      "[0.24728797747768017 ,0.2461717128753662, 0.9018867924528302]\n",
      "\n",
      "[[119  17]\n",
      " [  9 120]]\n",
      "epoch 0\n",
      "[0.5845471274709265 ,0.3685843050479889, 0.8188679245283019]\n",
      "\n",
      "epoch 1\n",
      "[0.34572298019231906 ,0.32637619972229004, 0.8452830188679246]\n",
      "\n",
      "epoch 2\n",
      "[0.255225410149394 ,0.12020985037088394, 0.9471698113207547]\n",
      "\n",
      "[[123  13]\n",
      " [  1 128]]\n",
      "epoch 0\n",
      "[0.6075409477281358 ,0.5463074445724487, 0.6981132075471698]\n",
      "\n",
      "epoch 1\n",
      "[0.361214546004235 ,0.23083649575710297, 0.8867924528301887]\n",
      "\n",
      "epoch 2\n",
      "[0.25162858419386813 ,0.19877144694328308, 0.9320754716981132]\n",
      "\n",
      "[[135   1]\n",
      " [ 17 112]]\n",
      "epoch 0\n",
      "[0.6047984937264288 ,0.39091792702674866, 0.8037735849056604]\n",
      "\n",
      "epoch 1\n",
      "[0.36703830140111915 ,0.1326088011264801, 0.9547169811320755]\n",
      "\n",
      "epoch 2\n",
      "[0.2660096710827055 ,0.26298537850379944, 0.8981132075471698]\n",
      "\n",
      "[[134   2]\n",
      " [ 25 104]]\n",
      "epoch 0\n",
      "[0.581804460789648 ,0.6006298065185547, 0.5773584905660377]\n",
      "\n",
      "epoch 1\n",
      "[0.33011403532357786 ,0.1650693267583847, 0.9584905660377359]\n",
      "\n",
      "epoch 2\n",
      "[0.23853290218834608 ,0.10201484709978104, 0.9622641509433962]\n",
      "\n",
      "[[130   6]\n",
      " [  4 125]]\n",
      "epoch 0\n",
      "[0.5510442078206064 ,0.2489302158355713, 0.8981132075471698]\n",
      "\n",
      "epoch 1\n",
      "[0.3229765733710651 ,0.17148888111114502, 0.939622641509434]\n",
      "\n",
      "epoch 2\n",
      "[0.22803420181425005 ,0.09585318714380264, 0.9773584905660377]\n",
      "\n",
      "[[133   3]\n",
      " [  3 126]]\n",
      "epoch 0\n",
      "[0.5282924170292419 ,0.1983771026134491, 0.9245283018867925]\n",
      "\n",
      "epoch 1\n",
      "[0.31089578685014835 ,0.17242316901683807, 0.9471698113207547]\n",
      "\n",
      "epoch 2\n",
      "[0.2252449541473331 ,0.14032235741615295, 0.9584905660377359]\n",
      "\n",
      "[[127   9]\n",
      " [  2 127]]\n"
     ]
    }
   ],
   "source": [
    "new_state_dict = defaultdict(int)\n",
    "n = 10 # no of models in ens\n",
    "for i in range(n):\n",
    "    net = cnn_trad_pool2_net()\n",
    "    optimizer = optim.Adam(net.parameters())\n",
    "    criterion = F.cross_entropy\n",
    "    training_loss = train(net, train_dl, valid_dl, criterion, optimizer, 3)\n",
    "    \n",
    "    \n",
    "    state_dict = net.state_dict()\n",
    "    for k in state_dict:\n",
    "        new_state_dict[k] += state_dict[k]\n",
    "\n",
    "for k in new_state_dict:\n",
    "    new_state_dict[k] = new_state_dict[k]/n\n",
    "\n",
    "ens = cnn_trad_pool2_net()\n",
    "ens.load_state_dict(new_state_dict)"
   ]
  },
  {
   "cell_type": "code",
   "execution_count": 392,
   "metadata": {},
   "outputs": [
    {
     "data": {
      "text/plain": [
       "(1.4701588153839111, 0.5132075471698113, array([[136,   0],\n",
       "        [129,   0]]))"
      ]
     },
     "execution_count": 392,
     "metadata": {},
     "output_type": "execute_result"
    }
   ],
   "source": [
    "evaluate(ens.eval(), valid_dl)"
   ]
  },
  {
   "cell_type": "markdown",
   "metadata": {},
   "source": [
    "### Notes on Training\n",
    "\n",
    "- Why does validation fluctuates?\n",
    "\n",
    "**Possible Problem - Reaction**\n",
    "\n",
    "**1)** class imbalance + unknown samples : Even with two classes eg. yes and no it fluctuates (-)\n",
    "\n",
    "**2)** not enough data : Even when 1000 samples per class for yes and no (-). Though after adding batchnorm few data seems to cause fluctuation alone by itself.\n",
    "\n",
    "**3)** Lacking normalization : Added another bn layer after conv2 (accuracy increased seems more stable less fluctuations) (+)\n",
    "\n",
    "**4)** Early stopping: seems to also help since overfititing might later cause fluctuations (+)\n",
    "\n",
    "\n"
   ]
  },
  {
   "cell_type": "markdown",
   "metadata": {},
   "source": [
    "## Fast.ai tricks"
   ]
  },
  {
   "cell_type": "code",
   "execution_count": null,
   "metadata": {},
   "outputs": [],
   "source": []
  },
  {
   "cell_type": "code",
   "execution_count": null,
   "metadata": {},
   "outputs": [],
   "source": []
  }
 ],
 "metadata": {
  "kernelspec": {
   "display_name": "Python 3",
   "language": "python",
   "name": "python3"
  },
  "language_info": {
   "codemirror_mode": {
    "name": "ipython",
    "version": 3
   },
   "file_extension": ".py",
   "mimetype": "text/x-python",
   "name": "python",
   "nbconvert_exporter": "python",
   "pygments_lexer": "ipython3",
   "version": "3.6.4"
  }
 },
 "nbformat": 4,
 "nbformat_minor": 2
}
