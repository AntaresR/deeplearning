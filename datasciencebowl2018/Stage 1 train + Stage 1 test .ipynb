{
 "cells": [
  {
   "cell_type": "code",
   "execution_count": 1,
   "metadata": {},
   "outputs": [],
   "source": [
    "%matplotlib inline\n",
    "from pathlib import *\n",
    "import pandas as pd\n",
    "import numpy as np\n",
    "import matplotlib.pyplot as plt\n",
    "import os\n",
    "import cv2\n",
    "import sys "
   ]
  },
  {
   "cell_type": "code",
   "execution_count": 2,
   "metadata": {},
   "outputs": [],
   "source": [
    "sys.path.append('../../fastai/')"
   ]
  },
  {
   "cell_type": "code",
   "execution_count": 3,
   "metadata": {},
   "outputs": [],
   "source": [
    "from fastai.conv_learner import *"
   ]
  },
  {
   "cell_type": "code",
   "execution_count": 139,
   "metadata": {},
   "outputs": [],
   "source": [
    "path = list(Path('../data/ds_bowl_2018/').iterdir())"
   ]
  },
  {
   "cell_type": "code",
   "execution_count": 140,
   "metadata": {},
   "outputs": [
    {
     "data": {
      "text/plain": [
       "[PosixPath('../data/ds_bowl_2018/stage2_test_final'),\n",
       " PosixPath('../data/ds_bowl_2018/stage1_train_labels.csv'),\n",
       " PosixPath('../data/ds_bowl_2018/stage1_train'),\n",
       " PosixPath('../data/ds_bowl_2018/stage1_solution.csv')]"
      ]
     },
     "execution_count": 140,
     "metadata": {},
     "output_type": "execute_result"
    }
   ],
   "source": [
    "path"
   ]
  },
  {
   "cell_type": "code",
   "execution_count": 10,
   "metadata": {},
   "outputs": [],
   "source": [
    "trn_dirs = list(path[2].iterdir()) # stage1_train"
   ]
  },
  {
   "cell_type": "code",
   "execution_count": 12,
   "metadata": {},
   "outputs": [],
   "source": [
    "def run_length_decode(rle, H, W, fill_value=255):\n",
    "\n",
    "    mask = np.zeros((H * W), np.uint8)\n",
    "    rle = np.array([int(s) for s in rle.split(' ')]).reshape(-1, 2)\n",
    "    for r in rle:\n",
    "        start = r[0]-1\n",
    "        end = start + r[1]\n",
    "        mask[start : end] = fill_value\n",
    "    mask = mask.reshape(W, H).T # H, W need to swap as transposing.\n",
    "    return mask"
   ]
  },
  {
   "cell_type": "code",
   "execution_count": 13,
   "metadata": {},
   "outputs": [],
   "source": [
    "stage1_solution = pd.read_csv(path[-1])\n",
    "stage1_train_labels = pd.read_csv(path[1])"
   ]
  },
  {
   "cell_type": "code",
   "execution_count": 14,
   "metadata": {},
   "outputs": [],
   "source": [
    "stage1_all_labels = pd.concat([stage1_train_labels, stage1_solution.iloc[:, :2]])"
   ]
  },
  {
   "cell_type": "code",
   "execution_count": 15,
   "metadata": {},
   "outputs": [
    {
     "data": {
      "text/html": [
       "<div>\n",
       "<table border=\"1\" class=\"dataframe\">\n",
       "  <thead>\n",
       "    <tr style=\"text-align: right;\">\n",
       "      <th></th>\n",
       "      <th>ImageId</th>\n",
       "      <th>EncodedPixels</th>\n",
       "    </tr>\n",
       "  </thead>\n",
       "  <tbody>\n",
       "    <tr>\n",
       "      <th>0</th>\n",
       "      <td>00071198d059ba7f5914a526d124d28e6d010c92466da2...</td>\n",
       "      <td>6908 1 7161 8 7417 8 7672 9 7928 9 8184 9 8440...</td>\n",
       "    </tr>\n",
       "    <tr>\n",
       "      <th>1</th>\n",
       "      <td>00071198d059ba7f5914a526d124d28e6d010c92466da2...</td>\n",
       "      <td>36269 7 36523 11 36778 13 37033 15 37288 17 37...</td>\n",
       "    </tr>\n",
       "    <tr>\n",
       "      <th>2</th>\n",
       "      <td>00071198d059ba7f5914a526d124d28e6d010c92466da2...</td>\n",
       "      <td>19919 6 20174 8 20429 10 20685 11 20941 12 211...</td>\n",
       "    </tr>\n",
       "    <tr>\n",
       "      <th>3</th>\n",
       "      <td>00071198d059ba7f5914a526d124d28e6d010c92466da2...</td>\n",
       "      <td>18671 6 18926 8 19181 9 19436 10 19691 11 1994...</td>\n",
       "    </tr>\n",
       "    <tr>\n",
       "      <th>4</th>\n",
       "      <td>00071198d059ba7f5914a526d124d28e6d010c92466da2...</td>\n",
       "      <td>40158 3 40413 5 40669 5 40925 5 41182 3</td>\n",
       "    </tr>\n",
       "  </tbody>\n",
       "</table>\n",
       "</div>"
      ],
      "text/plain": [
       "                                             ImageId  \\\n",
       "0  00071198d059ba7f5914a526d124d28e6d010c92466da2...   \n",
       "1  00071198d059ba7f5914a526d124d28e6d010c92466da2...   \n",
       "2  00071198d059ba7f5914a526d124d28e6d010c92466da2...   \n",
       "3  00071198d059ba7f5914a526d124d28e6d010c92466da2...   \n",
       "4  00071198d059ba7f5914a526d124d28e6d010c92466da2...   \n",
       "\n",
       "                                       EncodedPixels  \n",
       "0  6908 1 7161 8 7417 8 7672 9 7928 9 8184 9 8440...  \n",
       "1  36269 7 36523 11 36778 13 37033 15 37288 17 37...  \n",
       "2  19919 6 20174 8 20429 10 20685 11 20941 12 211...  \n",
       "3  18671 6 18926 8 19181 9 19436 10 19691 11 1994...  \n",
       "4            40158 3 40413 5 40669 5 40925 5 41182 3  "
      ]
     },
     "execution_count": 15,
     "metadata": {},
     "output_type": "execute_result"
    }
   ],
   "source": [
    "stage1_all_labels.head()"
   ]
  },
  {
   "cell_type": "markdown",
   "metadata": {},
   "source": [
    "### Simple Best Approach - 2 Channel Output: Mask and Contours"
   ]
  },
  {
   "cell_type": "code",
   "execution_count": 83,
   "metadata": {},
   "outputs": [],
   "source": [
    "# creating mask files for stage 1 test files\n",
    "for trn_dir in trn_dirs:\n",
    "    dirname = trn_dir.name\n",
    "    try:\n",
    "        os.makedirs(trn_dir/'masks/', exist_ok=False) # create masks dir\n",
    "\n",
    "        test_case = stage1_all_labels[stage1_all_labels.ImageId == dirname].reset_index()\n",
    "        rles = test_case['EncodedPixels']\n",
    "        H, W = open_image(list((trn_dir/'images').iterdir())[0]).shape[:-1]\n",
    "\n",
    "        for i, rle in enumerate(rles):\n",
    "            decoded = run_length_decode(rle, H, W, 255)\n",
    "            plt.imsave((str(trn_dir/'masks') + f'/mask{i}.png'), decoded)\n",
    "    except:pass"
   ]
  },
  {
   "cell_type": "code",
   "execution_count": 161,
   "metadata": {},
   "outputs": [],
   "source": [
    "# creating one mask files for every image - target channel 1 \n",
    "for trn_dir in trn_dirs:\n",
    "    # create one mask for every image\n",
    "    one_mask_fn = trn_dir/'one_mask.png'\n",
    "    mask_paths = list((trn_dir/'masks').iterdir())\n",
    "\n",
    "    combined_masks = 0\n",
    "    for mask_path in mask_paths:\n",
    "        mask = cv2.imread(str(mask_path), cv2.IMREAD_GRAYSCALE)\n",
    "        combined_masks += (mask - 30)/185 \n",
    "    combined_masks = np.clip(combined_masks, 0, 255)\n",
    "\n",
    "    #if 'one_mask.png' not in [o.name for o in list(dirpath.iterdir())]:\n",
    "    plt.imsave(one_mask_fn, combined_masks)"
   ]
  },
  {
   "cell_type": "code",
   "execution_count": 127,
   "metadata": {},
   "outputs": [],
   "source": [
    "# creating contour files for every image - target channel 2\n",
    "def get_contoured_mask2d(mask):\n",
    "    \"\"\"For a single mask file get contour\"\"\"\n",
    "    gray = cv2.cvtColor(mask, cv2.COLOR_BGR2GRAY)\n",
    "    (t, binary) = cv2.threshold(gray, 0, 255, cv2.THRESH_BINARY)\n",
    "    (_, contours, _) = cv2.findContours(binary.astype(np.uint8), \n",
    "                               cv2.RETR_EXTERNAL,cv2.CHAIN_APPROX_SIMPLE)\n",
    "    contoured_mask = cv2.drawContours(mask, contours, -1, (0, 0, 255), 2)\n",
    "    \n",
    "\n",
    "#    contoured_mask = get_contoured_mask(mask)\n",
    "\n",
    "    contoured_mask2d = ((contoured_mask[:, :, 0]==1)*1) + ((contoured_mask[:, :, 2]==255)*2)\n",
    "    return contoured_mask2d\n",
    "\n",
    "# append all contoured mask files\n",
    "def get_all_contoured_masks(masks):\n",
    "    contoured_masks = []\n",
    "    for mask in masks:\n",
    "        contoured_masks.append(get_contoured_mask2d(mask))\n",
    "\n",
    "    all_contoured_masks = np.sum(np.array(contoured_masks), 0)\n",
    "    all_contoured_masks = np.clip(all_contoured_masks, 0,2)\n",
    "    return all_contoured_masks\n",
    "\n",
    "\n",
    "\n",
    "for trn_dir in trn_dirs:\n",
    "    # create one mask for every image\n",
    "    cntr_mask_fn = trn_dir/'contour_mask.png'\n",
    "    masks = [open_image(str(o)) for o in list((trn_dir/'masks').iterdir())]\n",
    "    plt.imsave(cntr_mask_fn, (get_all_contoured_masks(masks) == 2)*255)"
   ]
  },
  {
   "cell_type": "code",
   "execution_count": null,
   "metadata": {},
   "outputs": [],
   "source": []
  },
  {
   "cell_type": "code",
   "execution_count": null,
   "metadata": {},
   "outputs": [],
   "source": []
  },
  {
   "cell_type": "code",
   "execution_count": null,
   "metadata": {},
   "outputs": [],
   "source": []
  },
  {
   "cell_type": "code",
   "execution_count": null,
   "metadata": {},
   "outputs": [],
   "source": []
  },
  {
   "cell_type": "code",
   "execution_count": null,
   "metadata": {},
   "outputs": [],
   "source": []
  },
  {
   "cell_type": "code",
   "execution_count": null,
   "metadata": {},
   "outputs": [],
   "source": []
  },
  {
   "cell_type": "code",
   "execution_count": null,
   "metadata": {},
   "outputs": [],
   "source": []
  },
  {
   "cell_type": "markdown",
   "metadata": {},
   "source": [
    "### Check"
   ]
  },
  {
   "cell_type": "code",
   "execution_count": 23,
   "metadata": {},
   "outputs": [],
   "source": [
    "for trn_dir in trn_dirs:\n",
    "    if open_image(str(trn_dir/'one_mask/one_mask.png')) is None:\n",
    "        print(trn_dir.name)"
   ]
  },
  {
   "cell_type": "code",
   "execution_count": null,
   "metadata": {},
   "outputs": [],
   "source": []
  },
  {
   "cell_type": "code",
   "execution_count": null,
   "metadata": {},
   "outputs": [],
   "source": []
  },
  {
   "cell_type": "code",
   "execution_count": null,
   "metadata": {},
   "outputs": [],
   "source": []
  }
 ],
 "metadata": {
  "kernelspec": {
   "display_name": "Python 3",
   "language": "python",
   "name": "python3"
  },
  "language_info": {
   "codemirror_mode": {
    "name": "ipython",
    "version": 3
   },
   "file_extension": ".py",
   "mimetype": "text/x-python",
   "name": "python",
   "nbconvert_exporter": "python",
   "pygments_lexer": "ipython3",
   "version": "3.6.4"
  }
 },
 "nbformat": 4,
 "nbformat_minor": 2
}
