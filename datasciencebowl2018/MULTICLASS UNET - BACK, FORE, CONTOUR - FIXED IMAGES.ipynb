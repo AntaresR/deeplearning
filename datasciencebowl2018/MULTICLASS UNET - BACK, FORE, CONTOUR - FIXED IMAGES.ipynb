{
 "cells": [
  {
   "cell_type": "code",
   "execution_count": 143,
   "metadata": {},
   "outputs": [],
   "source": [
    "%reload_ext autoreload\n",
    "%autoreload 2\n",
    "\n",
    "import pandas as pd\n",
    "from pathlib import *\n",
    "from utility.utils import *\n",
    "from utility.plots import *\n",
    "\n",
    "from dataset.validation import *\n",
    "from dataset.dataset import *\n",
    "from dataset.transform import *\n",
    "\n",
    "from model.unet import UNet256_3x3\n",
    "from model.classifier import *\n",
    "import torch.optim as optim\n",
    "from model.loss import *\n",
    "from model.metrics import *"
   ]
  },
  {
   "cell_type": "markdown",
   "metadata": {
    "heading_collapsed": true
   },
   "source": [
    "### Create Random (Stratified) Train and Validation Set - RUN AS NEEDED"
   ]
  },
  {
   "cell_type": "code",
   "execution_count": 144,
   "metadata": {
    "hidden": true
   },
   "outputs": [],
   "source": [
    "classes = pd.read_csv('classes.csv')\n",
    "train_dirs, valid_dirs = get_stratified_valid_dirs(classes, seed=17)"
   ]
  },
  {
   "cell_type": "code",
   "execution_count": 145,
   "metadata": {
    "hidden": true
   },
   "outputs": [],
   "source": [
    "dst = '../data/ds_bowl_2018/kaggle-dsbowl-2018-dataset-fixes/'\n",
    "src = '../data/ds_bowl_2018/kaggle-dsbowl-2018-dataset-fixes/stage1_train/'"
   ]
  },
  {
   "cell_type": "code",
   "execution_count": 146,
   "metadata": {
    "hidden": true
   },
   "outputs": [],
   "source": [
    "# fixed data might miss some images from classes dataframe\n",
    "src_images = [img_dir.name for img_dir in list(Path(src).iterdir())]"
   ]
  },
  {
   "cell_type": "code",
   "execution_count": 5,
   "metadata": {
    "hidden": true
   },
   "outputs": [],
   "source": [
    "train_dirs = [img_dir for img_dir in train_dirs if img_dir in src_images]\n",
    "valid_dirs = [img_dir for img_dir in valid_dirs if img_dir in src_images]"
   ]
  },
  {
   "cell_type": "code",
   "execution_count": 6,
   "metadata": {
    "hidden": true
   },
   "outputs": [
    {
     "name": "stdout",
     "output_type": "stream",
     "text": [
      "Copied 600 training and 64 validation data\n"
     ]
    }
   ],
   "source": [
    "create_validation_dirs(dst, src, None, train_dirs, valid_dirs)"
   ]
  },
  {
   "cell_type": "code",
   "execution_count": 7,
   "metadata": {
    "hidden": true
   },
   "outputs": [
    {
     "data": {
      "text/html": [
       "<div>\n",
       "<style scoped>\n",
       "    .dataframe tbody tr th:only-of-type {\n",
       "        vertical-align: middle;\n",
       "    }\n",
       "\n",
       "    .dataframe tbody tr th {\n",
       "        vertical-align: top;\n",
       "    }\n",
       "\n",
       "    .dataframe thead th {\n",
       "        text-align: right;\n",
       "    }\n",
       "</style>\n",
       "<table border=\"1\" class=\"dataframe\">\n",
       "  <thead>\n",
       "    <tr style=\"text-align: right;\">\n",
       "      <th></th>\n",
       "      <th></th>\n",
       "      <th>filename</th>\n",
       "      <th>is_train</th>\n",
       "    </tr>\n",
       "    <tr>\n",
       "      <th>foreground</th>\n",
       "      <th>background</th>\n",
       "      <th></th>\n",
       "      <th></th>\n",
       "    </tr>\n",
       "  </thead>\n",
       "  <tbody>\n",
       "    <tr>\n",
       "      <th rowspan=\"3\" valign=\"top\">purple</th>\n",
       "      <th>purple</th>\n",
       "      <td>1</td>\n",
       "      <td>1</td>\n",
       "    </tr>\n",
       "    <tr>\n",
       "      <th>white</th>\n",
       "      <td>3</td>\n",
       "      <td>3</td>\n",
       "    </tr>\n",
       "    <tr>\n",
       "      <th>yellow</th>\n",
       "      <td>8</td>\n",
       "      <td>8</td>\n",
       "    </tr>\n",
       "    <tr>\n",
       "      <th>white</th>\n",
       "      <th>black</th>\n",
       "      <td>53</td>\n",
       "      <td>53</td>\n",
       "    </tr>\n",
       "  </tbody>\n",
       "</table>\n",
       "</div>"
      ],
      "text/plain": [
       "                       filename  is_train\n",
       "foreground background                    \n",
       "purple     purple             1         1\n",
       "           white              3         3\n",
       "           yellow             8         8\n",
       "white      black             53        53"
      ]
     },
     "execution_count": 7,
     "metadata": {},
     "output_type": "execute_result"
    }
   ],
   "source": [
    "# test distribution\n",
    "classes[~classes.is_train].groupby(['foreground', 'background']).count()"
   ]
  },
  {
   "cell_type": "code",
   "execution_count": 8,
   "metadata": {
    "hidden": true
   },
   "outputs": [
    {
     "data": {
      "text/html": [
       "<div>\n",
       "<style scoped>\n",
       "    .dataframe tbody tr th:only-of-type {\n",
       "        vertical-align: middle;\n",
       "    }\n",
       "\n",
       "    .dataframe tbody tr th {\n",
       "        vertical-align: top;\n",
       "    }\n",
       "\n",
       "    .dataframe thead th {\n",
       "        text-align: right;\n",
       "    }\n",
       "</style>\n",
       "<table border=\"1\" class=\"dataframe\">\n",
       "  <thead>\n",
       "    <tr style=\"text-align: right;\">\n",
       "      <th></th>\n",
       "      <th></th>\n",
       "      <th>filename</th>\n",
       "      <th>is_train</th>\n",
       "    </tr>\n",
       "    <tr>\n",
       "      <th>foreground</th>\n",
       "      <th>background</th>\n",
       "      <th></th>\n",
       "      <th></th>\n",
       "    </tr>\n",
       "  </thead>\n",
       "  <tbody>\n",
       "    <tr>\n",
       "      <th rowspan=\"2\" valign=\"top\">purple</th>\n",
       "      <th>purple</th>\n",
       "      <td>2</td>\n",
       "      <td>2</td>\n",
       "    </tr>\n",
       "    <tr>\n",
       "      <th>white</th>\n",
       "      <td>4</td>\n",
       "      <td>4</td>\n",
       "    </tr>\n",
       "    <tr>\n",
       "      <th>white</th>\n",
       "      <th>black</th>\n",
       "      <td>58</td>\n",
       "      <td>58</td>\n",
       "    </tr>\n",
       "  </tbody>\n",
       "</table>\n",
       "</div>"
      ],
      "text/plain": [
       "                       filename  is_train\n",
       "foreground background                    \n",
       "purple     purple             2         2\n",
       "           white              4         4\n",
       "white      black             58        58"
      ]
     },
     "execution_count": 8,
     "metadata": {},
     "output_type": "execute_result"
    }
   ],
   "source": [
    "# distributions seem similar to test\n",
    "classes[classes.filename.isin([f + '.png' for f in valid_dirs])].groupby(['foreground', 'background']).count()"
   ]
  },
  {
   "cell_type": "markdown",
   "metadata": {
    "heading_collapsed": true
   },
   "source": [
    "### Training Data Prep\n",
    "\n",
    "In multiclass UNET we will not be outputing a single channel like we did for binary classification background or mask but rather this time we will have a 3 channel output. Each channel will correspond to probability distributions for background, mask and overlap. We will be using multiclass BCE Loss.\n",
    "\n",
    "Output Channels:\n",
    "\n",
    "- Background\n",
    "- Foreground\n",
    "- Overlap\n",
    "\n",
    "\n",
    "If there are 3 unique pixel intensities\n",
    "\n",
    "- 30 : Background\n",
    "- 110 : Nuclei\n",
    "- 215 : Contour"
   ]
  },
  {
   "cell_type": "code",
   "execution_count": 9,
   "metadata": {
    "hidden": true
   },
   "outputs": [],
   "source": [
    "TRAIN = Path('../data/ds_bowl_2018/kaggle-dsbowl-2018-dataset-fixes/train')"
   ]
  },
  {
   "cell_type": "code",
   "execution_count": 10,
   "metadata": {
    "hidden": true
   },
   "outputs": [],
   "source": [
    "i = 0\n",
    "train_i = list(TRAIN.iterdir())[i]"
   ]
  },
  {
   "cell_type": "code",
   "execution_count": 11,
   "metadata": {
    "hidden": true
   },
   "outputs": [],
   "source": [
    "train_i_img = str(train_i/'images'/(train_i.name)) + '.png'\n",
    "train_i_msk = str(train_i/'mclass_target.png')"
   ]
  },
  {
   "cell_type": "code",
   "execution_count": 12,
   "metadata": {
    "hidden": true
   },
   "outputs": [
    {
     "data": {
      "image/png": "[encoded data removed]",
      "text/plain": [
       "<PIL.PngImagePlugin.PngImageFile image mode=RGBA size=256x256 at 0x7F08E0709780>"
      ]
     },
     "execution_count": 12,
     "metadata": {},
     "output_type": "execute_result"
    }
   ],
   "source": [
    "Image.open(train_i_img)"
   ]
  },
  {
   "cell_type": "code",
   "execution_count": 13,
   "metadata": {
    "hidden": true
   },
   "outputs": [
    {
     "data": {
      "image/png": "[encoded data removed]",
      "text/plain": [
       "<PIL.PngImagePlugin.PngImageFile image mode=RGBA size=256x256 at 0x7F08E0669940>"
      ]
     },
     "execution_count": 13,
     "metadata": {},
     "output_type": "execute_result"
    }
   ],
   "source": [
    "Image.open(train_i_msk)"
   ]
  },
  {
   "cell_type": "code",
   "execution_count": 14,
   "metadata": {
    "hidden": true
   },
   "outputs": [],
   "source": [
    "msk_arr = read2d(train_i_msk)"
   ]
  },
  {
   "cell_type": "code",
   "execution_count": 15,
   "metadata": {
    "hidden": true
   },
   "outputs": [],
   "source": [
    "ims = [msk_arr == pix_val for pix_val in [30, 110, 215]]"
   ]
  },
  {
   "cell_type": "code",
   "execution_count": 16,
   "metadata": {
    "hidden": true
   },
   "outputs": [
    {
     "name": "stdout",
     "output_type": "stream",
     "text": [
      "Indicated By Yellow: Back, Fore and Contour\n"
     ]
    },
    {
     "data": {
      "image/png": "[encoded data removed]",
      "text/plain": [
       "<Figure size 648x432 with 3 Axes>"
      ]
     },
     "metadata": {},
     "output_type": "display_data"
    }
   ],
   "source": [
    "fig, axes = plt.subplots(1, 3, figsize=(9, 6))\n",
    "for i,ax in enumerate(axes.flat): show_img(ims[i], ax=ax)\n",
    "plt.tight_layout(pad=0.1)\n",
    "print('Indicated By Yellow: Back, Fore and Contour')"
   ]
  },
  {
   "cell_type": "markdown",
   "metadata": {},
   "source": [
    "### Data Prep"
   ]
  },
  {
   "cell_type": "code",
   "execution_count": 147,
   "metadata": {},
   "outputs": [],
   "source": [
    "class NucleiDataset(Dataset):\n",
    "    \"\"\"\n",
    "    path (str): path of the directory that contains all data dirs (train, valid, test)\n",
    "    transform (func): a function to apply for transforms during reading data\n",
    "    mode (str): either 'train', 'valid' or something else like 'test'\n",
    "    mask_file (str): filename that has the ground truth image, e.g. mask\n",
    "    \"\"\"\n",
    "    def __init__(self, path, transform=None, mode='train', mask_file='/one_mask.png'):\n",
    "        self.path = path\n",
    "        self.transform = transform\n",
    "        self.mode = mode\n",
    "        self.image_dirs = list_directory(path)\n",
    "        self.mask_file = mask_file\n",
    "\n",
    "    def __getitem__(self, index):\n",
    "        # Get filenames\n",
    "        image_dir = self.image_dirs[index]\n",
    "        image_id = image_dir.split('/')[-2]\n",
    "        image_file = image_dir + 'images/' + image_id + '.png'\n",
    "        image = open_image(image_file) # open with fastai open_image\n",
    "\n",
    "        # Get mask and read files\n",
    "        if self.mode in ['train', 'valid']:\n",
    "            mask = read2d(image_dir + self.mask_file) # open in gray\n",
    "            if self.transform is not None:\n",
    "                return self.transform(image, mask, image_id)\n",
    "            else:\n",
    "                return image, mask, image_id\n",
    "        # Just read files\n",
    "        else:\n",
    "            if self.transform is not None:\n",
    "                return self.transform(image, None, image_id)\n",
    "            else:\n",
    "                return image, image_id\n",
    "            \n",
    "    def __len__(self):\n",
    "        return len(self.image_dirs)"
   ]
  },
  {
   "cell_type": "code",
   "execution_count": 148,
   "metadata": {},
   "outputs": [],
   "source": [
    "def get_3d_mask(mask):\n",
    "    # back, fore, contour (30, 110, 215)\n",
    "    back_channel = (mask == 30)*1 \n",
    "    nuclei_channel = (mask == 110)*1\n",
    "    contour_channel = (mask == 215)*1\n",
    "    # stack depth-wise\n",
    "    multiclass_out = np.dstack([back_channel, nuclei_channel, contour_channel])\n",
    "    return multiclass_out"
   ]
  },
  {
   "cell_type": "code",
   "execution_count": 318,
   "metadata": {},
   "outputs": [],
   "source": [
    "from torch import FloatTensor as FT\n",
    "\n",
    "def train_augment(image, mask, index, sz = 256): \n",
    "    # data aug\n",
    "    image, mask = random_horizontal_flip_transform2(image, mask)\n",
    "    image, mask = random_vertical_flip_transform2(image, mask)\n",
    "    image, mask = random_rotate_transform2(image, mask)\n",
    "    # get 3d mask\n",
    "    mask3d = get_3d_mask(mask).astype(np.uint8) \n",
    "    # resize image, mask for Unet256\n",
    "    image = fix_resize_transform(image, sz, sz)\n",
    "    mask3d = fix_resize_transform(mask3d, sz, sz) \n",
    "    # get dimensions right for pytorch\n",
    "    image = (image.transpose((2,0,1))) / 255\n",
    "    mask3d = (mask3d.transpose((2,0,1)))\n",
    "    return FT(image.astype(np.float64)), FT(mask3d.astype(np.float64)), index\n",
    "\n",
    "def valid_augment(image, mask, index, sz = 256):        \n",
    "    # get 3d mask\n",
    "    mask3d = get_3d_mask(mask).astype(np.uint8) \n",
    "    # resize image, mask for Unet256\n",
    "    image = fix_resize_transform(image, sz, sz)\n",
    "    mask3d = fix_resize_transform(mask3d, sz, sz) \n",
    "    # get dimensions right for pytorch\n",
    "    image = (image.transpose((2,0,1))) / 255\n",
    "    mask3d = (mask3d.transpose((2,0,1)))\n",
    "    return FT(image.astype(np.float64)), FT(mask3d.astype(np.float64)), index\n",
    "\n",
    "\n",
    "def test_augment(image, mask, index, sz = 256):\n",
    "    # resize image for Unet256\n",
    "    image = fix_resize_transform(image, sz, sz)\n",
    "    # normalize pixel intensities\n",
    "    image = (image.transpose((2,0,1))) / 255 \n",
    "    return FT(image.astype(np.float64)), index"
   ]
  },
  {
   "cell_type": "code",
   "execution_count": 319,
   "metadata": {},
   "outputs": [],
   "source": [
    "DUMMY = '../data/ds_bowl_2018/kaggle-dsbowl-2018-dataset-fixes/dummy/'\n",
    "TRAIN = '../data/ds_bowl_2018/kaggle-dsbowl-2018-dataset-fixes/train/'\n",
    "VALID = '../data/ds_bowl_2018/kaggle-dsbowl-2018-dataset-fixes/valid/'"
   ]
  },
  {
   "cell_type": "code",
   "execution_count": 326,
   "metadata": {},
   "outputs": [],
   "source": [
    "# create trainloader\n",
    "trn_ds = NucleiDataset(TRAIN, transform=train_augment, mode='train', mask_file='/mclass_target.png')\n",
    "trn_dl = DataLoader(trn_ds, batch_size=32, shuffle=True)\n",
    "# create validloader.png\n",
    "val_ds = NucleiDataset(VALID, transform=valid_augment, mode='valid', mask_file='/mclass_target.png')\n",
    "val_dl = DataLoader(val_ds, batch_size=32, shuffle=False)\n",
    "# create testloader\n",
    "test_ds = NucleiDataset('../data/ds_bowl_2018/test/', transform=test_augment, mode='test')\n",
    "test_dl = DataLoader(test_ds, batch_size=1, shuffle=False)\n",
    "# create dummyloader\n",
    "dummy_ds = NucleiDataset(DUMMY, transform=train_augment, mode='train', mask_file='/mclass_target.png')\n",
    "dummy_dl = DataLoader(dummy_ds, batch_size=1, shuffle=False)"
   ]
  },
  {
   "cell_type": "code",
   "execution_count": 327,
   "metadata": {},
   "outputs": [],
   "source": [
    "x,y,_ = dummy_ds.__getitem__(0)"
   ]
  },
  {
   "cell_type": "code",
   "execution_count": 330,
   "metadata": {},
   "outputs": [
    {
     "data": {
      "text/plain": [
       "<matplotlib.axes._subplots.AxesSubplot at 0x7f43801022e8>"
      ]
     },
     "execution_count": 330,
     "metadata": {},
     "output_type": "execute_result"
    },
    {
     "data": {
      "image/png": "[encoded data removed]",
      "text/plain": [
       "<Figure size 432x288 with 1 Axes>"
      ]
     },
     "metadata": {},
     "output_type": "display_data"
    }
   ],
   "source": [
    "show_img(to_np(x*255).transpose(1,2,0))"
   ]
  },
  {
   "cell_type": "code",
   "execution_count": 331,
   "metadata": {},
   "outputs": [
    {
     "data": {
      "text/plain": [
       "<matplotlib.axes._subplots.AxesSubplot at 0x7f4380136400>"
      ]
     },
     "execution_count": 331,
     "metadata": {},
     "output_type": "execute_result"
    },
    {
     "data": {
      "image/png": "[encoded data removed]",
      "text/plain": [
       "<Figure size 432x288 with 1 Axes>"
      ]
     },
     "metadata": {},
     "output_type": "display_data"
    }
   ],
   "source": [
    "show_img(to_np(y).transpose(1,2,0))"
   ]
  },
  {
   "cell_type": "code",
   "execution_count": 332,
   "metadata": {},
   "outputs": [],
   "source": [
    "class MulticlassBCELoss2d(nn.Module):\n",
    "    \"\"\"\n",
    "    Weights for a single sample which is repeated along the batch\n",
    "    Inputs:\n",
    "        weight: weigth tensor for a single sample\n",
    "    \"\"\"\n",
    "    def __init__(self):\n",
    "        super(MulticlassBCELoss2d, self).__init__()\n",
    "        \n",
    "    def forward(self, logits, targets):\n",
    "        # input for cross entropy\n",
    "        bs, c, h, w = logits.size()\n",
    "        out2 = logits.view(bs,c,h*w).transpose(2,1).contiguous()\n",
    "        input_ = out2.view(bs*h*w,c)\n",
    "        \n",
    "        # target for cross entropy\n",
    "        _, idx = torch.max(targets, 1)\n",
    "        target = idx.view(-1)\n",
    "\n",
    "        return F.cross_entropy(input_, target)"
   ]
  },
  {
   "cell_type": "markdown",
   "metadata": {},
   "source": [
    "### DUMMY TRAIN"
   ]
  },
  {
   "cell_type": "code",
   "execution_count": 333,
   "metadata": {},
   "outputs": [],
   "source": [
    "# training definition\n",
    "net = UNet256_3x3(in_shape=(3, 256, 256), num_classes=3).cuda(0)\n",
    "#optimizer = optim.Adam(net.parameters(), lr=0.1)\n",
    "optimizer = optim.RMSprop(net.parameters(), lr=0.1)\n",
    "# weighted BCELoss\n",
    "crit = MulticlassBCELoss2d()\n",
    "# metric\n",
    "metric = dice_score"
   ]
  },
  {
   "cell_type": "code",
   "execution_count": 334,
   "metadata": {},
   "outputs": [],
   "source": [
    "# init classifier\n",
    "classifier = NucleiClassifier(net, optimizer, crit, metric)"
   ]
  },
  {
   "cell_type": "code",
   "execution_count": 335,
   "metadata": {
    "scrolled": true
   },
   "outputs": [
    {
     "name": "stdout",
     "output_type": "stream",
     "text": [
      "Epoch: 1\n",
      "LOSS - Training : [1.0275], Validation : [nan]\n",
      "METRIC - Training : [0.5944], Validation : [0.7631]\n",
      "Epoch: 2\n",
      "LOSS - Training : [5.2344], Validation : [32319471616000.0]\n",
      "METRIC - Training : [0.7683], Validation : [0.1555]\n",
      "Epoch: 3\n",
      "LOSS - Training : [9.5965], Validation : [8289780224.0]\n",
      "METRIC - Training : [0.1613], Validation : [0.1552]\n",
      "Epoch: 4\n",
      "LOSS - Training : [0.7425], Validation : [265852.625]\n",
      "METRIC - Training : [0.8456], Validation : [0.1552]\n",
      "Epoch: 5\n",
      "LOSS - Training : [0.8729], Validation : [19462.6094]\n",
      "METRIC - Training : [0.8398], Validation : [0.1555]\n",
      "Epoch: 6\n",
      "LOSS - Training : [0.4204], Validation : [1801.0841]\n",
      "METRIC - Training : [0.8482], Validation : [0.1554]\n",
      "Epoch: 7\n",
      "LOSS - Training : [0.293], Validation : [218.1093]\n",
      "METRIC - Training : [0.8678], Validation : [0.1556]\n",
      "Epoch: 8\n",
      "LOSS - Training : [0.256], Validation : [20.4302]\n",
      "METRIC - Training : [0.8747], Validation : [0.1593]\n",
      "Epoch: 9\n",
      "LOSS - Training : [0.2372], Validation : [2.1111]\n",
      "METRIC - Training : [0.8749], Validation : [0.2702]\n",
      "Epoch: 10\n",
      "LOSS - Training : [0.2237], Validation : [2.7924]\n",
      "METRIC - Training : [0.8751], Validation : [0.7649]\n",
      "Epoch: 11\n",
      "LOSS - Training : [0.2096], Validation : [1.1146]\n",
      "METRIC - Training : [0.8762], Validation : [0.4576]\n",
      "Epoch: 12\n",
      "LOSS - Training : [0.1888], Validation : [1.4191]\n",
      "METRIC - Training : [0.885], Validation : [0.1463]\n",
      "Epoch: 13\n",
      "LOSS - Training : [0.174], Validation : [1.4911]\n",
      "METRIC - Training : [0.888], Validation : [0.1451]\n",
      "Epoch: 14\n",
      "LOSS - Training : [0.1725], Validation : [1.3948]\n",
      "METRIC - Training : [0.89], Validation : [0.1503]\n",
      "Epoch: 15\n",
      "LOSS - Training : [0.1607], Validation : [1.6422]\n",
      "METRIC - Training : [0.8927], Validation : [0.1394]\n",
      "Epoch: 16\n",
      "LOSS - Training : [0.1512], Validation : [1.5628]\n",
      "METRIC - Training : [0.8949], Validation : [0.1537]\n",
      "Epoch: 17\n",
      "LOSS - Training : [0.1445], Validation : [1.7935]\n",
      "METRIC - Training : [0.8952], Validation : [0.1438]\n",
      "Epoch: 18\n",
      "LOSS - Training : [0.1509], Validation : [1.1485]\n",
      "METRIC - Training : [0.8946], Validation : [0.5198]\n",
      "Epoch: 19\n",
      "LOSS - Training : [0.1542], Validation : [1.5995]\n",
      "METRIC - Training : [0.8874], Validation : [0.1574]\n",
      "Epoch: 20\n",
      "LOSS - Training : [0.1478], Validation : [1.1639]\n",
      "METRIC - Training : [0.8983], Validation : [0.4687]\n",
      "Epoch: 21\n",
      "LOSS - Training : [0.1526], Validation : [1.7005]\n",
      "METRIC - Training : [0.8883], Validation : [0.1642]\n",
      "Epoch: 22\n",
      "LOSS - Training : [0.1511], Validation : [1.355]\n",
      "METRIC - Training : [0.9041], Validation : [0.1864]\n",
      "Epoch: 23\n",
      "LOSS - Training : [0.1687], Validation : [1.6878]\n",
      "METRIC - Training : [0.8907], Validation : [0.1708]\n",
      "Epoch: 24\n",
      "LOSS - Training : [0.1549], Validation : [1.1552]\n",
      "METRIC - Training : [0.9053], Validation : [0.4483]\n",
      "Epoch: 25\n",
      "LOSS - Training : [0.1659], Validation : [2.0692]\n",
      "METRIC - Training : [0.8909], Validation : [0.1476]\n",
      "Epoch: 26\n",
      "LOSS - Training : [0.1537], Validation : [1.3568]\n",
      "METRIC - Training : [0.9025], Validation : [0.1906]\n",
      "Epoch: 27\n",
      "LOSS - Training : [0.1615], Validation : [1.8254]\n",
      "METRIC - Training : [0.8908], Validation : [0.1643]\n",
      "Epoch: 28\n",
      "LOSS - Training : [0.1369], Validation : [1.7385]\n",
      "METRIC - Training : [0.905], Validation : [0.1527]\n",
      "Epoch: 29\n",
      "LOSS - Training : [0.1319], Validation : [2.0]\n",
      "METRIC - Training : [0.8999], Validation : [0.1588]\n",
      "Epoch: 30\n",
      "LOSS - Training : [0.1251], Validation : [1.8332]\n",
      "METRIC - Training : [0.9033], Validation : [0.1556]\n",
      "Epoch: 31\n",
      "LOSS - Training : [0.1227], Validation : [1.7807]\n",
      "METRIC - Training : [0.9002], Validation : [0.1756]\n",
      "Epoch: 32\n",
      "LOSS - Training : [0.1205], Validation : [1.9501]\n",
      "METRIC - Training : [0.9011], Validation : [0.1606]\n",
      "Epoch: 33\n",
      "LOSS - Training : [0.1186], Validation : [1.6498]\n",
      "METRIC - Training : [0.9034], Validation : [0.1853]\n",
      "Epoch: 34\n",
      "LOSS - Training : [0.1191], Validation : [1.9493]\n",
      "METRIC - Training : [0.8995], Validation : [0.1531]\n",
      "Epoch: 35\n",
      "LOSS - Training : [0.1165], Validation : [1.3877]\n",
      "METRIC - Training : [0.9026], Validation : [0.3902]\n",
      "Epoch: 36\n",
      "LOSS - Training : [0.1166], Validation : [1.9259]\n",
      "METRIC - Training : [0.9008], Validation : [0.1659]\n",
      "Epoch: 37\n",
      "LOSS - Training : [0.1168], Validation : [1.4658]\n",
      "METRIC - Training : [0.9025], Validation : [0.2102]\n",
      "Epoch: 38\n",
      "LOSS - Training : [0.1144], Validation : [1.673]\n",
      "METRIC - Training : [0.9031], Validation : [0.1901]\n",
      "Epoch: 39\n",
      "LOSS - Training : [0.1114], Validation : [1.5271]\n",
      "METRIC - Training : [0.9032], Validation : [0.2012]\n",
      "Epoch: 40\n",
      "LOSS - Training : [0.1133], Validation : [1.9802]\n",
      "METRIC - Training : [0.9026], Validation : [0.1667]\n",
      "Epoch: 41\n",
      "LOSS - Training : [0.1121], Validation : [1.6808]\n",
      "METRIC - Training : [0.9054], Validation : [0.1863]\n",
      "Epoch: 42\n",
      "LOSS - Training : [0.1134], Validation : [2.0436]\n",
      "METRIC - Training : [0.899], Validation : [0.1716]\n",
      "Epoch: 43\n",
      "LOSS - Training : [0.1087], Validation : [1.5731]\n",
      "METRIC - Training : [0.907], Validation : [0.2118]\n",
      "Epoch: 44\n",
      "LOSS - Training : [0.107], Validation : [1.9994]\n",
      "METRIC - Training : [0.9027], Validation : [0.1771]\n",
      "Epoch: 45\n",
      "LOSS - Training : [0.1078], Validation : [1.6363]\n",
      "METRIC - Training : [0.9079], Validation : [0.207]\n",
      "Epoch: 46\n",
      "LOSS - Training : [0.1079], Validation : [1.9081]\n",
      "METRIC - Training : [0.9045], Validation : [0.1834]\n",
      "Epoch: 47\n",
      "LOSS - Training : [0.1087], Validation : [1.6463]\n",
      "METRIC - Training : [0.9047], Validation : [0.2101]\n",
      "Epoch: 48\n",
      "LOSS - Training : [0.1104], Validation : [1.8593]\n",
      "METRIC - Training : [0.9011], Validation : [0.1862]\n",
      "Epoch: 49\n",
      "LOSS - Training : [0.1093], Validation : [1.4408]\n",
      "METRIC - Training : [0.9094], Validation : [0.2533]\n",
      "Epoch: 50\n",
      "LOSS - Training : [0.115], Validation : [2.0631]\n",
      "METRIC - Training : [0.9034], Validation : [0.1869]\n",
      "Epoch: 51\n",
      "LOSS - Training : [0.1185], Validation : [0.623]\n",
      "METRIC - Training : [0.9089], Validation : [0.7525]\n",
      "Epoch: 52\n",
      "LOSS - Training : [0.1283], Validation : [2.2055]\n",
      "METRIC - Training : [0.9002], Validation : [0.1873]\n",
      "Epoch: 53\n",
      "LOSS - Training : [0.1207], Validation : [0.8642]\n",
      "METRIC - Training : [0.9066], Validation : [0.6566]\n",
      "Epoch: 54\n",
      "LOSS - Training : [0.1198], Validation : [1.8831]\n",
      "METRIC - Training : [0.9019], Validation : [0.2114]\n",
      "Epoch: 55\n",
      "LOSS - Training : [0.1125], Validation : [0.8861]\n",
      "METRIC - Training : [0.909], Validation : [0.6518]\n",
      "Epoch: 56\n",
      "LOSS - Training : [0.1106], Validation : [1.7215]\n",
      "METRIC - Training : [0.8995], Validation : [0.234]\n",
      "Epoch: 57\n",
      "LOSS - Training : [0.1084], Validation : [1.3292]\n",
      "METRIC - Training : [0.9068], Validation : [0.4805]\n",
      "Epoch: 58\n",
      "LOSS - Training : [0.1031], Validation : [1.6883]\n",
      "METRIC - Training : [0.9027], Validation : [0.2599]\n",
      "Epoch: 59\n",
      "LOSS - Training : [0.1025], Validation : [1.2926]\n",
      "METRIC - Training : [0.9106], Validation : [0.4952]\n",
      "Epoch: 60\n",
      "LOSS - Training : [0.1041], Validation : [1.5778]\n",
      "METRIC - Training : [0.9023], Validation : [0.2786]\n",
      "Epoch: 61\n",
      "LOSS - Training : [0.1005], Validation : [1.1509]\n",
      "METRIC - Training : [0.9104], Validation : [0.5282]\n",
      "Epoch: 62\n",
      "LOSS - Training : [0.0999], Validation : [1.5016]\n",
      "METRIC - Training : [0.9076], Validation : [0.3562]\n",
      "Epoch: 63\n",
      "LOSS - Training : [0.0982], Validation : [1.1842]\n",
      "METRIC - Training : [0.9103], Validation : [0.5135]\n",
      "Epoch: 64\n",
      "LOSS - Training : [0.1037], Validation : [1.2646]\n",
      "METRIC - Training : [0.9067], Validation : [0.5139]\n",
      "Epoch: 65\n",
      "LOSS - Training : [0.1037], Validation : [1.1269]\n",
      "METRIC - Training : [0.9071], Validation : [0.519]\n",
      "Epoch: 66\n",
      "LOSS - Training : [0.099], Validation : [1.5019]\n",
      "METRIC - Training : [0.9042], Validation : [0.3743]\n",
      "Epoch: 67\n",
      "LOSS - Training : [0.1002], Validation : [1.0334]\n",
      "METRIC - Training : [0.907], Validation : [0.5366]\n",
      "Epoch: 68\n",
      "LOSS - Training : [0.1086], Validation : [1.6551]\n",
      "METRIC - Training : [0.9045], Validation : [0.2861]\n",
      "Epoch: 69\n",
      "LOSS - Training : [0.1074], Validation : [0.981]\n",
      "METRIC - Training : [0.9076], Validation : [0.5388]\n",
      "Epoch: 70\n",
      "LOSS - Training : [0.1129], Validation : [1.6674]\n",
      "METRIC - Training : [0.9034], Validation : [0.2751]\n",
      "Epoch: 71\n",
      "LOSS - Training : [0.112], Validation : [0.7315]\n",
      "METRIC - Training : [0.9111], Validation : [0.6424]\n",
      "Epoch: 72\n",
      "LOSS - Training : [0.1164], Validation : [1.4663]\n",
      "METRIC - Training : [0.903], Validation : [0.4277]\n",
      "Epoch: 73\n",
      "LOSS - Training : [0.1068], Validation : [0.7436]\n",
      "METRIC - Training : [0.9088], Validation : [0.6463]\n",
      "Epoch: 74\n",
      "LOSS - Training : [0.1079], Validation : [1.1949]\n",
      "METRIC - Training : [0.9049], Validation : [0.5138]\n",
      "Epoch: 75\n",
      "LOSS - Training : [0.101], Validation : [0.7948]\n",
      "METRIC - Training : [0.9094], Validation : [0.6296]\n",
      "Epoch: 76\n",
      "LOSS - Training : [0.1008], Validation : [1.1298]\n",
      "METRIC - Training : [0.908], Validation : [0.5217]\n"
     ]
    },
    {
     "name": "stdout",
     "output_type": "stream",
     "text": [
      "Epoch: 77\n",
      "LOSS - Training : [0.0998], Validation : [0.6874]\n",
      "METRIC - Training : [0.9081], Validation : [0.6736]\n",
      "Epoch: 78\n",
      "LOSS - Training : [0.097], Validation : [0.8692]\n",
      "METRIC - Training : [0.9073], Validation : [0.6022]\n",
      "Epoch: 79\n",
      "LOSS - Training : [0.0957], Validation : [0.5826]\n",
      "METRIC - Training : [0.9126], Validation : [0.716]\n",
      "Epoch: 80\n",
      "LOSS - Training : [0.0986], Validation : [0.4855]\n",
      "METRIC - Training : [0.904], Validation : [0.7525]\n",
      "Epoch: 81\n",
      "LOSS - Training : [0.1021], Validation : [0.5071]\n",
      "METRIC - Training : [0.9103], Validation : [0.7369]\n",
      "Epoch: 82\n",
      "LOSS - Training : [0.0967], Validation : [0.2624]\n",
      "METRIC - Training : [0.9044], Validation : [0.8569]\n",
      "Epoch: 83\n",
      "LOSS - Training : [0.1023], Validation : [0.4493]\n",
      "METRIC - Training : [0.9095], Validation : [0.7652]\n",
      "Epoch: 84\n",
      "LOSS - Training : [0.0903], Validation : [0.4644]\n",
      "METRIC - Training : [0.9089], Validation : [0.7702]\n",
      "Epoch: 85\n",
      "LOSS - Training : [0.091], Validation : [0.3816]\n",
      "METRIC - Training : [0.9087], Validation : [0.807]\n",
      "Epoch: 86\n",
      "LOSS - Training : [0.0879], Validation : [0.2677]\n",
      "METRIC - Training : [0.9091], Validation : [0.8774]\n",
      "Epoch: 87\n",
      "LOSS - Training : [0.0942], Validation : [0.429]\n",
      "METRIC - Training : [0.9064], Validation : [0.7789]\n",
      "Epoch: 88\n",
      "LOSS - Training : [0.0943], Validation : [0.2905]\n",
      "METRIC - Training : [0.9055], Validation : [0.8452]\n",
      "Epoch: 89\n",
      "LOSS - Training : [0.0979], Validation : [0.2905]\n",
      "METRIC - Training : [0.9097], Validation : [0.8424]\n",
      "Epoch: 90\n",
      "LOSS - Training : [0.0876], Validation : [0.2985]\n",
      "METRIC - Training : [0.909], Validation : [0.841]\n",
      "Epoch: 91\n",
      "LOSS - Training : [0.0927], Validation : [0.1758]\n",
      "METRIC - Training : [0.9047], Validation : [0.9021]\n",
      "Epoch: 92\n",
      "LOSS - Training : [0.0943], Validation : [0.1729]\n",
      "METRIC - Training : [0.9059], Validation : [0.8883]\n",
      "Epoch: 93\n",
      "LOSS - Training : [0.0943], Validation : [0.1729]\n",
      "METRIC - Training : [0.9067], Validation : [0.8851]\n",
      "Epoch: 94\n",
      "LOSS - Training : [0.0955], Validation : [0.1647]\n",
      "METRIC - Training : [0.9077], Validation : [0.8819]\n",
      "Epoch: 95\n",
      "LOSS - Training : [0.0952], Validation : [0.1298]\n",
      "METRIC - Training : [0.9077], Validation : [0.909]\n",
      "Epoch: 96\n",
      "LOSS - Training : [0.1019], Validation : [0.1554]\n",
      "METRIC - Training : [0.9083], Validation : [0.8891]\n",
      "Epoch: 97\n",
      "LOSS - Training : [0.0906], Validation : [0.135]\n",
      "METRIC - Training : [0.9067], Validation : [0.9054]\n",
      "Epoch: 98\n",
      "LOSS - Training : [0.088], Validation : [0.1257]\n",
      "METRIC - Training : [0.9102], Validation : [0.905]\n",
      "Epoch: 99\n",
      "LOSS - Training : [0.1011], Validation : [0.1261]\n",
      "METRIC - Training : [0.9016], Validation : [0.9041]\n",
      "Epoch: 100\n",
      "LOSS - Training : [0.1237], Validation : [0.1141]\n",
      "METRIC - Training : [0.9081], Validation : [0.9023]\n"
     ]
    }
   ],
   "source": [
    "classifier.train(dummy_dl, dummy_dl, 100)"
   ]
  },
  {
   "cell_type": "code",
   "execution_count": 336,
   "metadata": {},
   "outputs": [],
   "source": [
    "x,y,_= next(iter(dummy_dl))"
   ]
  },
  {
   "cell_type": "code",
   "execution_count": 337,
   "metadata": {
    "scrolled": true
   },
   "outputs": [],
   "source": [
    "pred = torch.max(classifier.net(V(x).cuda(1))[0],0)[1]"
   ]
  },
  {
   "cell_type": "code",
   "execution_count": 338,
   "metadata": {},
   "outputs": [
    {
     "data": {
      "text/plain": [
       "<matplotlib.image.AxesImage at 0x7f4380049240>"
      ]
     },
     "execution_count": 338,
     "metadata": {},
     "output_type": "execute_result"
    },
    {
     "data": {
      "image/png": "[encoded data removed]",
      "text/plain": [
       "<Figure size 432x288 with 1 Axes>"
      ]
     },
     "metadata": {},
     "output_type": "display_data"
    }
   ],
   "source": [
    "plt.imshow(to_np(pred))"
   ]
  },
  {
   "cell_type": "code",
   "execution_count": 339,
   "metadata": {},
   "outputs": [
    {
     "data": {
      "text/plain": [
       "<matplotlib.image.AxesImage at 0x7f4380019cf8>"
      ]
     },
     "execution_count": 339,
     "metadata": {},
     "output_type": "execute_result"
    },
    {
     "data": {
      "image/png": "[encoded data removed]",
      "text/plain": [
       "<Figure size 432x288 with 1 Axes>"
      ]
     },
     "metadata": {},
     "output_type": "display_data"
    }
   ],
   "source": [
    "plt.imshow(torch.max(y[0],0)[1])"
   ]
  },
  {
   "cell_type": "code",
   "execution_count": 275,
   "metadata": {},
   "outputs": [],
   "source": [
    "#classifier.restore_model('./models/mclass_20')"
   ]
  },
  {
   "cell_type": "markdown",
   "metadata": {},
   "source": [
    "### TRAINING"
   ]
  },
  {
   "cell_type": "code",
   "execution_count": 340,
   "metadata": {},
   "outputs": [],
   "source": [
    "# create trainloader\n",
    "trn_ds = NucleiDataset(TRAIN, transform=train_augment, mode='train',\n",
    "                       mask_file='/mclass_target.png')\n",
    "trn_dl = DataLoader(trn_ds, batch_size=32, shuffle=True)\n",
    "# create validloader.png\n",
    "val_ds = NucleiDataset(VALID, transform=valid_augment, mode='valid',\n",
    "                       mask_file='/mclass_target.png')\n",
    "val_dl = DataLoader(val_ds, batch_size=32, shuffle=False)\n",
    "# create testloader\n",
    "test_ds = NucleiDataset('../data/ds_bowl_2018/test/', transform=test_augment, mode='test')\n",
    "test_dl = DataLoader(test_ds, batch_size=1, shuffle=False)"
   ]
  },
  {
   "cell_type": "code",
   "execution_count": 341,
   "metadata": {},
   "outputs": [],
   "source": [
    "# training definition\n",
    "net = UNet256_3x3(in_shape=(3, 256, 256), num_classes=3).cuda(0)\n",
    "optimizer = optim.Adam(net.parameters(), lr=0.1)\n",
    "#optimizer = optim.RMSprop(net.parameters(), lr=0.1)\n",
    "# weighted BCELoss\n",
    "crit = MulticlassBCELoss2d()\n",
    "# metric\n",
    "metric = dice_score"
   ]
  },
  {
   "cell_type": "code",
   "execution_count": 342,
   "metadata": {},
   "outputs": [],
   "source": [
    "# init classifier\n",
    "classifier = NucleiClassifier(net, optimizer, crit, metric, 0)"
   ]
  },
  {
   "cell_type": "code",
   "execution_count": 389,
   "metadata": {
    "scrolled": true
   },
   "outputs": [
    {
     "name": "stdout",
     "output_type": "stream",
     "text": [
      "Epoch: 321\n",
      "LOSS - Training : [0.1086], Validation : [0.1215]\n",
      "METRIC - Training : [0.9], Validation : [0.9257]\n",
      "Epoch: 322\n",
      "LOSS - Training : [0.1084], Validation : [0.1306]\n",
      "METRIC - Training : [0.9034], Validation : [0.9226]\n",
      "Epoch: 323\n",
      "LOSS - Training : [0.1066], Validation : [0.141]\n",
      "METRIC - Training : [0.9034], Validation : [0.9252]\n",
      "Epoch: 324\n",
      "LOSS - Training : [0.1044], Validation : [0.1007]\n",
      "METRIC - Training : [0.9009], Validation : [0.9284]\n",
      "Epoch: 325\n",
      "LOSS - Training : [0.106], Validation : [0.1806]\n",
      "METRIC - Training : [0.9039], Validation : [0.9148]\n",
      "Epoch: 326\n",
      "LOSS - Training : [0.1028], Validation : [0.1418]\n",
      "METRIC - Training : [0.8971], Validation : [0.9222]\n",
      "Epoch: 327\n",
      "LOSS - Training : [0.1055], Validation : [0.2706]\n",
      "METRIC - Training : [0.8994], Validation : [0.9006]\n",
      "Epoch: 328\n",
      "LOSS - Training : [0.1044], Validation : [0.1286]\n",
      "METRIC - Training : [0.903], Validation : [0.9208]\n",
      "Epoch: 329\n",
      "LOSS - Training : [0.1027], Validation : [0.2932]\n",
      "METRIC - Training : [0.8992], Validation : [0.8854]\n",
      "Epoch: 330\n",
      "LOSS - Training : [0.1065], Validation : [0.1261]\n",
      "METRIC - Training : [0.9035], Validation : [0.9132]\n",
      "Epoch: 331\n",
      "LOSS - Training : [0.1029], Validation : [0.1219]\n",
      "METRIC - Training : [0.9007], Validation : [0.9197]\n",
      "Epoch: 332\n",
      "LOSS - Training : [0.1202], Validation : [0.4052]\n",
      "METRIC - Training : [0.9002], Validation : [0.8381]\n",
      "Epoch: 333\n",
      "LOSS - Training : [0.182], Validation : [1.1587]\n",
      "METRIC - Training : [0.8755], Validation : [0.5978]\n",
      "Epoch: 334\n",
      "LOSS - Training : [0.1627], Validation : [0.2815]\n",
      "METRIC - Training : [0.8743], Validation : [0.906]\n",
      "Epoch: 335\n",
      "LOSS - Training : [0.135], Validation : [0.1314]\n",
      "METRIC - Training : [0.8881], Validation : [0.9252]\n",
      "Epoch: 336\n",
      "LOSS - Training : [0.1325], Validation : [0.2143]\n",
      "METRIC - Training : [0.8852], Validation : [0.9203]\n",
      "Epoch: 337\n",
      "LOSS - Training : [0.122], Validation : [0.1114]\n",
      "METRIC - Training : [0.891], Validation : [0.9148]\n",
      "Epoch: 338\n",
      "LOSS - Training : [0.1216], Validation : [0.1024]\n",
      "METRIC - Training : [0.8932], Validation : [0.9298]\n",
      "Epoch: 339\n",
      "LOSS - Training : [0.1205], Validation : [0.1125]\n",
      "METRIC - Training : [0.8971], Validation : [0.9238]\n",
      "Epoch: 340\n",
      "LOSS - Training : [0.1187], Validation : [0.1195]\n",
      "METRIC - Training : [0.8984], Validation : [0.931]\n",
      "saving at 340\n",
      "Epoch: 341\n",
      "LOSS - Training : [0.1179], Validation : [0.1163]\n",
      "METRIC - Training : [0.8951], Validation : [0.9319]\n",
      "Epoch: 342\n",
      "LOSS - Training : [0.1148], Validation : [0.0964]\n",
      "METRIC - Training : [0.8985], Validation : [0.9251]\n",
      "Epoch: 343\n",
      "LOSS - Training : [0.114], Validation : [0.1366]\n",
      "METRIC - Training : [0.8989], Validation : [0.918]\n",
      "Epoch: 344\n",
      "LOSS - Training : [0.1122], Validation : [0.1529]\n",
      "METRIC - Training : [0.9008], Validation : [0.9277]\n",
      "Epoch: 345\n",
      "LOSS - Training : [0.1095], Validation : [0.0985]\n",
      "METRIC - Training : [0.9013], Validation : [0.9255]\n"
     ]
    },
    {
     "ename": "KeyboardInterrupt",
     "evalue": "",
     "output_type": "error",
     "traceback": [
      "\u001b[0;31m---------------------------------------------------------------------------\u001b[0m",
      "\u001b[0;31mKeyboardInterrupt\u001b[0m                         Traceback (most recent call last)",
      "\u001b[0;32m<ipython-input-389-8bed48c7a73b>\u001b[0m in \u001b[0;36m<module>\u001b[0;34m()\u001b[0m\n\u001b[1;32m      1\u001b[0m \u001b[0;31m# train for 10 epochs\u001b[0m\u001b[0;34m\u001b[0m\u001b[0;34m\u001b[0m\u001b[0m\n\u001b[1;32m      2\u001b[0m \u001b[0;32mfor\u001b[0m \u001b[0mi\u001b[0m \u001b[0;32min\u001b[0m \u001b[0mrange\u001b[0m\u001b[0;34m(\u001b[0m\u001b[0;36m20\u001b[0m\u001b[0;34m)\u001b[0m\u001b[0;34m:\u001b[0m\u001b[0;34m\u001b[0m\u001b[0m\n\u001b[0;32m----> 3\u001b[0;31m     \u001b[0mclassifier\u001b[0m\u001b[0;34m.\u001b[0m\u001b[0mtrain\u001b[0m\u001b[0;34m(\u001b[0m\u001b[0mtrn_dl\u001b[0m\u001b[0;34m,\u001b[0m \u001b[0mval_dl\u001b[0m\u001b[0;34m,\u001b[0m \u001b[0;36m20\u001b[0m\u001b[0;34m)\u001b[0m\u001b[0;34m\u001b[0m\u001b[0m\n\u001b[0m\u001b[1;32m      4\u001b[0m     \u001b[0mprint\u001b[0m\u001b[0;34m(\u001b[0m\u001b[0;34mf'saving at {(classifier.epoch_counter)}'\u001b[0m\u001b[0;34m)\u001b[0m\u001b[0;34m\u001b[0m\u001b[0m\n\u001b[1;32m      5\u001b[0m     \u001b[0mclassifier\u001b[0m\u001b[0;34m.\u001b[0m\u001b[0msave_model\u001b[0m\u001b[0;34m(\u001b[0m\u001b[0;34mf'./models/mclass_{classifier.epoch_counter}'\u001b[0m\u001b[0;34m)\u001b[0m\u001b[0;34m\u001b[0m\u001b[0m\n",
      "\u001b[0;32m~/Desktop/deeplearning/datasciencebowl2018/model/classifier.py\u001b[0m in \u001b[0;36mtrain\u001b[0;34m(self, train_loader, valid_loader, epochs, threshold)\u001b[0m\n\u001b[1;32m    130\u001b[0m \u001b[0;34m\u001b[0m\u001b[0m\n\u001b[1;32m    131\u001b[0m         \u001b[0;32mfor\u001b[0m \u001b[0mepoch\u001b[0m \u001b[0;32min\u001b[0m \u001b[0mrange\u001b[0m\u001b[0;34m(\u001b[0m\u001b[0mepochs\u001b[0m\u001b[0;34m)\u001b[0m\u001b[0;34m:\u001b[0m\u001b[0;34m\u001b[0m\u001b[0m\n\u001b[0;32m--> 132\u001b[0;31m             \u001b[0mself\u001b[0m\u001b[0;34m.\u001b[0m\u001b[0m_run_epoch\u001b[0m\u001b[0;34m(\u001b[0m\u001b[0mtrain_loader\u001b[0m\u001b[0;34m,\u001b[0m \u001b[0mvalid_loader\u001b[0m\u001b[0;34m,\u001b[0m \u001b[0mthreshold\u001b[0m\u001b[0;34m)\u001b[0m\u001b[0;34m\u001b[0m\u001b[0m\n\u001b[0m\u001b[1;32m    133\u001b[0m \u001b[0;34m\u001b[0m\u001b[0m\n\u001b[1;32m    134\u001b[0m     \u001b[0;32mdef\u001b[0m \u001b[0mrestore_model\u001b[0m\u001b[0;34m(\u001b[0m\u001b[0mself\u001b[0m\u001b[0;34m,\u001b[0m \u001b[0mpath\u001b[0m\u001b[0;34m,\u001b[0m \u001b[0mgpu\u001b[0m\u001b[0;34m)\u001b[0m\u001b[0;34m:\u001b[0m\u001b[0;34m\u001b[0m\u001b[0m\n",
      "\u001b[0;32m~/Desktop/deeplearning/datasciencebowl2018/model/classifier.py\u001b[0m in \u001b[0;36m_run_epoch\u001b[0;34m(self, train_loader, valid_loader, threshold)\u001b[0m\n\u001b[1;32m    109\u001b[0m         \u001b[0;31m# eval mode and validate epoch\u001b[0m\u001b[0;34m\u001b[0m\u001b[0;34m\u001b[0m\u001b[0m\n\u001b[1;32m    110\u001b[0m         \u001b[0mself\u001b[0m\u001b[0;34m.\u001b[0m\u001b[0mnet\u001b[0m\u001b[0;34m.\u001b[0m\u001b[0meval\u001b[0m\u001b[0;34m(\u001b[0m\u001b[0;34m)\u001b[0m\u001b[0;34m\u001b[0m\u001b[0m\n\u001b[0;32m--> 111\u001b[0;31m         \u001b[0mval_loss\u001b[0m\u001b[0;34m,\u001b[0m \u001b[0mval_metric\u001b[0m \u001b[0;34m=\u001b[0m \u001b[0mself\u001b[0m\u001b[0;34m.\u001b[0m\u001b[0m_validate_epoch\u001b[0m\u001b[0;34m(\u001b[0m\u001b[0mvalid_loader\u001b[0m\u001b[0;34m,\u001b[0m \u001b[0mthreshold\u001b[0m\u001b[0;34m)\u001b[0m\u001b[0;34m\u001b[0m\u001b[0m\n\u001b[0m\u001b[1;32m    112\u001b[0m         \u001b[0mself\u001b[0m\u001b[0;34m.\u001b[0m\u001b[0mepoch_counter\u001b[0m \u001b[0;34m+=\u001b[0m \u001b[0;36m1\u001b[0m\u001b[0;34m\u001b[0m\u001b[0m\n\u001b[1;32m    113\u001b[0m \u001b[0;34m\u001b[0m\u001b[0m\n",
      "\u001b[0;32m~/Desktop/deeplearning/datasciencebowl2018/model/classifier.py\u001b[0m in \u001b[0;36m_validate_epoch\u001b[0;34m(self, valid_loader, threshold)\u001b[0m\n\u001b[1;32m     47\u001b[0m         \u001b[0mbatch_size\u001b[0m \u001b[0;34m=\u001b[0m \u001b[0mvalid_loader\u001b[0m\u001b[0;34m.\u001b[0m\u001b[0mbatch_size\u001b[0m\u001b[0;34m\u001b[0m\u001b[0m\n\u001b[1;32m     48\u001b[0m \u001b[0;34m\u001b[0m\u001b[0m\n\u001b[0;32m---> 49\u001b[0;31m         \u001b[0;32mfor\u001b[0m \u001b[0mind\u001b[0m\u001b[0;34m,\u001b[0m \u001b[0;34m(\u001b[0m\u001b[0minputs\u001b[0m\u001b[0;34m,\u001b[0m \u001b[0mtargets\u001b[0m\u001b[0;34m,\u001b[0m \u001b[0mindex\u001b[0m\u001b[0;34m)\u001b[0m \u001b[0;32min\u001b[0m \u001b[0menumerate\u001b[0m\u001b[0;34m(\u001b[0m\u001b[0mvalid_loader\u001b[0m\u001b[0;34m)\u001b[0m\u001b[0;34m:\u001b[0m\u001b[0;34m\u001b[0m\u001b[0m\n\u001b[0m\u001b[1;32m     50\u001b[0m             \u001b[0;32mif\u001b[0m \u001b[0mself\u001b[0m\u001b[0;34m.\u001b[0m\u001b[0muse_cuda\u001b[0m\u001b[0;34m:\u001b[0m\u001b[0;34m\u001b[0m\u001b[0m\n\u001b[1;32m     51\u001b[0m                 \u001b[0minputs\u001b[0m \u001b[0;34m=\u001b[0m \u001b[0minputs\u001b[0m\u001b[0;34m.\u001b[0m\u001b[0mcuda\u001b[0m\u001b[0;34m(\u001b[0m\u001b[0mself\u001b[0m\u001b[0;34m.\u001b[0m\u001b[0mgpu\u001b[0m\u001b[0;34m)\u001b[0m\u001b[0;34m\u001b[0m\u001b[0m\n",
      "\u001b[0;32m~/anaconda3/envs/fastai/lib/python3.6/site-packages/torch/utils/data/dataloader.py\u001b[0m in \u001b[0;36m__next__\u001b[0;34m(self)\u001b[0m\n\u001b[1;32m    257\u001b[0m         \u001b[0;32mif\u001b[0m \u001b[0mself\u001b[0m\u001b[0;34m.\u001b[0m\u001b[0mnum_workers\u001b[0m \u001b[0;34m==\u001b[0m \u001b[0;36m0\u001b[0m\u001b[0;34m:\u001b[0m  \u001b[0;31m# same-process loading\u001b[0m\u001b[0;34m\u001b[0m\u001b[0m\n\u001b[1;32m    258\u001b[0m             \u001b[0mindices\u001b[0m \u001b[0;34m=\u001b[0m \u001b[0mnext\u001b[0m\u001b[0;34m(\u001b[0m\u001b[0mself\u001b[0m\u001b[0;34m.\u001b[0m\u001b[0msample_iter\u001b[0m\u001b[0;34m)\u001b[0m  \u001b[0;31m# may raise StopIteration\u001b[0m\u001b[0;34m\u001b[0m\u001b[0m\n\u001b[0;32m--> 259\u001b[0;31m             \u001b[0mbatch\u001b[0m \u001b[0;34m=\u001b[0m \u001b[0mself\u001b[0m\u001b[0;34m.\u001b[0m\u001b[0mcollate_fn\u001b[0m\u001b[0;34m(\u001b[0m\u001b[0;34m[\u001b[0m\u001b[0mself\u001b[0m\u001b[0;34m.\u001b[0m\u001b[0mdataset\u001b[0m\u001b[0;34m[\u001b[0m\u001b[0mi\u001b[0m\u001b[0;34m]\u001b[0m \u001b[0;32mfor\u001b[0m \u001b[0mi\u001b[0m \u001b[0;32min\u001b[0m \u001b[0mindices\u001b[0m\u001b[0;34m]\u001b[0m\u001b[0;34m)\u001b[0m\u001b[0;34m\u001b[0m\u001b[0m\n\u001b[0m\u001b[1;32m    260\u001b[0m             \u001b[0;32mif\u001b[0m \u001b[0mself\u001b[0m\u001b[0;34m.\u001b[0m\u001b[0mpin_memory\u001b[0m\u001b[0;34m:\u001b[0m\u001b[0;34m\u001b[0m\u001b[0m\n\u001b[1;32m    261\u001b[0m                 \u001b[0mbatch\u001b[0m \u001b[0;34m=\u001b[0m \u001b[0mpin_memory_batch\u001b[0m\u001b[0;34m(\u001b[0m\u001b[0mbatch\u001b[0m\u001b[0;34m)\u001b[0m\u001b[0;34m\u001b[0m\u001b[0m\n",
      "\u001b[0;32m~/anaconda3/envs/fastai/lib/python3.6/site-packages/torch/utils/data/dataloader.py\u001b[0m in \u001b[0;36m<listcomp>\u001b[0;34m(.0)\u001b[0m\n\u001b[1;32m    257\u001b[0m         \u001b[0;32mif\u001b[0m \u001b[0mself\u001b[0m\u001b[0;34m.\u001b[0m\u001b[0mnum_workers\u001b[0m \u001b[0;34m==\u001b[0m \u001b[0;36m0\u001b[0m\u001b[0;34m:\u001b[0m  \u001b[0;31m# same-process loading\u001b[0m\u001b[0;34m\u001b[0m\u001b[0m\n\u001b[1;32m    258\u001b[0m             \u001b[0mindices\u001b[0m \u001b[0;34m=\u001b[0m \u001b[0mnext\u001b[0m\u001b[0;34m(\u001b[0m\u001b[0mself\u001b[0m\u001b[0;34m.\u001b[0m\u001b[0msample_iter\u001b[0m\u001b[0;34m)\u001b[0m  \u001b[0;31m# may raise StopIteration\u001b[0m\u001b[0;34m\u001b[0m\u001b[0m\n\u001b[0;32m--> 259\u001b[0;31m             \u001b[0mbatch\u001b[0m \u001b[0;34m=\u001b[0m \u001b[0mself\u001b[0m\u001b[0;34m.\u001b[0m\u001b[0mcollate_fn\u001b[0m\u001b[0;34m(\u001b[0m\u001b[0;34m[\u001b[0m\u001b[0mself\u001b[0m\u001b[0;34m.\u001b[0m\u001b[0mdataset\u001b[0m\u001b[0;34m[\u001b[0m\u001b[0mi\u001b[0m\u001b[0;34m]\u001b[0m \u001b[0;32mfor\u001b[0m \u001b[0mi\u001b[0m \u001b[0;32min\u001b[0m \u001b[0mindices\u001b[0m\u001b[0;34m]\u001b[0m\u001b[0;34m)\u001b[0m\u001b[0;34m\u001b[0m\u001b[0m\n\u001b[0m\u001b[1;32m    260\u001b[0m             \u001b[0;32mif\u001b[0m \u001b[0mself\u001b[0m\u001b[0;34m.\u001b[0m\u001b[0mpin_memory\u001b[0m\u001b[0;34m:\u001b[0m\u001b[0;34m\u001b[0m\u001b[0m\n\u001b[1;32m    261\u001b[0m                 \u001b[0mbatch\u001b[0m \u001b[0;34m=\u001b[0m \u001b[0mpin_memory_batch\u001b[0m\u001b[0;34m(\u001b[0m\u001b[0mbatch\u001b[0m\u001b[0;34m)\u001b[0m\u001b[0;34m\u001b[0m\u001b[0m\n",
      "\u001b[0;32m<ipython-input-147-088846bafa03>\u001b[0m in \u001b[0;36m__getitem__\u001b[0;34m(self, index)\u001b[0m\n\u001b[1;32m     18\u001b[0m         \u001b[0mimage_id\u001b[0m \u001b[0;34m=\u001b[0m \u001b[0mimage_dir\u001b[0m\u001b[0;34m.\u001b[0m\u001b[0msplit\u001b[0m\u001b[0;34m(\u001b[0m\u001b[0;34m'/'\u001b[0m\u001b[0;34m)\u001b[0m\u001b[0;34m[\u001b[0m\u001b[0;34m-\u001b[0m\u001b[0;36m2\u001b[0m\u001b[0;34m]\u001b[0m\u001b[0;34m\u001b[0m\u001b[0m\n\u001b[1;32m     19\u001b[0m         \u001b[0mimage_file\u001b[0m \u001b[0;34m=\u001b[0m \u001b[0mimage_dir\u001b[0m \u001b[0;34m+\u001b[0m \u001b[0;34m'images/'\u001b[0m \u001b[0;34m+\u001b[0m \u001b[0mimage_id\u001b[0m \u001b[0;34m+\u001b[0m \u001b[0;34m'.png'\u001b[0m\u001b[0;34m\u001b[0m\u001b[0m\n\u001b[0;32m---> 20\u001b[0;31m         \u001b[0mimage\u001b[0m \u001b[0;34m=\u001b[0m \u001b[0mopen_image\u001b[0m\u001b[0;34m(\u001b[0m\u001b[0mimage_file\u001b[0m\u001b[0;34m)\u001b[0m \u001b[0;31m# open with fastai open_image\u001b[0m\u001b[0;34m\u001b[0m\u001b[0m\n\u001b[0m\u001b[1;32m     21\u001b[0m \u001b[0;34m\u001b[0m\u001b[0m\n\u001b[1;32m     22\u001b[0m         \u001b[0;31m# Get mask and read files\u001b[0m\u001b[0;34m\u001b[0m\u001b[0;34m\u001b[0m\u001b[0m\n",
      "\u001b[0;32m~/Desktop/deeplearning/datasciencebowl2018/utility/utils.py\u001b[0m in \u001b[0;36mopen_image\u001b[0;34m(fn)\u001b[0m\n\u001b[1;32m    100\u001b[0m     \u001b[0;32melse\u001b[0m\u001b[0;34m:\u001b[0m\u001b[0;34m\u001b[0m\u001b[0m\n\u001b[1;32m    101\u001b[0m         \u001b[0;32mtry\u001b[0m\u001b[0;34m:\u001b[0m\u001b[0;34m\u001b[0m\u001b[0m\n\u001b[0;32m--> 102\u001b[0;31m             \u001b[0mim\u001b[0m \u001b[0;34m=\u001b[0m \u001b[0mcv2\u001b[0m\u001b[0;34m.\u001b[0m\u001b[0mimread\u001b[0m\u001b[0;34m(\u001b[0m\u001b[0mstr\u001b[0m\u001b[0;34m(\u001b[0m\u001b[0mfn\u001b[0m\u001b[0;34m)\u001b[0m\u001b[0;34m,\u001b[0m \u001b[0mflags\u001b[0m\u001b[0;34m)\u001b[0m\u001b[0;34m.\u001b[0m\u001b[0mastype\u001b[0m\u001b[0;34m(\u001b[0m\u001b[0mnp\u001b[0m\u001b[0;34m.\u001b[0m\u001b[0mfloat32\u001b[0m\u001b[0;34m)\u001b[0m\u001b[0;34m/\u001b[0m\u001b[0;36m255\u001b[0m\u001b[0;34m\u001b[0m\u001b[0m\n\u001b[0m\u001b[1;32m    103\u001b[0m             \u001b[0;32mif\u001b[0m \u001b[0mim\u001b[0m \u001b[0;32mis\u001b[0m \u001b[0;32mNone\u001b[0m\u001b[0;34m:\u001b[0m \u001b[0;32mraise\u001b[0m \u001b[0mOSError\u001b[0m\u001b[0;34m(\u001b[0m\u001b[0;34mf'File not recognized by opencv: {fn}'\u001b[0m\u001b[0;34m)\u001b[0m\u001b[0;34m\u001b[0m\u001b[0m\n\u001b[1;32m    104\u001b[0m             \u001b[0;32mreturn\u001b[0m \u001b[0mcv2\u001b[0m\u001b[0;34m.\u001b[0m\u001b[0mcvtColor\u001b[0m\u001b[0;34m(\u001b[0m\u001b[0mim\u001b[0m\u001b[0;34m,\u001b[0m \u001b[0mcv2\u001b[0m\u001b[0;34m.\u001b[0m\u001b[0mCOLOR_BGR2RGB\u001b[0m\u001b[0;34m)\u001b[0m\u001b[0;34m\u001b[0m\u001b[0m\n",
      "\u001b[0;31mKeyboardInterrupt\u001b[0m: "
     ]
    }
   ],
   "source": [
    "# train for 10 epochs\n",
    "for i in range(20):\n",
    "    classifier.train(trn_dl, val_dl, 20)\n",
    "    print(f'saving at {(classifier.epoch_counter)}')\n",
    "    classifier.save_model(f'./models/mclass_{classifier.epoch_counter}')"
   ]
  },
  {
   "cell_type": "markdown",
   "metadata": {},
   "source": [
    "### Validation"
   ]
  },
  {
   "cell_type": "code",
   "execution_count": 373,
   "metadata": {},
   "outputs": [],
   "source": [
    "val_ds = NucleiDataset(VALID, transform=valid_augment, mode='valid',\n",
    "                       mask_file='/mclass_target.png')\n",
    "val_dl = DataLoader(val_ds, batch_size=1, shuffle=False)"
   ]
  },
  {
   "cell_type": "code",
   "execution_count": 374,
   "metadata": {},
   "outputs": [],
   "source": [
    "it = iter(val_dl)"
   ]
  },
  {
   "cell_type": "code",
   "execution_count": 375,
   "metadata": {},
   "outputs": [],
   "source": [
    "img, mask, id_ = next(it)"
   ]
  },
  {
   "cell_type": "code",
   "execution_count": 376,
   "metadata": {},
   "outputs": [],
   "source": [
    "img_np, mask_np = to_np(img)[0].transpose(1,2,0), to_np(mask)[0].transpose(1,2,0)"
   ]
  },
  {
   "cell_type": "code",
   "execution_count": 377,
   "metadata": {},
   "outputs": [
    {
     "data": {
      "text/plain": [
       "(256, 256, 3)"
      ]
     },
     "execution_count": 377,
     "metadata": {},
     "output_type": "execute_result"
    }
   ],
   "source": [
    "img_np.shape"
   ]
  },
  {
   "cell_type": "code",
   "execution_count": 378,
   "metadata": {},
   "outputs": [
    {
     "data": {
      "text/plain": [
       "<matplotlib.axes._subplots.AxesSubplot at 0x7f43807ca588>"
      ]
     },
     "execution_count": 378,
     "metadata": {},
     "output_type": "execute_result"
    },
    {
     "data": {
      "image/png": "[encoded data removed]",
      "text/plain": [
       "<Figure size 432x288 with 1 Axes>"
      ]
     },
     "metadata": {},
     "output_type": "display_data"
    }
   ],
   "source": [
    "show_img(img_np*255)"
   ]
  },
  {
   "cell_type": "markdown",
   "metadata": {},
   "source": [
    "### Test"
   ]
  },
  {
   "cell_type": "code",
   "execution_count": 379,
   "metadata": {},
   "outputs": [],
   "source": [
    "from skimage.morphology import label"
   ]
  },
  {
   "cell_type": "code",
   "execution_count": 386,
   "metadata": {},
   "outputs": [],
   "source": [
    "# load model and predict\n",
    "classifier.restore_model('./models/mclass_320',0)\n",
    "preds = classifier.predict(test_dl)"
   ]
  },
  {
   "cell_type": "code",
   "execution_count": 387,
   "metadata": {},
   "outputs": [],
   "source": [
    "preds = [np.argmax(preds[i][0], 0) for i in range(len(preds))]"
   ]
  },
  {
   "cell_type": "code",
   "execution_count": 388,
   "metadata": {
    "scrolled": false
   },
   "outputs": [
    {
     "data": {
      "image/png": "[encoded data removed]",
      "text/plain": [
       "<Figure size 504x504 with 1 Axes>"
      ]
     },
     "metadata": {},
     "output_type": "display_data"
    }
   ],
   "source": [
    "show_with_sz(preds[11], 7)"
   ]
  },
  {
   "cell_type": "code",
   "execution_count": 385,
   "metadata": {},
   "outputs": [],
   "source": [
    "# get correct sizes\n",
    "test_sz = []\n",
    "for fpath in test_ds.image_dirs:\n",
    "    fname = fpath + 'images/' + fpath.split('/')[-2] + '.png'\n",
    "    h, w = cv2.imread(fname, cv2.IMREAD_GRAYSCALE).shape\n",
    "    test_sz.append((w, h))"
   ]
  },
  {
   "cell_type": "code",
   "execution_count": 126,
   "metadata": {},
   "outputs": [],
   "source": [
    "# resize preds_masks\n",
    "resized_preds = [cv2.resize((pred==1).astype(np.uint8), test_sz[i]) for i, pred in enumerate(preds)]"
   ]
  },
  {
   "cell_type": "markdown",
   "metadata": {},
   "source": [
    "### Post Process"
   ]
  },
  {
   "cell_type": "code",
   "execution_count": 127,
   "metadata": {},
   "outputs": [],
   "source": [
    "i = 18"
   ]
  },
  {
   "cell_type": "code",
   "execution_count": 128,
   "metadata": {},
   "outputs": [],
   "source": [
    "img_path = test_ds.image_dirs[i]\n",
    "fname = img_path + 'images/' + img_path.split('/')[-2] + '.png'"
   ]
  },
  {
   "cell_type": "code",
   "execution_count": 129,
   "metadata": {},
   "outputs": [
    {
     "data": {
      "image/png": "[encoded data removed]",
      "text/plain": [
       "<Figure size 504x504 with 1 Axes>"
      ]
     },
     "metadata": {},
     "output_type": "display_data"
    }
   ],
   "source": [
    "show_with_sz(read3d(fname))"
   ]
  },
  {
   "cell_type": "code",
   "execution_count": 130,
   "metadata": {},
   "outputs": [],
   "source": [
    "from scipy.ndimage.morphology import binary_fill_holes"
   ]
  },
  {
   "cell_type": "code",
   "execution_count": 131,
   "metadata": {},
   "outputs": [
    {
     "data": {
      "image/png": "[encoded data removed]",
      "text/plain": [
       "<Figure size 504x504 with 1 Axes>"
      ]
     },
     "metadata": {},
     "output_type": "display_data"
    }
   ],
   "source": [
    "show_with_sz(resized_preds[i])"
   ]
  },
  {
   "cell_type": "code",
   "execution_count": 132,
   "metadata": {},
   "outputs": [
    {
     "data": {
      "image/png": "[encoded data removed]",
      "text/plain": [
       "<Figure size 504x504 with 1 Axes>"
      ]
     },
     "metadata": {},
     "output_type": "display_data"
    }
   ],
   "source": [
    "filled_resized_pred = binary_fill_holes(resized_preds[i])\n",
    "show_with_sz(filled_resized_pred)"
   ]
  },
  {
   "cell_type": "code",
   "execution_count": 133,
   "metadata": {},
   "outputs": [],
   "source": [
    "#from scipy.signal import convolve2d\n",
    "#kernel = np.ones((2,2))\n",
    "#out = convolve2d(filled_resized_pred, kernel, mode='same')\n",
    "#show_with_sz(label(out > 2))"
   ]
  },
  {
   "cell_type": "markdown",
   "metadata": {},
   "source": [
    "# Create Submission"
   ]
  },
  {
   "cell_type": "code",
   "execution_count": 134,
   "metadata": {},
   "outputs": [],
   "source": [
    "filled_resized_preds = [binary_fill_holes(pred).astype(np.uint8) for pred in resized_preds]"
   ]
  },
  {
   "cell_type": "code",
   "execution_count": 138,
   "metadata": {},
   "outputs": [],
   "source": [
    "def watershed_label(image, n):\n",
    "    distance = ndimage.distance_transform_edt(image)\n",
    "    local_maxi = peak_local_max(distance, indices=False, footprint=np.ones((n, n)), labels=image)\n",
    "    markers = morphology.label(local_maxi)\n",
    "    labels_ws = watershed(-distance, markers, mask=image)\n",
    "    return labels_ws\n",
    "\n",
    "def rle_encoding(x):\n",
    "    dots = np.where(x.T.flatten() == 1)[0]\n",
    "    run_lengths = []\n",
    "    prev = -2\n",
    "    for b in dots:\n",
    "        if (b>prev+1): run_lengths.extend((b + 1, 0))\n",
    "        run_lengths[-1] += 1\n",
    "        prev = b\n",
    "    return run_lengths\n",
    "\n",
    "def prob_to_rles(x, cutoff=0.5):\n",
    "    \"\"\"takes probability mask and yields for generator by looping over all labels\"\"\"\n",
    "    lab_img = label(x > cutoff)\n",
    "    for i in range(1, lab_img.max() + 1):\n",
    "        yield rle_encoding(lab_img == i)\n",
    "    \n",
    "def binary_to_rles(x):\n",
    "    \"\"\"takes binary mask and yields for generator by looping over all labels\"\"\"\n",
    "    lab_img = label(x)\n",
    "    for i in range(1, lab_img.max() + 1):\n",
    "        yield rle_encoding(lab_img == i)\n",
    "\n",
    "def get_submission_df(preds, test_ds, rle_func=prob_to_rles):\n",
    "    \"\"\"\n",
    "    Takes resized preds and test dataset\n",
    "    to return rle df\n",
    "    Inputs:\n",
    "        preds (list): list of np.arrays which has 2d binary mask predictions\n",
    "        test_ds (Dataset): test dataset\n",
    "        rle_func (function): function to encode each binary mask prediction with run length encoding\n",
    "    Return:\n",
    "        sub (pd.dataframe): pandas dataframe for submission\n",
    "    \"\"\"\n",
    "    new_test_ids = []\n",
    "    rles = []\n",
    "    for n, id_ in enumerate(test_ds.image_dirs):\n",
    "        id_ = id_.split('/')[-2]\n",
    "        rle = list(rle_func(preds[n]))\n",
    "        rles.extend(rle)\n",
    "        new_test_ids.extend([id_] * len(rle))\n",
    "\n",
    "    sub = pd.DataFrame()\n",
    "    sub['ImageId'] = new_test_ids\n",
    "    sub['EncodedPixels'] = pd.Series(rles).apply(lambda x: ' '.join(str(y) for y in x))\n",
    "    return sub"
   ]
  },
  {
   "cell_type": "code",
   "execution_count": 140,
   "metadata": {},
   "outputs": [
    {
     "data": {
      "text/plain": [
       "(2948, 2)"
      ]
     },
     "execution_count": 140,
     "metadata": {},
     "output_type": "execute_result"
    }
   ],
   "source": [
    "from skimage.morphology import label\n",
    "sub_df = get_submission_df(filled_resized_preds, test_ds, binary_to_rles)\n",
    "sub_df.shape"
   ]
  },
  {
   "cell_type": "code",
   "execution_count": 141,
   "metadata": {},
   "outputs": [],
   "source": [
    "sub_df.to_csv('./mclass_unet_basic.csv', index=False)"
   ]
  },
  {
   "cell_type": "code",
   "execution_count": null,
   "metadata": {},
   "outputs": [],
   "source": []
  },
  {
   "cell_type": "code",
   "execution_count": null,
   "metadata": {},
   "outputs": [],
   "source": []
  },
  {
   "cell_type": "code",
   "execution_count": null,
   "metadata": {},
   "outputs": [],
   "source": []
  },
  {
   "cell_type": "code",
   "execution_count": null,
   "metadata": {},
   "outputs": [],
   "source": []
  }
 ],
 "metadata": {
  "kernelspec": {
   "display_name": "Python 3",
   "language": "python",
   "name": "python3"
  },
  "language_info": {
   "codemirror_mode": {
    "name": "ipython",
    "version": 3
   },
   "file_extension": ".py",
   "mimetype": "text/x-python",
   "name": "python",
   "nbconvert_exporter": "python",
   "pygments_lexer": "ipython3",
   "version": "3.6.4"
  }
 },
 "nbformat": 4,
 "nbformat_minor": 2
}
