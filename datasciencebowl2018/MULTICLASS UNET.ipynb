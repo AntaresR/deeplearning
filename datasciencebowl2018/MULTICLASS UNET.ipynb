{
 "cells": [
  {
   "cell_type": "code",
   "execution_count": 1,
   "metadata": {},
   "outputs": [],
   "source": [
    "from utility.utils import *\n",
    "from dataset.dataset import *\n",
    "from dataset.transform import *\n",
    "from model.loss import *\n",
    "from model.unet import UNet256_3x3\n",
    "from training.classifier import NucleiClassifier\n",
    "from model.eval import *\n",
    "from dataset.submission import *\n",
    "\n",
    "import torch\n",
    "from torch.autograd import Variable as V\n",
    "import torch.nn.functional as F\n",
    "import torch.optim as optim\n",
    "\n",
    "from skimage.morphology import label\n",
    "from collections import OrderedDict\n",
    "import matplotlib.pyplot as plt\n",
    "import cv2\n",
    "import shutil\n",
    "import os"
   ]
  },
  {
   "cell_type": "markdown",
   "metadata": {
    "heading_collapsed": true
   },
   "source": [
    "### Create Random (Stratified) Train and Validation Set - RUN AS NEEDED"
   ]
  },
  {
   "cell_type": "code",
   "execution_count": 2,
   "metadata": {
    "hidden": true
   },
   "outputs": [],
   "source": [
    "classes = pd.read_csv('classes.csv')\n",
    "train_dirs, valid_dirs = get_stratified_valid_dirs(classes, seed=17)"
   ]
  },
  {
   "cell_type": "code",
   "execution_count": 3,
   "metadata": {
    "hidden": true
   },
   "outputs": [],
   "source": [
    "main_path = '../data/ds_bowl_2018/'\n",
    "full_path = '../data/ds_bowl_2018/full_data/'"
   ]
  },
  {
   "cell_type": "code",
   "execution_count": 20,
   "metadata": {
    "hidden": true
   },
   "outputs": [
    {
     "name": "stdout",
     "output_type": "stream",
     "text": [
      "Copied 606 training and 64 validation data\n"
     ]
    }
   ],
   "source": [
    "create_validation_dirs(main_path, full_path, None, train_dirs, valid_dirs)"
   ]
  },
  {
   "cell_type": "code",
   "execution_count": 21,
   "metadata": {
    "hidden": true
   },
   "outputs": [
    {
     "data": {
      "text/html": [
       "<div>\n",
       "<style scoped>\n",
       "    .dataframe tbody tr th:only-of-type {\n",
       "        vertical-align: middle;\n",
       "    }\n",
       "\n",
       "    .dataframe tbody tr th {\n",
       "        vertical-align: top;\n",
       "    }\n",
       "\n",
       "    .dataframe thead th {\n",
       "        text-align: right;\n",
       "    }\n",
       "</style>\n",
       "<table border=\"1\" class=\"dataframe\">\n",
       "  <thead>\n",
       "    <tr style=\"text-align: right;\">\n",
       "      <th></th>\n",
       "      <th></th>\n",
       "      <th>filename</th>\n",
       "      <th>is_train</th>\n",
       "    </tr>\n",
       "    <tr>\n",
       "      <th>foreground</th>\n",
       "      <th>background</th>\n",
       "      <th></th>\n",
       "      <th></th>\n",
       "    </tr>\n",
       "  </thead>\n",
       "  <tbody>\n",
       "    <tr>\n",
       "      <th rowspan=\"3\" valign=\"top\">purple</th>\n",
       "      <th>purple</th>\n",
       "      <td>1</td>\n",
       "      <td>1</td>\n",
       "    </tr>\n",
       "    <tr>\n",
       "      <th>white</th>\n",
       "      <td>3</td>\n",
       "      <td>3</td>\n",
       "    </tr>\n",
       "    <tr>\n",
       "      <th>yellow</th>\n",
       "      <td>8</td>\n",
       "      <td>8</td>\n",
       "    </tr>\n",
       "    <tr>\n",
       "      <th>white</th>\n",
       "      <th>black</th>\n",
       "      <td>53</td>\n",
       "      <td>53</td>\n",
       "    </tr>\n",
       "  </tbody>\n",
       "</table>\n",
       "</div>"
      ],
      "text/plain": [
       "                       filename  is_train\n",
       "foreground background                    \n",
       "purple     purple             1         1\n",
       "           white              3         3\n",
       "           yellow             8         8\n",
       "white      black             53        53"
      ]
     },
     "execution_count": 21,
     "metadata": {},
     "output_type": "execute_result"
    }
   ],
   "source": [
    "# test distribution\n",
    "classes[~classes.is_train].groupby(['foreground', 'background']).count()"
   ]
  },
  {
   "cell_type": "code",
   "execution_count": 22,
   "metadata": {
    "hidden": true
   },
   "outputs": [
    {
     "data": {
      "text/html": [
       "<div>\n",
       "<style scoped>\n",
       "    .dataframe tbody tr th:only-of-type {\n",
       "        vertical-align: middle;\n",
       "    }\n",
       "\n",
       "    .dataframe tbody tr th {\n",
       "        vertical-align: top;\n",
       "    }\n",
       "\n",
       "    .dataframe thead th {\n",
       "        text-align: right;\n",
       "    }\n",
       "</style>\n",
       "<table border=\"1\" class=\"dataframe\">\n",
       "  <thead>\n",
       "    <tr style=\"text-align: right;\">\n",
       "      <th></th>\n",
       "      <th></th>\n",
       "      <th>filename</th>\n",
       "      <th>is_train</th>\n",
       "    </tr>\n",
       "    <tr>\n",
       "      <th>foreground</th>\n",
       "      <th>background</th>\n",
       "      <th></th>\n",
       "      <th></th>\n",
       "    </tr>\n",
       "  </thead>\n",
       "  <tbody>\n",
       "    <tr>\n",
       "      <th rowspan=\"2\" valign=\"top\">purple</th>\n",
       "      <th>purple</th>\n",
       "      <td>2</td>\n",
       "      <td>2</td>\n",
       "    </tr>\n",
       "    <tr>\n",
       "      <th>white</th>\n",
       "      <td>4</td>\n",
       "      <td>4</td>\n",
       "    </tr>\n",
       "    <tr>\n",
       "      <th>white</th>\n",
       "      <th>black</th>\n",
       "      <td>58</td>\n",
       "      <td>58</td>\n",
       "    </tr>\n",
       "  </tbody>\n",
       "</table>\n",
       "</div>"
      ],
      "text/plain": [
       "                       filename  is_train\n",
       "foreground background                    \n",
       "purple     purple             2         2\n",
       "           white              4         4\n",
       "white      black             58        58"
      ]
     },
     "execution_count": 22,
     "metadata": {},
     "output_type": "execute_result"
    }
   ],
   "source": [
    "# distributions seem similar to test\n",
    "classes[classes.filename.isin([f + '.png' for f in valid_dirs])].groupby(['foreground', 'background']).count()"
   ]
  },
  {
   "cell_type": "markdown",
   "metadata": {},
   "source": [
    "### Training Data Prep\n",
    "\n",
    "In multiclass UNET we will not be outputing a single channel like we did for binary classification background or mask but rather this time we will have a 3 channel output. Each channel will correspond to probability distributions for background, mask and overlap. We will be using multiclass BCE Loss.\n",
    "\n",
    "Output Channels:\n",
    "\n",
    "- Background\n",
    "- Foreground\n",
    "- Overlap\n",
    "\n",
    "\n",
    "If there are 3 unique pixel intensities\n",
    "\n",
    "- 30 : Background\n",
    "- 110 : Nuclei\n",
    "- 215 : Overlap Boundary\n",
    "\n",
    "If there are 2 unique pixel intensities\n",
    "\n",
    "- 30 : Background\n",
    "- 215 : Nuclei\n",
    "\n",
    "w_background, w_nuclei, w_overlap = (1.1551767249306626, 7.544967099214484, 557.753645718466)"
   ]
  },
  {
   "cell_type": "code",
   "execution_count": 23,
   "metadata": {},
   "outputs": [],
   "source": [
    "train_path = '../data/ds_bowl_2018/train/'\n",
    "valid_path = '../data/ds_bowl_2018/valid/'\n",
    "dummy_path = '../data/ds_bowl_2018/dummy/'"
   ]
  },
  {
   "cell_type": "code",
   "execution_count": 24,
   "metadata": {},
   "outputs": [],
   "source": [
    "train_dirs = list_directory(train_path)\n",
    "valid_dirs = list_directory(valid_path)\n",
    "dummy_dirs = list_directory(dummy_path)"
   ]
  },
  {
   "cell_type": "code",
   "execution_count": 25,
   "metadata": {},
   "outputs": [
    {
     "data": {
      "text/plain": [
       "['../data/ds_bowl_2018/train/e4537e7893e631f3ba6ae5b1023e24b233c78249a31c2f5e561f6c4cad88fcf6/mclass_one_mask.png/',\n",
       " '../data/ds_bowl_2018/train/e4537e7893e631f3ba6ae5b1023e24b233c78249a31c2f5e561f6c4cad88fcf6/masks/',\n",
       " '../data/ds_bowl_2018/train/e4537e7893e631f3ba6ae5b1023e24b233c78249a31c2f5e561f6c4cad88fcf6/images/']"
      ]
     },
     "execution_count": 25,
     "metadata": {},
     "output_type": "execute_result"
    }
   ],
   "source": [
    "list_directory(train_dirs[0])"
   ]
  },
  {
   "cell_type": "code",
   "execution_count": 26,
   "metadata": {},
   "outputs": [
    {
     "data": {
      "text/plain": [
       "(606, 64, 2)"
      ]
     },
     "execution_count": 26,
     "metadata": {},
     "output_type": "execute_result"
    }
   ],
   "source": [
    "len(train_dirs), len(valid_dirs), len(dummy_dirs)"
   ]
  },
  {
   "cell_type": "code",
   "execution_count": 4,
   "metadata": {},
   "outputs": [],
   "source": [
    "def get_3d_mask(mask):\n",
    "    if len(np.unique(mask)) == 2:\n",
    "        back_channel = (mask == 30)*1 # background\n",
    "        nuclei_channel = (mask == 215)*1 # nuclei\n",
    "        overlap_channel = np.zeros_like(mask) # overlap - missing so all 0s\n",
    "    else:\n",
    "        back_channel = (mask == 30)*1 # background\n",
    "        nuclei_channel = (mask == 110)*1 # nuclei\n",
    "        overlap_channel = (mask == 215)*1 # overlap\n",
    "    # stack depth-wise\n",
    "    multiclass_mask = np.dstack([back_channel, nuclei_channel, overlap_channel])\n",
    "    return multiclass_mask"
   ]
  },
  {
   "cell_type": "code",
   "execution_count": 5,
   "metadata": {},
   "outputs": [],
   "source": [
    "def train_augment(image, mask, index, sz = 256):           \n",
    "    # get 3d mask\n",
    "    mask3d = get_3d_mask(mask).astype(np.uint8) \n",
    "    # resize image, mask for Unet256\n",
    "    image = fix_resize_transform(image, sz, sz)\n",
    "    mask3d = fix_resize_transform(mask3d, sz, sz) \n",
    "    # get dimensions right for pytorch\n",
    "    image = (image.transpose((2,0,1))) / 255 \n",
    "    mask3d = (mask3d.transpose((2,0,1)))\n",
    "    return image.astype(np.float64), mask3d.astype(np.float64), index\n",
    "\n",
    "def valid_augment(image, mask, index, sz = 256):        \n",
    "    # get 3d mask\n",
    "    mask3d = get_3d_mask(mask).astype(np.uint8) \n",
    "    # resize image, mask for Unet256\n",
    "    image = fix_resize_transform(image, sz, sz)\n",
    "    mask3d = fix_resize_transform(mask3d, sz, sz) \n",
    "    # get dimensions right for pytorch\n",
    "    image = (image.transpose((2,0,1))) / 255 \n",
    "    mask3d = (mask3d.transpose((2,0,1)))\n",
    "    return image.astype(np.float64), mask3d.astype(np.float64), index\n",
    "\n",
    "\n",
    "def test_augment(image, mask, index, sz = 256):\n",
    "    # resize image for Unet256\n",
    "    image = fix_resize_transform(image, sz, sz)\n",
    "    # normalize pixel intensities\n",
    "    image = (image.transpose((2,0,1))) / 255 \n",
    "    return image.astype(np.float64), index"
   ]
  },
  {
   "cell_type": "code",
   "execution_count": 6,
   "metadata": {},
   "outputs": [],
   "source": [
    "# # create dummyloader\n",
    "dummy_ds = NucleiDataset('../data/ds_bowl_2018/dummy/', transform=train_augment, mode='train', mask_file='/mclass_one_mask.png')\n",
    "dummy_dl = DataLoader(dummy_ds, batch_size=1, shuffle=False)\n",
    "# create trainloader\n",
    "trn_ds = NucleiDataset('../data/ds_bowl_2018/train/', transform=train_augment, mode='train', mask_file='/mclass_one_mask.png')\n",
    "trn_dl = DataLoader(trn_ds, batch_size=16, shuffle=True)\n",
    "# create validloader.png\n",
    "val_ds = NucleiDataset('../data/ds_bowl_2018/valid/', transform=valid_augment, mode='valid', mask_file='/mclass_one_mask.png')\n",
    "val_dl = DataLoader(val_ds, batch_size=16, shuffle=False)\n",
    "# create testloader\n",
    "test_ds = NucleiDataset('../data/ds_bowl_2018/test/', transform=test_augment, mode='test')\n",
    "test_dl = DataLoader(test_ds, batch_size=1, shuffle=False)"
   ]
  },
  {
   "cell_type": "code",
   "execution_count": 9,
   "metadata": {},
   "outputs": [],
   "source": [
    "class Weighted_BCELoss2d(nn.Module):\n",
    "    \"\"\"\n",
    "    Weights for a single sample which is repeated along the batch\n",
    "    Inputs:\n",
    "        weight: weigth tensor for a single sample\n",
    "    \"\"\"\n",
    "    def __init__(self, weight=None):\n",
    "        super(Weighted_BCELoss2d, self).__init__()\n",
    "        self.weight = weight\n",
    "        \n",
    "    def forward(self, logits, targets):\n",
    "        # contruct bce loss\n",
    "        batch_size = targets.size(0)\n",
    "        weights = self.weight.repeat(batch_size)\n",
    "        bce_loss = nn.BCELoss(weights)\n",
    "        # calc loss\n",
    "        probs        = F.softmax(logits, dim=1)\n",
    "        probs_flat   = probs.view (-1)\n",
    "        targets_flat = targets.view(-1)\n",
    "        return bce_loss(probs_flat, targets_flat)"
   ]
  },
  {
   "cell_type": "code",
   "execution_count": 10,
   "metadata": {},
   "outputs": [],
   "source": [
    "w_background, w_nuclei, w_overlap = (1.155, 7.544, 557.753)\n",
    "weights = torch.cat([torch.ones(256*256)*w_background, \n",
    "                     torch.ones(256*256)*w_nuclei, torch.ones(256*256)*w_overlap]).double().cuda()"
   ]
  },
  {
   "cell_type": "code",
   "execution_count": 11,
   "metadata": {},
   "outputs": [],
   "source": [
    "# training definition\n",
    "net = UNet256_3x3(in_shape=(3, 256, 256), num_classes=3).double().cuda()\n",
    "#optimizer = optim.Adam(net.parameters(), lr=0.1)\n",
    "optimizer = optim.RMSprop(net.parameters(), lr=0.1)\n",
    "# weighted BCELoss\n",
    "crit = Weighted_BCELoss2d(weights)"
   ]
  },
  {
   "cell_type": "code",
   "execution_count": 12,
   "metadata": {},
   "outputs": [],
   "source": [
    "# init classifier\n",
    "classifier = NucleiClassifier(net, 1000)"
   ]
  },
  {
   "cell_type": "code",
   "execution_count": 275,
   "metadata": {},
   "outputs": [],
   "source": [
    "classifier.restore_model('./models/mclass_20')"
   ]
  },
  {
   "cell_type": "code",
   "execution_count": 276,
   "metadata": {
    "scrolled": true
   },
   "outputs": [
    {
     "name": "stdout",
     "output_type": "stream",
     "text": [
      "Epoch: 21\n",
      "Training : [0.9065],Validation : [2.1086]\n",
      "Epoch: 22\n",
      "Training : [0.9628],Validation : [2.3898]\n",
      "Epoch: 23\n",
      "Training : [0.9338],Validation : [2.2742]\n",
      "Epoch: 24\n",
      "Training : [0.9068],Validation : [4.373]\n",
      "Epoch: 25\n",
      "Training : [1.4013],Validation : [2.1726]\n",
      "Epoch: 26\n",
      "Training : [0.8765],Validation : [2.1462]\n",
      "Epoch: 27\n",
      "Training : [0.8765],Validation : [2.2448]\n",
      "Epoch: 28\n",
      "Training : [0.9746],Validation : [2.0422]\n",
      "Epoch: 29\n",
      "Training : [0.8628],Validation : [2.3156]\n",
      "Epoch: 30\n",
      "Training : [0.9072],Validation : [2.156]\n",
      "saving at 30\n",
      "Epoch: 31\n",
      "Training : [0.9524],Validation : [1.9977]\n",
      "Epoch: 32\n",
      "Training : [0.9402],Validation : [2.2457]\n",
      "Epoch: 33\n",
      "Training : [0.8855],Validation : [2.1539]\n",
      "Epoch: 34\n",
      "Training : [0.834],Validation : [2.2287]\n",
      "Epoch: 35\n",
      "Training : [0.8234],Validation : [2.2664]\n",
      "Epoch: 36\n",
      "Training : [0.9164],Validation : [2.4604]\n",
      "Epoch: 37\n",
      "Training : [0.9057],Validation : [2.3767]\n",
      "Epoch: 38\n",
      "Training : [0.8161],Validation : [2.2997]\n",
      "Epoch: 39\n",
      "Training : [0.866],Validation : [2.3736]\n",
      "Epoch: 40\n",
      "Training : [0.9012],Validation : [2.312]\n",
      "saving at 40\n",
      "Epoch: 41\n",
      "Training : [0.8061],Validation : [2.6414]\n",
      "Epoch: 42\n",
      "Training : [0.8257],Validation : [2.501]\n",
      "Epoch: 43\n",
      "Training : [0.8724],Validation : [2.2181]\n",
      "Epoch: 44\n",
      "Training : [0.8988],Validation : [2.092]\n",
      "Epoch: 45\n",
      "Training : [0.863],Validation : [2.5228]\n",
      "Epoch: 46\n",
      "Training : [0.8757],Validation : [2.5422]\n",
      "Epoch: 47\n",
      "Training : [0.8051],Validation : [2.3989]\n",
      "Epoch: 48\n",
      "Training : [0.8088],Validation : [2.2137]\n",
      "Epoch: 49\n",
      "Training : [0.8174],Validation : [2.4066]\n",
      "Epoch: 50\n",
      "Training : [0.9157],Validation : [2.1922]\n",
      "saving at 50\n",
      "Epoch: 51\n",
      "Training : [0.8],Validation : [2.3554]\n",
      "Epoch: 52\n",
      "Training : [0.7593],Validation : [2.3728]\n",
      "Epoch: 53\n",
      "Training : [0.8491],Validation : [2.4091]\n",
      "Epoch: 54\n",
      "Training : [0.793],Validation : [2.7207]\n",
      "Epoch: 55\n",
      "Training : [0.8925],Validation : [2.2149]\n",
      "Epoch: 56\n",
      "Training : [0.8276],Validation : [2.4532]\n",
      "Epoch: 57\n",
      "Training : [0.8802],Validation : [2.1497]\n",
      "Epoch: 58\n",
      "Training : [0.7697],Validation : [2.3396]\n",
      "Epoch: 59\n",
      "Training : [0.7679],Validation : [3.2464]\n",
      "Epoch: 60\n",
      "Training : [0.78],Validation : [2.4579]\n",
      "saving at 60\n",
      "Epoch: 61\n",
      "Training : [0.775],Validation : [2.3457]\n",
      "Epoch: 62\n",
      "Training : [0.7853],Validation : [2.3993]\n",
      "Epoch: 63\n",
      "Training : [0.9164],Validation : [2.275]\n",
      "Epoch: 64\n",
      "Training : [0.7341],Validation : [2.7152]\n",
      "Epoch: 65\n",
      "Training : [0.7678],Validation : [2.9125]\n",
      "Epoch: 66\n",
      "Training : [0.8041],Validation : [2.3398]\n",
      "Epoch: 67\n",
      "Training : [0.8117],Validation : [2.598]\n",
      "Epoch: 68\n",
      "Training : [0.7369],Validation : [2.5882]\n",
      "Epoch: 69\n",
      "Training : [1.0182],Validation : [2.1036]\n",
      "Epoch: 70\n",
      "Training : [0.7386],Validation : [2.5588]\n",
      "saving at 70\n",
      "Epoch: 71\n",
      "Training : [0.7139],Validation : [2.5352]\n",
      "Epoch: 72\n",
      "Training : [0.7162],Validation : [2.4085]\n",
      "Epoch: 73\n",
      "Training : [0.7707],Validation : [2.616]\n",
      "Epoch: 74\n",
      "Training : [0.7704],Validation : [2.6422]\n",
      "Epoch: 75\n",
      "Training : [0.7352],Validation : [2.5795]\n",
      "Epoch: 76\n",
      "Training : [0.7489],Validation : [4.8329]\n",
      "Epoch: 77\n",
      "Training : [0.8941],Validation : [2.4877]\n",
      "Epoch: 78\n",
      "Training : [0.6891],Validation : [2.6438]\n",
      "Epoch: 79\n",
      "Training : [0.7112],Validation : [2.6483]\n",
      "Epoch: 80\n",
      "Training : [0.7387],Validation : [2.4054]\n",
      "saving at 80\n",
      "Epoch: 81\n",
      "Training : [0.7437],Validation : [2.673]\n",
      "Epoch: 82\n",
      "Training : [0.785],Validation : [3.0476]\n",
      "Epoch: 83\n",
      "Training : [0.7657],Validation : [2.6103]\n",
      "Epoch: 84\n",
      "Training : [0.6936],Validation : [2.6254]\n",
      "Epoch: 85\n",
      "Training : [0.7559],Validation : [2.6013]\n",
      "Epoch: 86\n",
      "Training : [0.7143],Validation : [2.5544]\n",
      "Epoch: 87\n",
      "Training : [0.75],Validation : [2.555]\n",
      "Epoch: 88\n",
      "Training : [0.7086],Validation : [2.9116]\n",
      "Epoch: 89\n",
      "Training : [0.7598],Validation : [2.5503]\n",
      "Epoch: 90\n",
      "Training : [0.692],Validation : [2.781]\n",
      "saving at 90\n",
      "Epoch: 91\n",
      "Training : [0.7092],Validation : [2.6642]\n",
      "Epoch: 92\n",
      "Training : [0.7043],Validation : [2.5544]\n",
      "Epoch: 93\n",
      "Training : [0.6856],Validation : [2.7659]\n",
      "Epoch: 94\n",
      "Training : [0.6817],Validation : [2.3727]\n",
      "Epoch: 95\n",
      "Training : [0.709],Validation : [2.5109]\n",
      "Epoch: 96\n",
      "Training : [0.7124],Validation : [2.5368]\n",
      "Epoch: 97\n",
      "Training : [0.6915],Validation : [2.4706]\n",
      "Epoch: 98\n",
      "Training : [0.7376],Validation : [2.8068]\n",
      "Epoch: 99\n",
      "Training : [0.7006],Validation : [2.6204]\n",
      "Epoch: 100\n",
      "Training : [0.7342],Validation : [3.583]\n",
      "saving at 100\n",
      "Epoch: 101\n",
      "Training : [0.7228],Validation : [2.525]\n",
      "Epoch: 102\n",
      "Training : [0.6937],Validation : [2.7135]\n",
      "Epoch: 103\n",
      "Training : [0.6606],Validation : [2.7171]\n",
      "Epoch: 104\n",
      "Training : [0.7133],Validation : [2.544]\n",
      "Epoch: 105\n",
      "Training : [0.7236],Validation : [3.3303]\n",
      "Epoch: 106\n",
      "Training : [0.6858],Validation : [2.5338]\n",
      "Epoch: 107\n",
      "Training : [0.648],Validation : [2.8216]\n",
      "Epoch: 108\n",
      "Training : [0.7206],Validation : [2.9102]\n",
      "Epoch: 109\n",
      "Training : [0.6422],Validation : [2.6605]\n",
      "Epoch: 110\n",
      "Training : [0.6829],Validation : [3.3521]\n",
      "saving at 110\n",
      "Epoch: 111\n",
      "Training : [0.6506],Validation : [2.9003]\n",
      "Epoch: 112\n",
      "Training : [0.6989],Validation : [2.8054]\n",
      "Epoch: 113\n",
      "Training : [0.6358],Validation : [2.8406]\n",
      "Epoch: 114\n",
      "Training : [0.6694],Validation : [2.7423]\n",
      "Epoch: 115\n",
      "Training : [0.6874],Validation : [2.7687]\n",
      "Epoch: 116\n",
      "Training : [0.6698],Validation : [2.5724]\n",
      "Epoch: 117\n",
      "Training : [0.7058],Validation : [2.4954]\n",
      "Epoch: 118\n",
      "Training : [0.6449],Validation : [2.674]\n",
      "Epoch: 119\n",
      "Training : [0.6243],Validation : [2.6493]\n",
      "Epoch: 120\n",
      "Training : [0.8251],Validation : [2.4556]\n",
      "saving at 120\n"
     ]
    }
   ],
   "source": [
    "# train for 10 epochs\n",
    "for i in range(10):\n",
    "    classifier.train(train_loader=trn_dl, valid_loader=val_dl, optimizer=optimizer,crit=crit, epochs=10, threshold=0.5)\n",
    "    print(f'saving at {(classifier.epoch_counter)}')\n",
    "    classifier.save_model(f'./models/mclass_{classifier.epoch_counter}', None)"
   ]
  },
  {
   "cell_type": "code",
   "execution_count": null,
   "metadata": {},
   "outputs": [],
   "source": []
  },
  {
   "cell_type": "code",
   "execution_count": null,
   "metadata": {},
   "outputs": [],
   "source": []
  },
  {
   "cell_type": "code",
   "execution_count": null,
   "metadata": {},
   "outputs": [],
   "source": []
  },
  {
   "cell_type": "code",
   "execution_count": null,
   "metadata": {},
   "outputs": [],
   "source": []
  },
  {
   "cell_type": "markdown",
   "metadata": {},
   "source": [
    "### Evaluate by Eye"
   ]
  },
  {
   "cell_type": "code",
   "execution_count": 277,
   "metadata": {},
   "outputs": [],
   "source": [
    "def to_np(tensor):\n",
    "    if type(tensor) == V:\n",
    "        return tensor.data.cpu().numpy()\n",
    "    else:\n",
    "        return tensor.cpu().numpy()"
   ]
  },
  {
   "cell_type": "code",
   "execution_count": 278,
   "metadata": {},
   "outputs": [],
   "source": [
    "def show_side_to_side(im1, im2, figsize=(13, 13)):\n",
    "    plt.figure(figsize=figsize)\n",
    "    plt.subplot(1,2,1)\n",
    "    plt.imshow(im1)\n",
    "    plt.subplot(1,2,2)\n",
    "    plt.imshow(im2)\n",
    "    plt.show()\n",
    "    plt.close()"
   ]
  },
  {
   "cell_type": "code",
   "execution_count": 279,
   "metadata": {},
   "outputs": [],
   "source": [
    "val_ds = NucleiDataset('../data/ds_bowl_2018/valid/', transform=valid_augment, mode='valid', mask_file='/mclass_one_mask.png')\n",
    "val_dl = DataLoader(val_ds, batch_size=1, shuffle=False)"
   ]
  },
  {
   "cell_type": "code",
   "execution_count": 292,
   "metadata": {},
   "outputs": [],
   "source": [
    "it = iter(val_dl)"
   ]
  },
  {
   "cell_type": "code",
   "execution_count": 318,
   "metadata": {},
   "outputs": [],
   "source": [
    "img, mask, id_ = next(it)"
   ]
  },
  {
   "cell_type": "code",
   "execution_count": 319,
   "metadata": {},
   "outputs": [],
   "source": [
    "img_np, mask_np = to_np(img), to_np(mask)"
   ]
  },
  {
   "cell_type": "code",
   "execution_count": 320,
   "metadata": {},
   "outputs": [
    {
     "data": {
      "image/png": "[encoded data removed]",
      "text/plain": [
       "<Figure size 936x936 with 2 Axes>"
      ]
     },
     "metadata": {},
     "output_type": "display_data"
    }
   ],
   "source": [
    "classifier.restore_model('./models/mclass_187')\n",
    "net = classifier.net.eval()\n",
    "out = net(V(img).cuda())\n",
    "prob, idx = torch.max(out, 1)\n",
    "preds1 = to_np(idx)[0] # predictions from less complex model\n",
    "\n",
    "classifier.restore_model('./models/mclass_120')\n",
    "net = classifier.net.eval()\n",
    "out = net(V(img).cuda())\n",
    "prob, idx = torch.max(out, 1)\n",
    "preds2 = to_np(idx)[0] # predictions from more complex model\n",
    "\n",
    "\n",
    "show_side_to_side(preds1, preds2)"
   ]
  },
  {
   "cell_type": "code",
   "execution_count": 321,
   "metadata": {},
   "outputs": [
    {
     "data": {
      "image/png": "[encoded data removed]",
      "text/plain": [
       "<Figure size 504x504 with 1 Axes>"
      ]
     },
     "metadata": {},
     "output_type": "display_data"
    }
   ],
   "source": [
    "show_with_sz(mask[0,1], 7)"
   ]
  },
  {
   "cell_type": "code",
   "execution_count": 322,
   "metadata": {},
   "outputs": [
    {
     "data": {
      "image/png": "[encoded data removed]",
      "text/plain": [
       "<Figure size 504x504 with 1 Axes>"
      ]
     },
     "metadata": {},
     "output_type": "display_data"
    }
   ],
   "source": [
    "show_with_sz(img_np[0, 0], 7)"
   ]
  },
  {
   "cell_type": "markdown",
   "metadata": {},
   "source": [
    "### Predictions"
   ]
  },
  {
   "cell_type": "code",
   "execution_count": 323,
   "metadata": {},
   "outputs": [],
   "source": [
    "from skimage.morphology import label"
   ]
  },
  {
   "cell_type": "code",
   "execution_count": 324,
   "metadata": {},
   "outputs": [],
   "source": [
    "# load model and predict\n",
    "classifier.restore_model('./models/mclass_120')\n",
    "preds = classifier.predict(test_dl)"
   ]
  },
  {
   "cell_type": "code",
   "execution_count": 325,
   "metadata": {},
   "outputs": [],
   "source": [
    "preds_masks = []\n",
    "for i in range(len(preds)):\n",
    "    preds_idx = np.argmax(preds[i], 1) # get argmax\n",
    "    preds_mask = (preds_idx == 1)[0] # get masks\n",
    "    preds_masks.append(preds_mask.astype(np.uint8))"
   ]
  },
  {
   "cell_type": "code",
   "execution_count": 326,
   "metadata": {},
   "outputs": [],
   "source": [
    "# get correct sizes\n",
    "test_sz = []\n",
    "for fpath in test_ds.image_dirs:\n",
    "    fname = fpath + 'images/' + fpath.split('/')[-2] + '.png'\n",
    "    h, w = cv2.imread(fname, cv2.IMREAD_GRAYSCALE).shape\n",
    "    test_sz.append((w, h))"
   ]
  },
  {
   "cell_type": "code",
   "execution_count": 327,
   "metadata": {},
   "outputs": [],
   "source": [
    "# resize preds_masks\n",
    "resized_preds = [cv2.resize(preds_mask, test_sz[i]) for i, preds_mask in enumerate(preds_masks)]"
   ]
  },
  {
   "cell_type": "markdown",
   "metadata": {},
   "source": [
    "### Post Process"
   ]
  },
  {
   "cell_type": "code",
   "execution_count": 328,
   "metadata": {},
   "outputs": [],
   "source": [
    "i = 10"
   ]
  },
  {
   "cell_type": "code",
   "execution_count": 329,
   "metadata": {},
   "outputs": [],
   "source": [
    "img_path = test_ds.image_dirs[i]\n",
    "fname = img_path + 'images/' + img_path.split('/')[-2] + '.png'"
   ]
  },
  {
   "cell_type": "code",
   "execution_count": 330,
   "metadata": {},
   "outputs": [
    {
     "data": {
      "image/png": "[encoded data removed]",
      "text/plain": [
       "<Figure size 720x720 with 1 Axes>"
      ]
     },
     "metadata": {},
     "output_type": "display_data"
    }
   ],
   "source": [
    "show_with_sz(read3d(fname))"
   ]
  },
  {
   "cell_type": "code",
   "execution_count": 331,
   "metadata": {},
   "outputs": [],
   "source": [
    "from scipy.ndimage.morphology import binary_fill_holes"
   ]
  },
  {
   "cell_type": "code",
   "execution_count": 332,
   "metadata": {},
   "outputs": [
    {
     "data": {
      "image/png": "[encoded data removed]",
      "text/plain": [
       "<Figure size 720x720 with 1 Axes>"
      ]
     },
     "metadata": {},
     "output_type": "display_data"
    }
   ],
   "source": [
    "show_with_sz(resized_preds[i])"
   ]
  },
  {
   "cell_type": "code",
   "execution_count": 333,
   "metadata": {},
   "outputs": [
    {
     "data": {
      "image/png": "[encoded data removed]",
      "text/plain": [
       "<Figure size 720x720 with 1 Axes>"
      ]
     },
     "metadata": {},
     "output_type": "display_data"
    }
   ],
   "source": [
    "filled_resized_pred = binary_fill_holes(resized_preds[i])\n",
    "show_with_sz(filled_resized_pred)"
   ]
  },
  {
   "cell_type": "code",
   "execution_count": 266,
   "metadata": {},
   "outputs": [],
   "source": [
    "#from scipy.signal import convolve2d\n",
    "#kernel = np.ones((2,2))\n",
    "#out = convolve2d(filled_resized_pred, kernel, mode='same')\n",
    "#show_with_sz(label(out > 2))"
   ]
  },
  {
   "cell_type": "markdown",
   "metadata": {},
   "source": [
    "# Create Submission"
   ]
  },
  {
   "cell_type": "code",
   "execution_count": 267,
   "metadata": {},
   "outputs": [],
   "source": [
    "filled_resized_preds = [binary_fill_holes(pred).astype(np.uint8) for pred in resized_preds]"
   ]
  },
  {
   "cell_type": "code",
   "execution_count": 268,
   "metadata": {},
   "outputs": [],
   "source": [
    "def predict_and_submit(preds, test_ds):    \n",
    "    new_test_ids = []\n",
    "    rles = []\n",
    "    for n, id_ in enumerate(test_ds.image_dirs):\n",
    "        id_ = id_.split('/')[-2]\n",
    "        rle = list(prob_to_rles(preds[n]))\n",
    "        rles.extend(rle)\n",
    "        new_test_ids.extend([id_] * len(rle))\n",
    "    \n",
    "    sub = pd.DataFrame()\n",
    "    sub['ImageId'] = new_test_ids\n",
    "    sub['EncodedPixels'] = pd.Series(rles).apply(lambda x: ' '.join(str(y) for y in x))\n",
    "    return sub"
   ]
  },
  {
   "cell_type": "code",
   "execution_count": 269,
   "metadata": {},
   "outputs": [],
   "source": [
    "sub_df = predict_and_submit(filled_resized_preds, test_ds)"
   ]
  },
  {
   "cell_type": "code",
   "execution_count": 273,
   "metadata": {},
   "outputs": [
    {
     "data": {
      "text/plain": [
       "(2994, 2)"
      ]
     },
     "execution_count": 273,
     "metadata": {},
     "output_type": "execute_result"
    }
   ],
   "source": [
    "sub_df.shape"
   ]
  },
  {
   "cell_type": "code",
   "execution_count": null,
   "metadata": {
    "scrolled": true
   },
   "outputs": [],
   "source": [
    "for pred in filled_resized_preds:\n",
    "    show_with_sz(pred)"
   ]
  },
  {
   "cell_type": "code",
   "execution_count": 274,
   "metadata": {},
   "outputs": [],
   "source": [
    "sub_df.to_csv('.sssss/mclass_unet_basic.csv', index=False)"
   ]
  },
  {
   "cell_type": "code",
   "execution_count": null,
   "metadata": {},
   "outputs": [],
   "source": []
  },
  {
   "cell_type": "code",
   "execution_count": null,
   "metadata": {},
   "outputs": [],
   "source": []
  }
 ],
 "metadata": {
  "kernelspec": {
   "display_name": "Python 3",
   "language": "python",
   "name": "python3"
  },
  "language_info": {
   "codemirror_mode": {
    "name": "ipython",
    "version": 3
   },
   "file_extension": ".py",
   "mimetype": "text/x-python",
   "name": "python",
   "nbconvert_exporter": "python",
   "pygments_lexer": "ipython3",
   "version": "3.6.4"
  }
 },
 "nbformat": 4,
 "nbformat_minor": 2
}
