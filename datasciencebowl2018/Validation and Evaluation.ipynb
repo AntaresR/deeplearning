{
 "cells": [
  {
   "cell_type": "markdown",
   "metadata": {},
   "source": [
    "- Create a good validation schema\n",
    "- Implement evaluation metric"
   ]
  },
  {
   "cell_type": "markdown",
   "metadata": {},
   "source": [
    "### Validation Distributions"
   ]
  },
  {
   "cell_type": "code",
   "execution_count": 74,
   "metadata": {},
   "outputs": [],
   "source": [
    "import pandas as pd\n",
    "from utility.utils import *\n",
    "from dataset.validation import *\n",
    "from utility.plots import *"
   ]
  },
  {
   "cell_type": "code",
   "execution_count": 6,
   "metadata": {},
   "outputs": [],
   "source": [
    "classes = pd.read_csv('classes.csv')"
   ]
  },
  {
   "cell_type": "code",
   "execution_count": 7,
   "metadata": {},
   "outputs": [
    {
     "data": {
      "text/html": [
       "<div>\n",
       "<table border=\"1\" class=\"dataframe\">\n",
       "  <thead>\n",
       "    <tr style=\"text-align: right;\">\n",
       "      <th></th>\n",
       "      <th>filename</th>\n",
       "      <th>foreground</th>\n",
       "      <th>background</th>\n",
       "      <th>is_train</th>\n",
       "    </tr>\n",
       "  </thead>\n",
       "  <tbody>\n",
       "    <tr>\n",
       "      <th>0</th>\n",
       "      <td>d32ea6d318626ca14a967d0c1ad3218aebfe636624a8d1...</td>\n",
       "      <td>white</td>\n",
       "      <td>black</td>\n",
       "      <td>True</td>\n",
       "    </tr>\n",
       "    <tr>\n",
       "      <th>1</th>\n",
       "      <td>4596961c789d3b41916492918797724fe75128239fefc5...</td>\n",
       "      <td>white</td>\n",
       "      <td>black</td>\n",
       "      <td>True</td>\n",
       "    </tr>\n",
       "    <tr>\n",
       "      <th>2</th>\n",
       "      <td>b6edad733399c83c8eb7a59c0d37b54e10cc0d59894e39...</td>\n",
       "      <td>white</td>\n",
       "      <td>black</td>\n",
       "      <td>True</td>\n",
       "    </tr>\n",
       "    <tr>\n",
       "      <th>3</th>\n",
       "      <td>831218e6a1a54b23d4be56c5799854e7eb978811b89215...</td>\n",
       "      <td>white</td>\n",
       "      <td>black</td>\n",
       "      <td>True</td>\n",
       "    </tr>\n",
       "    <tr>\n",
       "      <th>4</th>\n",
       "      <td>b1e3aeb0c56261c17eb71c747d116057b8da7e8c8a6845...</td>\n",
       "      <td>white</td>\n",
       "      <td>black</td>\n",
       "      <td>True</td>\n",
       "    </tr>\n",
       "  </tbody>\n",
       "</table>\n",
       "</div>"
      ],
      "text/plain": [
       "                                            filename foreground background  \\\n",
       "0  d32ea6d318626ca14a967d0c1ad3218aebfe636624a8d1...      white      black   \n",
       "1  4596961c789d3b41916492918797724fe75128239fefc5...      white      black   \n",
       "2  b6edad733399c83c8eb7a59c0d37b54e10cc0d59894e39...      white      black   \n",
       "3  831218e6a1a54b23d4be56c5799854e7eb978811b89215...      white      black   \n",
       "4  b1e3aeb0c56261c17eb71c747d116057b8da7e8c8a6845...      white      black   \n",
       "\n",
       "  is_train  \n",
       "0     True  \n",
       "1     True  \n",
       "2     True  \n",
       "3     True  \n",
       "4     True  "
      ]
     },
     "execution_count": 7,
     "metadata": {},
     "output_type": "execute_result"
    }
   ],
   "source": [
    "classes.head()"
   ]
  },
  {
   "cell_type": "code",
   "execution_count": 8,
   "metadata": {},
   "outputs": [
    {
     "data": {
      "text/html": [
       "<div>\n",
       "<table border=\"1\" class=\"dataframe\">\n",
       "  <thead>\n",
       "    <tr style=\"text-align: right;\">\n",
       "      <th></th>\n",
       "      <th></th>\n",
       "      <th>filename</th>\n",
       "      <th>is_train</th>\n",
       "    </tr>\n",
       "    <tr>\n",
       "      <th>foreground</th>\n",
       "      <th>background</th>\n",
       "      <th></th>\n",
       "      <th></th>\n",
       "    </tr>\n",
       "  </thead>\n",
       "  <tbody>\n",
       "    <tr>\n",
       "      <th rowspan=\"3\" valign=\"top\">purple</th>\n",
       "      <th>purple</th>\n",
       "      <td>1</td>\n",
       "      <td>1</td>\n",
       "    </tr>\n",
       "    <tr>\n",
       "      <th>white</th>\n",
       "      <td>3</td>\n",
       "      <td>3</td>\n",
       "    </tr>\n",
       "    <tr>\n",
       "      <th>yellow</th>\n",
       "      <td>8</td>\n",
       "      <td>8</td>\n",
       "    </tr>\n",
       "    <tr>\n",
       "      <th>white</th>\n",
       "      <th>black</th>\n",
       "      <td>53</td>\n",
       "      <td>53</td>\n",
       "    </tr>\n",
       "  </tbody>\n",
       "</table>\n",
       "</div>"
      ],
      "text/plain": [
       "                       filename  is_train\n",
       "foreground background                    \n",
       "purple     purple             1         1\n",
       "           white              3         3\n",
       "           yellow             8         8\n",
       "white      black             53        53"
      ]
     },
     "execution_count": 8,
     "metadata": {},
     "output_type": "execute_result"
    }
   ],
   "source": [
    "classes[~classes.is_train].groupby(['foreground', 'background']).count()"
   ]
  },
  {
   "cell_type": "code",
   "execution_count": 9,
   "metadata": {},
   "outputs": [],
   "source": [
    "# create new stratified validation set\n",
    "train_dirs, valid_dirs = get_stratified_valid_dirs(classes, 1)"
   ]
  },
  {
   "cell_type": "code",
   "execution_count": 10,
   "metadata": {},
   "outputs": [
    {
     "data": {
      "text/html": [
       "<div>\n",
       "<table border=\"1\" class=\"dataframe\">\n",
       "  <thead>\n",
       "    <tr style=\"text-align: right;\">\n",
       "      <th></th>\n",
       "      <th></th>\n",
       "      <th>filename</th>\n",
       "      <th>is_train</th>\n",
       "    </tr>\n",
       "    <tr>\n",
       "      <th>foreground</th>\n",
       "      <th>background</th>\n",
       "      <th></th>\n",
       "      <th></th>\n",
       "    </tr>\n",
       "  </thead>\n",
       "  <tbody>\n",
       "    <tr>\n",
       "      <th rowspan=\"2\" valign=\"top\">purple</th>\n",
       "      <th>purple</th>\n",
       "      <td>1</td>\n",
       "      <td>1</td>\n",
       "    </tr>\n",
       "    <tr>\n",
       "      <th>white</th>\n",
       "      <td>4</td>\n",
       "      <td>4</td>\n",
       "    </tr>\n",
       "    <tr>\n",
       "      <th>white</th>\n",
       "      <th>black</th>\n",
       "      <td>59</td>\n",
       "      <td>59</td>\n",
       "    </tr>\n",
       "  </tbody>\n",
       "</table>\n",
       "</div>"
      ],
      "text/plain": [
       "                       filename  is_train\n",
       "foreground background                    \n",
       "purple     purple             1         1\n",
       "           white              4         4\n",
       "white      black             59        59"
      ]
     },
     "execution_count": 10,
     "metadata": {},
     "output_type": "execute_result"
    }
   ],
   "source": [
    "# distributions seem similar to test\n",
    "classes[classes.filename.isin([f + '.png' for f in valid_dirs])].groupby(['foreground', 'background']).count()"
   ]
  },
  {
   "cell_type": "code",
   "execution_count": 12,
   "metadata": {
    "scrolled": true
   },
   "outputs": [],
   "source": [
    "# main_path = '../data/ds_bowl_2018/'\n",
    "# full_path = '../data/ds_bowl_2018/full_data/'\n",
    "# create_validation_dirs(main_path, full_path, None, train_dirs, valid_dirs)"
   ]
  },
  {
   "cell_type": "markdown",
   "metadata": {},
   "source": [
    "### Example Metric Implementation"
   ]
  },
  {
   "cell_type": "code",
   "execution_count": 13,
   "metadata": {},
   "outputs": [],
   "source": [
    "%matplotlib inline\n",
    "import numpy as np\n",
    "import skimage.io\n",
    "import matplotlib.pyplot as plt\n",
    "import skimage.segmentation\n",
    "\n",
    "# Load a single image and its associated masks\n",
    "id_ = '0a7d30b252359a10fd298b638b90cb9ada3acced4e0c0e5a3692013f432ee4e9'\n",
    "file = \"../data/ds_bowl_2018/train/{}/images/{}.png\".format(id_,id_)\n",
    "masks = \"../data/ds_bowl_2018/train/{}/masks/*.png\".format(id_)\n",
    "image = skimage.io.imread(file)\n",
    "masks = skimage.io.imread_collection(masks).concatenate()\n",
    "height, width, _ = image.shape\n",
    "num_masks = masks.shape[0]\n",
    "\n",
    "# Make a ground truth label image (pixel value is index of object label)\n",
    "labels = np.zeros((height, width), np.uint16)\n",
    "for index in range(0, num_masks):\n",
    "    labels[masks[index] > 0] = index + 1"
   ]
  },
  {
   "cell_type": "code",
   "execution_count": 14,
   "metadata": {},
   "outputs": [
    {
     "data": {
      "text/plain": [
       "Text(0.5,1,'Ground truth masks')"
      ]
     },
     "execution_count": 14,
     "metadata": {},
     "output_type": "execute_result"
    },
    {
     "data": {
      "image/png": "[encoded data removed]",
      "text/plain": [
       "<Figure size 432x288 with 1 Axes>"
      ]
     },
     "metadata": {},
     "output_type": "display_data"
    },
    {
     "data": {
      "image/png": "[encoded data removed]",
      "text/plain": [
       "<Figure size 432x288 with 1 Axes>"
      ]
     },
     "metadata": {},
     "output_type": "display_data"
    }
   ],
   "source": [
    "# Show label image\n",
    "fig = plt.figure()\n",
    "plt.imshow(image)\n",
    "plt.title(\"Original image\")\n",
    "fig = plt.figure()\n",
    "plt.imshow(labels)\n",
    "plt.title(\"Ground truth masks\")"
   ]
  },
  {
   "cell_type": "code",
   "execution_count": 15,
   "metadata": {},
   "outputs": [
    {
     "name": "stderr",
     "output_type": "stream",
     "text": [
      "/home/kerem/anaconda3/envs/fastai/lib/python3.6/site-packages/skimage/segmentation/_join.py:118: FutureWarning: Conversion of the second argument of issubdtype from `int` to `np.signedinteger` is deprecated. In future, it will be treated as `np.int64 == np.dtype(int).type`.\n",
      "  if not np.issubdtype(label_field.dtype, np.int):\n"
     ]
    }
   ],
   "source": [
    "# Simulate an imperfect submission\n",
    "offset = 2 # offset pixels\n",
    "y_pred = labels[offset:, offset:]\n",
    "y_pred = np.pad(y_pred, ((0, offset), (0, offset)), mode=\"constant\")\n",
    "y_pred[y_pred == 20] = 0 # Remove one object\n",
    "y_pred, _, _ = skimage.segmentation.relabel_sequential(y_pred) # Relabel objects"
   ]
  },
  {
   "cell_type": "code",
   "execution_count": 16,
   "metadata": {},
   "outputs": [
    {
     "data": {
      "text/plain": [
       "Text(0.5,1,'Simulated imperfect submission')"
      ]
     },
     "execution_count": 16,
     "metadata": {},
     "output_type": "execute_result"
    },
    {
     "data": {
      "image/png": "[encoded data removed]",
      "text/plain": [
       "<Figure size 432x288 with 1 Axes>"
      ]
     },
     "metadata": {},
     "output_type": "display_data"
    }
   ],
   "source": [
    "# Show simulated predictions with shifted segmentations\n",
    "# and 1 missing mask\n",
    "fig = plt.figure()\n",
    "plt.imshow(y_pred)\n",
    "plt.title(\"Simulated imperfect submission\")"
   ]
  },
  {
   "cell_type": "code",
   "execution_count": 17,
   "metadata": {},
   "outputs": [
    {
     "name": "stdout",
     "output_type": "stream",
     "text": [
      "Number of true objects: 27\n",
      "Number of predicted objects: 26\n"
     ]
    }
   ],
   "source": [
    "# Compute number of objects\n",
    "true_objects = len(np.unique(labels))-1\n",
    "pred_objects = len(np.unique(y_pred))-1\n",
    "print(\"Number of true objects:\", true_objects)\n",
    "print(\"Number of predicted objects:\", pred_objects)"
   ]
  },
  {
   "cell_type": "code",
   "execution_count": 18,
   "metadata": {},
   "outputs": [],
   "source": [
    "intersection = np.histogram2d(labels.flatten(), y_pred.flatten(), \n",
    "              bins=(true_objects, pred_objects))[0]"
   ]
  },
  {
   "cell_type": "code",
   "execution_count": 19,
   "metadata": {},
   "outputs": [],
   "source": [
    "# Compute areas (needed for finding the union between all objects)\n",
    "area_true = np.histogram(labels, bins = true_objects)[0]\n",
    "area_pred = np.histogram(y_pred, bins = pred_objects)[0]\n",
    "area_true = np.expand_dims(area_true, -1)\n",
    "area_pred = np.expand_dims(area_pred, 0)"
   ]
  },
  {
   "cell_type": "code",
   "execution_count": 20,
   "metadata": {},
   "outputs": [
    {
     "data": {
      "text/plain": [
       "((27, 1), (1, 26))"
      ]
     },
     "execution_count": 20,
     "metadata": {},
     "output_type": "execute_result"
    }
   ],
   "source": [
    "area_true.shape, area_pred.shape"
   ]
  },
  {
   "cell_type": "code",
   "execution_count": 21,
   "metadata": {},
   "outputs": [],
   "source": [
    "# Compute union\n",
    "union = area_true + area_pred - intersection"
   ]
  },
  {
   "cell_type": "code",
   "execution_count": 22,
   "metadata": {},
   "outputs": [],
   "source": [
    "union[union==0] = 1e-9"
   ]
  },
  {
   "cell_type": "code",
   "execution_count": 23,
   "metadata": {},
   "outputs": [],
   "source": [
    "iou = intersection / union"
   ]
  },
  {
   "cell_type": "code",
   "execution_count": 24,
   "metadata": {},
   "outputs": [],
   "source": [
    "def precision_at(threshold, iou):\n",
    "    matches = iou > threshold\n",
    "    true_positives = np.sum(matches, axis=1) == 1   # Correct objects\n",
    "    false_positives = np.sum(matches, axis=0) == 0  # Missed objects\n",
    "    false_negatives = np.sum(matches, axis=1) == 0  # Extra objects\n",
    "    tp, fp, fn = np.sum(true_positives), np.sum(false_positives), np.sum(false_negatives)\n",
    "    return tp, fp, fn"
   ]
  },
  {
   "cell_type": "code",
   "execution_count": 25,
   "metadata": {},
   "outputs": [
    {
     "name": "stdout",
     "output_type": "stream",
     "text": [
      "Thresh\tTP\tFP\tFN\tPrec.\n",
      "0.500\t25\t1\t2\t0.893\n",
      "0.550\t24\t2\t3\t0.828\n",
      "0.600\t22\t4\t5\t0.710\n",
      "0.650\t18\t8\t9\t0.514\n",
      "0.700\t13\t13\t14\t0.325\n",
      "0.750\t5\t21\t22\t0.104\n",
      "0.800\t1\t25\t26\t0.019\n",
      "0.850\t1\t25\t26\t0.019\n",
      "0.900\t1\t25\t26\t0.019\n",
      "0.950\t0\t26\t27\t0.000\n",
      "AP\t-\t-\t-\t0.343\n"
     ]
    }
   ],
   "source": [
    "# Loop over IoU thresholds\n",
    "prec = []\n",
    "print(\"Thresh\\tTP\\tFP\\tFN\\tPrec.\")\n",
    "for t in np.arange(0.5, 1.0, 0.05):\n",
    "    tp, fp, fn = precision_at(t, iou)\n",
    "    p = tp / (tp + fp + fn)\n",
    "    print(\"{:1.3f}\\t{}\\t{}\\t{}\\t{:1.3f}\".format(t, tp, fp, fn, p))\n",
    "    prec.append(p)\n",
    "print(\"AP\\t-\\t-\\t-\\t{:1.3f}\".format(np.mean(prec)))"
   ]
  },
  {
   "cell_type": "markdown",
   "metadata": {},
   "source": [
    "### Metric"
   ]
  },
  {
   "cell_type": "code",
   "execution_count": 96,
   "metadata": {},
   "outputs": [],
   "source": [
    "def run_length_encode(x):\n",
    "    bs = np.where(x.T.flatten())[0]\n",
    "\n",
    "    rle = []\n",
    "    prev = -2\n",
    "    for b in bs:\n",
    "        if (b>prev+1): rle.extend((b + 1, 0))\n",
    "        rle[-1] += 1\n",
    "        prev = b\n",
    "\n",
    "    #https://www.kaggle.com/c/data-science-bowl-2018/discussion/48561#\n",
    "    if len(rle)!=0 and rle[-1]+rle[-2] == x.size:\n",
    "        rle[-2] = rle[-2] -1  #print('xxx')\n",
    "\n",
    "    rle = ' '.join([str(r) for r in rle])\n",
    "    return rle\n",
    "\n",
    "def run_length_decode(rle, H, W, fill_value=255):\n",
    "\n",
    "    mask = np.zeros((H * W), np.uint8)\n",
    "    rle = np.array([int(s) for s in rle.split(' ')]).reshape(-1, 2)\n",
    "    for r in rle:\n",
    "        start = r[0]-1\n",
    "        end = start + r[1]\n",
    "        mask[start : end] = fill_value\n",
    "    mask = mask.reshape(W, H).T # H, W need to swap as transposing.\n",
    "    return mask\n",
    "\n",
    "\n",
    "\n",
    "#https://www.kaggle.com/wcukierski/example-metric-implementation\n",
    "def compute_precision(threshold, iou):\n",
    "    matches = iou > threshold\n",
    "    true_positives  = np.sum(matches, axis=1) == 1  # Correct objects\n",
    "    false_positives = np.sum(matches, axis=0) == 0  # Missed objects\n",
    "    false_negatives = np.sum(matches, axis=1) == 0  # Extra objects\n",
    "    tp, fp, fn = np.sum(true_positives), np.sum(false_positives), np.sum(false_negatives)\n",
    "    return tp, fp, fn\n",
    "\n",
    "def print_precision(precision):\n",
    "\n",
    "    print('thresh   prec    TP    FP    FN')\n",
    "    print('---------------------------------')\n",
    "    for (t, p, tp, fp, fn) in precision:\n",
    "        print('%0.2f     %0.2f   %3d   %3d   %3d'%(t, p, tp, fp, fn))\n",
    "\n",
    "\n",
    "\n",
    "def compute_average_precision_for_mask(predict, truth, t_range=np.arange(0.5, 1.0, 0.05)):\n",
    "\n",
    "    num_truth   = len(np.unique(truth))\n",
    "    num_predict = len(np.unique(predict))\n",
    "\n",
    "    # Compute intersection between all objects\n",
    "    intersection = np.histogram2d(truth.flatten(), predict.flatten(), bins=(num_truth, num_predict))[0]\n",
    "\n",
    "    # Compute areas (needed for finding the union between all objects)\n",
    "    area_true = np.histogram(truth,   bins = num_truth  )[0]\n",
    "    area_pred = np.histogram(predict, bins = num_predict)[0]\n",
    "    area_true = np.expand_dims(area_true, -1)\n",
    "    area_pred = np.expand_dims(area_pred,  0)\n",
    "\n",
    "    # Compute union\n",
    "    union = area_true + area_pred - intersection\n",
    "\n",
    "    # Exclude background from the analysis\n",
    "    intersection = intersection[1:,1:]\n",
    "    union = union[1:,1:]\n",
    "    union[union == 0] = 1e-9\n",
    "\n",
    "    # Compute the intersection over union\n",
    "    iou = intersection / union\n",
    "\n",
    "    precision = []\n",
    "    average_precision = 0\n",
    "    for t in t_range:\n",
    "        tp, fp, fn = compute_precision(t, iou)\n",
    "        p = tp / (tp + fp + fn)\n",
    "        precision.append((t, p, tp, fp, fn))\n",
    "        average_precision += p\n",
    "\n",
    "    average_precision /= len(precision)\n",
    "    return average_precision, precision\n"
   ]
  },
  {
   "cell_type": "code",
   "execution_count": 97,
   "metadata": {},
   "outputs": [],
   "source": [
    "train_labels = pd.read_csv('../data/ds_bowl_2018/csv/stage1_train_labels.csv')"
   ]
  },
  {
   "cell_type": "code",
   "execution_count": 98,
   "metadata": {
    "scrolled": true
   },
   "outputs": [],
   "source": [
    "img_id = train_labels.ImageId[0]"
   ]
  },
  {
   "cell_type": "code",
   "execution_count": 99,
   "metadata": {},
   "outputs": [],
   "source": [
    "img_path = f'../data/ds_bowl_2018/full_data/{img_id}/images/{img_id}.png'\n",
    "mask_path = f'../data/ds_bowl_2018/full_data/{img_id}/one_mask.png'"
   ]
  },
  {
   "cell_type": "code",
   "execution_count": 100,
   "metadata": {
    "scrolled": true
   },
   "outputs": [
    {
     "data": {
      "text/plain": [
       "(256, 256, 3)"
      ]
     },
     "execution_count": 100,
     "metadata": {},
     "output_type": "execute_result"
    },
    {
     "data": {
      "image/png": "[encoded data removed]",
      "text/plain": [
       "<Figure size 432x288 with 1 Axes>"
      ]
     },
     "metadata": {},
     "output_type": "display_data"
    }
   ],
   "source": [
    "img = open_image(img_path)\n",
    "show_img(img)\n",
    "img.shape"
   ]
  },
  {
   "cell_type": "code",
   "execution_count": 101,
   "metadata": {},
   "outputs": [
    {
     "data": {
      "text/plain": [
       "<matplotlib.axes._subplots.AxesSubplot at 0x7f28d349ec88>"
      ]
     },
     "execution_count": 101,
     "metadata": {},
     "output_type": "execute_result"
    },
    {
     "data": {
      "image/png": "[encoded data removed]",
      "text/plain": [
       "<Figure size 432x288 with 1 Axes>"
      ]
     },
     "metadata": {},
     "output_type": "display_data"
    }
   ],
   "source": [
    "mask = open_image(mask_path)\n",
    "show_img(mask)"
   ]
  },
  {
   "cell_type": "code",
   "execution_count": 102,
   "metadata": {},
   "outputs": [],
   "source": [
    "rles = train_labels[train_labels.ImageId == img_id]['EncodedPixels']"
   ]
  },
  {
   "cell_type": "code",
   "execution_count": 109,
   "metadata": {},
   "outputs": [
    {
     "data": {
      "text/plain": [
       "<matplotlib.image.AxesImage at 0x7f28d7e2ca90>"
      ]
     },
     "execution_count": 109,
     "metadata": {},
     "output_type": "execute_result"
    },
    {
     "data": {
      "image/png": "[encoded data removed]",
      "text/plain": [
       "<Figure size 432x288 with 1 Axes>"
      ]
     },
     "metadata": {},
     "output_type": "display_data"
    }
   ],
   "source": [
    "plt.imshow(run_length_decode(rles[0], *img.shape))"
   ]
  },
  {
   "cell_type": "code",
   "execution_count": 112,
   "metadata": {},
   "outputs": [
    {
     "data": {
      "text/plain": [
       "array([[0, 0, 0, 0, 0, 0],\n",
       "       [1, 1, 1, 0, 0, 0],\n",
       "       [1, 1, 1, 0, 0, 0],\n",
       "       [1, 1, 1, 0, 0, 0],\n",
       "       [0, 0, 0, 0, 2, 2],\n",
       "       [0, 0, 0, 0, 2, 2]])"
      ]
     },
     "execution_count": 112,
     "metadata": {},
     "output_type": "execute_result"
    }
   ],
   "source": [
    "# pixel 1 x[1,1] pixel 2 x[2,1]\n",
    "x = np.array(\n",
    "    [\n",
    "    [0,0,0,0,0,0],\n",
    "    [1,1,1,0,0,0],\n",
    "    [1,1,1,0,0,0],\n",
    "    [1,1,1,0,0,0],\n",
    "    [0,0,0,0,2,2],\n",
    "    [0,0,0,0,2,2],\n",
    "    ]\n",
    ")\n",
    "x"
   ]
  },
  {
   "cell_type": "code",
   "execution_count": 117,
   "metadata": {},
   "outputs": [
    {
     "data": {
      "text/plain": [
       "array([[0, 0, 0, 0, 0, 0],\n",
       "       [2, 2, 1, 0, 0, 0],\n",
       "       [2, 2, 1, 0, 0, 0],\n",
       "       [3, 3, 2, 0, 0, 0],\n",
       "       [0, 0, 0, 0, 4, 4],\n",
       "       [0, 0, 0, 0, 4, 4]])"
      ]
     },
     "execution_count": 117,
     "metadata": {},
     "output_type": "execute_result"
    }
   ],
   "source": [
    "# What if we predict like this\n",
    "# Our model thougt there are 3 adjacent nuclei\n",
    "x_pred = np.array(\n",
    "    [\n",
    "    [0,0,0,0,0,0],\n",
    "    [2,2,1,0,0,0],\n",
    "    [2,2,1,0,0,0],\n",
    "    [3,3,2,0,0,0],\n",
    "    [0,0,0,0,4,4],\n",
    "    [0,0,0,0,4,4],\n",
    "    ]\n",
    ")\n",
    "x_pred"
   ]
  },
  {
   "cell_type": "code",
   "execution_count": 118,
   "metadata": {},
   "outputs": [],
   "source": [
    "pre, _ = compute_average_precision_for_mask(x, x_pred, t_range=np.arange(0.5, 1.0, 0.05))"
   ]
  },
  {
   "cell_type": "code",
   "execution_count": 119,
   "metadata": {},
   "outputs": [
    {
     "data": {
      "text/plain": [
       "0.26"
      ]
     },
     "execution_count": 119,
     "metadata": {},
     "output_type": "execute_result"
    }
   ],
   "source": [
    "pre"
   ]
  },
  {
   "cell_type": "code",
   "execution_count": null,
   "metadata": {},
   "outputs": [],
   "source": []
  }
 ],
 "metadata": {
  "kernelspec": {
   "display_name": "Python 3",
   "language": "python",
   "name": "python3"
  },
  "language_info": {
   "codemirror_mode": {
    "name": "ipython",
    "version": 3
   },
   "file_extension": ".py",
   "mimetype": "text/x-python",
   "name": "python",
   "nbconvert_exporter": "python",
   "pygments_lexer": "ipython3",
   "version": "3.6.4"
  }
 },
 "nbformat": 4,
 "nbformat_minor": 2
}
