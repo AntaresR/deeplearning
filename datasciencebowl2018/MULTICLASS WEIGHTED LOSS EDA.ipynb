{
 "cells": [
  {
   "cell_type": "markdown",
   "metadata": {},
   "source": [
    "paper reference: https://arxiv.org/abs/1802.07465"
   ]
  },
  {
   "cell_type": "markdown",
   "metadata": {},
   "source": [
    "**EXPLORE THE IDEA ON A DUMMY IMAGE**"
   ]
  },
  {
   "cell_type": "code",
   "execution_count": null,
   "metadata": {},
   "outputs": [],
   "source": [
    "from utility.utils import *"
   ]
  },
  {
   "cell_type": "code",
   "execution_count": null,
   "metadata": {},
   "outputs": [],
   "source": [
    "from skimage.morphology import *\n",
    "import cv2\n",
    "import numpy as np\n",
    "import collections\n",
    "import itertools\n",
    "\n",
    "import torch.nn as nn\n",
    "%matplotlib inline"
   ]
  },
  {
   "cell_type": "code",
   "execution_count": null,
   "metadata": {},
   "outputs": [],
   "source": [
    "def list_directory(path):\n",
    "    if path[-1] != '/':\n",
    "        path = path + '/'\n",
    "    return [path + p for p in os.listdir(path)]"
   ]
  },
  {
   "cell_type": "code",
   "execution_count": null,
   "metadata": {},
   "outputs": [],
   "source": [
    "# path for a single sample\n",
    "path = '../data/ds_bowl_2018/dummy/0a7d30b252359a10fd298b638b90cb9ada3acced4e0c0e5a3692013f432ee4e9/'"
   ]
  },
  {
   "cell_type": "code",
   "execution_count": null,
   "metadata": {},
   "outputs": [],
   "source": [
    "# sample image\n",
    "sample_image = list_files(path+'images')\n",
    "\n",
    "# sample masks\n",
    "sample_masks = list_files(path+'masks')"
   ]
  },
  {
   "cell_type": "code",
   "execution_count": null,
   "metadata": {},
   "outputs": [],
   "source": [
    "# read 2d - single channel image\n",
    "def read2d(path): return cv2.imread(path, cv2.IMREAD_GRAYSCALE)\n",
    "# read 3d - single channel image\n",
    "def read3d(path): return cv2.imread(path, cv2.IMREAD_COLOR)"
   ]
  },
  {
   "cell_type": "code",
   "execution_count": null,
   "metadata": {},
   "outputs": [],
   "source": [
    "plt.imshow(read2d(sample_image[0]))"
   ]
  },
  {
   "cell_type": "markdown",
   "metadata": {},
   "source": [
    "Note if we are going to treat each nuclei separately problematic cases should be dealt with, e.g. mask images with all 0 pixels, 2 nuclei masks in a single mask image, so on ..."
   ]
  },
  {
   "cell_type": "code",
   "execution_count": null,
   "metadata": {},
   "outputs": [],
   "source": [
    "# read each individual mask\n",
    "mask_sum = 0\n",
    "for mask in sample_masks:\n",
    "    mask = cv2.imread(mask, cv2.IMREAD_GRAYSCALE)\n",
    "    plt.imshow(mask)\n",
    "    #plt.show()\n",
    "    mask_sum += mask\n",
    "plt.close()"
   ]
  },
  {
   "cell_type": "markdown",
   "metadata": {},
   "source": [
    "## Part 1: Custom Mapping from binary to 3 class (back, fore, boundary)\n",
    "\n",
    "Can we leverage the fact that we now mask of each nuclei independently ? "
   ]
  },
  {
   "cell_type": "code",
   "execution_count": null,
   "metadata": {},
   "outputs": [],
   "source": [
    "def get_contour_pos(mask):\n",
    "    \"\"\"\n",
    "    Given a binary 2d mask this function will find contour positions of a mask\n",
    "    \n",
    "    Inputs:\n",
    "        mask (np.array): binary 2d numpy array \n",
    "    Returns:\n",
    "        contour_pos (list): list which has (i, j) positions for contour pixels as elements\n",
    "    \"\"\"\n",
    "    if mask.max() != 1: \n",
    "        mask = mask / mask.max()\n",
    "    H, W = mask.shape\n",
    "    contour_pos = []\n",
    "    for i in range(H):\n",
    "        for j in range(W):\n",
    "            # not edge\n",
    "            m = []\n",
    "            # N\n",
    "            if (i) > 0:\n",
    "                m.append(mask[i - 1, j])\n",
    "            # S\n",
    "            if (i) < H - 1:\n",
    "                m.append(mask[i + 1, j])\n",
    "            # E \n",
    "            if (j) < W - 1:\n",
    "                m.append(mask[i, j + 1])\n",
    "            # W\n",
    "            if (j) > 0:\n",
    "                m.append(mask[i, j - 1])\n",
    "            if (min(m) == 0) and (mask[i, j] == 1):\n",
    "                contour_pos.append((i, j))\n",
    "    return contour_pos"
   ]
  },
  {
   "cell_type": "code",
   "execution_count": null,
   "metadata": {},
   "outputs": [],
   "source": [
    "def get_contour_arr(mask):\n",
    "    \"\"\"\n",
    "    This function will take a binary mask array and will return the contour of the mask\n",
    "    Inputs:\n",
    "        mask (np.array): binary 2d numpy array \n",
    "    Returns:\n",
    "        contour (np.array): binary 2d numpy array\n",
    "    \"\"\"\n",
    "    if mask.max() != 1:\n",
    "        mask_copy = mask.copy() / mask.max()\n",
    "    mask_contour = mask_copy.copy()\n",
    "    for i, j in get_contour_pos(mask_contour):\n",
    "        mask_contour[i, j] = 2\n",
    "\n",
    "    return (mask_contour - mask_copy)"
   ]
  },
  {
   "cell_type": "code",
   "execution_count": null,
   "metadata": {},
   "outputs": [],
   "source": [
    "def show_with_sz(image, sz=10):\n",
    "    plt.figure(figsize=(sz, sz))\n",
    "    plt.imshow(image)\n",
    "    plt.show()\n",
    "    plt.close()"
   ]
  },
  {
   "cell_type": "code",
   "execution_count": null,
   "metadata": {},
   "outputs": [],
   "source": [
    "mask_images = [read2d(mpath) for mpath in sample_masks]"
   ]
  },
  {
   "cell_type": "code",
   "execution_count": null,
   "metadata": {},
   "outputs": [],
   "source": [
    "show_with_sz(mask_images[0])"
   ]
  },
  {
   "cell_type": "code",
   "execution_count": null,
   "metadata": {},
   "outputs": [],
   "source": [
    "contour_images = [get_contour_arr(mask) for mask in mask_images]"
   ]
  },
  {
   "cell_type": "code",
   "execution_count": null,
   "metadata": {},
   "outputs": [],
   "source": [
    "sum_contours = 0\n",
    "for cntr in contour_images:\n",
    "    sum_contours += cntr"
   ]
  },
  {
   "cell_type": "code",
   "execution_count": null,
   "metadata": {},
   "outputs": [],
   "source": [
    "show_with_sz(sum_contours)"
   ]
  },
  {
   "cell_type": "code",
   "execution_count": null,
   "metadata": {},
   "outputs": [],
   "source": [
    "# get expanded contour at every directions\n",
    "# this will be helpful for overlaps\n",
    "# all 8 directions of movement in 2d\n",
    "all_directions = set(itertools.permutations([1,1,-1, -1, 0, 0], 2))\n",
    "\n",
    "def expand_contour(contour, directions=all_directions):\n",
    "    \"\"\"\n",
    "    This function will expand a contour in a given set of directions by turning pixels into 1s\n",
    "    Inputs:\n",
    "        contour (np.array): Binary 2d numpy array which is the binary contour array\n",
    "        directions (list): A list of tuples which has the movement addiiton in ith and jth position in tuples, e.g\n",
    "        for moving left and right [(0, 1), (0, -1)], default is all 8 directions\n",
    "    Returns:\n",
    "        expanded_contour (np.array): Binary 2d numpy array which is the expanded contour array\n",
    "    \"\"\"\n",
    "    \n",
    "    expanded_contour = contour.copy()\n",
    "    for i, j in zip(np.where(contour == 1)[0], np.where(contour == 1)[1]):\n",
    "        for i_plus, j_plus in all_directions:\n",
    "            try:\n",
    "                expanded_contour[i + i_plus, j + j_plus] = 1\n",
    "            except: continue # this is for the edges for now, not best practice but practical for fast solution\n",
    "    return expanded_contour"
   ]
  },
  {
   "cell_type": "code",
   "execution_count": null,
   "metadata": {},
   "outputs": [],
   "source": [
    "expanded_contour_images = [expand_contour(contour) for contour in contour_images]"
   ]
  },
  {
   "cell_type": "code",
   "execution_count": null,
   "metadata": {},
   "outputs": [],
   "source": [
    "sum_expanded_contours = 0\n",
    "for expanded_contour in expanded_contour_images:\n",
    "    sum_expanded_contours += expanded_contour\n",
    "sum_expanded_contours[sum_expanded_contours > 1] = 2"
   ]
  },
  {
   "cell_type": "code",
   "execution_count": null,
   "metadata": {},
   "outputs": [],
   "source": [
    "show_with_sz(sum_expanded_contours)"
   ]
  },
  {
   "cell_type": "code",
   "execution_count": null,
   "metadata": {},
   "outputs": [],
   "source": [
    "sum_mask_images = 0\n",
    "for mask_image in mask_images:\n",
    "    sum_mask_images += mask_image / 255 # make it binary"
   ]
  },
  {
   "cell_type": "code",
   "execution_count": null,
   "metadata": {},
   "outputs": [],
   "source": [
    "show_with_sz(sum_mask_images)"
   ]
  },
  {
   "cell_type": "markdown",
   "metadata": {},
   "source": [
    "**COMBINE INFORMATION FROM SUM EXPANDED CONTOURS AND SUM MASK IMAGES**\n",
    "\n",
    "This is definitely a a better job than trying to follow papers methodology which is a bit complex and unclear to implement.\n",
    "\n",
    "Now we have 3 classes as follows: background:0, foreground:1, boundary:2"
   ]
  },
  {
   "cell_type": "code",
   "execution_count": null,
   "metadata": {},
   "outputs": [],
   "source": [
    "sum_mask_images[sum_expanded_contours == 2] = 2"
   ]
  },
  {
   "cell_type": "code",
   "execution_count": null,
   "metadata": {},
   "outputs": [],
   "source": [
    "show_with_sz(sum_mask_images)"
   ]
  },
  {
   "cell_type": "markdown",
   "metadata": {},
   "source": [
    "Here if we ignore background and 4 yellow boundaries, we perfectly match the number of nuclei provided in training set. Before using one mask image due to overlaps when using label function we were getting very bad results and this was effecting our score really really bad."
   ]
  },
  {
   "cell_type": "code",
   "execution_count": null,
   "metadata": {},
   "outputs": [],
   "source": [
    "len(np.unique(label(sum_mask_images))) - 1 - 4\n",
    "len(sample_masks)"
   ]
  },
  {
   "cell_type": "markdown",
   "metadata": {},
   "source": [
    "#### Multiclass One Mask Pipeline\n",
    "\n",
    "- Get sample mask paths\n",
    "- Read sample mask images\n",
    "- Get contour images \n",
    "- Get expanded contour images\n",
    "- Calc sum expanded contour images\n",
    "    - Clip pixels greater than 1 to 2\n",
    "- Calc sum mask images\n",
    "    - Filter sum mask images by sum expanded contour images ==2 and assign 2 "
   ]
  },
  {
   "cell_type": "code",
   "execution_count": null,
   "metadata": {},
   "outputs": [],
   "source": [
    "def list_files(path):\n",
    "    \"\"\"\n",
    "    List files under a path\n",
    "    \"\"\"\n",
    "    if path[-1] != '/':\n",
    "        path = path + '/'\n",
    "    return [path + p for p in os.listdir(path)]\n",
    "\n",
    "def list_directory(path):\n",
    "    \"\"\"\n",
    "    List directory under a path\n",
    "    \"\"\"\n",
    "    if path[-1] != '/':\n",
    "        path = path + '/'\n",
    "    return [path + p + '/' for p in os.listdir(path)]\n",
    "\n",
    "\n",
    "def multiclass_onemask(sample_masks):\n",
    "    \"\"\"\n",
    "    This function will return a multiclass mask having the labels:\n",
    "        0: background\n",
    "        1: foreground\n",
    "        2: overlap boundary - 2 nuclei sticked together\n",
    "        \n",
    "    Inputs:\n",
    "        sample_masks (list): a list of path of individual masks belonging to the same image\n",
    "    \"\"\"\n",
    "    # get mask images\n",
    "    mask_images = [read2d(mpath) for mpath in sample_masks]\n",
    "    # get contour images\n",
    "    contour_images = [get_contour_arr(mask) for mask in mask_images]\n",
    "    # create expanded contour images\n",
    "    expanded_contour_images = [expand_contour(contour) for contour in contour_images]\n",
    "    # sum and assign to expanded contour images\n",
    "    sum_expanded_contours = 0\n",
    "    for expanded_contour in expanded_contour_images:\n",
    "        sum_expanded_contours += expanded_contour\n",
    "    sum_expanded_contours[sum_expanded_contours > 1] = 2\n",
    "    # sum mask images and draw overlap boundaries\n",
    "    sum_mask_images = 0\n",
    "    for mask_image in mask_images:\n",
    "        sum_mask_images += mask_image / 255 # make it binary\n",
    "    sum_mask_images[sum_expanded_contours == 2] = 2\n",
    "    \n",
    "    return sum_mask_images"
   ]
  },
  {
   "cell_type": "code",
   "execution_count": null,
   "metadata": {
    "scrolled": true
   },
   "outputs": [],
   "source": [
    "valid_dirs = list_directory('../data/ds_bowl_2018/valid/')"
   ]
  },
  {
   "cell_type": "code",
   "execution_count": null,
   "metadata": {},
   "outputs": [],
   "source": [
    "i = 5 # i th sample\n",
    "sample_image = list_files(valid_dirs[i] + 'images/') # sample image\n",
    "sample_masks = list_files(valid_dirs[i] + 'masks/') # sample masks"
   ]
  },
  {
   "cell_type": "code",
   "execution_count": null,
   "metadata": {},
   "outputs": [],
   "source": [
    "show_with_sz(read3d(sample_image[0]))"
   ]
  },
  {
   "cell_type": "code",
   "execution_count": null,
   "metadata": {},
   "outputs": [],
   "source": [
    "mclass_mask = multiclass_onemask(sample_masks)"
   ]
  },
  {
   "cell_type": "code",
   "execution_count": null,
   "metadata": {},
   "outputs": [],
   "source": [
    "show_with_sz(mclass_mask)"
   ]
  },
  {
   "cell_type": "code",
   "execution_count": null,
   "metadata": {},
   "outputs": [],
   "source": [
    "# include only foreground and background for label evaluation\n",
    "final_mask_eval = mclass_mask.copy()\n",
    "final_mask_eval[final_mask_eval == 2] = 0"
   ]
  },
  {
   "cell_type": "code",
   "execution_count": null,
   "metadata": {},
   "outputs": [],
   "source": [
    "show_with_sz(final_mask_eval)"
   ]
  },
  {
   "cell_type": "code",
   "execution_count": null,
   "metadata": {},
   "outputs": [],
   "source": [
    "# exclude background and check if it matches\n",
    "len(np.unique(label(final_mask_eval))) - 1, len(sample_masks)"
   ]
  },
  {
   "cell_type": "markdown",
   "metadata": {},
   "source": [
    "### Create Multiclass One Mask for every image\n",
    "\n",
    "We will create multiclass one mask iamges for each sample like we did in one mask before under full train directory. Because when we create new train and valid sets from full data we would like to copy everything including one_mask as well as mclass_one_mask."
   ]
  },
  {
   "cell_type": "code",
   "execution_count": null,
   "metadata": {},
   "outputs": [],
   "source": [
    "MAIN_PATH = '../data/ds_bowl_2018/full_data/'"
   ]
  },
  {
   "cell_type": "code",
   "execution_count": null,
   "metadata": {},
   "outputs": [],
   "source": [
    "data_dirs = list_directory(MAIN_PATH)"
   ]
  },
  {
   "cell_type": "code",
   "execution_count": null,
   "metadata": {},
   "outputs": [],
   "source": [
    "data_dirs[1], len(data_dirs) "
   ]
  },
  {
   "cell_type": "code",
   "execution_count": null,
   "metadata": {},
   "outputs": [],
   "source": [
    "# function for creating multiclass masks given a directory path\n",
    "def create_mclass_masks(dir_):\n",
    "    sample_image = list_files(dir_ + 'images/') # list of sample image, a single image for each sample\n",
    "    sample_masks = list_files(dir_ + 'masks/') # list of sample masks paths\n",
    "    mclass_mask = multiclass_onemask(sample_masks)\n",
    "    plt.imsave(dir_ + 'mclass_one_mask.png', mclass_mask)"
   ]
  },
  {
   "cell_type": "code",
   "execution_count": null,
   "metadata": {},
   "outputs": [],
   "source": [
    "# run on multiple cpus for speed\n",
    "from multiprocessing import Pool\n",
    "p = Pool(4)\n",
    "_ = p.map(create_mclass_masks, data_dirs)"
   ]
  },
  {
   "cell_type": "code",
   "execution_count": null,
   "metadata": {},
   "outputs": [],
   "source": [
    "mclass_mask = read2d(data_dirs[-1] + 'mclass_one_mask.png')"
   ]
  },
  {
   "cell_type": "code",
   "execution_count": null,
   "metadata": {
    "scrolled": false
   },
   "outputs": [],
   "source": [
    "show_with_sz(mclass_mask)"
   ]
  },
  {
   "cell_type": "code",
   "execution_count": null,
   "metadata": {},
   "outputs": [],
   "source": [
    "# Pixel Intensity Mapping\n",
    "\n",
    "#If there are 3 unique pixel intensities\n",
    "# 30 : Background\n",
    "# 110 : Nuclei\n",
    "# 215 : Overlap Boundary\n",
    "\n",
    "#If there are 2 unique pixel intensities\n",
    "# 30 : Background\n",
    "# 215 : Nuclei\n",
    "\n",
    "np.unique(mclass_mask)"
   ]
  },
  {
   "cell_type": "code",
   "execution_count": null,
   "metadata": {},
   "outputs": [],
   "source": [
    "show_with_sz(mclass_mask == 215)"
   ]
  },
  {
   "cell_type": "markdown",
   "metadata": {},
   "source": [
    "### Sanity check - masks"
   ]
  },
  {
   "cell_type": "code",
   "execution_count": null,
   "metadata": {},
   "outputs": [],
   "source": [
    "def show_side_to_side(im1, im2, figsize=(13, 13)):\n",
    "    plt.figure(figsize=figsize)\n",
    "    plt.subplot(1,2,1)\n",
    "    plt.imshow(im1)\n",
    "    plt.subplot(1,2,2)\n",
    "    plt.imshow(im2)\n",
    "    plt.show()\n",
    "    plt.close()"
   ]
  },
  {
   "cell_type": "code",
   "execution_count": null,
   "metadata": {},
   "outputs": [],
   "source": [
    "for dir_ in data_dirs:\n",
    "    image_path = list_files(dir_ + '/images')[0]\n",
    "    mask_path = dir_ + 'mclass_one_mask.png'\n",
    "    mask = read2d(mask_path)\n",
    "    image = read3d(image_path)\n",
    "    show_side_to_side(mask, image)"
   ]
  },
  {
   "cell_type": "markdown",
   "metadata": {},
   "source": [
    "## Part 2: Defining Weights"
   ]
  },
  {
   "cell_type": "markdown",
   "metadata": {},
   "source": [
    "#### 1- Distance Transform Based Weight Map (DWM)\n",
    "\n",
    "## Pixel Intensity Mapping\n",
    "\n",
    "If there are 3 unique pixel intensities\n",
    "\n",
    "- 30 : Background\n",
    "- 110 : Nuclei\n",
    "- 215 : Overlap Boundary\n",
    "\n",
    "If there are 2 unique pixel intensities\n",
    "\n",
    "- 30 : Background\n",
    "- 215 : Nuclei\n",
    "\n",
    "#### weights\n",
    "\n",
    "w DW M (p, β) = w 0 (p) (1 − min (φ g (p)/β, 1))\n",
    "\n",
    "- Find w0 : 1 / |g| number of pixels for that class, g0 > g1 > g2"
   ]
  },
  {
   "cell_type": "markdown",
   "metadata": {},
   "source": [
    "### 1 -  Using just class weights"
   ]
  },
  {
   "cell_type": "code",
   "execution_count": null,
   "metadata": {},
   "outputs": [],
   "source": [
    "# for non-background w = w0\n",
    "# w = w0*(1 - min(phi / beta, 1))"
   ]
  },
  {
   "cell_type": "code",
   "execution_count": null,
   "metadata": {},
   "outputs": [],
   "source": [
    "MAIN_PATH = '../data/ds_bowl_2018/full_data/'"
   ]
  },
  {
   "cell_type": "code",
   "execution_count": null,
   "metadata": {},
   "outputs": [],
   "source": [
    "data_dirs = list_directory(MAIN_PATH)"
   ]
  },
  {
   "cell_type": "code",
   "execution_count": null,
   "metadata": {},
   "outputs": [],
   "source": [
    "data_dirs[:5]"
   ]
  },
  {
   "cell_type": "code",
   "execution_count": null,
   "metadata": {},
   "outputs": [],
   "source": [
    "tot_background = 0\n",
    "tot_nuclei = 0\n",
    "tot_overlap = 0\n",
    "\n",
    "for i in range(len(data_dirs)):\n",
    "    files = list_files(data_dirs[i])\n",
    "    mclass_mask = read2d(files[2])\n",
    "    if len(np.unique(mclass_mask)) == 2:\n",
    "        tot_background += np.sum(mclass_mask == 30) # background\n",
    "        tot_nuclei += np.sum(mclass_mask == 215) # nuclei\n",
    "    else:\n",
    "        tot_background += np.sum(mclass_mask == 30) # background\n",
    "        tot_nuclei += np.sum(mclass_mask == 110) # nuclei\n",
    "        tot_overlap += np.sum(mclass_mask == 215) # overlap"
   ]
  },
  {
   "cell_type": "code",
   "execution_count": null,
   "metadata": {},
   "outputs": [],
   "source": [
    "w_background, w_nuclei, w_overlap  =\\\n",
    "    1 / ((tot_background, tot_nuclei, tot_overlap) / (tot_background + tot_nuclei + tot_overlap))"
   ]
  },
  {
   "cell_type": "code",
   "execution_count": null,
   "metadata": {},
   "outputs": [],
   "source": [
    "w_background, w_nuclei, w_overlap = (1.1551767249306626, 7.544967099214484, 57.753645718466)"
   ]
  },
  {
   "cell_type": "markdown",
   "metadata": {},
   "source": [
    "### 2 -  Using normalized regional weights"
   ]
  },
  {
   "cell_type": "code",
   "execution_count": null,
   "metadata": {},
   "outputs": [],
   "source": [
    "image_path = list_files(dir_ + '/images')[0]\n",
    "mask_path = dir_ + 'mclass_one_mask.png'\n",
    "mask = read2d(mask_path)\n",
    "image = read3d(image_path)\n",
    "show_side_to_side(mask, image)"
   ]
  },
  {
   "cell_type": "code",
   "execution_count": null,
   "metadata": {},
   "outputs": [],
   "source": [
    "mask = mask.astype(float)"
   ]
  },
  {
   "cell_type": "code",
   "execution_count": null,
   "metadata": {},
   "outputs": [],
   "source": [
    "if len(uniq_pixels) == 3:\n",
    "    mask[mask == 30] = w_background\n",
    "    mask[mask == 110] = w_nuclei\n",
    "    mask[mask == 215] = w_overlap\n",
    "else:\n",
    "    mask[mask == 30] = w_background\n",
    "    mask[mask == 215] = w_nuclei"
   ]
  },
  {
   "cell_type": "code",
   "execution_count": null,
   "metadata": {},
   "outputs": [],
   "source": [
    "import scipy\n",
    "kernel = np.ones((3,3))\n",
    "SAW = scipy.signal.convolve2d(mask, kernel, mode='full', boundary='fill', fillvalue=0)"
   ]
  },
  {
   "cell_type": "code",
   "execution_count": null,
   "metadata": {},
   "outputs": [],
   "source": [
    "mmin, mmax = SAW.min(), SAW.max()"
   ]
  },
  {
   "cell_type": "code",
   "execution_count": null,
   "metadata": {},
   "outputs": [],
   "source": [
    "SAW_norm = (SAW) / (mmax - mmin)"
   ]
  },
  {
   "cell_type": "code",
   "execution_count": null,
   "metadata": {
    "scrolled": false
   },
   "outputs": [],
   "source": [
    "plt.hist(SAW_norm.flatten())"
   ]
  },
  {
   "cell_type": "code",
   "execution_count": null,
   "metadata": {
    "scrolled": false
   },
   "outputs": [],
   "source": [
    "plt.figure(figsize=(13, 13))\n",
    "plt.imshow(SAW_norm, cmap='inferno')"
   ]
  },
  {
   "cell_type": "code",
   "execution_count": null,
   "metadata": {},
   "outputs": [],
   "source": []
  }
 ],
 "metadata": {
  "kernelspec": {
   "display_name": "Python 3",
   "language": "python",
   "name": "python3"
  },
  "language_info": {
   "codemirror_mode": {
    "name": "ipython",
    "version": 3
   },
   "file_extension": ".py",
   "mimetype": "text/x-python",
   "name": "python",
   "nbconvert_exporter": "python",
   "pygments_lexer": "ipython3",
   "version": "3.6.4"
  }
 },
 "nbformat": 4,
 "nbformat_minor": 2
}
