{
 "cells": [
  {
   "cell_type": "code",
   "execution_count": 1,
   "metadata": {},
   "outputs": [],
   "source": [
    "%matplotlib inline\n",
    "%reload_ext autoreload\n",
    "%autoreload 2"
   ]
  },
  {
   "cell_type": "code",
   "execution_count": 2,
   "metadata": {},
   "outputs": [],
   "source": [
    "from pathlib import Path\n",
    "import pandas as pd\n",
    "from feateng import *\n",
    "import matplotlib.pyplot as plt"
   ]
  },
  {
   "cell_type": "code",
   "execution_count": 3,
   "metadata": {},
   "outputs": [
    {
     "data": {
      "text/plain": [
       "[PosixPath('../data/talking_data/test.csv'),\n",
       " PosixPath('../data/talking_data/test.csv.zip'),\n",
       " PosixPath('../data/talking_data/train_sample.csv'),\n",
       " PosixPath('../data/talking_data/train_sample.csv.zip'),\n",
       " PosixPath('../data/talking_data/train.csv.zip'),\n",
       " PosixPath('../data/talking_data/train.csv')]"
      ]
     },
     "execution_count": 3,
     "metadata": {},
     "output_type": "execute_result"
    }
   ],
   "source": [
    "files = list(Path('../data/talking_data/').iterdir())\n",
    "files"
   ]
  },
  {
   "cell_type": "code",
   "execution_count": 4,
   "metadata": {},
   "outputs": [],
   "source": [
    "train = pd.read_csv(files[2])"
   ]
  },
  {
   "cell_type": "code",
   "execution_count": 5,
   "metadata": {},
   "outputs": [
    {
     "data": {
      "text/html": [
       "<div>\n",
       "<style scoped>\n",
       "    .dataframe tbody tr th:only-of-type {\n",
       "        vertical-align: middle;\n",
       "    }\n",
       "\n",
       "    .dataframe tbody tr th {\n",
       "        vertical-align: top;\n",
       "    }\n",
       "\n",
       "    .dataframe thead th {\n",
       "        text-align: right;\n",
       "    }\n",
       "</style>\n",
       "<table border=\"1\" class=\"dataframe\">\n",
       "  <thead>\n",
       "    <tr style=\"text-align: right;\">\n",
       "      <th></th>\n",
       "      <th>ip</th>\n",
       "      <th>app</th>\n",
       "      <th>device</th>\n",
       "      <th>os</th>\n",
       "      <th>channel</th>\n",
       "      <th>click_time</th>\n",
       "      <th>attributed_time</th>\n",
       "      <th>is_attributed</th>\n",
       "    </tr>\n",
       "  </thead>\n",
       "  <tbody>\n",
       "    <tr>\n",
       "      <th>0</th>\n",
       "      <td>87540</td>\n",
       "      <td>12</td>\n",
       "      <td>1</td>\n",
       "      <td>13</td>\n",
       "      <td>497</td>\n",
       "      <td>2017-11-07 09:30:38</td>\n",
       "      <td>NaN</td>\n",
       "      <td>0</td>\n",
       "    </tr>\n",
       "    <tr>\n",
       "      <th>1</th>\n",
       "      <td>105560</td>\n",
       "      <td>25</td>\n",
       "      <td>1</td>\n",
       "      <td>17</td>\n",
       "      <td>259</td>\n",
       "      <td>2017-11-07 13:40:27</td>\n",
       "      <td>NaN</td>\n",
       "      <td>0</td>\n",
       "    </tr>\n",
       "  </tbody>\n",
       "</table>\n",
       "</div>"
      ],
      "text/plain": [
       "       ip  app  device  os  channel           click_time attributed_time  \\\n",
       "0   87540   12       1  13      497  2017-11-07 09:30:38             NaN   \n",
       "1  105560   25       1  17      259  2017-11-07 13:40:27             NaN   \n",
       "\n",
       "   is_attributed  \n",
       "0              0  \n",
       "1              0  "
      ]
     },
     "execution_count": 5,
     "metadata": {},
     "output_type": "execute_result"
    }
   ],
   "source": [
    "train.head(2)"
   ]
  },
  {
   "cell_type": "code",
   "execution_count": 6,
   "metadata": {},
   "outputs": [],
   "source": [
    "# convert to datetime\n",
    "train.click_time = pd.to_datetime(train.click_time)"
   ]
  },
  {
   "cell_type": "code",
   "execution_count": 7,
   "metadata": {},
   "outputs": [],
   "source": [
    "train['hour'] = train.click_time.dt.hour"
   ]
  },
  {
   "cell_type": "code",
   "execution_count": 8,
   "metadata": {},
   "outputs": [],
   "source": [
    "train.sort_values(by=\"click_time\", ascending=True, inplace=True)"
   ]
  },
  {
   "cell_type": "code",
   "execution_count": 9,
   "metadata": {},
   "outputs": [],
   "source": [
    "train.reset_index(inplace=True, drop=True)"
   ]
  },
  {
   "cell_type": "code",
   "execution_count": 10,
   "metadata": {},
   "outputs": [],
   "source": [
    "# train.head(2)\n",
    "\n",
    "# # extract hour\n",
    "# train['hour'] = train.click_time.dt.hour\n",
    "\n",
    "# train.head(2)\n",
    "\n",
    "# ip_device_counts = train.groupby('ip')['device'].apply(lambda x: x.nunique()).reset_index()\n",
    "\n",
    "# ip_device_counts.head()\n",
    "\n",
    "# device_change = ip_device_counts[ip_device_counts.device > 1]\n",
    "\n",
    "# ip_device_counts.device.max()\n",
    "\n",
    "# plt.hist(device_change.device)\n",
    "\n",
    "# plt.hist(train.groupby(\"ip\")[\"ip\"].count())"
   ]
  },
  {
   "cell_type": "code",
   "execution_count": 19,
   "metadata": {},
   "outputs": [],
   "source": [
    "train[\"random\"] = np.random.randn(len(train))"
   ]
  },
  {
   "cell_type": "code",
   "execution_count": 28,
   "metadata": {},
   "outputs": [
    {
     "data": {
      "text/plain": [
       "Index(['ip', 'app', 'device', 'os', 'channel', 'click_time', 'attributed_time',\n",
       "       'is_attributed', 'hour', 'ip_device_os', 'app_channel', 'ip_channel',\n",
       "       'ip_device_os_kfold_mean', 'ip_device_os_expanding_mean',\n",
       "       'app_channel_kfold_mean', 'app_channel_expanding_mean', 'ip_kfold_mean',\n",
       "       'ip_expanding_mean', 'app_kfold_mean', 'app_expanding_mean',\n",
       "       'channel_kfold_mean', 'channel_expanding_mean', 'ip_channel_kfold_mean',\n",
       "       'ip_channel_expanding_mean', 'random'],\n",
       "      dtype='object')"
      ]
     },
     "execution_count": 28,
     "metadata": {},
     "output_type": "execute_result"
    }
   ],
   "source": [
    "train.columns"
   ]
  },
  {
   "cell_type": "code",
   "execution_count": 56,
   "metadata": {
    "scrolled": true
   },
   "outputs": [],
   "source": [
    "train_data = train[:80000]\n",
    "val_data = train[80000:90000]\n",
    "test_data = train[90000:]\n",
    "\n",
    "usecols = ['ip', 'app', 'device', 'os', 'channel',\n",
    "       'hour', 'app_channel', 'ip_device_os_expanding_mean',\n",
    "       'app_channel_kfold_mean', 'app_channel_expanding_mean', 'ip_kfold_mean',\n",
    "       'ip_expanding_mean', 'app_kfold_mean', 'app_expanding_mean',\n",
    "       'channel_kfold_mean', 'channel_expanding_mean', 'ip_channel_kfold_mean',\n",
    "       'random']\n",
    "\n",
    "trn_df = train_data[usecols] \n",
    "val_df = val_data[usecols]\n",
    "test_df = test_data[usecols]\n",
    "\n",
    "trn_y = train_data.is_attributed\n",
    "val_y = val_data.is_attributed\n",
    "test_y = test_data.is_attributed"
   ]
  },
  {
   "cell_type": "markdown",
   "metadata": {},
   "source": [
    "### xgb"
   ]
  },
  {
   "cell_type": "code",
   "execution_count": 57,
   "metadata": {},
   "outputs": [],
   "source": [
    "from xgb_learn.dataset import *\n",
    "from xgb_learn.learner import *"
   ]
  },
  {
   "cell_type": "code",
   "execution_count": 58,
   "metadata": {},
   "outputs": [],
   "source": [
    "md = XGBModelData(trn_df, val_df, trn_y, val_y)"
   ]
  },
  {
   "cell_type": "code",
   "execution_count": 59,
   "metadata": {},
   "outputs": [],
   "source": [
    "dtrain, dval, evals = md.get_train_eval_ds()"
   ]
  },
  {
   "cell_type": "code",
   "execution_count": 60,
   "metadata": {},
   "outputs": [],
   "source": [
    "xgb_learner = XGBLearner(dtrain, evals, True, 0.1, \"binary:logistic\", \"auc\")"
   ]
  },
  {
   "cell_type": "code",
   "execution_count": 61,
   "metadata": {},
   "outputs": [],
   "source": [
    "xgb_learner.init_num_rounds, xgb_learner.init_early = 100, 10"
   ]
  },
  {
   "cell_type": "code",
   "execution_count": 62,
   "metadata": {},
   "outputs": [
    {
     "name": "stdout",
     "output_type": "stream",
     "text": [
      "Initialization Successful\n"
     ]
    }
   ],
   "source": [
    "xgb_learner.initialize()"
   ]
  },
  {
   "cell_type": "code",
   "execution_count": 63,
   "metadata": {},
   "outputs": [
    {
     "data": {
      "text/plain": [
       "16"
      ]
     },
     "execution_count": 63,
     "metadata": {},
     "output_type": "execute_result"
    }
   ],
   "source": [
    "xgb_learner.num_rounds"
   ]
  },
  {
   "cell_type": "code",
   "execution_count": 64,
   "metadata": {},
   "outputs": [
    {
     "name": "stdout",
     "output_type": "stream",
     "text": [
      "Found new best score 0.994161\n",
      "Found new best score 0.994599\n",
      "----------------------------------------\n",
      "Best params and best iteration are found\n",
      "----------------------------------------\n"
     ]
    }
   ],
   "source": [
    "xgb_learner.random_search(100, verbose=True)"
   ]
  },
  {
   "cell_type": "code",
   "execution_count": 65,
   "metadata": {},
   "outputs": [],
   "source": [
    "xgb_learner.fit_best_model(dtrain)"
   ]
  },
  {
   "cell_type": "code",
   "execution_count": 78,
   "metadata": {},
   "outputs": [],
   "source": [
    "# generalize\n",
    "xgb_learner.best_iteration = xgb_learner.best_iteration*10\n",
    "xgb_learner.best_params['eta'] = xgb_learner.best_params['eta']/10"
   ]
  },
  {
   "cell_type": "code",
   "execution_count": 81,
   "metadata": {},
   "outputs": [],
   "source": [
    "xgb_learner.fit_best_model(dtrain)"
   ]
  },
  {
   "cell_type": "code",
   "execution_count": 79,
   "metadata": {},
   "outputs": [
    {
     "data": {
      "text/plain": [
       "{'colsample_bylevel': 0.5646318906765148,\n",
       " 'colsample_bytree': 0.2447481283438151,\n",
       " 'eta': 0.01,\n",
       " 'eval_metric': 'auc',\n",
       " 'gamma': 2,\n",
       " 'max_depth': 5,\n",
       " 'min_child_weight': 42,\n",
       " 'objective': 'binary:logistic',\n",
       " 'seed': 20,\n",
       " 'subsample': 0.6139158675405303}"
      ]
     },
     "execution_count": 79,
     "metadata": {},
     "output_type": "execute_result"
    }
   ],
   "source": [
    "xgb_learner.best_params"
   ]
  },
  {
   "cell_type": "code",
   "execution_count": 80,
   "metadata": {},
   "outputs": [
    {
     "data": {
      "text/plain": [
       "270"
      ]
     },
     "execution_count": 80,
     "metadata": {},
     "output_type": "execute_result"
    }
   ],
   "source": [
    "xgb_learner.best_iteration"
   ]
  },
  {
   "cell_type": "markdown",
   "metadata": {},
   "source": [
    "#### shap"
   ]
  },
  {
   "cell_type": "code",
   "execution_count": 82,
   "metadata": {},
   "outputs": [],
   "source": [
    "import shap"
   ]
  },
  {
   "cell_type": "code",
   "execution_count": 83,
   "metadata": {},
   "outputs": [
    {
     "data": {
      "image/png": "[encoded data removed]",
      "text/plain": [
       "<Figure size 576x626.4 with 2 Axes>"
      ]
     },
     "metadata": {},
     "output_type": "display_data"
    }
   ],
   "source": [
    "shap_values = shap.TreeExplainer(xgb_learner.best_model).shap_values(val_df.sample(10000, random_state=4))\n",
    "shap.summary_plot(shap_values, val_df.sample(10000, random_state=4))"
   ]
  },
  {
   "cell_type": "code",
   "execution_count": null,
   "metadata": {},
   "outputs": [],
   "source": []
  },
  {
   "cell_type": "code",
   "execution_count": null,
   "metadata": {},
   "outputs": [],
   "source": []
  },
  {
   "cell_type": "markdown",
   "metadata": {},
   "source": [
    "#### leaf preds"
   ]
  },
  {
   "cell_type": "code",
   "execution_count": 84,
   "metadata": {},
   "outputs": [],
   "source": [
    "all_data = xgb.DMatrix(pd.concat([trn_df, val_df, test_df]))"
   ]
  },
  {
   "cell_type": "code",
   "execution_count": 85,
   "metadata": {
    "scrolled": true
   },
   "outputs": [],
   "source": [
    "xgb_leaf_preds = xgb_learner.predict(all_data, True)"
   ]
  },
  {
   "cell_type": "code",
   "execution_count": 86,
   "metadata": {
    "scrolled": true
   },
   "outputs": [],
   "source": [
    "xgb_leaf_preds_encoded = pd.get_dummies(pd.DataFrame(xgb_leaf_preds), columns=range(12))"
   ]
  },
  {
   "cell_type": "code",
   "execution_count": 87,
   "metadata": {},
   "outputs": [
    {
     "data": {
      "text/plain": [
       "(100000, 285)"
      ]
     },
     "execution_count": 87,
     "metadata": {},
     "output_type": "execute_result"
    }
   ],
   "source": [
    "xgb_leaf_preds_encoded.shape"
   ]
  },
  {
   "cell_type": "markdown",
   "metadata": {},
   "source": [
    "#### actual preds"
   ]
  },
  {
   "cell_type": "code",
   "execution_count": 88,
   "metadata": {},
   "outputs": [],
   "source": [
    "# predict on test\n",
    "from sklearn.metrics import roc_auc_score\n",
    "test_preds = xgb_learner.predict(xgb.DMatrix(test_df))"
   ]
  },
  {
   "cell_type": "code",
   "execution_count": 102,
   "metadata": {},
   "outputs": [
    {
     "data": {
      "text/plain": [
       "0.9841533066132263"
      ]
     },
     "execution_count": 102,
     "metadata": {},
     "output_type": "execute_result"
    }
   ],
   "source": [
    "# expanding + kfold features with interactions best columns\n",
    "roc_auc_score(test_y, test_preds)"
   ]
  },
  {
   "cell_type": "code",
   "execution_count": 522,
   "metadata": {},
   "outputs": [
    {
     "data": {
      "text/plain": [
       "0.9748697394789578"
      ]
     },
     "execution_count": 522,
     "metadata": {},
     "output_type": "execute_result"
    }
   ],
   "source": [
    "# interactions\n",
    "roc_auc_score(test_y, test_preds)"
   ]
  },
  {
   "cell_type": "code",
   "execution_count": 70,
   "metadata": {},
   "outputs": [
    {
     "data": {
      "text/plain": [
       "0.9824023046092184"
      ]
     },
     "execution_count": 70,
     "metadata": {},
     "output_type": "execute_result"
    }
   ],
   "source": [
    "# expanding + kfold features with interactions\n",
    "roc_auc_score(test_y, test_preds)"
   ]
  },
  {
   "cell_type": "code",
   "execution_count": 121,
   "metadata": {},
   "outputs": [
    {
     "data": {
      "text/plain": [
       "0.9816057114228457"
      ]
     },
     "execution_count": 121,
     "metadata": {},
     "output_type": "execute_result"
    }
   ],
   "source": [
    "# with random + all features\n",
    "roc_auc_score(test_y, test_preds)"
   ]
  },
  {
   "cell_type": "code",
   "execution_count": 135,
   "metadata": {},
   "outputs": [
    {
     "data": {
      "text/plain": [
       "0.9852730460921845"
      ]
     },
     "execution_count": 135,
     "metadata": {},
     "output_type": "execute_result"
    }
   ],
   "source": [
    "# with random + bad features dropped\n",
    "roc_auc_score(test_y, test_preds)"
   ]
  },
  {
   "cell_type": "code",
   "execution_count": 167,
   "metadata": {},
   "outputs": [
    {
     "data": {
      "text/plain": [
       "0.9872745490981962"
      ]
     },
     "execution_count": 167,
     "metadata": {},
     "output_type": "execute_result"
    }
   ],
   "source": [
    "# with random + bad features dropped + ip channel\n",
    "roc_auc_score(test_y, test_preds)"
   ]
  },
  {
   "cell_type": "code",
   "execution_count": 185,
   "metadata": {},
   "outputs": [
    {
     "data": {
      "text/plain": [
       "0.9817034068136272"
      ]
     },
     "execution_count": 185,
     "metadata": {},
     "output_type": "execute_result"
    }
   ],
   "source": [
    "# with random + bad features dropped\n",
    "roc_auc_score(test_y, test_preds)"
   ]
  },
  {
   "cell_type": "code",
   "execution_count": 74,
   "metadata": {},
   "outputs": [
    {
     "data": {
      "text/plain": [
       "0.9718837675350702"
      ]
     },
     "execution_count": 74,
     "metadata": {},
     "output_type": "execute_result"
    }
   ],
   "source": [
    "# with random + bad features dropped + time since\n",
    "roc_auc_score(test_y, test_preds)"
   ]
  },
  {
   "cell_type": "code",
   "execution_count": 89,
   "metadata": {},
   "outputs": [
    {
     "data": {
      "text/plain": [
       "0.9693912825651303"
      ]
     },
     "execution_count": 89,
     "metadata": {},
     "output_type": "execute_result"
    }
   ],
   "source": [
    "# with random + bad features dropped + time since\n",
    "roc_auc_score(test_y, test_preds)"
   ]
  },
  {
   "cell_type": "code",
   "execution_count": null,
   "metadata": {},
   "outputs": [],
   "source": []
  },
  {
   "cell_type": "code",
   "execution_count": null,
   "metadata": {},
   "outputs": [],
   "source": []
  },
  {
   "cell_type": "markdown",
   "metadata": {},
   "source": [
    "### lgb"
   ]
  },
  {
   "cell_type": "code",
   "execution_count": 92,
   "metadata": {},
   "outputs": [],
   "source": [
    "from xgb_learn.dataset import *\n",
    "from xgb_learn.learner import *"
   ]
  },
  {
   "cell_type": "code",
   "execution_count": 93,
   "metadata": {},
   "outputs": [],
   "source": [
    "dtrain = lgb.Dataset(data=trn_df, label=trn_y)\n",
    "dval = lgb.Dataset(data=val_df, label=val_y)"
   ]
  },
  {
   "cell_type": "code",
   "execution_count": 94,
   "metadata": {},
   "outputs": [],
   "source": [
    "lgb_learner = LGBMLearner(dtrain, dval, True, 0.1, \"binary\", \"auc\", verbose_eval=False)"
   ]
  },
  {
   "cell_type": "code",
   "execution_count": 95,
   "metadata": {},
   "outputs": [
    {
     "name": "stdout",
     "output_type": "stream",
     "text": [
      "Initialization Successful\n"
     ]
    }
   ],
   "source": [
    "lgb_learner.initialize()"
   ]
  },
  {
   "cell_type": "code",
   "execution_count": 96,
   "metadata": {},
   "outputs": [
    {
     "data": {
      "text/plain": [
       "49"
      ]
     },
     "execution_count": 96,
     "metadata": {},
     "output_type": "execute_result"
    }
   ],
   "source": [
    "lgb_learner.num_rounds"
   ]
  },
  {
   "cell_type": "code",
   "execution_count": 97,
   "metadata": {},
   "outputs": [
    {
     "name": "stdout",
     "output_type": "stream",
     "text": [
      "Found new best score 0.9930265664160401\n",
      "Found new best score 0.9940210526315789\n",
      "Found new best score 0.994558395989975\n",
      "----------------------------------------\n",
      "Best params and best iteration are found\n",
      "----------------------------------------\n"
     ]
    }
   ],
   "source": [
    "lgb_learner.random_search(100, verbose=True)"
   ]
  },
  {
   "cell_type": "code",
   "execution_count": 98,
   "metadata": {},
   "outputs": [
    {
     "data": {
      "text/plain": [
       "{'feature_fraction': 0.8234105498240059,\n",
       " 'learning_rate': 0.1,\n",
       " 'max_bin': 937,\n",
       " 'metric': 'auc',\n",
       " 'min_child_samples': 76,\n",
       " 'min_child_weight': 8,\n",
       " 'min_split_gain': 5,\n",
       " 'num_leaves': 60,\n",
       " 'objective': 'binary',\n",
       " 'seed': 20,\n",
       " 'subsample': 0.8641238232117986,\n",
       " 'verbose': 1}"
      ]
     },
     "execution_count": 98,
     "metadata": {},
     "output_type": "execute_result"
    }
   ],
   "source": [
    "lgb_learner.params"
   ]
  },
  {
   "cell_type": "code",
   "execution_count": 99,
   "metadata": {},
   "outputs": [
    {
     "data": {
      "text/plain": [
       "50"
      ]
     },
     "execution_count": 99,
     "metadata": {},
     "output_type": "execute_result"
    }
   ],
   "source": [
    "lgb_learner.best_iteration"
   ]
  },
  {
   "cell_type": "code",
   "execution_count": 100,
   "metadata": {},
   "outputs": [],
   "source": [
    "lgb_learner.fit_best_model(dtrain)"
   ]
  },
  {
   "cell_type": "markdown",
   "metadata": {},
   "source": [
    "#### leaf preds"
   ]
  },
  {
   "cell_type": "code",
   "execution_count": 101,
   "metadata": {},
   "outputs": [],
   "source": [
    "lgb_leaf_preds = lgb_learner.predict(pd.concat([trn_df, val_df, test_df]), True)"
   ]
  },
  {
   "cell_type": "code",
   "execution_count": 102,
   "metadata": {
    "scrolled": true
   },
   "outputs": [],
   "source": [
    "lgb_leaf_preds_encoded = pd.get_dummies(pd.DataFrame(lgb_leaf_preds), columns=range(7))"
   ]
  },
  {
   "cell_type": "code",
   "execution_count": 103,
   "metadata": {},
   "outputs": [
    {
     "data": {
      "text/plain": [
       "(100000, 113)"
      ]
     },
     "execution_count": 103,
     "metadata": {},
     "output_type": "execute_result"
    }
   ],
   "source": [
    "lgb_leaf_preds_encoded.shape"
   ]
  },
  {
   "cell_type": "markdown",
   "metadata": {},
   "source": [
    "#### normal preds"
   ]
  },
  {
   "cell_type": "code",
   "execution_count": 104,
   "metadata": {},
   "outputs": [],
   "source": [
    "test_preds = lgb_learner.predict(test_df)"
   ]
  },
  {
   "cell_type": "code",
   "execution_count": 504,
   "metadata": {},
   "outputs": [
    {
     "data": {
      "text/plain": [
       "0.9809018036072144"
      ]
     },
     "execution_count": 504,
     "metadata": {},
     "output_type": "execute_result"
    }
   ],
   "source": [
    "# default\n",
    "roc_auc_score(test_y, test_preds)"
   ]
  },
  {
   "cell_type": "code",
   "execution_count": 562,
   "metadata": {},
   "outputs": [
    {
     "data": {
      "text/plain": [
       "0.9607640280561122"
      ]
     },
     "execution_count": 562,
     "metadata": {},
     "output_type": "execute_result"
    }
   ],
   "source": [
    "# column interactions\n",
    "roc_auc_score(test_y, test_preds)"
   ]
  },
  {
   "cell_type": "code",
   "execution_count": 431,
   "metadata": {},
   "outputs": [
    {
     "data": {
      "text/plain": [
       "0.963371743486974"
      ]
     },
     "execution_count": 431,
     "metadata": {},
     "output_type": "execute_result"
    }
   ],
   "source": [
    "roc_auc_score(test_y, test_preds)"
   ]
  },
  {
   "cell_type": "code",
   "execution_count": 357,
   "metadata": {},
   "outputs": [
    {
     "data": {
      "text/plain": [
       "0.9466432865731462"
      ]
     },
     "execution_count": 357,
     "metadata": {},
     "output_type": "execute_result"
    }
   ],
   "source": [
    "roc_auc_score(test_y, test_preds)"
   ]
  },
  {
   "cell_type": "code",
   "execution_count": 105,
   "metadata": {},
   "outputs": [
    {
     "data": {
      "text/plain": [
       "0.9629859719438877"
      ]
     },
     "execution_count": 105,
     "metadata": {},
     "output_type": "execute_result"
    }
   ],
   "source": [
    "roc_auc_score(test_y, test_preds)"
   ]
  },
  {
   "cell_type": "code",
   "execution_count": null,
   "metadata": {},
   "outputs": [],
   "source": []
  },
  {
   "cell_type": "code",
   "execution_count": null,
   "metadata": {},
   "outputs": [],
   "source": []
  },
  {
   "cell_type": "markdown",
   "metadata": {
    "heading_collapsed": true
   },
   "source": [
    "### logistic"
   ]
  },
  {
   "cell_type": "code",
   "execution_count": 249,
   "metadata": {
    "hidden": true
   },
   "outputs": [],
   "source": [
    "from sklearn.linear_model import LogisticRegression\n",
    "from sklearn.metrics import roc_auc_score"
   ]
  },
  {
   "cell_type": "code",
   "execution_count": 250,
   "metadata": {
    "hidden": true
   },
   "outputs": [],
   "source": [
    "leaf_trn_df = xgb_leaf_preds_encoded[:80000]\n",
    "leaf_val_df = xgb_leaf_preds_encoded[80000:90000]\n",
    "leaf_test_df = xgb_leaf_preds_encoded[90000:]"
   ]
  },
  {
   "cell_type": "code",
   "execution_count": 254,
   "metadata": {
    "hidden": true
   },
   "outputs": [
    {
     "name": "stdout",
     "output_type": "stream",
     "text": [
      "1e-06 0.9596270676691729\n",
      "1e-05 0.9596230576441103\n",
      "0.0001 0.9556531328320802\n",
      "0.001 0.9568561403508772\n",
      "0.01 0.9636090225563909\n",
      "0.1 0.9699849624060151\n",
      "1 0.9700651629072682\n",
      "10 0.9750656641604009\n",
      "100 0.9756190476190476\n",
      "1000 0.9759117794486214\n",
      "10000 0.9759358395989974\n",
      "100000 0.9759438596491227\n"
     ]
    }
   ],
   "source": [
    "for c in [10**i for i in range(-6,6)]:\n",
    "    lr = LogisticRegression(penalty='l2', dual=False, C=c, max_iter=100)\n",
    "    lr.fit(leaf_trn_df, trn_y)\n",
    "    preds = lr.predict_proba(leaf_val_df)\n",
    "    score = roc_auc_score(val_y, preds[:, 1])\n",
    "    print(c, score)"
   ]
  },
  {
   "cell_type": "code",
   "execution_count": 273,
   "metadata": {
    "hidden": true
   },
   "outputs": [],
   "source": [
    "# test \n",
    "lr = LogisticRegression(penalty='l2', dual=False, C=1, max_iter=100)\n",
    "lr.fit(leaf_trn_df, trn_y)\n",
    "preds = lr.predict_proba(leaf_test_df)"
   ]
  },
  {
   "cell_type": "code",
   "execution_count": 274,
   "metadata": {
    "hidden": true
   },
   "outputs": [
    {
     "data": {
      "text/plain": [
       "0.9648246492985972"
      ]
     },
     "execution_count": 274,
     "metadata": {},
     "output_type": "execute_result"
    }
   ],
   "source": [
    "score = roc_auc_score(test_y, preds[:, 1])\n",
    "score"
   ]
  },
  {
   "cell_type": "markdown",
   "metadata": {},
   "source": [
    "### new features"
   ]
  },
  {
   "cell_type": "code",
   "execution_count": 10,
   "metadata": {},
   "outputs": [],
   "source": [
    "# feature interactions\n",
    "column_groups = [\n",
    "    ['ip', 'device', 'os'],\n",
    "    ['app', 'channel']\n",
    "]"
   ]
  },
  {
   "cell_type": "code",
   "execution_count": 11,
   "metadata": {},
   "outputs": [],
   "source": [
    "for columns in column_groups:\n",
    "    new_column = '_'.join(columns)\n",
    "    train[new_column] = \"\"\n",
    "\n",
    "    for c in columns:\n",
    "        train[new_column] += train[c].astype(str) + \"_\"\n",
    "    \n",
    "    val2idx = {val:i for i,val in enumerate(train[new_column].unique())}\n",
    "    train[new_column] = train[new_column].map(val2idx)"
   ]
  },
  {
   "cell_type": "code",
   "execution_count": 12,
   "metadata": {},
   "outputs": [],
   "source": [
    "def create_feat_interaction(data, columns):\n",
    "    \"\"\"\n",
    "    Create Featuer Interactions Column\n",
    "    \n",
    "    data (pd.DataFrame): Input dataframe to create the new column\n",
    "    columns (list): column names in list to combine\n",
    "    \"\"\"\n",
    "    \n",
    "    new_column = '_'.join(columns)\n",
    "    data[new_column] = \"\"\n",
    "\n",
    "    for c in columns:\n",
    "        data[new_column] += data[c].astype(str) + \"_\"\n",
    "    \n",
    "    val2idx = {val:i for i,val in enumerate(data[new_column].unique())}\n",
    "    data[new_column] = data[new_column].map(val2idx)\n",
    "    return data"
   ]
  },
  {
   "cell_type": "code",
   "execution_count": 13,
   "metadata": {},
   "outputs": [],
   "source": [
    "train = create_feat_interaction(train, ['ip', 'channel'])"
   ]
  },
  {
   "cell_type": "code",
   "execution_count": 14,
   "metadata": {},
   "outputs": [],
   "source": [
    "# mean encode combinations\n",
    "train_data = train[:80000] \n",
    "val_data = train[80000:90000]\n",
    "test_data = train[90000:]"
   ]
  },
  {
   "cell_type": "code",
   "execution_count": 15,
   "metadata": {},
   "outputs": [],
   "source": [
    "import warnings\n",
    "warnings.filterwarnings(\"ignore\")"
   ]
  },
  {
   "cell_type": "code",
   "execution_count": 16,
   "metadata": {
    "scrolled": true
   },
   "outputs": [],
   "source": [
    "for col in [\"ip_device_os\", \"app_channel\", \"ip\", \"app\", \"channel\", \"ip_channel\"]:\n",
    "    # train\n",
    "    train_data = kfold_mean_encoding(train_data, col,\n",
    "                                     col+\"_kfold_mean\", \"is_attributed\", seed=10, alpha=30)\n",
    "    # train\n",
    "    train_data = expanding_mean_encoding(train_data, col,\n",
    "                                     col+\"_expanding_mean\", \"is_attributed\")\n",
    "    \n",
    "    \n",
    "    # val\n",
    "    val_data = mean_encoding_test(val_data, train_data, col,\n",
    "                                    col+\"_kfold_mean\", \"is_attributed\")\n",
    "    # val\n",
    "    val_data = mean_encoding_test(val_data, train_data, col,\n",
    "                                    col+\"_expanding_mean\", \"is_attributed\")\n",
    "    \n",
    "    \n",
    "    # test\n",
    "    test_data = mean_encoding_test(test_data, pd.concat([train_data, val_data]), col,\n",
    "                                    col+\"_kfold_mean\", \"is_attributed\")\n",
    "    # test\n",
    "    test_data = mean_encoding_test(test_data, pd.concat([train_data, val_data]), col,\n",
    "                                    col+\"_expanding_mean\", \"is_attributed\")"
   ]
  },
  {
   "cell_type": "code",
   "execution_count": 17,
   "metadata": {},
   "outputs": [],
   "source": [
    "train = pd.concat([train_data, val_data, test_data])"
   ]
  },
  {
   "cell_type": "code",
   "execution_count": 18,
   "metadata": {},
   "outputs": [
    {
     "data": {
      "text/html": [
       "<div>\n",
       "<style scoped>\n",
       "    .dataframe tbody tr th:only-of-type {\n",
       "        vertical-align: middle;\n",
       "    }\n",
       "\n",
       "    .dataframe tbody tr th {\n",
       "        vertical-align: top;\n",
       "    }\n",
       "\n",
       "    .dataframe thead th {\n",
       "        text-align: right;\n",
       "    }\n",
       "</style>\n",
       "<table border=\"1\" class=\"dataframe\">\n",
       "  <thead>\n",
       "    <tr style=\"text-align: right;\">\n",
       "      <th></th>\n",
       "      <th>ip</th>\n",
       "      <th>app</th>\n",
       "      <th>device</th>\n",
       "      <th>os</th>\n",
       "      <th>channel</th>\n",
       "      <th>click_time</th>\n",
       "      <th>attributed_time</th>\n",
       "      <th>is_attributed</th>\n",
       "      <th>hour</th>\n",
       "      <th>ip_device_os</th>\n",
       "      <th>...</th>\n",
       "      <th>app_channel_kfold_mean</th>\n",
       "      <th>app_channel_expanding_mean</th>\n",
       "      <th>ip_kfold_mean</th>\n",
       "      <th>ip_expanding_mean</th>\n",
       "      <th>app_kfold_mean</th>\n",
       "      <th>app_expanding_mean</th>\n",
       "      <th>channel_kfold_mean</th>\n",
       "      <th>channel_expanding_mean</th>\n",
       "      <th>ip_channel_kfold_mean</th>\n",
       "      <th>ip_channel_expanding_mean</th>\n",
       "    </tr>\n",
       "  </thead>\n",
       "  <tbody>\n",
       "    <tr>\n",
       "      <th>0</th>\n",
       "      <td>48646</td>\n",
       "      <td>12</td>\n",
       "      <td>1</td>\n",
       "      <td>19</td>\n",
       "      <td>178</td>\n",
       "      <td>2017-11-06 16:00:00</td>\n",
       "      <td>NaN</td>\n",
       "      <td>0</td>\n",
       "      <td>16</td>\n",
       "      <td>0</td>\n",
       "      <td>...</td>\n",
       "      <td>0.000031</td>\n",
       "      <td>0.001974</td>\n",
       "      <td>0.001896</td>\n",
       "      <td>0.001019</td>\n",
       "      <td>0.000006</td>\n",
       "      <td>0.002193</td>\n",
       "      <td>0.000028</td>\n",
       "      <td>0.002188</td>\n",
       "      <td>0.002133</td>\n",
       "      <td>0.000392</td>\n",
       "    </tr>\n",
       "    <tr>\n",
       "      <th>1</th>\n",
       "      <td>93836</td>\n",
       "      <td>12</td>\n",
       "      <td>1</td>\n",
       "      <td>30</td>\n",
       "      <td>328</td>\n",
       "      <td>2017-11-06 16:00:09</td>\n",
       "      <td>NaN</td>\n",
       "      <td>0</td>\n",
       "      <td>16</td>\n",
       "      <td>1</td>\n",
       "      <td>...</td>\n",
       "      <td>0.000081</td>\n",
       "      <td>0.001974</td>\n",
       "      <td>0.001796</td>\n",
       "      <td>0.001019</td>\n",
       "      <td>0.000123</td>\n",
       "      <td>0.000000</td>\n",
       "      <td>0.000081</td>\n",
       "      <td>0.002188</td>\n",
       "      <td>0.002210</td>\n",
       "      <td>0.000392</td>\n",
       "    </tr>\n",
       "  </tbody>\n",
       "</table>\n",
       "<p>2 rows × 24 columns</p>\n",
       "</div>"
      ],
      "text/plain": [
       "      ip  app  device  os  channel          click_time attributed_time  \\\n",
       "0  48646   12       1  19      178 2017-11-06 16:00:00             NaN   \n",
       "1  93836   12       1  30      328 2017-11-06 16:00:09             NaN   \n",
       "\n",
       "   is_attributed  hour  ip_device_os            ...              \\\n",
       "0              0    16             0            ...               \n",
       "1              0    16             1            ...               \n",
       "\n",
       "   app_channel_kfold_mean  app_channel_expanding_mean  ip_kfold_mean  \\\n",
       "0                0.000031                    0.001974       0.001896   \n",
       "1                0.000081                    0.001974       0.001796   \n",
       "\n",
       "   ip_expanding_mean  app_kfold_mean  app_expanding_mean  channel_kfold_mean  \\\n",
       "0           0.001019        0.000006            0.002193            0.000028   \n",
       "1           0.001019        0.000123            0.000000            0.000081   \n",
       "\n",
       "   channel_expanding_mean  ip_channel_kfold_mean  ip_channel_expanding_mean  \n",
       "0                0.002188               0.002133                   0.000392  \n",
       "1                0.002188               0.002210                   0.000392  \n",
       "\n",
       "[2 rows x 24 columns]"
      ]
     },
     "execution_count": 18,
     "metadata": {},
     "output_type": "execute_result"
    }
   ],
   "source": [
    "train.head(2)"
   ]
  },
  {
   "cell_type": "code",
   "execution_count": 20,
   "metadata": {},
   "outputs": [
    {
     "data": {
      "text/plain": [
       "86391"
      ]
     },
     "execution_count": 20,
     "metadata": {},
     "output_type": "execute_result"
    }
   ],
   "source": [
    "(train.click_time.max() - train.click_time.min()).seconds"
   ]
  },
  {
   "cell_type": "code",
   "execution_count": 21,
   "metadata": {},
   "outputs": [],
   "source": [
    "# time since last click\n",
    "col, time, target = 'channel', 'click_time', \"is_attributed\"\n",
    "\n",
    "train = time_since_flag(train, col, time, target, 1) # time since someone last clicked\n",
    "train = time_since_flag(train, col, time, target, 0) # time since someone last didn't click"
   ]
  },
  {
   "cell_type": "code",
   "execution_count": null,
   "metadata": {},
   "outputs": [],
   "source": []
  }
 ],
 "metadata": {
  "kernelspec": {
   "display_name": "Python 3",
   "language": "python",
   "name": "python3"
  },
  "language_info": {
   "codemirror_mode": {
    "name": "ipython",
    "version": 3
   },
   "file_extension": ".py",
   "mimetype": "text/x-python",
   "name": "python",
   "nbconvert_exporter": "python",
   "pygments_lexer": "ipython3",
   "version": "3.6.4"
  }
 },
 "nbformat": 4,
 "nbformat_minor": 2
}
