{
 "cells": [
  {
   "cell_type": "code",
   "execution_count": 6,
   "metadata": {},
   "outputs": [],
   "source": [
    "import pandas as pd\n",
    "import sys"
   ]
  },
  {
   "cell_type": "code",
   "execution_count": 54,
   "metadata": {},
   "outputs": [],
   "source": [
    "pd.set_option('display.max_column', 100)\n",
    "pd.set_option('display.max_row', 100)"
   ]
  },
  {
   "cell_type": "code",
   "execution_count": 14,
   "metadata": {},
   "outputs": [],
   "source": [
    "sys.path.append('../../../fastai/')\n",
    "sys.path.append('../../')"
   ]
  },
  {
   "cell_type": "code",
   "execution_count": 15,
   "metadata": {},
   "outputs": [],
   "source": [
    "# xgboost\n",
    "from xgb_learn.learner import *\n",
    "from xgb_learn.dataset import *\n",
    "from eda.simple import *"
   ]
  },
  {
   "cell_type": "code",
   "execution_count": 18,
   "metadata": {},
   "outputs": [],
   "source": [
    "# embeddings\n",
    "from fastai.column_data import *\n",
    "from fastai.structured import *"
   ]
  },
  {
   "cell_type": "code",
   "execution_count": 59,
   "metadata": {},
   "outputs": [],
   "source": [
    "from pathlib import *"
   ]
  },
  {
   "cell_type": "code",
   "execution_count": 61,
   "metadata": {},
   "outputs": [
    {
     "data": {
      "text/plain": [
       "[PosixPath('../../../data/talking/train_sample.csv'),\n",
       " PosixPath('../../../data/talking/test.csv'),\n",
       " PosixPath('../../../data/talking/train.csv')]"
      ]
     },
     "execution_count": 61,
     "metadata": {},
     "output_type": "execute_result"
    }
   ],
   "source": [
    "dirs = list(Path('../../../data/talking').iterdir())\n",
    "dirs"
   ]
  },
  {
   "cell_type": "code",
   "execution_count": 19,
   "metadata": {},
   "outputs": [],
   "source": [
    "sample = pd.read_csv('../../../data/talking/train_sample.csv')"
   ]
  },
  {
   "cell_type": "code",
   "execution_count": 20,
   "metadata": {},
   "outputs": [
    {
     "data": {
      "text/html": [
       "<div>\n",
       "<style scoped>\n",
       "    .dataframe tbody tr th:only-of-type {\n",
       "        vertical-align: middle;\n",
       "    }\n",
       "\n",
       "    .dataframe tbody tr th {\n",
       "        vertical-align: top;\n",
       "    }\n",
       "\n",
       "    .dataframe thead th {\n",
       "        text-align: right;\n",
       "    }\n",
       "</style>\n",
       "<table border=\"1\" class=\"dataframe\">\n",
       "  <thead>\n",
       "    <tr style=\"text-align: right;\">\n",
       "      <th></th>\n",
       "      <th>ip</th>\n",
       "      <th>app</th>\n",
       "      <th>device</th>\n",
       "      <th>os</th>\n",
       "      <th>channel</th>\n",
       "      <th>click_time</th>\n",
       "      <th>attributed_time</th>\n",
       "      <th>is_attributed</th>\n",
       "    </tr>\n",
       "  </thead>\n",
       "  <tbody>\n",
       "    <tr>\n",
       "      <th>0</th>\n",
       "      <td>87540</td>\n",
       "      <td>12</td>\n",
       "      <td>1</td>\n",
       "      <td>13</td>\n",
       "      <td>497</td>\n",
       "      <td>2017-11-07 09:30:38</td>\n",
       "      <td>NaN</td>\n",
       "      <td>0</td>\n",
       "    </tr>\n",
       "    <tr>\n",
       "      <th>1</th>\n",
       "      <td>105560</td>\n",
       "      <td>25</td>\n",
       "      <td>1</td>\n",
       "      <td>17</td>\n",
       "      <td>259</td>\n",
       "      <td>2017-11-07 13:40:27</td>\n",
       "      <td>NaN</td>\n",
       "      <td>0</td>\n",
       "    </tr>\n",
       "    <tr>\n",
       "      <th>2</th>\n",
       "      <td>101424</td>\n",
       "      <td>12</td>\n",
       "      <td>1</td>\n",
       "      <td>19</td>\n",
       "      <td>212</td>\n",
       "      <td>2017-11-07 18:05:24</td>\n",
       "      <td>NaN</td>\n",
       "      <td>0</td>\n",
       "    </tr>\n",
       "    <tr>\n",
       "      <th>3</th>\n",
       "      <td>94584</td>\n",
       "      <td>13</td>\n",
       "      <td>1</td>\n",
       "      <td>13</td>\n",
       "      <td>477</td>\n",
       "      <td>2017-11-07 04:58:08</td>\n",
       "      <td>NaN</td>\n",
       "      <td>0</td>\n",
       "    </tr>\n",
       "    <tr>\n",
       "      <th>4</th>\n",
       "      <td>68413</td>\n",
       "      <td>12</td>\n",
       "      <td>1</td>\n",
       "      <td>1</td>\n",
       "      <td>178</td>\n",
       "      <td>2017-11-09 09:00:09</td>\n",
       "      <td>NaN</td>\n",
       "      <td>0</td>\n",
       "    </tr>\n",
       "  </tbody>\n",
       "</table>\n",
       "</div>"
      ],
      "text/plain": [
       "       ip  app  device  os  channel           click_time attributed_time  \\\n",
       "0   87540   12       1  13      497  2017-11-07 09:30:38             NaN   \n",
       "1  105560   25       1  17      259  2017-11-07 13:40:27             NaN   \n",
       "2  101424   12       1  19      212  2017-11-07 18:05:24             NaN   \n",
       "3   94584   13       1  13      477  2017-11-07 04:58:08             NaN   \n",
       "4   68413   12       1   1      178  2017-11-09 09:00:09             NaN   \n",
       "\n",
       "   is_attributed  \n",
       "0              0  \n",
       "1              0  \n",
       "2              0  \n",
       "3              0  \n",
       "4              0  "
      ]
     },
     "execution_count": 20,
     "metadata": {},
     "output_type": "execute_result"
    }
   ],
   "source": [
    "sample.head()"
   ]
  },
  {
   "cell_type": "code",
   "execution_count": 23,
   "metadata": {},
   "outputs": [
    {
     "data": {
      "text/plain": [
       "((100000, 8), 0.00227)"
      ]
     },
     "execution_count": 23,
     "metadata": {},
     "output_type": "execute_result"
    }
   ],
   "source": [
    "sample.shape, sample.is_attributed.mean()"
   ]
  },
  {
   "cell_type": "code",
   "execution_count": 21,
   "metadata": {},
   "outputs": [
    {
     "data": {
      "text/plain": [
       "[('attributed_time', 99773),\n",
       " ('ip', 0),\n",
       " ('app', 0),\n",
       " ('device', 0),\n",
       " ('os', 0),\n",
       " ('channel', 0),\n",
       " ('click_time', 0),\n",
       " ('is_attributed', 0)]"
      ]
     },
     "execution_count": 21,
     "metadata": {},
     "output_type": "execute_result"
    }
   ],
   "source": [
    "col_nas(sample)"
   ]
  },
  {
   "cell_type": "code",
   "execution_count": 24,
   "metadata": {},
   "outputs": [
    {
     "data": {
      "text/plain": [
       "[('click_time', 80350),\n",
       " ('ip', 34857),\n",
       " ('attributed_time', 227),\n",
       " ('app', 161),\n",
       " ('channel', 161),\n",
       " ('os', 130),\n",
       " ('device', 100),\n",
       " ('is_attributed', 2)]"
      ]
     },
     "execution_count": 24,
     "metadata": {},
     "output_type": "execute_result"
    }
   ],
   "source": [
    "col_nunique(sample)"
   ]
  },
  {
   "cell_type": "code",
   "execution_count": 26,
   "metadata": {},
   "outputs": [],
   "source": [
    "# extract time information\n",
    "add_datepart(sample, 'click_time', drop=False, time=True)"
   ]
  },
  {
   "cell_type": "code",
   "execution_count": 30,
   "metadata": {},
   "outputs": [],
   "source": [
    "nuniques = col_nunique(sample)"
   ]
  },
  {
   "cell_type": "code",
   "execution_count": 34,
   "metadata": {},
   "outputs": [],
   "source": [
    "sample.drop([c for c, i in nuniques if i == 1], 1, inplace=True)"
   ]
  },
  {
   "cell_type": "code",
   "execution_count": 42,
   "metadata": {},
   "outputs": [],
   "source": [
    "sample = sample.sort_values('click_time', ascending=True).reset_index(drop=True)"
   ]
  },
  {
   "cell_type": "code",
   "execution_count": 48,
   "metadata": {},
   "outputs": [
    {
     "data": {
      "text/plain": [
       "(Timestamp('2017-11-06 16:00:00'), Timestamp('2017-11-09 15:59:51'))"
      ]
     },
     "execution_count": 48,
     "metadata": {},
     "output_type": "execute_result"
    }
   ],
   "source": [
    "# 3 day data\n",
    "sample.click_time.min(), sample.click_time.max()"
   ]
  },
  {
   "cell_type": "code",
   "execution_count": 50,
   "metadata": {},
   "outputs": [
    {
     "data": {
      "text/plain": [
       "[('click_time', 80350),\n",
       " ('click_timeElapsed', 80350),\n",
       " ('ip', 34857),\n",
       " ('attributed_time', 227),\n",
       " ('app', 161),\n",
       " ('channel', 161),\n",
       " ('os', 130),\n",
       " ('device', 100),\n",
       " ('click_timeMinute', 60),\n",
       " ('click_timeSecond', 60),\n",
       " ('click_timeHour', 24),\n",
       " ('click_timeDay', 4),\n",
       " ('click_timeDayofweek', 4),\n",
       " ('click_timeDayofyear', 4),\n",
       " ('is_attributed', 2)]"
      ]
     },
     "execution_count": 50,
     "metadata": {},
     "output_type": "execute_result"
    }
   ],
   "source": [
    "col_nunique(sample)"
   ]
  },
  {
   "cell_type": "code",
   "execution_count": 57,
   "metadata": {},
   "outputs": [
    {
     "data": {
      "text/html": [
       "<div>\n",
       "<style scoped>\n",
       "    .dataframe tbody tr th:only-of-type {\n",
       "        vertical-align: middle;\n",
       "    }\n",
       "\n",
       "    .dataframe tbody tr th {\n",
       "        vertical-align: top;\n",
       "    }\n",
       "\n",
       "    .dataframe thead th {\n",
       "        text-align: right;\n",
       "    }\n",
       "</style>\n",
       "<table border=\"1\" class=\"dataframe\">\n",
       "  <thead>\n",
       "    <tr style=\"text-align: right;\">\n",
       "      <th></th>\n",
       "      <th>click_timeDay</th>\n",
       "      <th>click_timeHour</th>\n",
       "      <th>is_attributed</th>\n",
       "    </tr>\n",
       "  </thead>\n",
       "  <tbody>\n",
       "    <tr>\n",
       "      <th>0</th>\n",
       "      <td>6</td>\n",
       "      <td>16</td>\n",
       "      <td>1192</td>\n",
       "    </tr>\n",
       "    <tr>\n",
       "      <th>1</th>\n",
       "      <td>6</td>\n",
       "      <td>17</td>\n",
       "      <td>717</td>\n",
       "    </tr>\n",
       "    <tr>\n",
       "      <th>2</th>\n",
       "      <td>6</td>\n",
       "      <td>18</td>\n",
       "      <td>414</td>\n",
       "    </tr>\n",
       "    <tr>\n",
       "      <th>3</th>\n",
       "      <td>6</td>\n",
       "      <td>19</td>\n",
       "      <td>298</td>\n",
       "    </tr>\n",
       "    <tr>\n",
       "      <th>4</th>\n",
       "      <td>6</td>\n",
       "      <td>20</td>\n",
       "      <td>235</td>\n",
       "    </tr>\n",
       "    <tr>\n",
       "      <th>5</th>\n",
       "      <td>6</td>\n",
       "      <td>21</td>\n",
       "      <td>263</td>\n",
       "    </tr>\n",
       "    <tr>\n",
       "      <th>6</th>\n",
       "      <td>6</td>\n",
       "      <td>22</td>\n",
       "      <td>649</td>\n",
       "    </tr>\n",
       "    <tr>\n",
       "      <th>7</th>\n",
       "      <td>6</td>\n",
       "      <td>23</td>\n",
       "      <td>1243</td>\n",
       "    </tr>\n",
       "    <tr>\n",
       "      <th>8</th>\n",
       "      <td>7</td>\n",
       "      <td>0</td>\n",
       "      <td>1939</td>\n",
       "    </tr>\n",
       "    <tr>\n",
       "      <th>9</th>\n",
       "      <td>7</td>\n",
       "      <td>1</td>\n",
       "      <td>1858</td>\n",
       "    </tr>\n",
       "    <tr>\n",
       "      <th>10</th>\n",
       "      <td>7</td>\n",
       "      <td>2</td>\n",
       "      <td>1623</td>\n",
       "    </tr>\n",
       "    <tr>\n",
       "      <th>11</th>\n",
       "      <td>7</td>\n",
       "      <td>3</td>\n",
       "      <td>1751</td>\n",
       "    </tr>\n",
       "    <tr>\n",
       "      <th>12</th>\n",
       "      <td>7</td>\n",
       "      <td>4</td>\n",
       "      <td>1959</td>\n",
       "    </tr>\n",
       "    <tr>\n",
       "      <th>13</th>\n",
       "      <td>7</td>\n",
       "      <td>5</td>\n",
       "      <td>1736</td>\n",
       "    </tr>\n",
       "    <tr>\n",
       "      <th>14</th>\n",
       "      <td>7</td>\n",
       "      <td>6</td>\n",
       "      <td>1578</td>\n",
       "    </tr>\n",
       "    <tr>\n",
       "      <th>15</th>\n",
       "      <td>7</td>\n",
       "      <td>7</td>\n",
       "      <td>1615</td>\n",
       "    </tr>\n",
       "    <tr>\n",
       "      <th>16</th>\n",
       "      <td>7</td>\n",
       "      <td>8</td>\n",
       "      <td>1509</td>\n",
       "    </tr>\n",
       "    <tr>\n",
       "      <th>17</th>\n",
       "      <td>7</td>\n",
       "      <td>9</td>\n",
       "      <td>1533</td>\n",
       "    </tr>\n",
       "    <tr>\n",
       "      <th>18</th>\n",
       "      <td>7</td>\n",
       "      <td>10</td>\n",
       "      <td>1852</td>\n",
       "    </tr>\n",
       "    <tr>\n",
       "      <th>19</th>\n",
       "      <td>7</td>\n",
       "      <td>11</td>\n",
       "      <td>1753</td>\n",
       "    </tr>\n",
       "    <tr>\n",
       "      <th>20</th>\n",
       "      <td>7</td>\n",
       "      <td>12</td>\n",
       "      <td>1628</td>\n",
       "    </tr>\n",
       "    <tr>\n",
       "      <th>21</th>\n",
       "      <td>7</td>\n",
       "      <td>13</td>\n",
       "      <td>1746</td>\n",
       "    </tr>\n",
       "    <tr>\n",
       "      <th>22</th>\n",
       "      <td>7</td>\n",
       "      <td>14</td>\n",
       "      <td>1680</td>\n",
       "    </tr>\n",
       "    <tr>\n",
       "      <th>23</th>\n",
       "      <td>7</td>\n",
       "      <td>15</td>\n",
       "      <td>1502</td>\n",
       "    </tr>\n",
       "    <tr>\n",
       "      <th>24</th>\n",
       "      <td>7</td>\n",
       "      <td>16</td>\n",
       "      <td>1280</td>\n",
       "    </tr>\n",
       "    <tr>\n",
       "      <th>25</th>\n",
       "      <td>7</td>\n",
       "      <td>17</td>\n",
       "      <td>705</td>\n",
       "    </tr>\n",
       "    <tr>\n",
       "      <th>26</th>\n",
       "      <td>7</td>\n",
       "      <td>18</td>\n",
       "      <td>384</td>\n",
       "    </tr>\n",
       "    <tr>\n",
       "      <th>27</th>\n",
       "      <td>7</td>\n",
       "      <td>19</td>\n",
       "      <td>254</td>\n",
       "    </tr>\n",
       "    <tr>\n",
       "      <th>28</th>\n",
       "      <td>7</td>\n",
       "      <td>20</td>\n",
       "      <td>225</td>\n",
       "    </tr>\n",
       "    <tr>\n",
       "      <th>29</th>\n",
       "      <td>7</td>\n",
       "      <td>21</td>\n",
       "      <td>291</td>\n",
       "    </tr>\n",
       "    <tr>\n",
       "      <th>30</th>\n",
       "      <td>7</td>\n",
       "      <td>22</td>\n",
       "      <td>644</td>\n",
       "    </tr>\n",
       "    <tr>\n",
       "      <th>31</th>\n",
       "      <td>7</td>\n",
       "      <td>23</td>\n",
       "      <td>1348</td>\n",
       "    </tr>\n",
       "    <tr>\n",
       "      <th>32</th>\n",
       "      <td>8</td>\n",
       "      <td>0</td>\n",
       "      <td>1950</td>\n",
       "    </tr>\n",
       "    <tr>\n",
       "      <th>33</th>\n",
       "      <td>8</td>\n",
       "      <td>1</td>\n",
       "      <td>1623</td>\n",
       "    </tr>\n",
       "    <tr>\n",
       "      <th>34</th>\n",
       "      <td>8</td>\n",
       "      <td>2</td>\n",
       "      <td>1890</td>\n",
       "    </tr>\n",
       "    <tr>\n",
       "      <th>35</th>\n",
       "      <td>8</td>\n",
       "      <td>3</td>\n",
       "      <td>1748</td>\n",
       "    </tr>\n",
       "    <tr>\n",
       "      <th>36</th>\n",
       "      <td>8</td>\n",
       "      <td>4</td>\n",
       "      <td>1872</td>\n",
       "    </tr>\n",
       "    <tr>\n",
       "      <th>37</th>\n",
       "      <td>8</td>\n",
       "      <td>5</td>\n",
       "      <td>1703</td>\n",
       "    </tr>\n",
       "    <tr>\n",
       "      <th>38</th>\n",
       "      <td>8</td>\n",
       "      <td>6</td>\n",
       "      <td>1585</td>\n",
       "    </tr>\n",
       "    <tr>\n",
       "      <th>39</th>\n",
       "      <td>8</td>\n",
       "      <td>7</td>\n",
       "      <td>1725</td>\n",
       "    </tr>\n",
       "    <tr>\n",
       "      <th>40</th>\n",
       "      <td>8</td>\n",
       "      <td>8</td>\n",
       "      <td>1569</td>\n",
       "    </tr>\n",
       "    <tr>\n",
       "      <th>41</th>\n",
       "      <td>8</td>\n",
       "      <td>9</td>\n",
       "      <td>1650</td>\n",
       "    </tr>\n",
       "    <tr>\n",
       "      <th>42</th>\n",
       "      <td>8</td>\n",
       "      <td>10</td>\n",
       "      <td>1883</td>\n",
       "    </tr>\n",
       "    <tr>\n",
       "      <th>43</th>\n",
       "      <td>8</td>\n",
       "      <td>11</td>\n",
       "      <td>1826</td>\n",
       "    </tr>\n",
       "    <tr>\n",
       "      <th>44</th>\n",
       "      <td>8</td>\n",
       "      <td>12</td>\n",
       "      <td>1908</td>\n",
       "    </tr>\n",
       "    <tr>\n",
       "      <th>45</th>\n",
       "      <td>8</td>\n",
       "      <td>13</td>\n",
       "      <td>1938</td>\n",
       "    </tr>\n",
       "    <tr>\n",
       "      <th>46</th>\n",
       "      <td>8</td>\n",
       "      <td>14</td>\n",
       "      <td>2030</td>\n",
       "    </tr>\n",
       "    <tr>\n",
       "      <th>47</th>\n",
       "      <td>8</td>\n",
       "      <td>15</td>\n",
       "      <td>1801</td>\n",
       "    </tr>\n",
       "    <tr>\n",
       "      <th>48</th>\n",
       "      <td>8</td>\n",
       "      <td>16</td>\n",
       "      <td>1340</td>\n",
       "    </tr>\n",
       "    <tr>\n",
       "      <th>49</th>\n",
       "      <td>8</td>\n",
       "      <td>17</td>\n",
       "      <td>754</td>\n",
       "    </tr>\n",
       "    <tr>\n",
       "      <th>50</th>\n",
       "      <td>8</td>\n",
       "      <td>18</td>\n",
       "      <td>385</td>\n",
       "    </tr>\n",
       "    <tr>\n",
       "      <th>51</th>\n",
       "      <td>8</td>\n",
       "      <td>19</td>\n",
       "      <td>318</td>\n",
       "    </tr>\n",
       "    <tr>\n",
       "      <th>52</th>\n",
       "      <td>8</td>\n",
       "      <td>20</td>\n",
       "      <td>239</td>\n",
       "    </tr>\n",
       "    <tr>\n",
       "      <th>53</th>\n",
       "      <td>8</td>\n",
       "      <td>21</td>\n",
       "      <td>310</td>\n",
       "    </tr>\n",
       "    <tr>\n",
       "      <th>54</th>\n",
       "      <td>8</td>\n",
       "      <td>22</td>\n",
       "      <td>709</td>\n",
       "    </tr>\n",
       "    <tr>\n",
       "      <th>55</th>\n",
       "      <td>8</td>\n",
       "      <td>23</td>\n",
       "      <td>1279</td>\n",
       "    </tr>\n",
       "    <tr>\n",
       "      <th>56</th>\n",
       "      <td>9</td>\n",
       "      <td>0</td>\n",
       "      <td>1765</td>\n",
       "    </tr>\n",
       "    <tr>\n",
       "      <th>57</th>\n",
       "      <td>9</td>\n",
       "      <td>1</td>\n",
       "      <td>1622</td>\n",
       "    </tr>\n",
       "    <tr>\n",
       "      <th>58</th>\n",
       "      <td>9</td>\n",
       "      <td>2</td>\n",
       "      <td>1624</td>\n",
       "    </tr>\n",
       "    <tr>\n",
       "      <th>59</th>\n",
       "      <td>9</td>\n",
       "      <td>3</td>\n",
       "      <td>1765</td>\n",
       "    </tr>\n",
       "    <tr>\n",
       "      <th>60</th>\n",
       "      <td>9</td>\n",
       "      <td>4</td>\n",
       "      <td>2208</td>\n",
       "    </tr>\n",
       "    <tr>\n",
       "      <th>61</th>\n",
       "      <td>9</td>\n",
       "      <td>5</td>\n",
       "      <td>1961</td>\n",
       "    </tr>\n",
       "    <tr>\n",
       "      <th>62</th>\n",
       "      <td>9</td>\n",
       "      <td>6</td>\n",
       "      <td>1916</td>\n",
       "    </tr>\n",
       "    <tr>\n",
       "      <th>63</th>\n",
       "      <td>9</td>\n",
       "      <td>7</td>\n",
       "      <td>1749</td>\n",
       "    </tr>\n",
       "    <tr>\n",
       "      <th>64</th>\n",
       "      <td>9</td>\n",
       "      <td>8</td>\n",
       "      <td>1498</td>\n",
       "    </tr>\n",
       "    <tr>\n",
       "      <th>65</th>\n",
       "      <td>9</td>\n",
       "      <td>9</td>\n",
       "      <td>1684</td>\n",
       "    </tr>\n",
       "    <tr>\n",
       "      <th>66</th>\n",
       "      <td>9</td>\n",
       "      <td>10</td>\n",
       "      <td>1776</td>\n",
       "    </tr>\n",
       "    <tr>\n",
       "      <th>67</th>\n",
       "      <td>9</td>\n",
       "      <td>11</td>\n",
       "      <td>1763</td>\n",
       "    </tr>\n",
       "    <tr>\n",
       "      <th>68</th>\n",
       "      <td>9</td>\n",
       "      <td>12</td>\n",
       "      <td>1790</td>\n",
       "    </tr>\n",
       "    <tr>\n",
       "      <th>69</th>\n",
       "      <td>9</td>\n",
       "      <td>13</td>\n",
       "      <td>1935</td>\n",
       "    </tr>\n",
       "    <tr>\n",
       "      <th>70</th>\n",
       "      <td>9</td>\n",
       "      <td>14</td>\n",
       "      <td>1851</td>\n",
       "    </tr>\n",
       "    <tr>\n",
       "      <th>71</th>\n",
       "      <td>9</td>\n",
       "      <td>15</td>\n",
       "      <td>1654</td>\n",
       "    </tr>\n",
       "  </tbody>\n",
       "</table>\n",
       "</div>"
      ],
      "text/plain": [
       "    click_timeDay  click_timeHour  is_attributed\n",
       "0               6              16           1192\n",
       "1               6              17            717\n",
       "2               6              18            414\n",
       "3               6              19            298\n",
       "4               6              20            235\n",
       "5               6              21            263\n",
       "6               6              22            649\n",
       "7               6              23           1243\n",
       "8               7               0           1939\n",
       "9               7               1           1858\n",
       "10              7               2           1623\n",
       "11              7               3           1751\n",
       "12              7               4           1959\n",
       "13              7               5           1736\n",
       "14              7               6           1578\n",
       "15              7               7           1615\n",
       "16              7               8           1509\n",
       "17              7               9           1533\n",
       "18              7              10           1852\n",
       "19              7              11           1753\n",
       "20              7              12           1628\n",
       "21              7              13           1746\n",
       "22              7              14           1680\n",
       "23              7              15           1502\n",
       "24              7              16           1280\n",
       "25              7              17            705\n",
       "26              7              18            384\n",
       "27              7              19            254\n",
       "28              7              20            225\n",
       "29              7              21            291\n",
       "30              7              22            644\n",
       "31              7              23           1348\n",
       "32              8               0           1950\n",
       "33              8               1           1623\n",
       "34              8               2           1890\n",
       "35              8               3           1748\n",
       "36              8               4           1872\n",
       "37              8               5           1703\n",
       "38              8               6           1585\n",
       "39              8               7           1725\n",
       "40              8               8           1569\n",
       "41              8               9           1650\n",
       "42              8              10           1883\n",
       "43              8              11           1826\n",
       "44              8              12           1908\n",
       "45              8              13           1938\n",
       "46              8              14           2030\n",
       "47              8              15           1801\n",
       "48              8              16           1340\n",
       "49              8              17            754\n",
       "50              8              18            385\n",
       "51              8              19            318\n",
       "52              8              20            239\n",
       "53              8              21            310\n",
       "54              8              22            709\n",
       "55              8              23           1279\n",
       "56              9               0           1765\n",
       "57              9               1           1622\n",
       "58              9               2           1624\n",
       "59              9               3           1765\n",
       "60              9               4           2208\n",
       "61              9               5           1961\n",
       "62              9               6           1916\n",
       "63              9               7           1749\n",
       "64              9               8           1498\n",
       "65              9               9           1684\n",
       "66              9              10           1776\n",
       "67              9              11           1763\n",
       "68              9              12           1790\n",
       "69              9              13           1935\n",
       "70              9              14           1851\n",
       "71              9              15           1654"
      ]
     },
     "execution_count": 57,
     "metadata": {},
     "output_type": "execute_result"
    }
   ],
   "source": [
    "sample.groupby(['click_timeDay', 'click_timeHour'])['is_attributed'].count().reset_index()"
   ]
  },
  {
   "cell_type": "code",
   "execution_count": 62,
   "metadata": {},
   "outputs": [
    {
     "data": {
      "text/plain": [
       "(100000, 15)"
      ]
     },
     "execution_count": 62,
     "metadata": {},
     "output_type": "execute_result"
    }
   ],
   "source": [
    "sample.shape"
   ]
  },
  {
   "cell_type": "code",
   "execution_count": 68,
   "metadata": {},
   "outputs": [],
   "source": [
    "# create train-val sets\n",
    "val_msk = (sample.click_timeDay == 9) & (sample.click_timeHour >= 10)"
   ]
  },
  {
   "cell_type": "code",
   "execution_count": 70,
   "metadata": {},
   "outputs": [],
   "source": [
    "train_data = sample[~val_msk]\n",
    "val_data = sample[val_msk]"
   ]
  },
  {
   "cell_type": "code",
   "execution_count": 72,
   "metadata": {},
   "outputs": [
    {
     "data": {
      "text/plain": [
       "((89231, 15), (10769, 15))"
      ]
     },
     "execution_count": 72,
     "metadata": {},
     "output_type": "execute_result"
    }
   ],
   "source": [
    "train_data.shape, val_data.shape"
   ]
  },
  {
   "cell_type": "code",
   "execution_count": 74,
   "metadata": {},
   "outputs": [
    {
     "data": {
      "text/plain": [
       "Index(['ip', 'app', 'device', 'os', 'channel', 'click_time', 'attributed_time',\n",
       "       'is_attributed', 'click_timeDay', 'click_timeDayofweek',\n",
       "       'click_timeDayofyear', 'click_timeHour', 'click_timeMinute',\n",
       "       'click_timeSecond', 'click_timeElapsed'],\n",
       "      dtype='object')"
      ]
     },
     "execution_count": 74,
     "metadata": {},
     "output_type": "execute_result"
    }
   ],
   "source": [
    "train_data.columns"
   ]
  },
  {
   "cell_type": "code",
   "execution_count": 81,
   "metadata": {},
   "outputs": [],
   "source": [
    "# target encoding\n",
    "def reg_mean_encoding(train, col, new_col, target, splits=10, seed=42):\n",
    "    from sklearn.model_selection import KFold\n",
    "    \"\"\" Computes regularize mean encoding.\n",
    "        Use this to create mean encoding for training data\n",
    "    Inputs:\n",
    "        train: training dataframe\n",
    "        col: a single column as string or list of columns to groupby \n",
    "        during mean target encoding\n",
    "        new_col: name of new created column\n",
    "        splits: splits to use for cv\n",
    "    Returns:\n",
    "        train: dataframe with new column added\n",
    "    \"\"\"\n",
    "    # single column\n",
    "    if isinstance(col, str):\n",
    "        train[new_col] = 0\n",
    "        for trn_idx, val_idx in KFold(splits, shuffle=True, random_state=seed).split(train):\n",
    "            groups = train.iloc[trn_idx].groupby(col)[target].mean()\n",
    "            train.loc[val_idx, new_col] = train[col][val_idx].map(groups)\n",
    "\n",
    "        train[new_col].fillna(train[target].mean(), inplace=False)\n",
    "\n",
    "    # multiple column\n",
    "    elif isinstance(col, list):\n",
    "        train[new_col] = 0\n",
    "        for trn_idx, val_idx in KFold(splits, shuffle=True).split(train):\n",
    "            groups = train.iloc[trn_idx].groupby(train[col].astype(object).sum(1))[target].mean()\n",
    "            train.loc[val_idx, new_col] = train[col].astype(object).sum(1)[val_idx].map(groups)\n",
    "\n",
    "        train[new_col].fillna(train[target].mean(), inplace=True)\n",
    "\n",
    "    return train"
   ]
  },
  {
   "cell_type": "code",
   "execution_count": 139,
   "metadata": {},
   "outputs": [
    {
     "name": "stderr",
     "output_type": "stream",
     "text": [
      "/home/ec2-user/anaconda3/envs/fastai/lib/python3.6/site-packages/ipykernel_launcher.py:17: SettingWithCopyWarning: \n",
      "A value is trying to be set on a copy of a slice from a DataFrame.\n",
      "Try using .loc[row_indexer,col_indexer] = value instead\n",
      "\n",
      "See the caveats in the documentation: http://pandas.pydata.org/pandas-docs/stable/indexing.html#indexing-view-versus-copy\n",
      "/home/ec2-user/anaconda3/envs/fastai/lib/python3.6/site-packages/pandas/core/indexing.py:537: SettingWithCopyWarning: \n",
      "A value is trying to be set on a copy of a slice from a DataFrame.\n",
      "Try using .loc[row_indexer,col_indexer] = value instead\n",
      "\n",
      "See the caveats in the documentation: http://pandas.pydata.org/pandas-docs/stable/indexing.html#indexing-view-versus-copy\n",
      "  self.obj[item] = s\n"
     ]
    }
   ],
   "source": [
    "# create random target encodes\n",
    "# try alternative : time dependent\n",
    "random_encoding_cols =  ['ip', 'app', 'device', 'os', 'channel', 'click_timeHour']\n",
    "for c in random_encoding_cols:\n",
    "    train_data = reg_mean_encoding(train_data, c, f'random_mean_encode_{c}', target='is_attributed')"
   ]
  },
  {
   "cell_type": "code",
   "execution_count": 141,
   "metadata": {},
   "outputs": [],
   "source": [
    "def reg_mean_encoding_test(test, train, col, new_col, target):\n",
    "    \"\"\" Computes target enconding for test data.\n",
    "        Use this to create mean encoding for valdiation and test data\n",
    "        Inputs:\n",
    "            train: training dataframe to compute means\n",
    "            test: training dataframe to create new column\n",
    "            col: a single column as string or list of columns\n",
    "            new_col: name of new created column\n",
    "        Returns:\n",
    "            test: dataframe with new column added\n",
    "    This is similar to how we do validation\n",
    "    \"\"\"\n",
    "    # YOUR CODE HERE\n",
    "    if isinstance(col, str):\n",
    "        test[new_col] = test[col].map(train.groupby(col)[target].mean())\n",
    "        test[new_col].fillna(train[target].mean(), inplace=True)\n",
    "    # multiple column\n",
    "    elif isinstance(col, list):\n",
    "        test[new_col] = test[col].astype(object).sum(1).map(train.groupby(train[col].astype(object).sum(1))[target].mean())\n",
    "        test[new_col].fillna(train[target].mean(), inplace=True)\n",
    "\n",
    "    return test"
   ]
  },
  {
   "cell_type": "code",
   "execution_count": 142,
   "metadata": {},
   "outputs": [
    {
     "name": "stderr",
     "output_type": "stream",
     "text": [
      "/home/ec2-user/anaconda3/envs/fastai/lib/python3.6/site-packages/ipykernel_launcher.py:15: SettingWithCopyWarning: \n",
      "A value is trying to be set on a copy of a slice from a DataFrame.\n",
      "Try using .loc[row_indexer,col_indexer] = value instead\n",
      "\n",
      "See the caveats in the documentation: http://pandas.pydata.org/pandas-docs/stable/indexing.html#indexing-view-versus-copy\n",
      "  from ipykernel import kernelapp as app\n",
      "/home/ec2-user/anaconda3/envs/fastai/lib/python3.6/site-packages/pandas/core/generic.py:4355: SettingWithCopyWarning: \n",
      "A value is trying to be set on a copy of a slice from a DataFrame\n",
      "\n",
      "See the caveats in the documentation: http://pandas.pydata.org/pandas-docs/stable/indexing.html#indexing-view-versus-copy\n",
      "  self._update_inplace(new_data)\n"
     ]
    }
   ],
   "source": [
    "# create random target encodes\n",
    "# try alternative : time dependent\n",
    "random_encoding_cols =  ['ip', 'app', 'device', 'os', 'channel', 'click_timeHour']\n",
    "for c in random_encoding_cols:\n",
    "    val_data = reg_mean_encoding_test(val_data, train_data, c, f'random_mean_encode_{c}', target='is_attributed')"
   ]
  },
  {
   "cell_type": "code",
   "execution_count": 143,
   "metadata": {},
   "outputs": [
    {
     "data": {
      "text/html": [
       "<div>\n",
       "<style scoped>\n",
       "    .dataframe tbody tr th:only-of-type {\n",
       "        vertical-align: middle;\n",
       "    }\n",
       "\n",
       "    .dataframe tbody tr th {\n",
       "        vertical-align: top;\n",
       "    }\n",
       "\n",
       "    .dataframe thead th {\n",
       "        text-align: right;\n",
       "    }\n",
       "</style>\n",
       "<table border=\"1\" class=\"dataframe\">\n",
       "  <thead>\n",
       "    <tr style=\"text-align: right;\">\n",
       "      <th></th>\n",
       "      <th>ip</th>\n",
       "      <th>app</th>\n",
       "      <th>device</th>\n",
       "      <th>os</th>\n",
       "      <th>channel</th>\n",
       "      <th>click_time</th>\n",
       "      <th>attributed_time</th>\n",
       "      <th>is_attributed</th>\n",
       "      <th>click_timeDay</th>\n",
       "      <th>click_timeDayofweek</th>\n",
       "      <th>click_timeDayofyear</th>\n",
       "      <th>click_timeHour</th>\n",
       "      <th>click_timeMinute</th>\n",
       "      <th>click_timeSecond</th>\n",
       "      <th>click_timeElapsed</th>\n",
       "      <th>random_mean_encode_ip</th>\n",
       "      <th>random_mean_encode_app</th>\n",
       "      <th>random_mean_encode_device</th>\n",
       "      <th>random_mean_encode_os</th>\n",
       "      <th>random_mean_encode_channel</th>\n",
       "      <th>random_mean_encode_click_timeHour</th>\n",
       "    </tr>\n",
       "  </thead>\n",
       "  <tbody>\n",
       "    <tr>\n",
       "      <th>0</th>\n",
       "      <td>48646</td>\n",
       "      <td>12</td>\n",
       "      <td>1</td>\n",
       "      <td>19</td>\n",
       "      <td>178</td>\n",
       "      <td>2017-11-06 16:00:00</td>\n",
       "      <td>NaN</td>\n",
       "      <td>0</td>\n",
       "      <td>6</td>\n",
       "      <td>0</td>\n",
       "      <td>310</td>\n",
       "      <td>16</td>\n",
       "      <td>0</td>\n",
       "      <td>0</td>\n",
       "      <td>1509984000</td>\n",
       "      <td>0.0</td>\n",
       "      <td>0.000094</td>\n",
       "      <td>0.001552</td>\n",
       "      <td>0.001555</td>\n",
       "      <td>0.0</td>\n",
       "      <td>0.0</td>\n",
       "    </tr>\n",
       "    <tr>\n",
       "      <th>1</th>\n",
       "      <td>93836</td>\n",
       "      <td>12</td>\n",
       "      <td>1</td>\n",
       "      <td>30</td>\n",
       "      <td>328</td>\n",
       "      <td>2017-11-06 16:00:09</td>\n",
       "      <td>NaN</td>\n",
       "      <td>0</td>\n",
       "      <td>6</td>\n",
       "      <td>0</td>\n",
       "      <td>310</td>\n",
       "      <td>16</td>\n",
       "      <td>0</td>\n",
       "      <td>9</td>\n",
       "      <td>1509984009</td>\n",
       "      <td>0.0</td>\n",
       "      <td>0.000094</td>\n",
       "      <td>0.001579</td>\n",
       "      <td>0.005597</td>\n",
       "      <td>0.0</td>\n",
       "      <td>0.0</td>\n",
       "    </tr>\n",
       "  </tbody>\n",
       "</table>\n",
       "</div>"
      ],
      "text/plain": [
       "      ip  app  device  os  channel          click_time attributed_time  \\\n",
       "0  48646   12       1  19      178 2017-11-06 16:00:00             NaN   \n",
       "1  93836   12       1  30      328 2017-11-06 16:00:09             NaN   \n",
       "\n",
       "   is_attributed  click_timeDay  click_timeDayofweek  click_timeDayofyear  \\\n",
       "0              0              6                    0                  310   \n",
       "1              0              6                    0                  310   \n",
       "\n",
       "   click_timeHour  click_timeMinute  click_timeSecond  click_timeElapsed  \\\n",
       "0              16                 0                 0         1509984000   \n",
       "1              16                 0                 9         1509984009   \n",
       "\n",
       "   random_mean_encode_ip  random_mean_encode_app  random_mean_encode_device  \\\n",
       "0                    0.0                0.000094                   0.001552   \n",
       "1                    0.0                0.000094                   0.001579   \n",
       "\n",
       "   random_mean_encode_os  random_mean_encode_channel  \\\n",
       "0               0.001555                         0.0   \n",
       "1               0.005597                         0.0   \n",
       "\n",
       "   random_mean_encode_click_timeHour  \n",
       "0                                0.0  \n",
       "1                                0.0  "
      ]
     },
     "execution_count": 143,
     "metadata": {},
     "output_type": "execute_result"
    }
   ],
   "source": [
    "train_data.head(2)"
   ]
  },
  {
   "cell_type": "code",
   "execution_count": 144,
   "metadata": {},
   "outputs": [
    {
     "data": {
      "text/html": [
       "<div>\n",
       "<style scoped>\n",
       "    .dataframe tbody tr th:only-of-type {\n",
       "        vertical-align: middle;\n",
       "    }\n",
       "\n",
       "    .dataframe tbody tr th {\n",
       "        vertical-align: top;\n",
       "    }\n",
       "\n",
       "    .dataframe thead th {\n",
       "        text-align: right;\n",
       "    }\n",
       "</style>\n",
       "<table border=\"1\" class=\"dataframe\">\n",
       "  <thead>\n",
       "    <tr style=\"text-align: right;\">\n",
       "      <th></th>\n",
       "      <th>ip</th>\n",
       "      <th>app</th>\n",
       "      <th>device</th>\n",
       "      <th>os</th>\n",
       "      <th>channel</th>\n",
       "      <th>click_time</th>\n",
       "      <th>attributed_time</th>\n",
       "      <th>is_attributed</th>\n",
       "      <th>click_timeDay</th>\n",
       "      <th>click_timeDayofweek</th>\n",
       "      <th>click_timeDayofyear</th>\n",
       "      <th>click_timeHour</th>\n",
       "      <th>click_timeMinute</th>\n",
       "      <th>click_timeSecond</th>\n",
       "      <th>click_timeElapsed</th>\n",
       "      <th>random_mean_encode_ip</th>\n",
       "      <th>random_mean_encode_app</th>\n",
       "      <th>random_mean_encode_device</th>\n",
       "      <th>random_mean_encode_os</th>\n",
       "      <th>random_mean_encode_channel</th>\n",
       "      <th>random_mean_encode_click_timeHour</th>\n",
       "    </tr>\n",
       "  </thead>\n",
       "  <tbody>\n",
       "    <tr>\n",
       "      <th>89231</th>\n",
       "      <td>81211</td>\n",
       "      <td>12</td>\n",
       "      <td>1</td>\n",
       "      <td>35</td>\n",
       "      <td>178</td>\n",
       "      <td>2017-11-09 10:00:00</td>\n",
       "      <td>NaN</td>\n",
       "      <td>0</td>\n",
       "      <td>9</td>\n",
       "      <td>3</td>\n",
       "      <td>313</td>\n",
       "      <td>10</td>\n",
       "      <td>0</td>\n",
       "      <td>0</td>\n",
       "      <td>1510221600</td>\n",
       "      <td>0.0</td>\n",
       "      <td>0.000084</td>\n",
       "      <td>0.001598</td>\n",
       "      <td>0.001224</td>\n",
       "      <td>0.00000</td>\n",
       "      <td>0.002945</td>\n",
       "    </tr>\n",
       "    <tr>\n",
       "      <th>89232</th>\n",
       "      <td>87635</td>\n",
       "      <td>18</td>\n",
       "      <td>1</td>\n",
       "      <td>8</td>\n",
       "      <td>107</td>\n",
       "      <td>2017-11-09 10:00:06</td>\n",
       "      <td>NaN</td>\n",
       "      <td>0</td>\n",
       "      <td>9</td>\n",
       "      <td>3</td>\n",
       "      <td>313</td>\n",
       "      <td>10</td>\n",
       "      <td>0</td>\n",
       "      <td>6</td>\n",
       "      <td>1510221606</td>\n",
       "      <td>0.0</td>\n",
       "      <td>0.000684</td>\n",
       "      <td>0.001598</td>\n",
       "      <td>0.000000</td>\n",
       "      <td>0.00026</td>\n",
       "      <td>0.002945</td>\n",
       "    </tr>\n",
       "  </tbody>\n",
       "</table>\n",
       "</div>"
      ],
      "text/plain": [
       "          ip  app  device  os  channel          click_time attributed_time  \\\n",
       "89231  81211   12       1  35      178 2017-11-09 10:00:00             NaN   \n",
       "89232  87635   18       1   8      107 2017-11-09 10:00:06             NaN   \n",
       "\n",
       "       is_attributed  click_timeDay  click_timeDayofweek  click_timeDayofyear  \\\n",
       "89231              0              9                    3                  313   \n",
       "89232              0              9                    3                  313   \n",
       "\n",
       "       click_timeHour  click_timeMinute  click_timeSecond  click_timeElapsed  \\\n",
       "89231              10                 0                 0         1510221600   \n",
       "89232              10                 0                 6         1510221606   \n",
       "\n",
       "       random_mean_encode_ip  random_mean_encode_app  \\\n",
       "89231                    0.0                0.000084   \n",
       "89232                    0.0                0.000684   \n",
       "\n",
       "       random_mean_encode_device  random_mean_encode_os  \\\n",
       "89231                   0.001598               0.001224   \n",
       "89232                   0.001598               0.000000   \n",
       "\n",
       "       random_mean_encode_channel  random_mean_encode_click_timeHour  \n",
       "89231                     0.00000                           0.002945  \n",
       "89232                     0.00026                           0.002945  "
      ]
     },
     "execution_count": 144,
     "metadata": {},
     "output_type": "execute_result"
    }
   ],
   "source": [
    "val_data.head(2)"
   ]
  },
  {
   "cell_type": "code",
   "execution_count": 91,
   "metadata": {},
   "outputs": [
    {
     "data": {
      "text/plain": [
       "Index(['ip', 'app', 'device', 'os', 'channel', 'click_time', 'attributed_time',\n",
       "       'is_attributed', 'click_timeDay', 'click_timeDayofweek',\n",
       "       'click_timeDayofyear', 'click_timeHour', 'click_timeMinute',\n",
       "       'click_timeSecond', 'click_timeElapsed', 'random_mean_encode_ip',\n",
       "       'random_mean_encode_app', 'random_mean_encode_device',\n",
       "       'random_mean_encode_os', 'random_mean_encode_channel'],\n",
       "      dtype='object')"
      ]
     },
     "execution_count": 91,
     "metadata": {},
     "output_type": "execute_result"
    }
   ],
   "source": [
    "train_data.columns"
   ]
  },
  {
   "cell_type": "markdown",
   "metadata": {},
   "source": [
    "### XGBOOST"
   ]
  },
  {
   "cell_type": "code",
   "execution_count": 145,
   "metadata": {},
   "outputs": [],
   "source": [
    "usecols = ['ip', 'app', 'device', 'os', 'channel',\n",
    "'click_timeDay', 'click_timeHour','random_mean_encode_ip',\n",
    "'random_mean_encode_app', 'random_mean_encode_device',\n",
    "'random_mean_encode_os', 'random_mean_encode_channel',\n",
    "'random_mean_encode_click_timeHour']"
   ]
  },
  {
   "cell_type": "code",
   "execution_count": 146,
   "metadata": {},
   "outputs": [],
   "source": [
    "trn_df = train_data[usecols]\n",
    "val_df = val_data[usecols]\n",
    "trn_y = train_data.is_attributed\n",
    "val_y = val_data.is_attributed"
   ]
  },
  {
   "cell_type": "code",
   "execution_count": 147,
   "metadata": {},
   "outputs": [
    {
     "data": {
      "text/plain": [
       "ip                                     int64\n",
       "app                                    int64\n",
       "device                                 int64\n",
       "os                                     int64\n",
       "channel                                int64\n",
       "click_timeDay                          int64\n",
       "click_timeHour                         int64\n",
       "random_mean_encode_ip                float64\n",
       "random_mean_encode_app               float64\n",
       "random_mean_encode_device            float64\n",
       "random_mean_encode_os                float64\n",
       "random_mean_encode_channel           float64\n",
       "random_mean_encode_click_timeHour    float64\n",
       "dtype: object"
      ]
     },
     "execution_count": 147,
     "metadata": {},
     "output_type": "execute_result"
    }
   ],
   "source": [
    "trn_df.dtypes"
   ]
  },
  {
   "cell_type": "code",
   "execution_count": 148,
   "metadata": {},
   "outputs": [],
   "source": [
    "xgb_md = XGBModelData(trn_df, val_df, trn_y, val_y)"
   ]
  },
  {
   "cell_type": "code",
   "execution_count": 151,
   "metadata": {},
   "outputs": [],
   "source": [
    "dtrain, dval, evals = xgb_md.get_train_eval_ds()"
   ]
  },
  {
   "cell_type": "code",
   "execution_count": 152,
   "metadata": {},
   "outputs": [],
   "source": [
    "xgb_learner = XGBLearner(dtrain, evals, True, 0.001, 'binary:logistic', 'auc', seed=7)"
   ]
  },
  {
   "cell_type": "code",
   "execution_count": 153,
   "metadata": {},
   "outputs": [
    {
     "name": "stdout",
     "output_type": "stream",
     "text": [
      "Initialization Successful\n"
     ]
    }
   ],
   "source": [
    "xgb_learner.initialize()"
   ]
  },
  {
   "cell_type": "code",
   "execution_count": 154,
   "metadata": {},
   "outputs": [
    {
     "name": "stdout",
     "output_type": "stream",
     "text": [
      "Found new best score 0.968397\n",
      "Found new best score 0.972044\n",
      "Found new best score 0.972533\n",
      "----------------------------------------\n",
      "Best params and best iteration are found\n",
      "----------------------------------------\n"
     ]
    }
   ],
   "source": [
    "xgb_learner.random_search(300, verbose=True)"
   ]
  },
  {
   "cell_type": "code",
   "execution_count": 155,
   "metadata": {},
   "outputs": [],
   "source": [
    "# fit validation model\n",
    "xgb_learner.fit_best_model(dtrain)"
   ]
  },
  {
   "cell_type": "code",
   "execution_count": 156,
   "metadata": {},
   "outputs": [
    {
     "data": {
      "text/plain": [
       "{'objective': 'binary:logistic',\n",
       " 'eta': 0.001,\n",
       " 'eval_metric': 'auc',\n",
       " 'seed': 20,\n",
       " 'max_depth': 16,\n",
       " 'min_child_weight': 3,\n",
       " 'gamma': 2,\n",
       " 'subsample': 0.7572923513538451,\n",
       " 'colsample_bytree': 0.5523843608355201,\n",
       " 'colsample_bylevel': 0.9553868996766688}"
      ]
     },
     "execution_count": 156,
     "metadata": {},
     "output_type": "execute_result"
    }
   ],
   "source": [
    "xgb_learner.best_params"
   ]
  },
  {
   "cell_type": "code",
   "execution_count": 157,
   "metadata": {},
   "outputs": [
    {
     "data": {
      "text/plain": [
       "79"
      ]
     },
     "execution_count": 157,
     "metadata": {},
     "output_type": "execute_result"
    }
   ],
   "source": [
    "xgb_learner.best_model.best_iteration"
   ]
  },
  {
   "cell_type": "code",
   "execution_count": 158,
   "metadata": {},
   "outputs": [
    {
     "data": {
      "text/plain": [
       "[('random_mean_encode_app', 206),\n",
       " ('ip', 112),\n",
       " ('random_mean_encode_channel', 89),\n",
       " ('random_mean_encode_os', 82),\n",
       " ('random_mean_encode_device', 76),\n",
       " ('app', 69),\n",
       " ('random_mean_encode_click_timeHour', 68),\n",
       " ('channel', 60),\n",
       " ('random_mean_encode_ip', 55),\n",
       " ('os', 48),\n",
       " ('click_timeHour', 28),\n",
       " ('device', 16),\n",
       " ('click_timeDay', 7)]"
      ]
     },
     "execution_count": 158,
     "metadata": {},
     "output_type": "execute_result"
    }
   ],
   "source": [
    "sort_dict(xgb_learner.best_model.get_fscore())"
   ]
  },
  {
   "cell_type": "code",
   "execution_count": 159,
   "metadata": {},
   "outputs": [
    {
     "data": {
      "text/plain": [
       "['ip',\n",
       " 'app',\n",
       " 'device',\n",
       " 'os',\n",
       " 'channel',\n",
       " 'click_timeDay',\n",
       " 'click_timeHour',\n",
       " 'random_mean_encode_ip',\n",
       " 'random_mean_encode_app',\n",
       " 'random_mean_encode_device',\n",
       " 'random_mean_encode_os',\n",
       " 'random_mean_encode_channel',\n",
       " 'random_mean_encode_click_timeHour']"
      ]
     },
     "execution_count": 159,
     "metadata": {},
     "output_type": "execute_result"
    }
   ],
   "source": [
    "xgb_learner.best_model.feature_names"
   ]
  },
  {
   "cell_type": "markdown",
   "metadata": {},
   "source": [
    "### EMBEDDING MODEL"
   ]
  },
  {
   "cell_type": "code",
   "execution_count": null,
   "metadata": {},
   "outputs": [],
   "source": []
  }
 ],
 "metadata": {
  "kernelspec": {
   "display_name": "Python 3",
   "language": "python",
   "name": "python3"
  },
  "language_info": {
   "codemirror_mode": {
    "name": "ipython",
    "version": 3
   },
   "file_extension": ".py",
   "mimetype": "text/x-python",
   "name": "python",
   "nbconvert_exporter": "python",
   "pygments_lexer": "ipython3",
   "version": "3.6.5"
  }
 },
 "nbformat": 4,
 "nbformat_minor": 2
}
