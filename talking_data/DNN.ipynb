{
 "cells": [
  {
   "cell_type": "code",
   "execution_count": 1,
   "metadata": {},
   "outputs": [],
   "source": [
    "import pandas as pd\n",
    "import sys\n",
    "\n",
    "pd.set_option('display.max_column', 100)\n",
    "pd.set_option('display.max_row', 100)\n",
    "\n",
    "sys.path.append('../../../fastai/')\n",
    "sys.path.append('../../')\n",
    "\n",
    "# xgboost\n",
    "from xgb_learn.learner import *\n",
    "from xgb_learn.dataset import *\n",
    "from eda.simple import *\n",
    "\n",
    "# embeddings\n",
    "from fastai.column_data import *\n",
    "from fastai.structured import *\n",
    "\n",
    "from pathlib import *"
   ]
  },
  {
   "cell_type": "code",
   "execution_count": 9,
   "metadata": {},
   "outputs": [
    {
     "data": {
      "text/plain": [
       "[PosixPath('../../../data/talking/train_sample.csv'),\n",
       " PosixPath('../../../data/talking/nn_small_full_data.feather'),\n",
       " PosixPath('../../../data/talking/test.csv'),\n",
       " PosixPath('../../../data/talking/train_small_data.feather'),\n",
       " PosixPath('../../../data/talking/train_small_data.csv.feather'),\n",
       " PosixPath('../../../data/talking/val_small_data.feather'),\n",
       " PosixPath('../../../data/talking/train.csv'),\n",
       " PosixPath('../../../data/talking/test_small_data.feather')]"
      ]
     },
     "execution_count": 9,
     "metadata": {},
     "output_type": "execute_result"
    }
   ],
   "source": [
    "dirs = list(Path('../../../data/talking').iterdir())\n",
    "dirs"
   ]
  },
  {
   "cell_type": "markdown",
   "metadata": {},
   "source": [
    "### Preprocess"
   ]
  },
  {
   "cell_type": "code",
   "execution_count": null,
   "metadata": {},
   "outputs": [],
   "source": [
    "sample = pd.read_csv('../../../data/talking/train_sample.csv')"
   ]
  },
  {
   "cell_type": "code",
   "execution_count": 8,
   "metadata": {},
   "outputs": [],
   "source": [
    "train = pd.read_csv(dirs[-2], dtype={\"ip\":\"int32\", \"app\":\"int16\", \"device\":\"int16\", \"os\":\"int16\", \"channel\":\"int16\"})"
   ]
  },
  {
   "cell_type": "code",
   "execution_count": 10,
   "metadata": {},
   "outputs": [],
   "source": [
    "test = pd.read_csv(dirs[2], dtype={\"ip\":\"int32\", \"app\":\"int16\", \"device\":\"int16\", \"os\":\"int16\", \"channel\":\"int16\"})"
   ]
  },
  {
   "cell_type": "code",
   "execution_count": 10,
   "metadata": {},
   "outputs": [
    {
     "data": {
      "text/html": [
       "<div>\n",
       "<style scoped>\n",
       "    .dataframe tbody tr th:only-of-type {\n",
       "        vertical-align: middle;\n",
       "    }\n",
       "\n",
       "    .dataframe tbody tr th {\n",
       "        vertical-align: top;\n",
       "    }\n",
       "\n",
       "    .dataframe thead th {\n",
       "        text-align: right;\n",
       "    }\n",
       "</style>\n",
       "<table border=\"1\" class=\"dataframe\">\n",
       "  <thead>\n",
       "    <tr style=\"text-align: right;\">\n",
       "      <th></th>\n",
       "      <th>ip</th>\n",
       "      <th>app</th>\n",
       "      <th>device</th>\n",
       "      <th>os</th>\n",
       "      <th>channel</th>\n",
       "      <th>click_time</th>\n",
       "      <th>attributed_time</th>\n",
       "      <th>is_attributed</th>\n",
       "    </tr>\n",
       "  </thead>\n",
       "  <tbody>\n",
       "    <tr>\n",
       "      <th>0</th>\n",
       "      <td>83230</td>\n",
       "      <td>3</td>\n",
       "      <td>1</td>\n",
       "      <td>13</td>\n",
       "      <td>379</td>\n",
       "      <td>2017-11-06 14:32:21</td>\n",
       "      <td>NaN</td>\n",
       "      <td>0</td>\n",
       "    </tr>\n",
       "  </tbody>\n",
       "</table>\n",
       "</div>"
      ],
      "text/plain": [
       "      ip  app  device  os  channel           click_time attributed_time  \\\n",
       "0  83230    3       1  13      379  2017-11-06 14:32:21             NaN   \n",
       "\n",
       "   is_attributed  \n",
       "0              0  "
      ]
     },
     "execution_count": 10,
     "metadata": {},
     "output_type": "execute_result"
    }
   ],
   "source": [
    "train.head(1)"
   ]
  },
  {
   "cell_type": "code",
   "execution_count": 11,
   "metadata": {},
   "outputs": [
    {
     "data": {
      "text/html": [
       "<div>\n",
       "<style scoped>\n",
       "    .dataframe tbody tr th:only-of-type {\n",
       "        vertical-align: middle;\n",
       "    }\n",
       "\n",
       "    .dataframe tbody tr th {\n",
       "        vertical-align: top;\n",
       "    }\n",
       "\n",
       "    .dataframe thead th {\n",
       "        text-align: right;\n",
       "    }\n",
       "</style>\n",
       "<table border=\"1\" class=\"dataframe\">\n",
       "  <thead>\n",
       "    <tr style=\"text-align: right;\">\n",
       "      <th></th>\n",
       "      <th>click_id</th>\n",
       "      <th>ip</th>\n",
       "      <th>app</th>\n",
       "      <th>device</th>\n",
       "      <th>os</th>\n",
       "      <th>channel</th>\n",
       "      <th>click_time</th>\n",
       "    </tr>\n",
       "  </thead>\n",
       "  <tbody>\n",
       "    <tr>\n",
       "      <th>0</th>\n",
       "      <td>0</td>\n",
       "      <td>5744</td>\n",
       "      <td>9</td>\n",
       "      <td>1</td>\n",
       "      <td>3</td>\n",
       "      <td>107</td>\n",
       "      <td>2017-11-10 04:00:00</td>\n",
       "    </tr>\n",
       "  </tbody>\n",
       "</table>\n",
       "</div>"
      ],
      "text/plain": [
       "   click_id    ip  app  device  os  channel           click_time\n",
       "0         0  5744    9       1   3      107  2017-11-10 04:00:00"
      ]
     },
     "execution_count": 11,
     "metadata": {},
     "output_type": "execute_result"
    }
   ],
   "source": [
    "test.head(1)"
   ]
  },
  {
   "cell_type": "code",
   "execution_count": 12,
   "metadata": {},
   "outputs": [
    {
     "data": {
      "text/plain": [
       "((184903890, 8), 0.002470721410998979)"
      ]
     },
     "execution_count": 12,
     "metadata": {},
     "output_type": "execute_result"
    }
   ],
   "source": [
    "train.shape, train.is_attributed.mean()"
   ]
  },
  {
   "cell_type": "code",
   "execution_count": 21,
   "metadata": {},
   "outputs": [],
   "source": [
    "def prep_data(data):\n",
    "    # drop repeating columns\n",
    "    nuniques = col_nunique(data)\n",
    "    data.drop([c for c, i in nuniques if i == 1], 1, inplace=True)\n",
    "\n",
    "    # extract time information\n",
    "    data['click_time'] = pd.to_datetime(data['click_time'])\n",
    "    data['click_timeHour'] = data.click_time.dt.hour\n",
    "    data['click_timeDay'] = data.click_time.dt.day\n",
    "    data.drop('click_time', 1, inplace=True)\n",
    "    return data\n",
    "\n",
    "# create train-val sets\n",
    "def get_val_msk(data, day, hour):\n",
    "    return (data.click_timeDay == day) & (data.click_timeHour >= hour)"
   ]
  },
  {
   "cell_type": "code",
   "execution_count": 14,
   "metadata": {},
   "outputs": [],
   "source": [
    "# process train\n",
    "train = prep_data(train)"
   ]
  },
  {
   "cell_type": "code",
   "execution_count": 22,
   "metadata": {},
   "outputs": [],
   "source": [
    "test = prep_data(test)"
   ]
  },
  {
   "cell_type": "code",
   "execution_count": 27,
   "metadata": {},
   "outputs": [],
   "source": [
    "# validation 24 hours last day \n",
    "train_msk = ((train.click_timeDay == 8) & (train.click_timeHour >= 9)) | \\\n",
    "((train.click_timeDay == 9) & (train.click_timeHour <= 8))\n",
    "val_msk = ((train.click_timeDay == 9) & (train.click_timeHour >= 9) & (train.click_timeHour <= 15))"
   ]
  },
  {
   "cell_type": "code",
   "execution_count": 28,
   "metadata": {},
   "outputs": [],
   "source": [
    "train_small_data = train[train_msk]\n",
    "val_small_data = train[val_msk]"
   ]
  },
  {
   "cell_type": "code",
   "execution_count": 29,
   "metadata": {},
   "outputs": [
    {
     "data": {
      "text/plain": [
       "array([ 9, 10, 11, 12, 13, 14, 15, 16, 17, 18, 19, 20, 21, 22, 23,  0,  1,  2,  3,  4,  5,  6,  7,  8])"
      ]
     },
     "execution_count": 29,
     "metadata": {},
     "output_type": "execute_result"
    }
   ],
   "source": [
    "train_small_data.click_timeHour.unique()"
   ]
  },
  {
   "cell_type": "code",
   "execution_count": 30,
   "metadata": {},
   "outputs": [
    {
     "data": {
      "text/plain": [
       "array([ 9, 10, 11, 12, 13, 14, 15])"
      ]
     },
     "execution_count": 30,
     "metadata": {},
     "output_type": "execute_result"
    }
   ],
   "source": [
    "val_small_data.click_timeHour.unique()"
   ]
  },
  {
   "cell_type": "code",
   "execution_count": 32,
   "metadata": {},
   "outputs": [],
   "source": [
    "train_small_data.reset_index(drop=True, inplace=True)\n",
    "val_small_data.reset_index(drop=True, inplace=True)"
   ]
  },
  {
   "cell_type": "code",
   "execution_count": 33,
   "metadata": {},
   "outputs": [],
   "source": [
    "train_small_data.to_feather(\"../../../data/talking/train_small_data.csv.feather\")\n",
    "val_small_data.to_feather(\"../../../data/talking/val_small_data.feather\")"
   ]
  },
  {
   "cell_type": "markdown",
   "metadata": {},
   "source": [
    "#### Reduce Memory"
   ]
  },
  {
   "cell_type": "code",
   "execution_count": 34,
   "metadata": {},
   "outputs": [],
   "source": [
    "def reduce_mem(data):\n",
    "    data = data.astype(\n",
    "        {\"click_timeHour\":\"int8\", \n",
    "         \"click_timeDay\":\"int8\", \n",
    "         \"is_attributed\":\"int8\"})\n",
    "    data.drop(\"attributed_time\", 1, inplace=True)\n",
    "    return data"
   ]
  },
  {
   "cell_type": "code",
   "execution_count": 35,
   "metadata": {},
   "outputs": [],
   "source": [
    "train_small_data = reduce_mem(train_small_data)\n",
    "val_small_data = reduce_mem(val_small_data)"
   ]
  },
  {
   "cell_type": "code",
   "execution_count": 36,
   "metadata": {},
   "outputs": [
    {
     "name": "stdout",
     "output_type": "stream",
     "text": [
      "<class 'pandas.core.frame.DataFrame'>\n",
      "RangeIndex: 22928978 entries, 0 to 22928977\n",
      "Data columns (total 8 columns):\n",
      "ip                int32\n",
      "app               int16\n",
      "device            int16\n",
      "os                int16\n",
      "channel           int16\n",
      "is_attributed     int8\n",
      "click_timeHour    int8\n",
      "click_timeDay     int8\n",
      "dtypes: int16(4), int32(1), int8(3)\n",
      "memory usage: 328.0 MB\n"
     ]
    }
   ],
   "source": [
    "val_small_data.info(\"deep\")"
   ]
  },
  {
   "cell_type": "code",
   "execution_count": 37,
   "metadata": {},
   "outputs": [
    {
     "name": "stdout",
     "output_type": "stream",
     "text": [
      "<class 'pandas.core.frame.DataFrame'>\n",
      "RangeIndex: 63894895 entries, 0 to 63894894\n",
      "Data columns (total 8 columns):\n",
      "ip                int32\n",
      "app               int16\n",
      "device            int16\n",
      "os                int16\n",
      "channel           int16\n",
      "is_attributed     int8\n",
      "click_timeHour    int8\n",
      "click_timeDay     int8\n",
      "dtypes: int16(4), int32(1), int8(3)\n",
      "memory usage: 914.0 MB\n"
     ]
    }
   ],
   "source": [
    "train_small_data.info(\"deep\")"
   ]
  },
  {
   "cell_type": "code",
   "execution_count": 40,
   "metadata": {},
   "outputs": [
    {
     "data": {
      "text/html": [
       "<div>\n",
       "<style scoped>\n",
       "    .dataframe tbody tr th:only-of-type {\n",
       "        vertical-align: middle;\n",
       "    }\n",
       "\n",
       "    .dataframe tbody tr th {\n",
       "        vertical-align: top;\n",
       "    }\n",
       "\n",
       "    .dataframe thead th {\n",
       "        text-align: right;\n",
       "    }\n",
       "</style>\n",
       "<table border=\"1\" class=\"dataframe\">\n",
       "  <thead>\n",
       "    <tr style=\"text-align: right;\">\n",
       "      <th></th>\n",
       "      <th>ip</th>\n",
       "      <th>app</th>\n",
       "      <th>device</th>\n",
       "      <th>os</th>\n",
       "      <th>channel</th>\n",
       "      <th>is_attributed</th>\n",
       "      <th>click_timeHour</th>\n",
       "      <th>click_timeDay</th>\n",
       "    </tr>\n",
       "  </thead>\n",
       "  <tbody>\n",
       "    <tr>\n",
       "      <th>0</th>\n",
       "      <td>67040</td>\n",
       "      <td>3</td>\n",
       "      <td>1</td>\n",
       "      <td>19</td>\n",
       "      <td>211</td>\n",
       "      <td>0</td>\n",
       "      <td>9</td>\n",
       "      <td>9</td>\n",
       "    </tr>\n",
       "  </tbody>\n",
       "</table>\n",
       "</div>"
      ],
      "text/plain": [
       "      ip  app  device  os  channel  is_attributed  click_timeHour  \\\n",
       "0  67040    3       1  19      211              0               9   \n",
       "\n",
       "   click_timeDay  \n",
       "0              9  "
      ]
     },
     "execution_count": 40,
     "metadata": {},
     "output_type": "execute_result"
    }
   ],
   "source": [
    "val_small_data.head(1)"
   ]
  },
  {
   "cell_type": "code",
   "execution_count": 39,
   "metadata": {},
   "outputs": [
    {
     "data": {
      "text/html": [
       "<div>\n",
       "<style scoped>\n",
       "    .dataframe tbody tr th:only-of-type {\n",
       "        vertical-align: middle;\n",
       "    }\n",
       "\n",
       "    .dataframe tbody tr th {\n",
       "        vertical-align: top;\n",
       "    }\n",
       "\n",
       "    .dataframe thead th {\n",
       "        text-align: right;\n",
       "    }\n",
       "</style>\n",
       "<table border=\"1\" class=\"dataframe\">\n",
       "  <thead>\n",
       "    <tr style=\"text-align: right;\">\n",
       "      <th></th>\n",
       "      <th>ip</th>\n",
       "      <th>app</th>\n",
       "      <th>device</th>\n",
       "      <th>os</th>\n",
       "      <th>channel</th>\n",
       "      <th>is_attributed</th>\n",
       "      <th>click_timeHour</th>\n",
       "      <th>click_timeDay</th>\n",
       "    </tr>\n",
       "  </thead>\n",
       "  <tbody>\n",
       "    <tr>\n",
       "      <th>0</th>\n",
       "      <td>206573</td>\n",
       "      <td>11</td>\n",
       "      <td>1</td>\n",
       "      <td>26</td>\n",
       "      <td>173</td>\n",
       "      <td>0</td>\n",
       "      <td>9</td>\n",
       "      <td>8</td>\n",
       "    </tr>\n",
       "  </tbody>\n",
       "</table>\n",
       "</div>"
      ],
      "text/plain": [
       "       ip  app  device  os  channel  is_attributed  click_timeHour  \\\n",
       "0  206573   11       1  26      173              0               9   \n",
       "\n",
       "   click_timeDay  \n",
       "0              8  "
      ]
     },
     "execution_count": 39,
     "metadata": {},
     "output_type": "execute_result"
    }
   ],
   "source": [
    "train_small_data.head(1)"
   ]
  },
  {
   "cell_type": "code",
   "execution_count": 41,
   "metadata": {},
   "outputs": [],
   "source": [
    "train_small_data.to_feather(\"../../../data/talking/train_small_data.csv.feather\")\n",
    "val_small_data.to_feather(\"../../../data/talking/val_small_data.feather\")"
   ]
  },
  {
   "cell_type": "code",
   "execution_count": 43,
   "metadata": {},
   "outputs": [
    {
     "data": {
      "text/plain": [
       "(0.0023496243322725548, 0.0024151970489046655)"
      ]
     },
     "execution_count": 43,
     "metadata": {},
     "output_type": "execute_result"
    }
   ],
   "source": [
    "train_small_data.is_attributed.mean(), val_small_data.is_attributed.mean()"
   ]
  },
  {
   "cell_type": "code",
   "execution_count": null,
   "metadata": {},
   "outputs": [],
   "source": []
  },
  {
   "cell_type": "markdown",
   "metadata": {},
   "source": [
    "### Features"
   ]
  },
  {
   "cell_type": "code",
   "execution_count": 44,
   "metadata": {},
   "outputs": [],
   "source": [
    "# target encodingu\n",
    "def reg_mean_encoding(train, col, new_col, target, splits=10, seed=42):\n",
    "    from sklearn.model_selection import KFold\n",
    "    \"\"\" Computes regularize mean encoding.\n",
    "        Use this to create mean encoding for training data\n",
    "        \n",
    "    Inputs:\n",
    "        train: training dataframe\n",
    "        col: a single column as string or list of columns to groupby \n",
    "        during mean target encoding\n",
    "        new_col: name of new created column\n",
    "        splits: splits to use for cv\n",
    "    Returns:\n",
    "        train: dataframe with new column added\n",
    "    \"\"\"\n",
    "    # single column\n",
    "    if isinstance(col, str):\n",
    "        train[new_col] = 0\n",
    "        #train[\"split_no\"] = 0\n",
    "        for split, (trn_idx, val_idx) in enumerate(KFold(splits, shuffle=True, random_state=seed).split(train)):\n",
    "            groups = train.iloc[trn_idx].groupby(col)[target].mean()\n",
    "            train.loc[val_idx, new_col] = train.loc[val_idx, col].map(groups)\n",
    "            #train.loc[val_idx, \"split_no\"] = split\n",
    "\n",
    "        train[new_col].fillna(train[new_col].mean(), inplace=True)\n",
    "\n",
    "    # multiple column\n",
    "    elif isinstance(col, list):\n",
    "        train[new_col] = 0\n",
    "        for trn_idx, val_idx in KFold(splits, shuffle=True, random_state=seed).split(train):\n",
    "            groups = train.iloc[trn_idx].groupby(train[col].astype(object).sum(1))[target].mean()\n",
    "            train.loc[val_idx, new_col] = train[col].astype(object).sum(1)[val_idx].map(groups)\n",
    "\n",
    "        train[new_col].fillna(train[new_col].mean(), inplace=True)\n",
    "\n",
    "    return train"
   ]
  },
  {
   "cell_type": "code",
   "execution_count": 45,
   "metadata": {},
   "outputs": [],
   "source": [
    "def test_reg_mean_encoding(is_list=False):\n",
    "\n",
    "    if not is_list:\n",
    "        df = pd.DataFrame({'column': [1,1,1,1,1,1,2,2,2,2,2,2, 3],\n",
    "        'target': [1,1,1,1,0,1,0,0,0,0,0,0,0]})\n",
    "\n",
    "        new_df = pd.DataFrame({'column': [1,1,1,1,1,1,2,2,2,2,2,2, 3],\n",
    "        'target': [1,1,1,1,0,1,0,0,0,0,0,0,0],\n",
    "        'new_col': [0.800, 1.000, 0.750, 0.800, 1.000, 0.750, 0.000, 0.000,\n",
    "        0.000, 0.000, 0.000, 0.000, 0.425]})\n",
    "        \n",
    "        assert (reg_mean_encoding(df, \"column\", \"new_col\", \"target\", splits=5, seed=42)\\\n",
    "                [\"new_col\"] == new_df[\"new_col\"]).all()\n",
    "        return \"Test Passed\"\n",
    "\n",
    "    if is_list:\n",
    "        return NotImplementedError"
   ]
  },
  {
   "cell_type": "code",
   "execution_count": 46,
   "metadata": {
    "scrolled": true
   },
   "outputs": [],
   "source": [
    "# create random target encodes\n",
    "# try alternative : time dependent\n",
    "random_encoding_cols =  ['ip', 'app', 'device', 'os', 'channel', 'click_timeHour']\n",
    "#random_encoding_cols =  ['ip', 'app', 'device', 'os', 'channel']\n",
    "for c in random_encoding_cols:\n",
    "    train_small_data = reg_mean_encoding(train_small_data,\n",
    "                                           c,\n",
    "                                           f'random_mean_encode_{c}', \n",
    "                                           'is_attributed')"
   ]
  },
  {
   "cell_type": "code",
   "execution_count": 47,
   "metadata": {},
   "outputs": [
    {
     "data": {
      "text/html": [
       "<div>\n",
       "<style scoped>\n",
       "    .dataframe tbody tr th:only-of-type {\n",
       "        vertical-align: middle;\n",
       "    }\n",
       "\n",
       "    .dataframe tbody tr th {\n",
       "        vertical-align: top;\n",
       "    }\n",
       "\n",
       "    .dataframe thead th {\n",
       "        text-align: right;\n",
       "    }\n",
       "</style>\n",
       "<table border=\"1\" class=\"dataframe\">\n",
       "  <thead>\n",
       "    <tr style=\"text-align: right;\">\n",
       "      <th></th>\n",
       "      <th>ip</th>\n",
       "      <th>app</th>\n",
       "      <th>device</th>\n",
       "      <th>os</th>\n",
       "      <th>channel</th>\n",
       "      <th>is_attributed</th>\n",
       "      <th>click_timeHour</th>\n",
       "      <th>click_timeDay</th>\n",
       "      <th>random_mean_encode_ip</th>\n",
       "      <th>random_mean_encode_app</th>\n",
       "      <th>random_mean_encode_device</th>\n",
       "      <th>random_mean_encode_os</th>\n",
       "      <th>random_mean_encode_channel</th>\n",
       "      <th>random_mean_encode_click_timeHour</th>\n",
       "    </tr>\n",
       "  </thead>\n",
       "  <tbody>\n",
       "    <tr>\n",
       "      <th>0</th>\n",
       "      <td>206573</td>\n",
       "      <td>11</td>\n",
       "      <td>1</td>\n",
       "      <td>26</td>\n",
       "      <td>173</td>\n",
       "      <td>0</td>\n",
       "      <td>9</td>\n",
       "      <td>8</td>\n",
       "      <td>0.0</td>\n",
       "      <td>0.001439</td>\n",
       "      <td>0.001619</td>\n",
       "      <td>0.001105</td>\n",
       "      <td>0.00058</td>\n",
       "      <td>0.002507</td>\n",
       "    </tr>\n",
       "  </tbody>\n",
       "</table>\n",
       "</div>"
      ],
      "text/plain": [
       "       ip  app  device  os  channel  is_attributed  click_timeHour  \\\n",
       "0  206573   11       1  26      173              0               9   \n",
       "\n",
       "   click_timeDay  random_mean_encode_ip  random_mean_encode_app  \\\n",
       "0              8                    0.0                0.001439   \n",
       "\n",
       "   random_mean_encode_device  random_mean_encode_os  \\\n",
       "0                   0.001619               0.001105   \n",
       "\n",
       "   random_mean_encode_channel  random_mean_encode_click_timeHour  \n",
       "0                     0.00058                           0.002507  "
      ]
     },
     "execution_count": 47,
     "metadata": {},
     "output_type": "execute_result"
    }
   ],
   "source": [
    "train_small_data.head(1)"
   ]
  },
  {
   "cell_type": "code",
   "execution_count": 79,
   "metadata": {},
   "outputs": [],
   "source": [
    "def reg_mean_encoding_test(test, train, col, new_col, target):\n",
    "    \"\"\" Computes target enconding for test data.\n",
    "        Use this to create mean encoding for valdiation and test data\n",
    "        Inputs:\n",
    "            train: training dataframe to compute means\n",
    "            test: training dataframe to create new column\n",
    "            col: a single column as string or list of columns\n",
    "            new_col: name of new created column\n",
    "        Returns:\n",
    "            test: dataframe with new column added\n",
    "    This is similar to how we do validation\n",
    "    \"\"\"\n",
    "    # YOUR CODE HERE\n",
    "    if isinstance(col, str):\n",
    "        test[new_col] = test[col].map(train.groupby(col)[target].mean())\n",
    "        test[new_col].fillna(train[target].mean(), inplace=True)\n",
    "    # multiple column\n",
    "    elif isinstance(col, list):\n",
    "        test[new_col] = test[col].astype(object).sum(1).map(train.groupby(train[col].astype(object).sum(1))[target].mean())\n",
    "        test[new_col].fillna(train[target].mean(), inplace=True)\n",
    "\n",
    "    return test"
   ]
  },
  {
   "cell_type": "code",
   "execution_count": 80,
   "metadata": {},
   "outputs": [],
   "source": [
    "# create random target encodes\n",
    "# try alternative : time dependen\n",
    "random_encoding_cols =  ['ip', 'app', 'device', 'os', 'channel', 'click_timeHour']\n",
    "for c in random_encoding_cols:\n",
    "    val_small_data = reg_mean_encoding_test(val_small_data,\n",
    "                                      train_small_data,\n",
    "                                      c,\n",
    "                                      f'random_mean_encode_{c}',\n",
    "                                      'is_attributed')"
   ]
  },
  {
   "cell_type": "code",
   "execution_count": 81,
   "metadata": {},
   "outputs": [],
   "source": [
    "train_small_data.to_feather(\"../../../data/talking/train_small_data.csv.feather\")\n",
    "val_small_data.to_feather(\"../../../data/talking/val_small_data.feather\")"
   ]
  },
  {
   "cell_type": "code",
   "execution_count": 23,
   "metadata": {},
   "outputs": [],
   "source": [
    "# create random target encodes\n",
    "# try alternative : time dependen\n",
    "random_encoding_cols =  ['ip', 'app', 'device', 'os', 'channel', 'click_timeHour']\n",
    "for c in random_encoding_cols:\n",
    "    test = reg_mean_encoding_test(test,\n",
    "                                  pd.concat([train_small_data, val_small_data]),\n",
    "                                  c,\n",
    "                                  f'random_mean_encode_{c}',\n",
    "                                  'is_attributed')"
   ]
  },
  {
   "cell_type": "code",
   "execution_count": 56,
   "metadata": {},
   "outputs": [],
   "source": [
    "def dtype_transform(data):\n",
    "    data = data.astype({\"random_mean_encode_ip\":\"float32\",\n",
    "\"random_mean_encode_app\":\"float32\",\n",
    "\"random_mean_encode_device\":\"float32\",\n",
    "\"random_mean_encode_os\":\"float32\",\n",
    "\"random_mean_encode_channel\":\"float32\",\n",
    "\"random_mean_encode_click_timeHour\":\"float32\"})\n",
    "    return data"
   ]
  },
  {
   "cell_type": "code",
   "execution_count": 24,
   "metadata": {},
   "outputs": [
    {
     "data": {
      "text/plain": [
       "((63894895, 14), (22928978, 14), (18790469, 14))"
      ]
     },
     "execution_count": 24,
     "metadata": {},
     "output_type": "execute_result"
    }
   ],
   "source": [
    "train_small_data.shape, val_small_data.shape, test.shape"
   ]
  },
  {
   "cell_type": "code",
   "execution_count": 60,
   "metadata": {},
   "outputs": [
    {
     "data": {
      "text/plain": [
       "((63894895, 14), (22928978, 14), (18790469, 14))"
      ]
     },
     "execution_count": 60,
     "metadata": {},
     "output_type": "execute_result"
    }
   ],
   "source": [
    "train_small_data.shape, val_small_data.shape, test.shape"
   ]
  },
  {
   "cell_type": "code",
   "execution_count": 57,
   "metadata": {},
   "outputs": [],
   "source": [
    "train_small_data = dtype_transform(train_small_data)\n",
    "val_small_data = dtype_transform(val_small_data)\n",
    "test = dtype_transform(test)"
   ]
  },
  {
   "cell_type": "code",
   "execution_count": 61,
   "metadata": {},
   "outputs": [],
   "source": [
    "train_small_data.to_feather(\"../../../data/talking/train_small_data.feather\")\n",
    "val_small_data.to_feather(\"../../../data/talking/val_small_data.feather\")\n",
    "test.to_feather(\"../../../data/talking/test_small_data.feather\")"
   ]
  },
  {
   "cell_type": "markdown",
   "metadata": {},
   "source": [
    "### XGBOOST"
   ]
  },
  {
   "cell_type": "code",
   "execution_count": 74,
   "metadata": {},
   "outputs": [],
   "source": [
    "import gc"
   ]
  },
  {
   "cell_type": "code",
   "execution_count": 27,
   "metadata": {},
   "outputs": [],
   "source": [
    "# 24 hour for training same hour for validation\n",
    "train_small_data = pd.read_feather(\"../../../data/talking/train_small_data.feather\")\n",
    "val_small_data = pd.read_feather(\"../../../data/talking/val_small_data.feather\")\n",
    "test = pd.read_feather(\"../../../data/talking/test_small_data.feather\")"
   ]
  },
  {
   "cell_type": "code",
   "execution_count": 28,
   "metadata": {},
   "outputs": [],
   "source": [
    "usecols = ['ip', 'app', 'device', 'os', 'channel',\n",
    "'click_timeDay', 'click_timeHour','random_mean_encode_ip',\n",
    "'random_mean_encode_app', 'random_mean_encode_device',\n",
    "'random_mean_encode_os', 'random_mean_encode_channel',\n",
    "'random_mean_encode_click_timeHour']"
   ]
  },
  {
   "cell_type": "code",
   "execution_count": 29,
   "metadata": {},
   "outputs": [],
   "source": [
    "trn_df = train_data[usecols]\n",
    "val_df = val_data[usecols]\n",
    "trn_y = train_data.is_attributed\n",
    "val_y = val_data.is_attributed"
   ]
  },
  {
   "cell_type": "code",
   "execution_count": 79,
   "metadata": {},
   "outputs": [
    {
     "data": {
      "text/plain": [
       "850"
      ]
     },
     "execution_count": 79,
     "metadata": {},
     "output_type": "execute_result"
    }
   ],
   "source": [
    "del train_data\n",
    "del val_data\n",
    "gc.collect()"
   ]
  },
  {
   "cell_type": "code",
   "execution_count": 30,
   "metadata": {},
   "outputs": [
    {
     "data": {
      "text/html": [
       "<div>\n",
       "<style scoped>\n",
       "    .dataframe tbody tr th:only-of-type {\n",
       "        vertical-align: middle;\n",
       "    }\n",
       "\n",
       "    .dataframe tbody tr th {\n",
       "        vertical-align: top;\n",
       "    }\n",
       "\n",
       "    .dataframe thead th {\n",
       "        text-align: right;\n",
       "    }\n",
       "</style>\n",
       "<table border=\"1\" class=\"dataframe\">\n",
       "  <thead>\n",
       "    <tr style=\"text-align: right;\">\n",
       "      <th></th>\n",
       "      <th>ip</th>\n",
       "      <th>app</th>\n",
       "      <th>device</th>\n",
       "      <th>os</th>\n",
       "      <th>channel</th>\n",
       "      <th>click_timeDay</th>\n",
       "      <th>click_timeHour</th>\n",
       "      <th>random_mean_encode_ip</th>\n",
       "      <th>random_mean_encode_app</th>\n",
       "      <th>random_mean_encode_device</th>\n",
       "      <th>random_mean_encode_os</th>\n",
       "      <th>random_mean_encode_channel</th>\n",
       "      <th>random_mean_encode_click_timeHour</th>\n",
       "    </tr>\n",
       "  </thead>\n",
       "  <tbody>\n",
       "    <tr>\n",
       "      <th>0</th>\n",
       "      <td>206573</td>\n",
       "      <td>11</td>\n",
       "      <td>1</td>\n",
       "      <td>26</td>\n",
       "      <td>173</td>\n",
       "      <td>8</td>\n",
       "      <td>9</td>\n",
       "      <td>0.0</td>\n",
       "      <td>0.001439</td>\n",
       "      <td>0.001619</td>\n",
       "      <td>0.001105</td>\n",
       "      <td>0.00058</td>\n",
       "      <td>0.002507</td>\n",
       "    </tr>\n",
       "  </tbody>\n",
       "</table>\n",
       "</div>"
      ],
      "text/plain": [
       "       ip  app  device  os  channel  click_timeDay  click_timeHour  \\\n",
       "0  206573   11       1  26      173              8               9   \n",
       "\n",
       "   random_mean_encode_ip  random_mean_encode_app  random_mean_encode_device  \\\n",
       "0                    0.0                0.001439                   0.001619   \n",
       "\n",
       "   random_mean_encode_os  random_mean_encode_channel  \\\n",
       "0               0.001105                     0.00058   \n",
       "\n",
       "   random_mean_encode_click_timeHour  \n",
       "0                           0.002507  "
      ]
     },
     "execution_count": 30,
     "metadata": {},
     "output_type": "execute_result"
    }
   ],
   "source": [
    "trn_df.head(1)"
   ]
  },
  {
   "cell_type": "code",
   "execution_count": 31,
   "metadata": {},
   "outputs": [
    {
     "data": {
      "text/html": [
       "<div>\n",
       "<style scoped>\n",
       "    .dataframe tbody tr th:only-of-type {\n",
       "        vertical-align: middle;\n",
       "    }\n",
       "\n",
       "    .dataframe tbody tr th {\n",
       "        vertical-align: top;\n",
       "    }\n",
       "\n",
       "    .dataframe thead th {\n",
       "        text-align: right;\n",
       "    }\n",
       "</style>\n",
       "<table border=\"1\" class=\"dataframe\">\n",
       "  <thead>\n",
       "    <tr style=\"text-align: right;\">\n",
       "      <th></th>\n",
       "      <th>ip</th>\n",
       "      <th>app</th>\n",
       "      <th>device</th>\n",
       "      <th>os</th>\n",
       "      <th>channel</th>\n",
       "      <th>click_timeDay</th>\n",
       "      <th>click_timeHour</th>\n",
       "      <th>random_mean_encode_ip</th>\n",
       "      <th>random_mean_encode_app</th>\n",
       "      <th>random_mean_encode_device</th>\n",
       "      <th>random_mean_encode_os</th>\n",
       "      <th>random_mean_encode_channel</th>\n",
       "      <th>random_mean_encode_click_timeHour</th>\n",
       "    </tr>\n",
       "  </thead>\n",
       "  <tbody>\n",
       "    <tr>\n",
       "      <th>0</th>\n",
       "      <td>67040</td>\n",
       "      <td>3</td>\n",
       "      <td>1</td>\n",
       "      <td>19</td>\n",
       "      <td>211</td>\n",
       "      <td>9</td>\n",
       "      <td>9</td>\n",
       "      <td>0.000456</td>\n",
       "      <td>0.000286</td>\n",
       "      <td>0.00149</td>\n",
       "      <td>0.001523</td>\n",
       "      <td>0.000357</td>\n",
       "      <td>0.002793</td>\n",
       "    </tr>\n",
       "  </tbody>\n",
       "</table>\n",
       "</div>"
      ],
      "text/plain": [
       "      ip  app  device  os  channel  click_timeDay  click_timeHour  \\\n",
       "0  67040    3       1  19      211              9               9   \n",
       "\n",
       "   random_mean_encode_ip  random_mean_encode_app  random_mean_encode_device  \\\n",
       "0               0.000456                0.000286                    0.00149   \n",
       "\n",
       "   random_mean_encode_os  random_mean_encode_channel  \\\n",
       "0               0.001523                    0.000357   \n",
       "\n",
       "   random_mean_encode_click_timeHour  \n",
       "0                           0.002793  "
      ]
     },
     "execution_count": 31,
     "metadata": {},
     "output_type": "execute_result"
    }
   ],
   "source": [
    "val_df.head(1)"
   ]
  },
  {
   "cell_type": "code",
   "execution_count": 32,
   "metadata": {},
   "outputs": [
    {
     "data": {
      "text/plain": [
       "ip                                     int32\n",
       "app                                    int16\n",
       "device                                 int16\n",
       "os                                     int16\n",
       "channel                                int16\n",
       "click_timeDay                           int8\n",
       "click_timeHour                          int8\n",
       "random_mean_encode_ip                float32\n",
       "random_mean_encode_app               float32\n",
       "random_mean_encode_device            float32\n",
       "random_mean_encode_os                float32\n",
       "random_mean_encode_channel           float32\n",
       "random_mean_encode_click_timeHour    float32\n",
       "dtype: object"
      ]
     },
     "execution_count": 32,
     "metadata": {},
     "output_type": "execute_result"
    }
   ],
   "source": [
    "trn_df.dtypes"
   ]
  },
  {
   "cell_type": "code",
   "execution_count": 33,
   "metadata": {},
   "outputs": [],
   "source": [
    "xgb_md = XGBModelData(trn_df, val_df, trn_y, val_y)"
   ]
  },
  {
   "cell_type": "code",
   "execution_count": 34,
   "metadata": {},
   "outputs": [],
   "source": [
    "dtrain, dval, evals = xgb_md.get_train_eval_ds()"
   ]
  },
  {
   "cell_type": "code",
   "execution_count": 35,
   "metadata": {},
   "outputs": [
    {
     "data": {
      "text/plain": [
       "(0.0023496243322725548, 0.0024151970489046655)"
      ]
     },
     "execution_count": 35,
     "metadata": {},
     "output_type": "execute_result"
    }
   ],
   "source": [
    "trn_y.mean(), val_y.mean()"
   ]
  },
  {
   "cell_type": "code",
   "execution_count": 36,
   "metadata": {},
   "outputs": [],
   "source": [
    "xgb_learner = XGBLearner(dtrain, evals, True, 0.01, 'binary:logistic', 'auc', seed=7)"
   ]
  },
  {
   "cell_type": "code",
   "execution_count": 37,
   "metadata": {},
   "outputs": [],
   "source": [
    "xgb_learner.params['nthread'] = 4"
   ]
  },
  {
   "cell_type": "code",
   "execution_count": null,
   "metadata": {},
   "outputs": [],
   "source": [
    "xgb_learner.initialize()"
   ]
  },
  {
   "cell_type": "code",
   "execution_count": null,
   "metadata": {},
   "outputs": [],
   "source": [
    "xgb_learner.params"
   ]
  },
  {
   "cell_type": "code",
   "execution_count": null,
   "metadata": {},
   "outputs": [],
   "source": [
    "xgb_learner.num_rounds"
   ]
  },
  {
   "cell_type": "code",
   "execution_count": null,
   "metadata": {},
   "outputs": [],
   "source": [
    "xgb_learner.random_search(100, verbose=True)"
   ]
  },
  {
   "cell_type": "code",
   "execution_count": null,
   "metadata": {},
   "outputs": [],
   "source": [
    "# fit validation model\n",
    "xgb_learner.fit_best_model(dtrain)"
   ]
  },
  {
   "cell_type": "code",
   "execution_count": null,
   "metadata": {},
   "outputs": [],
   "source": [
    "xgb_learner.best_params"
   ]
  },
  {
   "cell_type": "code",
   "execution_count": null,
   "metadata": {},
   "outputs": [],
   "source": [
    "xgb_learner.best_model.best_iteration"
   ]
  },
  {
   "cell_type": "code",
   "execution_count": null,
   "metadata": {},
   "outputs": [],
   "source": [
    "sort_dict(xgb_learner.best_model.get_fscore())"
   ]
  },
  {
   "cell_type": "code",
   "execution_count": null,
   "metadata": {},
   "outputs": [],
   "source": [
    "dtest = xgb.DMatrix(test.drop(\"click_id\", 1)[dtrain.feature_names])"
   ]
  },
  {
   "cell_type": "code",
   "execution_count": null,
   "metadata": {},
   "outputs": [],
   "source": [
    "preds = xgb_learner.best_model.predict(dtest)"
   ]
  },
  {
   "cell_type": "code",
   "execution_count": null,
   "metadata": {},
   "outputs": [],
   "source": [
    "sub_df = pd.DataFrame({\"click_id\":test.click_id ,\"is_attributed\":preds})"
   ]
  },
  {
   "cell_type": "code",
   "execution_count": null,
   "metadata": {},
   "outputs": [],
   "source": [
    "from IPython.display import FileLink"
   ]
  },
  {
   "cell_type": "code",
   "execution_count": null,
   "metadata": {},
   "outputs": [],
   "source": [
    "sub_df.to_csv(\"xgb_unconverged.csv\", index=False)"
   ]
  },
  {
   "cell_type": "code",
   "execution_count": null,
   "metadata": {},
   "outputs": [],
   "source": [
    "FileLink(\"xgb_unconverged.csv\")"
   ]
  },
  {
   "cell_type": "code",
   "execution_count": null,
   "metadata": {},
   "outputs": [],
   "source": [
    "sub_df.head()"
   ]
  },
  {
   "cell_type": "code",
   "execution_count": null,
   "metadata": {},
   "outputs": [],
   "source": []
  },
  {
   "cell_type": "markdown",
   "metadata": {},
   "source": [
    "### EMBEDDING MODEL"
   ]
  },
  {
   "cell_type": "code",
   "execution_count": 2,
   "metadata": {},
   "outputs": [],
   "source": [
    "torch.cuda.set_device(0)"
   ]
  },
  {
   "cell_type": "code",
   "execution_count": 20,
   "metadata": {},
   "outputs": [],
   "source": [
    "train_small_data = pd.read_feather(\"../../../data/talking/train_small_data.feather\")\n",
    "val_small_data = pd.read_feather(\"../../../data/talking/val_small_data.feather\")\n",
    "test = pd.read_feather(\"../../../data/talking/test_small_data.feather\")\n",
    "\n",
    "# take samples from train small data and val small data\n",
    "sample_ratio =  0.03\n",
    "np.random.seed(7)\n",
    "train_idx = np.random.choice(train_small_data.index, size=int(len(train_small_data)*sample_ratio), replace=False)\n",
    "val_idx = np.random.choice(val_small_data.index, size=int(len(val_small_data)*sample_ratio), replace=False)\n",
    "\n",
    "# create sample data\n",
    "train_small_sample = train_small_data.iloc[train_idx].reset_index(drop=True, inplace=False)\n",
    "val_small_sample = val_small_data.iloc[val_idx].reset_index(drop=True, inplace=False)"
   ]
  },
  {
   "cell_type": "code",
   "execution_count": 23,
   "metadata": {},
   "outputs": [
    {
     "data": {
      "text/plain": [
       "(1916846, 687869)"
      ]
     },
     "execution_count": 23,
     "metadata": {},
     "output_type": "execute_result"
    }
   ],
   "source": [
    "len(train_small_sample), len(val_small_sample)"
   ]
  },
  {
   "cell_type": "code",
   "execution_count": 28,
   "metadata": {},
   "outputs": [
    {
     "data": {
      "text/plain": [
       "(array([8, 9], dtype=int8),\n",
       " array([ 0,  1,  2,  3,  4,  5,  6,  7,  8,  9, 10, 11, 12, 13, 14, 15, 16, 17, 18, 19, 20, 21, 22, 23],\n",
       "       dtype=int8))"
      ]
     },
     "execution_count": 28,
     "metadata": {},
     "output_type": "execute_result"
    }
   ],
   "source": [
    "np.unique(train_small_sample.click_timeDay), np.unique(train_small_sample.click_timeHour)"
   ]
  },
  {
   "cell_type": "code",
   "execution_count": 29,
   "metadata": {},
   "outputs": [
    {
     "data": {
      "text/plain": [
       "(array([9], dtype=int8), array([ 9, 10, 11, 12, 13, 14, 15], dtype=int8))"
      ]
     },
     "execution_count": 29,
     "metadata": {},
     "output_type": "execute_result"
    }
   ],
   "source": [
    "np.unique(val_small_sample.click_timeDay), np.unique(val_small_sample.click_timeHour)"
   ]
  },
  {
   "cell_type": "code",
   "execution_count": 31,
   "metadata": {},
   "outputs": [
    {
     "data": {
      "text/plain": [
       "(0.0023580402390176365, 0.002421972788423377)"
      ]
     },
     "execution_count": 31,
     "metadata": {},
     "output_type": "execute_result"
    }
   ],
   "source": [
    "train_small_sample.is_attributed.mean(), val_small_sample.is_attributed.mean()"
   ]
  },
  {
   "cell_type": "code",
   "execution_count": 32,
   "metadata": {},
   "outputs": [],
   "source": [
    "usecols = ['ip', 'app', 'device', 'os', 'channel',\n",
    "'click_timeDay', 'click_timeHour','random_mean_encode_ip',\n",
    "'random_mean_encode_app', 'random_mean_encode_device',\n",
    "'random_mean_encode_os', 'random_mean_encode_channel',\n",
    "'random_mean_encode_click_timeHour']"
   ]
  },
  {
   "cell_type": "code",
   "execution_count": 33,
   "metadata": {},
   "outputs": [
    {
     "data": {
      "text/html": [
       "<div>\n",
       "<style scoped>\n",
       "    .dataframe tbody tr th:only-of-type {\n",
       "        vertical-align: middle;\n",
       "    }\n",
       "\n",
       "    .dataframe tbody tr th {\n",
       "        vertical-align: top;\n",
       "    }\n",
       "\n",
       "    .dataframe thead th {\n",
       "        text-align: right;\n",
       "    }\n",
       "</style>\n",
       "<table border=\"1\" class=\"dataframe\">\n",
       "  <thead>\n",
       "    <tr style=\"text-align: right;\">\n",
       "      <th></th>\n",
       "      <th>ip</th>\n",
       "      <th>app</th>\n",
       "      <th>device</th>\n",
       "      <th>os</th>\n",
       "      <th>channel</th>\n",
       "      <th>is_attributed</th>\n",
       "      <th>click_timeHour</th>\n",
       "      <th>click_timeDay</th>\n",
       "      <th>random_mean_encode_ip</th>\n",
       "      <th>random_mean_encode_app</th>\n",
       "      <th>random_mean_encode_device</th>\n",
       "      <th>random_mean_encode_os</th>\n",
       "      <th>random_mean_encode_channel</th>\n",
       "      <th>random_mean_encode_click_timeHour</th>\n",
       "    </tr>\n",
       "  </thead>\n",
       "  <tbody>\n",
       "    <tr>\n",
       "      <th>0</th>\n",
       "      <td>206573</td>\n",
       "      <td>11</td>\n",
       "      <td>1</td>\n",
       "      <td>26</td>\n",
       "      <td>173</td>\n",
       "      <td>0</td>\n",
       "      <td>9</td>\n",
       "      <td>8</td>\n",
       "      <td>0.0</td>\n",
       "      <td>0.001439</td>\n",
       "      <td>0.001619</td>\n",
       "      <td>0.001105</td>\n",
       "      <td>0.00058</td>\n",
       "      <td>0.002507</td>\n",
       "    </tr>\n",
       "  </tbody>\n",
       "</table>\n",
       "</div>"
      ],
      "text/plain": [
       "       ip  app  device  os  channel  is_attributed  click_timeHour  \\\n",
       "0  206573   11       1  26      173              0               9   \n",
       "\n",
       "   click_timeDay  random_mean_encode_ip  random_mean_encode_app  \\\n",
       "0              8                    0.0                0.001439   \n",
       "\n",
       "   random_mean_encode_device  random_mean_encode_os  \\\n",
       "0                   0.001619               0.001105   \n",
       "\n",
       "   random_mean_encode_channel  random_mean_encode_click_timeHour  \n",
       "0                     0.00058                           0.002507  "
      ]
     },
     "execution_count": 33,
     "metadata": {},
     "output_type": "execute_result"
    }
   ],
   "source": [
    "train_small_data.head(1)"
   ]
  },
  {
   "cell_type": "code",
   "execution_count": 34,
   "metadata": {},
   "outputs": [
    {
     "data": {
      "text/html": [
       "<div>\n",
       "<style scoped>\n",
       "    .dataframe tbody tr th:only-of-type {\n",
       "        vertical-align: middle;\n",
       "    }\n",
       "\n",
       "    .dataframe tbody tr th {\n",
       "        vertical-align: top;\n",
       "    }\n",
       "\n",
       "    .dataframe thead th {\n",
       "        text-align: right;\n",
       "    }\n",
       "</style>\n",
       "<table border=\"1\" class=\"dataframe\">\n",
       "  <thead>\n",
       "    <tr style=\"text-align: right;\">\n",
       "      <th></th>\n",
       "      <th>ip</th>\n",
       "      <th>app</th>\n",
       "      <th>device</th>\n",
       "      <th>os</th>\n",
       "      <th>channel</th>\n",
       "      <th>is_attributed</th>\n",
       "      <th>click_timeHour</th>\n",
       "      <th>click_timeDay</th>\n",
       "      <th>random_mean_encode_ip</th>\n",
       "      <th>random_mean_encode_app</th>\n",
       "      <th>random_mean_encode_device</th>\n",
       "      <th>random_mean_encode_os</th>\n",
       "      <th>random_mean_encode_channel</th>\n",
       "      <th>random_mean_encode_click_timeHour</th>\n",
       "    </tr>\n",
       "  </thead>\n",
       "  <tbody>\n",
       "    <tr>\n",
       "      <th>0</th>\n",
       "      <td>67040</td>\n",
       "      <td>3</td>\n",
       "      <td>1</td>\n",
       "      <td>19</td>\n",
       "      <td>211</td>\n",
       "      <td>0</td>\n",
       "      <td>9</td>\n",
       "      <td>9</td>\n",
       "      <td>0.000833</td>\n",
       "      <td>0.000271</td>\n",
       "      <td>0.001618</td>\n",
       "      <td>0.00162</td>\n",
       "      <td>0.00039</td>\n",
       "      <td>0.002496</td>\n",
       "    </tr>\n",
       "  </tbody>\n",
       "</table>\n",
       "</div>"
      ],
      "text/plain": [
       "      ip  app  device  os  channel  is_attributed  click_timeHour  \\\n",
       "0  67040    3       1  19      211              0               9   \n",
       "\n",
       "   click_timeDay  random_mean_encode_ip  random_mean_encode_app  \\\n",
       "0              9               0.000833                0.000271   \n",
       "\n",
       "   random_mean_encode_device  random_mean_encode_os  \\\n",
       "0                   0.001618                0.00162   \n",
       "\n",
       "   random_mean_encode_channel  random_mean_encode_click_timeHour  \n",
       "0                     0.00039                           0.002496  "
      ]
     },
     "execution_count": 34,
     "metadata": {},
     "output_type": "execute_result"
    }
   ],
   "source": [
    "val_small_data.head(1)"
   ]
  },
  {
   "cell_type": "code",
   "execution_count": 35,
   "metadata": {},
   "outputs": [
    {
     "data": {
      "text/html": [
       "<div>\n",
       "<style scoped>\n",
       "    .dataframe tbody tr th:only-of-type {\n",
       "        vertical-align: middle;\n",
       "    }\n",
       "\n",
       "    .dataframe tbody tr th {\n",
       "        vertical-align: top;\n",
       "    }\n",
       "\n",
       "    .dataframe thead th {\n",
       "        text-align: right;\n",
       "    }\n",
       "</style>\n",
       "<table border=\"1\" class=\"dataframe\">\n",
       "  <thead>\n",
       "    <tr style=\"text-align: right;\">\n",
       "      <th></th>\n",
       "      <th>click_id</th>\n",
       "      <th>ip</th>\n",
       "      <th>app</th>\n",
       "      <th>device</th>\n",
       "      <th>os</th>\n",
       "      <th>channel</th>\n",
       "      <th>random_mean_encode_ip</th>\n",
       "      <th>random_mean_encode_app</th>\n",
       "      <th>random_mean_encode_device</th>\n",
       "      <th>random_mean_encode_os</th>\n",
       "      <th>random_mean_encode_channel</th>\n",
       "      <th>click_timeHour</th>\n",
       "      <th>click_timeDay</th>\n",
       "      <th>random_mean_encode_click_timeHour</th>\n",
       "    </tr>\n",
       "  </thead>\n",
       "  <tbody>\n",
       "    <tr>\n",
       "      <th>0</th>\n",
       "      <td>0</td>\n",
       "      <td>5744</td>\n",
       "      <td>9</td>\n",
       "      <td>1</td>\n",
       "      <td>3</td>\n",
       "      <td>107</td>\n",
       "      <td>0.002208</td>\n",
       "      <td>0.001068</td>\n",
       "      <td>0.001585</td>\n",
       "      <td>0.000703</td>\n",
       "      <td>0.000541</td>\n",
       "      <td>4</td>\n",
       "      <td>10</td>\n",
       "      <td>0.002397</td>\n",
       "    </tr>\n",
       "  </tbody>\n",
       "</table>\n",
       "</div>"
      ],
      "text/plain": [
       "   click_id    ip  app  device  os  channel  random_mean_encode_ip  \\\n",
       "0         0  5744    9       1   3      107               0.002208   \n",
       "\n",
       "   random_mean_encode_app  random_mean_encode_device  random_mean_encode_os  \\\n",
       "0                0.001068                   0.001585               0.000703   \n",
       "\n",
       "   random_mean_encode_channel  click_timeHour  click_timeDay  \\\n",
       "0                    0.000541               4             10   \n",
       "\n",
       "   random_mean_encode_click_timeHour  \n",
       "0                           0.002397  "
      ]
     },
     "execution_count": 35,
     "metadata": {},
     "output_type": "execute_result"
    }
   ],
   "source": [
    "test.head(1)"
   ]
  },
  {
   "cell_type": "code",
   "execution_count": 36,
   "metadata": {},
   "outputs": [],
   "source": [
    "full_data = pd.concat([train_small_sample[usecols], val_small_sample[usecols], test[usecols]])"
   ]
  },
  {
   "cell_type": "code",
   "execution_count": 37,
   "metadata": {},
   "outputs": [
    {
     "data": {
      "text/plain": [
       "(21395184, 13)"
      ]
     },
     "execution_count": 37,
     "metadata": {},
     "output_type": "execute_result"
    }
   ],
   "source": [
    "full_data.shape"
   ]
  },
  {
   "cell_type": "code",
   "execution_count": 38,
   "metadata": {},
   "outputs": [],
   "source": [
    "cats = ['ip', 'app', 'device', 'os', 'channel',\n",
    "'click_timeDay', 'click_timeHour']"
   ]
  },
  {
   "cell_type": "code",
   "execution_count": 39,
   "metadata": {},
   "outputs": [],
   "source": [
    "def create_emb_cols(data, cats):\n",
    "    for c in cats:\n",
    "        cat2emb = {v:k for k, v in enumerate(data[c].unique())}\n",
    "        data[c] = data[c].map(cat2emb)\n",
    "    return data"
   ]
  },
  {
   "cell_type": "code",
   "execution_count": 40,
   "metadata": {},
   "outputs": [],
   "source": [
    "# convert cat levels to embedding values\n",
    "full_data = create_emb_cols(full_data, cats)"
   ]
  },
  {
   "cell_type": "code",
   "execution_count": 41,
   "metadata": {},
   "outputs": [],
   "source": [
    "# get cat sizes\n",
    "cat_sz = [(c, len(full_data[c].unique())) for c in cats]\n",
    "\n",
    "# create embedding sizes\n",
    "emb_szs = [(c, min(50, (c+1)//2)) for _,c in cat_sz]\n",
    "\n",
    "# nconts\n",
    "n_conts = len(full_data.columns) - len(cats)"
   ]
  },
  {
   "cell_type": "code",
   "execution_count": 44,
   "metadata": {},
   "outputs": [],
   "source": [
    "full_data.reset_index(drop=True, inplace=True)"
   ]
  },
  {
   "cell_type": "code",
   "execution_count": 45,
   "metadata": {},
   "outputs": [],
   "source": [
    "full_data.to_feather(\"../../../data/talking/nn_small_sample_full_data.feather\")"
   ]
  },
  {
   "cell_type": "code",
   "execution_count": 46,
   "metadata": {},
   "outputs": [],
   "source": [
    "train_nrows, val_nrows, test_nrows = train_small_sample.shape[0], val_small_sample.shape[0], test.shape[0]"
   ]
  },
  {
   "cell_type": "code",
   "execution_count": 47,
   "metadata": {},
   "outputs": [
    {
     "data": {
      "text/plain": [
       "(1916846, 687869, 18790469)"
      ]
     },
     "execution_count": 47,
     "metadata": {},
     "output_type": "execute_result"
    }
   ],
   "source": [
    "train_nrows, val_nrows, test_nrows"
   ]
  },
  {
   "cell_type": "code",
   "execution_count": 48,
   "metadata": {},
   "outputs": [],
   "source": [
    "trn_df = full_data[:train_nrows]\n",
    "val_df = full_data[train_nrows:train_nrows+val_nrows]\n",
    "test_df = full_data[-test_nrows:]"
   ]
  },
  {
   "cell_type": "code",
   "execution_count": 49,
   "metadata": {},
   "outputs": [],
   "source": [
    "assert trn_df.shape[0] == train_nrows\n",
    "assert val_df.shape[0] == val_nrows\n",
    "assert test_df.shape[0] == test_nrows"
   ]
  },
  {
   "cell_type": "code",
   "execution_count": 50,
   "metadata": {},
   "outputs": [],
   "source": [
    "trn_y = train_small_sample.is_attributed\n",
    "val_y = val_small_sample.is_attributed"
   ]
  },
  {
   "cell_type": "code",
   "execution_count": 51,
   "metadata": {},
   "outputs": [],
   "source": [
    "assert trn_df.shape[0] == trn_y.shape[0]\n",
    "assert val_df.shape[0] == val_y.shape[0]"
   ]
  },
  {
   "cell_type": "code",
   "execution_count": 52,
   "metadata": {},
   "outputs": [],
   "source": [
    "# from data frames expects index 0,1, ...\n",
    "val_df.reset_index(drop=True, inplace=True)\n",
    "val_y.reset_index(drop=True, inplace=True)\n",
    "test_df.reset_index(drop=True, inplace=True)"
   ]
  },
  {
   "cell_type": "code",
   "execution_count": 53,
   "metadata": {},
   "outputs": [],
   "source": [
    "### Changed Validation Batch Size to be large enough for roc auc calculation\n",
    "\n",
    "class ColumnarModelData(ModelData):\n",
    "    def __init__(self, path, trn_ds, val_ds, bs, test_ds=None, shuffle=True):\n",
    "        test_dl = DataLoader(test_ds, bs, shuffle=False, num_workers=1) if test_ds is not None else None\n",
    "        super().__init__(path, DataLoader(trn_ds, bs, shuffle=shuffle, num_workers=1),\n",
    "            DataLoader(val_ds, bs*50, shuffle=False, num_workers=1), test_dl) # increased validation batch size\n",
    "\n",
    "    @classmethod\n",
    "    def from_arrays(cls, path, val_idxs, xs, y, is_reg=True, is_multi=False, bs=64, test_xs=None, shuffle=True):\n",
    "        ((val_xs, trn_xs), (val_y, trn_y)) = split_by_idx(val_idxs, xs, y)\n",
    "        test_ds = PassthruDataset(*(test_xs.T), [0] * len(test_xs), is_reg=is_reg, is_multi=is_multi) if test_xs is not None else None\n",
    "        return cls(path, PassthruDataset(*(trn_xs.T), trn_y, is_reg=is_reg, is_multi=is_multi),\n",
    "                   PassthruDataset(*(val_xs.T), val_y, is_reg=is_reg, is_multi=is_multi),\n",
    "                   bs=bs, shuffle=shuffle, test_ds=test_ds)\n",
    "\n",
    "    @classmethod\n",
    "    def from_data_frames(cls, path, trn_df, val_df, trn_y, val_y, cat_flds, bs, is_reg, is_multi, test_df=None):\n",
    "        test_ds = ColumnarDataset.from_data_frame(test_df, cat_flds, None, is_reg, is_multi) if test_df is not None else None\n",
    "        return cls(path, ColumnarDataset.from_data_frame(trn_df, cat_flds, trn_y, is_reg, is_multi),\n",
    "                    ColumnarDataset.from_data_frame(val_df, cat_flds, val_y, is_reg, is_multi), bs, test_ds=test_ds)\n",
    "\n",
    "    @classmethod\n",
    "    def from_data_frame(cls, path, val_idxs, df, y, cat_flds, bs, is_reg=True, is_multi=False, test_df=None):\n",
    "        ((val_df, trn_df), (val_y, trn_y)) = split_by_idx(val_idxs, df, y)\n",
    "        return cls.from_data_frames(path, trn_df, val_df, trn_y, val_y, cat_flds, bs, is_reg, is_multi, test_df=test_df)\n",
    "\n",
    "    def get_learner(self, emb_szs, n_cont, emb_drop, out_sz, szs, drops,\n",
    "                    y_range=None, use_bn=False, **kwargs):\n",
    "        model = MixedInputModel(emb_szs, n_cont, emb_drop, out_sz, szs, drops, y_range, use_bn, self.is_reg, self.is_multi)\n",
    "        return StructuredLearner(self, StructuredModel(to_gpu(model)), opt_fn=optim.Adam, **kwargs)\n"
   ]
  },
  {
   "cell_type": "code",
   "execution_count": 59,
   "metadata": {},
   "outputs": [],
   "source": [
    "# initialize model\n",
    "model = MixedInputModel(emb_szs,\n",
    "                        n_cont=n_conts,\n",
    "                        emb_drop=0.5,\n",
    "                        out_sz=2,\n",
    "                        szs=[500,500],\n",
    "                        drops=[0.5, 0.5],\n",
    "                        is_reg=False,\n",
    "                        is_multi=False).cuda()\n",
    "\n",
    "\n",
    "bm = BasicModel(model, 'binary_classifier')\n",
    "\n",
    "# initialize model data\n",
    "bs = int(20000 * sample_ratio)\n",
    "md = ColumnarModelData.from_data_frames('/tmp',\n",
    "                                        trn_df,\n",
    "                                        val_df,\n",
    "                                        trn_y,\n",
    "                                        val_y,\n",
    "                                        cats,\n",
    "                                        bs, False, False, test_df=test_df)\n",
    "\n",
    "# initialize learner\n",
    "learn = StructuredLearner(md, bm)"
   ]
  },
  {
   "cell_type": "code",
   "execution_count": 60,
   "metadata": {},
   "outputs": [],
   "source": [
    "from sklearn.metrics import roc_auc_score"
   ]
  },
  {
   "cell_type": "code",
   "execution_count": 61,
   "metadata": {
    "scrolled": true
   },
   "outputs": [
    {
     "data": {
      "application/vnd.jupyter.widget-view+json": {
       "model_id": "c7be16d630a2468c8a406dc6cc279718",
       "version_major": 2,
       "version_minor": 0
      },
      "text/plain": [
       "HBox(children=(IntProgress(value=0, description='Epoch', max=1), HTML(value='')))"
      ]
     },
     "metadata": {},
     "output_type": "display_data"
    },
    {
     "name": "stdout",
     "output_type": "stream",
     "text": [
      " 97%|█████████▋| 3085/3195 [01:29<00:03, 34.51it/s, loss=0.237]  "
     ]
    }
   ],
   "source": [
    "learn.lr_find()"
   ]
  },
  {
   "cell_type": "code",
   "execution_count": 62,
   "metadata": {},
   "outputs": [
    {
     "data": {
      "image/png": "[encoded data removed]",
      "text/plain": [
       "<Figure size 432x288 with 1 Axes>"
      ]
     },
     "metadata": {},
     "output_type": "display_data"
    }
   ],
   "source": [
    "learn.sched.plot()"
   ]
  },
  {
   "cell_type": "code",
   "execution_count": 64,
   "metadata": {},
   "outputs": [],
   "source": [
    "# auc metric\n",
    "def auc(preds, targs):\n",
    "    score = roc_auc_score(to_np(targs), to_np(preds)[:, 1])\n",
    "    return score"
   ]
  },
  {
   "cell_type": "code",
   "execution_count": 65,
   "metadata": {},
   "outputs": [],
   "source": [
    "learn.metrics = [accuracy, auc]"
   ]
  },
  {
   "cell_type": "code",
   "execution_count": 66,
   "metadata": {},
   "outputs": [
    {
     "data": {
      "text/plain": [
       "0.9975780272115766"
      ]
     },
     "execution_count": 66,
     "metadata": {},
     "output_type": "execute_result"
    }
   ],
   "source": [
    "# baseline accuracy\n",
    "all_zeros = 1 - val_y.mean()\n",
    "all_zeros"
   ]
  },
  {
   "cell_type": "code",
   "execution_count": 70,
   "metadata": {
    "scrolled": false
   },
   "outputs": [
    {
     "data": {
      "application/vnd.jupyter.widget-view+json": {
       "model_id": "87466b5ffa8a49f5bc6350626738faed",
       "version_major": 2,
       "version_minor": 0
      },
      "text/plain": [
       "HBox(children=(IntProgress(value=0, description='Epoch', max=10), HTML(value='')))"
      ]
     },
     "metadata": {},
     "output_type": "display_data"
    },
    {
     "name": "stdout",
     "output_type": "stream",
     "text": [
      "  1%|          | 35/3195 [00:01<01:49, 28.83it/s, loss=0.0152]\n",
      "epoch      trn_loss   val_loss   accuracy   auc                 \n",
      "    0      0.014991   0.015012   0.997578   0.816485  \n",
      "    1      0.014337   0.014924   0.997578   0.822257            \n",
      "    2      0.015538   0.014834   0.997578   0.827462            \n",
      "    3      0.016206   0.014754   0.997578   0.832493            \n",
      "    4      0.016884   0.01467    0.997578   0.837166            \n",
      "    5      0.013156   0.014589   0.997578   0.841459            \n",
      "    6      0.01633    0.014514   0.997578   0.845446            \n",
      "    7      0.015245   0.014433   0.997578   0.849243            \n",
      "    8      0.016451   0.014359   0.997578   0.852933            \n",
      "    9      0.01442    0.014282   0.997578   0.856447            \n",
      "\n"
     ]
    },
    {
     "data": {
      "text/plain": [
       "[array([0.01428]), 0.9975780330939771, 0.8564473551407701]"
      ]
     },
     "execution_count": 70,
     "metadata": {},
     "output_type": "execute_result"
    }
   ],
   "source": [
    "lr = 4e-4\n",
    "learn.fit(lr, 10, cycle_len=1, use_clr=(10,10))"
   ]
  },
  {
   "cell_type": "code",
   "execution_count": 71,
   "metadata": {},
   "outputs": [],
   "source": [
    "learn.save(\"dnn10\")"
   ]
  },
  {
   "cell_type": "code",
   "execution_count": 72,
   "metadata": {
    "scrolled": true
   },
   "outputs": [
    {
     "data": {
      "application/vnd.jupyter.widget-view+json": {
       "model_id": "b66fb9aceb334197b9f31ea91e84a6c9",
       "version_major": 2,
       "version_minor": 0
      },
      "text/plain": [
       "HBox(children=(IntProgress(value=0, description='Epoch', max=10), HTML(value='')))"
      ]
     },
     "metadata": {},
     "output_type": "display_data"
    },
    {
     "name": "stdout",
     "output_type": "stream",
     "text": [
      "epoch      trn_loss   val_loss   accuracy   auc                 \n",
      "    0      0.014958   0.014186   0.997578   0.860621  \n",
      "    1      0.015658   0.014092   0.997578   0.864626            \n",
      "    2      0.014366   0.014002   0.997578   0.868501            \n",
      "    3      0.01458    0.013904   0.997578   0.872193            \n",
      "    4      0.014714   0.013816   0.997578   0.875942            \n",
      "    5      0.01477    0.013716   0.997578   0.879517            \n",
      "    6      0.013545   0.013625   0.997578   0.883021            \n",
      "    7      0.014144   0.01353    0.997578   0.886449            \n",
      "    8      0.014379   0.013433   0.997578   0.889713            \n",
      "    9      0.014118   0.013342   0.997578   0.892838            \n",
      "\n"
     ]
    },
    {
     "data": {
      "text/plain": [
       "[array([0.01334]), 0.9975780330939771, 0.8928382331015682]"
      ]
     },
     "execution_count": 72,
     "metadata": {},
     "output_type": "execute_result"
    }
   ],
   "source": [
    "lr = 5e-4\n",
    "learn.fit(lr, 10, cycle_len=1, use_clr=(10,10))"
   ]
  },
  {
   "cell_type": "code",
   "execution_count": 73,
   "metadata": {},
   "outputs": [],
   "source": [
    "learn.save(\"dnn20\")"
   ]
  },
  {
   "cell_type": "code",
   "execution_count": 74,
   "metadata": {
    "scrolled": true
   },
   "outputs": [
    {
     "data": {
      "application/vnd.jupyter.widget-view+json": {
       "model_id": "20191ec84878452ab69c6bb8af86c6f9",
       "version_major": 2,
       "version_minor": 0
      },
      "text/plain": [
       "HBox(children=(IntProgress(value=0, description='Epoch', max=20), HTML(value='')))"
      ]
     },
     "metadata": {},
     "output_type": "display_data"
    },
    {
     "name": "stdout",
     "output_type": "stream",
     "text": [
      "epoch      trn_loss   val_loss   accuracy   auc                 \n",
      "    0      0.01339    0.013256   0.997578   0.895881  \n",
      "    1      0.014159   0.013162   0.997578   0.898636            \n",
      "    2      0.013238   0.013073   0.997578   0.901303            \n",
      "    3      0.013467   0.012984   0.997578   0.903762            \n",
      "    4      0.014744   0.012895   0.997578   0.906073            \n",
      "    5      0.013131   0.012808   0.997578   0.908196            \n",
      "    6      0.013462   0.012722   0.997578   0.910212            \n",
      "    7      0.014847   0.012629   0.997578   0.912066             \n",
      "    8      0.013659   0.012543   0.997578   0.913812            \n",
      "    9      0.013837   0.012454   0.997578   0.915439            \n",
      "    10     0.012012   0.012378   0.997578   0.917096            \n",
      "    11     0.012226   0.012292   0.997578   0.918643            \n",
      "    12     0.011907   0.0122     0.997578   0.920085            \n",
      "    13     0.012948   0.012122   0.997578   0.921536            \n",
      "    14     0.012465   0.012037   0.997578   0.922817            \n",
      "    15     0.01415    0.011947   0.997578   0.92398             \n",
      "    16     0.012851   0.011869   0.997578   0.925147             \n",
      "    17     0.011813   0.011791   0.997578   0.926225             \n",
      "    18     0.011584   0.01171    0.997578   0.927204            \n",
      "    19     0.01289    0.011631   0.997578   0.928138            \n",
      "\n"
     ]
    },
    {
     "data": {
      "text/plain": [
       "[array([0.01163]), 0.9975780330939771, 0.9281378247596579]"
      ]
     },
     "execution_count": 74,
     "metadata": {},
     "output_type": "execute_result"
    }
   ],
   "source": [
    "lr = 5e-4\n",
    "learn.fit(lr, 20, cycle_len=1, use_clr=(10,10))"
   ]
  },
  {
   "cell_type": "code",
   "execution_count": 75,
   "metadata": {},
   "outputs": [],
   "source": [
    "learn.save(\"dnn40\")"
   ]
  },
  {
   "cell_type": "code",
   "execution_count": 76,
   "metadata": {
    "scrolled": true
   },
   "outputs": [
    {
     "data": {
      "application/vnd.jupyter.widget-view+json": {
       "model_id": "a12feca4b15e4522a077b1faf7a0dda7",
       "version_major": 2,
       "version_minor": 0
      },
      "text/plain": [
       "HBox(children=(IntProgress(value=0, description='Epoch', max=20), HTML(value='')))"
      ]
     },
     "metadata": {},
     "output_type": "display_data"
    },
    {
     "name": "stdout",
     "output_type": "stream",
     "text": [
      "epoch      trn_loss   val_loss   accuracy   auc                 \n",
      "    0      0.012387   0.011538   0.997578   0.929138  \n",
      "    1      0.012221   0.011444   0.997578   0.930094             \n",
      "    2      0.011777   0.011354   0.997578   0.931017             \n",
      "    3      0.011486   0.011268   0.997578   0.93189              \n",
      "    4      0.011997   0.011181   0.997578   0.932681             \n",
      "    5      0.012051   0.0111     0.997578   0.933449             \n",
      "    6      0.011528   0.011029   0.997578   0.934175             \n",
      "    7      0.010687   0.010957   0.997578   0.934884             \n",
      "    8      0.010896   0.010887   0.997578   0.935564             \n",
      "    9      0.011858   0.010816   0.997578   0.936181             \n",
      "    10     0.009855   0.010764   0.997578   0.936781             \n",
      "    11     0.010872   0.010698   0.997578   0.937335             \n",
      "    12     0.010709   0.010644   0.997578   0.937911             \n",
      "    13     0.012428   0.010592   0.997578   0.938458             \n",
      "    14     0.011206   0.010554   0.997578   0.938995             \n",
      "    15     0.011106   0.01051    0.997578   0.939503             \n",
      "    16     0.010352   0.01047    0.997578   0.940021             \n",
      "    17     0.011127   0.010439   0.997578   0.940544             \n",
      "    18     0.010581   0.010403   0.997578   0.941044             \n",
      "    19     0.010863   0.010375   0.997578   0.941569             \n",
      "\n"
     ]
    },
    {
     "data": {
      "text/plain": [
       "[array([0.01038]), 0.9975780330939771, 0.9415691011077135]"
      ]
     },
     "execution_count": 76,
     "metadata": {},
     "output_type": "execute_result"
    }
   ],
   "source": [
    "lr = 6e-4\n",
    "learn.fit(lr, 20, cycle_len=1, use_clr=(10,10))"
   ]
  },
  {
   "cell_type": "code",
   "execution_count": 77,
   "metadata": {},
   "outputs": [],
   "source": [
    "learn.save(\"dnn60\")"
   ]
  },
  {
   "cell_type": "code",
   "execution_count": 80,
   "metadata": {},
   "outputs": [
    {
     "data": {
      "application/vnd.jupyter.widget-view+json": {
       "model_id": "fabe6004fcf54f1392b48c77bbcaa070",
       "version_major": 2,
       "version_minor": 0
      },
      "text/plain": [
       "HBox(children=(IntProgress(value=0, description='Epoch', max=20), HTML(value='')))"
      ]
     },
     "metadata": {},
     "output_type": "display_data"
    },
    {
     "name": "stdout",
     "output_type": "stream",
     "text": [
      "  6%|▋         | 202/3195 [00:09<02:19, 21.47it/s, loss=0.00926]\n",
      "epoch      trn_loss   val_loss   accuracy   auc                  \n",
      "    0      0.010743   0.010323   0.997578   0.94265   \n",
      "    1      0.009901   0.010301   0.997578   0.943435             \n",
      "    2      0.009813   0.010278   0.997578   0.944148             \n",
      "    3      0.01046    0.010253   0.997578   0.94489              \n",
      "    4      0.010204   0.010225   0.997578   0.945516             \n",
      "    5      0.010329   0.010212   0.997578   0.946086             \n",
      "    6      0.009046   0.010204   0.997578   0.946733             \n",
      "    7      0.010085   0.010177   0.997578   0.947265             \n",
      "    8      0.01135    0.010166   0.997578   0.947804             \n",
      "    9      0.009674   0.010143   0.997578   0.948393             \n",
      "    10     0.009635   0.010136   0.997578   0.948869             \n",
      "    11     0.009938   0.010112   0.997578   0.949326             \n",
      "    12     0.010881   0.010091   0.997578   0.949765             \n",
      "    13     0.009449   0.010088   0.997578   0.950255             \n",
      "    14     0.009605   0.01008    0.997578   0.95069              \n",
      "    15     0.009419   0.010081   0.997578   0.951115             \n",
      "    16     0.009101   0.010055   0.997578   0.951511             \n",
      "    17     0.008702   0.010041   0.997578   0.951878             \n",
      "    18     0.010055   0.010019   0.997578   0.952245             \n",
      "    19     0.009902   0.009992   0.997578   0.952593             \n",
      "\n"
     ]
    },
    {
     "data": {
      "text/plain": [
       "[array([0.00999]), 0.9975780330939771, 0.9525932258754055]"
      ]
     },
     "execution_count": 80,
     "metadata": {},
     "output_type": "execute_result"
    }
   ],
   "source": [
    "lr = 1e-3\n",
    "learn.fit(lr, 20, cycle_len=1, use_clr=(10,10))"
   ]
  },
  {
   "cell_type": "code",
   "execution_count": 81,
   "metadata": {},
   "outputs": [],
   "source": [
    "learn.save(\"dnn80\")"
   ]
  },
  {
   "cell_type": "code",
   "execution_count": 111,
   "metadata": {
    "scrolled": true
   },
   "outputs": [
    {
     "data": {
      "application/vnd.jupyter.widget-view+json": {
       "model_id": "cc3067828e3c4be290978ee636718756",
       "version_major": 2,
       "version_minor": 0
      },
      "text/plain": [
       "HBox(children=(IntProgress(value=0, description='Epoch', max=20), HTML(value='')))"
      ]
     },
     "metadata": {},
     "output_type": "display_data"
    },
    {
     "name": "stdout",
     "output_type": "stream",
     "text": [
      "epoch      trn_loss   val_loss   accuracy   auc                  \n",
      "    0      0.008836   0.009109   0.997037   0.965735  \n",
      "    1      0.009108   0.00913    0.997014   0.965818             \n",
      "    2      0.007781   0.009179   0.997013   0.965899             \n",
      "    3      0.008752   0.009143   0.99702    0.965873             \n",
      "    4      0.005962   0.009125   0.997007   0.9659               \n",
      "    5      0.007955   0.009145   0.996995   0.966022             \n",
      "    6      0.008203   0.009101   0.99701    0.966173             \n",
      "    7      0.008144   0.009166   0.996976   0.966073             \n",
      "    8      0.008694   0.009111   0.997001   0.96618              \n",
      "    9      0.007688   0.009152   0.996982   0.966197             \n",
      "    10     0.009655   0.009178   0.996976   0.966407             \n",
      "    11     0.008674   0.009098   0.996991   0.966375             \n",
      "    12     0.007857   0.009138   0.996983   0.966381             \n",
      "    13     0.009446   0.00917    0.996973   0.966511             \n",
      "    14     0.008341   0.009117   0.996989   0.966501             \n",
      "    15     0.007962   0.009103   0.996994   0.966804             \n",
      "    16     0.007834   0.009156   0.996982   0.966747             \n",
      "    17     0.009046   0.009111   0.996999   0.966787             \n",
      "    18     0.007864   0.00908    0.997002   0.966834             \n",
      "    19     0.007276   0.009086   0.997001   0.966725             \n",
      "\n"
     ]
    },
    {
     "data": {
      "text/plain": [
       "[array([0.00909]), 0.9970008848989561, 0.9667252440150078]"
      ]
     },
     "execution_count": 111,
     "metadata": {},
     "output_type": "execute_result"
    }
   ],
   "source": [
    "lr = 1e-2\n",
    "learn.fit(lr, 20, cycle_len=1, use_clr=(10,10))"
   ]
  },
  {
   "cell_type": "code",
   "execution_count": 87,
   "metadata": {},
   "outputs": [],
   "source": [
    "learn.save(\"dnn100\")"
   ]
  },
  {
   "cell_type": "code",
   "execution_count": 98,
   "metadata": {},
   "outputs": [],
   "source": [
    "preds = learn.predict(is_test=True)"
   ]
  },
  {
   "cell_type": "code",
   "execution_count": 104,
   "metadata": {},
   "outputs": [],
   "source": [
    "is_attributed = np.exp(preds)[:, 1]"
   ]
  },
  {
   "cell_type": "code",
   "execution_count": 105,
   "metadata": {},
   "outputs": [
    {
     "data": {
      "text/plain": [
       "array([0.00055, 0.00064, 0.00008, 0.00021, 0.00004], dtype=float32)"
      ]
     },
     "execution_count": 105,
     "metadata": {},
     "output_type": "execute_result"
    }
   ],
   "source": [
    "is_attributed[:5]"
   ]
  },
  {
   "cell_type": "code",
   "execution_count": 106,
   "metadata": {},
   "outputs": [],
   "source": [
    "sub_df = pd.DataFrame({\"click_id\":test[\"click_id\"], \"is_attributed\":is_attributed})"
   ]
  },
  {
   "cell_type": "code",
   "execution_count": 107,
   "metadata": {},
   "outputs": [
    {
     "data": {
      "text/html": [
       "<div>\n",
       "<style scoped>\n",
       "    .dataframe tbody tr th:only-of-type {\n",
       "        vertical-align: middle;\n",
       "    }\n",
       "\n",
       "    .dataframe tbody tr th {\n",
       "        vertical-align: top;\n",
       "    }\n",
       "\n",
       "    .dataframe thead th {\n",
       "        text-align: right;\n",
       "    }\n",
       "</style>\n",
       "<table border=\"1\" class=\"dataframe\">\n",
       "  <thead>\n",
       "    <tr style=\"text-align: right;\">\n",
       "      <th></th>\n",
       "      <th>click_id</th>\n",
       "      <th>is_attributed</th>\n",
       "    </tr>\n",
       "  </thead>\n",
       "  <tbody>\n",
       "    <tr>\n",
       "      <th>0</th>\n",
       "      <td>0</td>\n",
       "      <td>0.000553</td>\n",
       "    </tr>\n",
       "    <tr>\n",
       "      <th>1</th>\n",
       "      <td>1</td>\n",
       "      <td>0.000640</td>\n",
       "    </tr>\n",
       "    <tr>\n",
       "      <th>2</th>\n",
       "      <td>2</td>\n",
       "      <td>0.000085</td>\n",
       "    </tr>\n",
       "    <tr>\n",
       "      <th>3</th>\n",
       "      <td>3</td>\n",
       "      <td>0.000209</td>\n",
       "    </tr>\n",
       "    <tr>\n",
       "      <th>4</th>\n",
       "      <td>4</td>\n",
       "      <td>0.000043</td>\n",
       "    </tr>\n",
       "  </tbody>\n",
       "</table>\n",
       "</div>"
      ],
      "text/plain": [
       "   click_id  is_attributed\n",
       "0         0       0.000553\n",
       "1         1       0.000640\n",
       "2         2       0.000085\n",
       "3         3       0.000209\n",
       "4         4       0.000043"
      ]
     },
     "execution_count": 107,
     "metadata": {},
     "output_type": "execute_result"
    }
   ],
   "source": [
    "sub_df.head()"
   ]
  },
  {
   "cell_type": "code",
   "execution_count": 109,
   "metadata": {},
   "outputs": [],
   "source": [
    "sub_df.to_csv(\"dnn100_sub.csv\", index=False)"
   ]
  },
  {
   "cell_type": "code",
   "execution_count": 110,
   "metadata": {},
   "outputs": [
    {
     "data": {
      "text/html": [
       "<a href='dnn100_sub.csv' target='_blank'>dnn100_sub.csv</a><br>"
      ],
      "text/plain": [
       "/home/ec2-user/github/deeplearning/talking_data/dnn100_sub.csv"
      ]
     },
     "execution_count": 110,
     "metadata": {},
     "output_type": "execute_result"
    }
   ],
   "source": [
    "FileLink(\"dnn100_sub.csv\")"
   ]
  },
  {
   "cell_type": "code",
   "execution_count": null,
   "metadata": {},
   "outputs": [],
   "source": []
  },
  {
   "cell_type": "code",
   "execution_count": null,
   "metadata": {},
   "outputs": [],
   "source": []
  },
  {
   "cell_type": "code",
   "execution_count": null,
   "metadata": {},
   "outputs": [],
   "source": []
  },
  {
   "cell_type": "code",
   "execution_count": null,
   "metadata": {},
   "outputs": [],
   "source": []
  },
  {
   "cell_type": "code",
   "execution_count": null,
   "metadata": {},
   "outputs": [],
   "source": [
    "lr = 1e-2\n",
    "learn.fit(lr, 20, cycle_len=1, use_clr=(10,10))"
   ]
  },
  {
   "cell_type": "code",
   "execution_count": null,
   "metadata": {},
   "outputs": [],
   "source": []
  },
  {
   "cell_type": "code",
   "execution_count": null,
   "metadata": {},
   "outputs": [],
   "source": []
  },
  {
   "cell_type": "markdown",
   "metadata": {},
   "source": [
    "### FFM"
   ]
  },
  {
   "cell_type": "code",
   "execution_count": null,
   "metadata": {},
   "outputs": [],
   "source": []
  },
  {
   "cell_type": "code",
   "execution_count": null,
   "metadata": {},
   "outputs": [],
   "source": []
  }
 ],
 "metadata": {
  "kernelspec": {
   "display_name": "Python 3",
   "language": "python",
   "name": "python3"
  },
  "language_info": {
   "codemirror_mode": {
    "name": "ipython",
    "version": 3
   },
   "file_extension": ".py",
   "mimetype": "text/x-python",
   "name": "python",
   "nbconvert_exporter": "python",
   "pygments_lexer": "ipython3",
   "version": "3.6.5"
  }
 },
 "nbformat": 4,
 "nbformat_minor": 2
}
