{
 "cells": [
  {
   "cell_type": "code",
   "execution_count": 1,
   "metadata": {},
   "outputs": [],
   "source": [
    "import torch\n",
    "import pandas as pd\n",
    "import sys\n",
    "import gc\n",
    "\n",
    "pd.set_option('display.max_column', 100)\n",
    "pd.set_option('display.max_row', 100)\n",
    "\n",
    "sys.path.append('../../../fastai/')\n",
    "sys.path.append('../../')\n",
    "\n",
    "# embeddings\n",
    "from fastai.column_data import *\n",
    "from fastai.structured import *\n",
    "\n",
    "from pathlib import *"
   ]
  },
  {
   "cell_type": "code",
   "execution_count": 2,
   "metadata": {},
   "outputs": [],
   "source": [
    "train_dtype_dict={\"ip\":\"int32\",\n",
    "      \"app\":\"int16\",\n",
    "      \"device\":\"int16\",\n",
    "      \"os\":\"int16\",\n",
    "      \"channel\":\"int16\",\n",
    "      \"is_attributed\":\"int8\"}\n",
    "\n",
    "test_dtype_dict={\"ip\":\"int32\",\n",
    "      \"app\":\"int16\",\n",
    "      \"device\":\"int16\",\n",
    "      \"os\":\"int16\",\n",
    "      \"channel\":\"int16\",\n",
    "      \"click_id\":\"int32\"}"
   ]
  },
  {
   "cell_type": "code",
   "execution_count": 3,
   "metadata": {},
   "outputs": [],
   "source": [
    "train_path =  \"../../../data/talking/train_sample.csv\"\n",
    "test_path = \"../../../data/talking/test.csv\""
   ]
  },
  {
   "cell_type": "code",
   "execution_count": 4,
   "metadata": {},
   "outputs": [],
   "source": [
    "train = pd.read_csv(train_path,\n",
    "                    parse_dates=[\"click_time\", \"attributed_time\"],\n",
    "                    skiprows=range(1,18700000),\n",
    "                    dtype=train_dtype_dict)"
   ]
  },
  {
   "cell_type": "code",
   "execution_count": 4,
   "metadata": {},
   "outputs": [],
   "source": [
    "test = pd.read_csv(test_path,\n",
    "                   parse_dates=[\"click_time\"],\n",
    "                   #skiprows=range(1,18700000),\n",
    "                   dtype=test_dtype_dict)"
   ]
  },
  {
   "cell_type": "code",
   "execution_count": 5,
   "metadata": {},
   "outputs": [
    {
     "name": "stdout",
     "output_type": "stream",
     "text": [
      "<class 'pandas.core.frame.DataFrame'>\n",
      "RangeIndex: 100000 entries, 0 to 99999\n",
      "Data columns (total 8 columns):\n",
      "ip                 100000 non-null int32\n",
      "app                100000 non-null int16\n",
      "device             100000 non-null int16\n",
      "os                 100000 non-null int16\n",
      "channel            100000 non-null int16\n",
      "click_time         100000 non-null datetime64[ns]\n",
      "attributed_time    227 non-null datetime64[ns]\n",
      "is_attributed      100000 non-null int8\n",
      "dtypes: datetime64[ns](2), int16(4), int32(1), int8(1)\n",
      "memory usage: 2.8 MB\n"
     ]
    }
   ],
   "source": [
    "train.info(\"deep\")"
   ]
  },
  {
   "cell_type": "code",
   "execution_count": 6,
   "metadata": {},
   "outputs": [
    {
     "name": "stdout",
     "output_type": "stream",
     "text": [
      "<class 'pandas.core.frame.DataFrame'>\n",
      "RangeIndex: 90470 entries, 0 to 90469\n",
      "Data columns (total 7 columns):\n",
      "click_id      90470 non-null int32\n",
      "ip            90470 non-null int32\n",
      "app           90470 non-null int16\n",
      "device        90470 non-null int16\n",
      "os            90470 non-null int16\n",
      "channel       90470 non-null int16\n",
      "click_time    90470 non-null datetime64[ns]\n",
      "dtypes: datetime64[ns](1), int16(4), int32(2)\n",
      "memory usage: 2.1 MB\n"
     ]
    }
   ],
   "source": [
    "test.info(\"deep\")"
   ]
  },
  {
   "cell_type": "code",
   "execution_count": 7,
   "metadata": {},
   "outputs": [
    {
     "data": {
      "text/plain": [
       "90465    18790464\n",
       "90466    18790465\n",
       "90467    18790467\n",
       "90468    18790466\n",
       "90469    18790468\n",
       "Name: click_id, dtype: int32"
      ]
     },
     "execution_count": 7,
     "metadata": {},
     "output_type": "execute_result"
    }
   ],
   "source": [
    "test.click_id.tail()"
   ]
  },
  {
   "cell_type": "code",
   "execution_count": 8,
   "metadata": {},
   "outputs": [],
   "source": [
    "common_cols = ['ip', 'app', 'device', 'os', 'channel', 'click_time']"
   ]
  },
  {
   "cell_type": "code",
   "execution_count": 9,
   "metadata": {},
   "outputs": [],
   "source": [
    "merged = pd.concat([train[common_cols], test[common_cols]]) # use this when necessary"
   ]
  },
  {
   "cell_type": "code",
   "execution_count": 10,
   "metadata": {},
   "outputs": [
    {
     "name": "stdout",
     "output_type": "stream",
     "text": [
      "<class 'pandas.core.frame.DataFrame'>\n",
      "Int64Index: 190470 entries, 0 to 90469\n",
      "Data columns (total 6 columns):\n",
      "ip            190470 non-null int32\n",
      "app           190470 non-null int16\n",
      "device        190470 non-null int16\n",
      "os            190470 non-null int16\n",
      "channel       190470 non-null int16\n",
      "click_time    190470 non-null datetime64[ns]\n",
      "dtypes: datetime64[ns](1), int16(4), int32(1)\n",
      "memory usage: 5.1 MB\n"
     ]
    }
   ],
   "source": [
    "merged.info(\"deep\")"
   ]
  },
  {
   "cell_type": "code",
   "execution_count": 11,
   "metadata": {},
   "outputs": [],
   "source": [
    "# train data length to separate test\n",
    "train_len = len(train)"
   ]
  },
  {
   "cell_type": "code",
   "execution_count": 12,
   "metadata": {},
   "outputs": [],
   "source": [
    "# collec target\n",
    "is_attributed = train.is_attributed"
   ]
  },
  {
   "cell_type": "code",
   "execution_count": 13,
   "metadata": {},
   "outputs": [
    {
     "data": {
      "text/plain": [
       "223"
      ]
     },
     "execution_count": 13,
     "metadata": {},
     "output_type": "execute_result"
    }
   ],
   "source": [
    "# delete if not needed\n",
    "del train\n",
    "del test\n",
    "gc.collect()"
   ]
  },
  {
   "cell_type": "markdown",
   "metadata": {},
   "source": [
    "#### 1) Get day-hour - datetime components other's are not necessary"
   ]
  },
  {
   "cell_type": "code",
   "execution_count": 14,
   "metadata": {},
   "outputs": [],
   "source": [
    "def add_dayhour(data):\n",
    "    # extract time information\n",
    "    data['click_time'] = pd.to_datetime(data['click_time'])\n",
    "    data['click_timeHour'] = data.click_time.dt.hour.astype(\"int8\")\n",
    "    data['click_timeDay'] = data.click_time.dt.day.astype(\"int8\")\n",
    "    data.drop('click_time', 1, inplace=True)\n",
    "    return data"
   ]
  },
  {
   "cell_type": "code",
   "execution_count": 15,
   "metadata": {},
   "outputs": [],
   "source": [
    "merged = add_dayhour(merged)"
   ]
  },
  {
   "cell_type": "code",
   "execution_count": 16,
   "metadata": {},
   "outputs": [
    {
     "data": {
      "text/html": [
       "<div>\n",
       "<style scoped>\n",
       "    .dataframe tbody tr th:only-of-type {\n",
       "        vertical-align: middle;\n",
       "    }\n",
       "\n",
       "    .dataframe tbody tr th {\n",
       "        vertical-align: top;\n",
       "    }\n",
       "\n",
       "    .dataframe thead th {\n",
       "        text-align: right;\n",
       "    }\n",
       "</style>\n",
       "<table border=\"1\" class=\"dataframe\">\n",
       "  <thead>\n",
       "    <tr style=\"text-align: right;\">\n",
       "      <th></th>\n",
       "      <th>ip</th>\n",
       "      <th>app</th>\n",
       "      <th>device</th>\n",
       "      <th>os</th>\n",
       "      <th>channel</th>\n",
       "      <th>click_timeHour</th>\n",
       "      <th>click_timeDay</th>\n",
       "    </tr>\n",
       "  </thead>\n",
       "  <tbody>\n",
       "    <tr>\n",
       "      <th>0</th>\n",
       "      <td>87540</td>\n",
       "      <td>12</td>\n",
       "      <td>1</td>\n",
       "      <td>13</td>\n",
       "      <td>497</td>\n",
       "      <td>9</td>\n",
       "      <td>7</td>\n",
       "    </tr>\n",
       "    <tr>\n",
       "      <th>1</th>\n",
       "      <td>105560</td>\n",
       "      <td>25</td>\n",
       "      <td>1</td>\n",
       "      <td>17</td>\n",
       "      <td>259</td>\n",
       "      <td>13</td>\n",
       "      <td>7</td>\n",
       "    </tr>\n",
       "    <tr>\n",
       "      <th>2</th>\n",
       "      <td>101424</td>\n",
       "      <td>12</td>\n",
       "      <td>1</td>\n",
       "      <td>19</td>\n",
       "      <td>212</td>\n",
       "      <td>18</td>\n",
       "      <td>7</td>\n",
       "    </tr>\n",
       "    <tr>\n",
       "      <th>3</th>\n",
       "      <td>94584</td>\n",
       "      <td>13</td>\n",
       "      <td>1</td>\n",
       "      <td>13</td>\n",
       "      <td>477</td>\n",
       "      <td>4</td>\n",
       "      <td>7</td>\n",
       "    </tr>\n",
       "    <tr>\n",
       "      <th>4</th>\n",
       "      <td>68413</td>\n",
       "      <td>12</td>\n",
       "      <td>1</td>\n",
       "      <td>1</td>\n",
       "      <td>178</td>\n",
       "      <td>9</td>\n",
       "      <td>9</td>\n",
       "    </tr>\n",
       "  </tbody>\n",
       "</table>\n",
       "</div>"
      ],
      "text/plain": [
       "       ip  app  device  os  channel  click_timeHour  click_timeDay\n",
       "0   87540   12       1  13      497               9              7\n",
       "1  105560   25       1  17      259              13              7\n",
       "2  101424   12       1  19      212              18              7\n",
       "3   94584   13       1  13      477               4              7\n",
       "4   68413   12       1   1      178               9              9"
      ]
     },
     "execution_count": 16,
     "metadata": {},
     "output_type": "execute_result"
    }
   ],
   "source": [
    "merged.head()"
   ]
  },
  {
   "cell_type": "code",
   "execution_count": 17,
   "metadata": {},
   "outputs": [
    {
     "name": "stdout",
     "output_type": "stream",
     "text": [
      "<class 'pandas.core.frame.DataFrame'>\n",
      "Int64Index: 190470 entries, 0 to 90469\n",
      "Data columns (total 7 columns):\n",
      "ip                190470 non-null int32\n",
      "app               190470 non-null int16\n",
      "device            190470 non-null int16\n",
      "os                190470 non-null int16\n",
      "channel           190470 non-null int16\n",
      "click_timeHour    190470 non-null int8\n",
      "click_timeDay     190470 non-null int8\n",
      "dtypes: int16(4), int32(1), int8(2)\n",
      "memory usage: 4.0 MB\n"
     ]
    }
   ],
   "source": [
    "merged.info(\"deep\")"
   ]
  },
  {
   "cell_type": "markdown",
   "metadata": {},
   "source": [
    "#### 2) normalize all cats - cats should have indexes starting from 0"
   ]
  },
  {
   "cell_type": "code",
   "execution_count": 18,
   "metadata": {},
   "outputs": [],
   "source": [
    "cats = ['ip', 'app', 'device', 'os', 'channel',\n",
    "'click_timeDay', 'click_timeHour']"
   ]
  },
  {
   "cell_type": "code",
   "execution_count": 19,
   "metadata": {},
   "outputs": [],
   "source": [
    "def norm_cats(data, cats, dtype=\"int16\"):\n",
    "    for c in cats:\n",
    "        cat2emb = {v:k for k, v in enumerate(data[c].unique())}\n",
    "        data[c] = data[c].map(cat2emb).astype(dtype)\n",
    "    return data"
   ]
  },
  {
   "cell_type": "code",
   "execution_count": 20,
   "metadata": {},
   "outputs": [],
   "source": [
    "merged = norm_cats(merged, cats)"
   ]
  },
  {
   "cell_type": "code",
   "execution_count": 21,
   "metadata": {},
   "outputs": [
    {
     "data": {
      "text/html": [
       "<div>\n",
       "<style scoped>\n",
       "    .dataframe tbody tr th:only-of-type {\n",
       "        vertical-align: middle;\n",
       "    }\n",
       "\n",
       "    .dataframe tbody tr th {\n",
       "        vertical-align: top;\n",
       "    }\n",
       "\n",
       "    .dataframe thead th {\n",
       "        text-align: right;\n",
       "    }\n",
       "</style>\n",
       "<table border=\"1\" class=\"dataframe\">\n",
       "  <thead>\n",
       "    <tr style=\"text-align: right;\">\n",
       "      <th></th>\n",
       "      <th>ip</th>\n",
       "      <th>app</th>\n",
       "      <th>device</th>\n",
       "      <th>os</th>\n",
       "      <th>channel</th>\n",
       "      <th>click_timeHour</th>\n",
       "      <th>click_timeDay</th>\n",
       "    </tr>\n",
       "  </thead>\n",
       "  <tbody>\n",
       "    <tr>\n",
       "      <th>0</th>\n",
       "      <td>0</td>\n",
       "      <td>0</td>\n",
       "      <td>0</td>\n",
       "      <td>0</td>\n",
       "      <td>0</td>\n",
       "      <td>0</td>\n",
       "      <td>0</td>\n",
       "    </tr>\n",
       "    <tr>\n",
       "      <th>1</th>\n",
       "      <td>1</td>\n",
       "      <td>1</td>\n",
       "      <td>0</td>\n",
       "      <td>1</td>\n",
       "      <td>1</td>\n",
       "      <td>1</td>\n",
       "      <td>0</td>\n",
       "    </tr>\n",
       "    <tr>\n",
       "      <th>2</th>\n",
       "      <td>2</td>\n",
       "      <td>0</td>\n",
       "      <td>0</td>\n",
       "      <td>2</td>\n",
       "      <td>2</td>\n",
       "      <td>2</td>\n",
       "      <td>0</td>\n",
       "    </tr>\n",
       "    <tr>\n",
       "      <th>3</th>\n",
       "      <td>3</td>\n",
       "      <td>2</td>\n",
       "      <td>0</td>\n",
       "      <td>0</td>\n",
       "      <td>3</td>\n",
       "      <td>3</td>\n",
       "      <td>0</td>\n",
       "    </tr>\n",
       "    <tr>\n",
       "      <th>4</th>\n",
       "      <td>4</td>\n",
       "      <td>0</td>\n",
       "      <td>0</td>\n",
       "      <td>3</td>\n",
       "      <td>4</td>\n",
       "      <td>0</td>\n",
       "      <td>1</td>\n",
       "    </tr>\n",
       "  </tbody>\n",
       "</table>\n",
       "</div>"
      ],
      "text/plain": [
       "   ip  app  device  os  channel  click_timeHour  click_timeDay\n",
       "0   0    0       0   0        0               0              0\n",
       "1   1    1       0   1        1               1              0\n",
       "2   2    0       0   2        2               2              0\n",
       "3   3    2       0   0        3               3              0\n",
       "4   4    0       0   3        4               0              1"
      ]
     },
     "execution_count": 21,
     "metadata": {},
     "output_type": "execute_result"
    }
   ],
   "source": [
    "merged.head()"
   ]
  },
  {
   "cell_type": "code",
   "execution_count": 22,
   "metadata": {},
   "outputs": [
    {
     "name": "stdout",
     "output_type": "stream",
     "text": [
      "<class 'pandas.core.frame.DataFrame'>\n",
      "Int64Index: 190470 entries, 0 to 90469\n",
      "Data columns (total 7 columns):\n",
      "ip                190470 non-null int16\n",
      "app               190470 non-null int16\n",
      "device            190470 non-null int16\n",
      "os                190470 non-null int16\n",
      "channel           190470 non-null int16\n",
      "click_timeHour    190470 non-null int16\n",
      "click_timeDay     190470 non-null int16\n",
      "dtypes: int16(7)\n",
      "memory usage: 4.0 MB\n"
     ]
    }
   ],
   "source": [
    "merged.info(\"deep\")"
   ]
  },
  {
   "cell_type": "markdown",
   "metadata": {},
   "source": [
    "#### 3) Separate data to train, val and test"
   ]
  },
  {
   "cell_type": "code",
   "execution_count": 23,
   "metadata": {},
   "outputs": [
    {
     "data": {
      "text/plain": [
       "array([0, 1, 2, 3, 4])"
      ]
     },
     "execution_count": 23,
     "metadata": {},
     "output_type": "execute_result"
    }
   ],
   "source": [
    "merged.click_timeDay.unique()"
   ]
  },
  {
   "cell_type": "code",
   "execution_count": 24,
   "metadata": {},
   "outputs": [
    {
     "data": {
      "text/plain": [
       "array([ 0,  1,  2,  3,  4,  5,  6,  7,  8,  9, 10, 11, 12, 13, 14, 15, 16, 17, 18, 19, 20, 21, 22, 23])"
      ]
     },
     "execution_count": 24,
     "metadata": {},
     "output_type": "execute_result"
    }
   ],
   "source": [
    "merged.click_timeHour.unique()"
   ]
  },
  {
   "cell_type": "code",
   "execution_count": 25,
   "metadata": {},
   "outputs": [],
   "source": [
    "# get test\n",
    "test = merged[train_len:].reset_index(drop=True)\n",
    "rest = merged[:train_len].reset_index(drop=True)"
   ]
  },
  {
   "cell_type": "code",
   "execution_count": 26,
   "metadata": {},
   "outputs": [],
   "source": [
    "# put target back\n",
    "rest[\"is_attributed\"] = is_attributed"
   ]
  },
  {
   "cell_type": "code",
   "execution_count": 27,
   "metadata": {},
   "outputs": [
    {
     "data": {
      "text/plain": [
       "ip                int16\n",
       "app               int16\n",
       "device            int16\n",
       "os                int16\n",
       "channel           int16\n",
       "click_timeHour    int16\n",
       "click_timeDay     int16\n",
       "is_attributed      int8\n",
       "dtype: object"
      ]
     },
     "execution_count": 27,
     "metadata": {},
     "output_type": "execute_result"
    }
   ],
   "source": [
    "rest.dtypes"
   ]
  },
  {
   "cell_type": "code",
   "execution_count": 28,
   "metadata": {},
   "outputs": [
    {
     "data": {
      "text/plain": [
       "ip                int16\n",
       "app               int16\n",
       "device            int16\n",
       "os                int16\n",
       "channel           int16\n",
       "click_timeHour    int16\n",
       "click_timeDay     int16\n",
       "dtype: object"
      ]
     },
     "execution_count": 28,
     "metadata": {},
     "output_type": "execute_result"
    }
   ],
   "source": [
    "test.dtypes"
   ]
  },
  {
   "cell_type": "code",
   "execution_count": 29,
   "metadata": {},
   "outputs": [],
   "source": [
    "train_lower_limits = (2, 10) # from day 2 hour 10 including\n",
    "train_upper_limits = (3, 18) # to day 3 hour 18 including"
   ]
  },
  {
   "cell_type": "code",
   "execution_count": 30,
   "metadata": {},
   "outputs": [],
   "source": [
    "train_msk = ((rest.click_timeDay >= train_lower_limits[0]) & (rest.click_timeHour >= train_lower_limits[1]))\\\n",
    "&\\\n",
    "((rest.click_timeDay <= train_upper_limits[0]) & (rest.click_timeHour <= train_upper_limits[1]))\n",
    "\n",
    "val_lower_limits = (3, 19) # from day 2 hour 10 including\n",
    "val_upper_limits = (4, 23) # to day 3 hour 18 including\n",
    "\n",
    "val_msk = ((rest.click_timeDay >= val_lower_limits[0]) & (rest.click_timeHour >= val_lower_limits[1]))\\\n",
    "&\\\n",
    "((rest.click_timeDay <= val_upper_limits[0]) & (rest.click_timeHour <= val_upper_limits[1]))"
   ]
  },
  {
   "cell_type": "code",
   "execution_count": 31,
   "metadata": {},
   "outputs": [],
   "source": [
    "# get test, train, val \n",
    "train = rest[train_msk]\n",
    "val = rest[val_msk]"
   ]
  },
  {
   "cell_type": "code",
   "execution_count": 32,
   "metadata": {},
   "outputs": [
    {
     "name": "stdout",
     "output_type": "stream",
     "text": [
      "Rows train: 15897, val: 1210, test: 90470\n"
     ]
    }
   ],
   "source": [
    "print(f\"Rows train: {len(train)}, val: {len(val)}, test: {len(test)}\")"
   ]
  },
  {
   "cell_type": "code",
   "execution_count": 33,
   "metadata": {},
   "outputs": [
    {
     "data": {
      "text/plain": [
       "122"
      ]
     },
     "execution_count": 33,
     "metadata": {},
     "output_type": "execute_result"
    }
   ],
   "source": [
    "# delete merged\n",
    "del merged\n",
    "del rest\n",
    "gc.collect()"
   ]
  },
  {
   "cell_type": "code",
   "execution_count": 34,
   "metadata": {},
   "outputs": [],
   "source": [
    "train.reset_index(drop=True, inplace=True)\n",
    "val.reset_index(drop=True, inplace=True)\n",
    "test.reset_index(drop=True, inplace=True)"
   ]
  },
  {
   "cell_type": "code",
   "execution_count": 35,
   "metadata": {},
   "outputs": [],
   "source": [
    "train_val = pd.concat([train, val]).reset_index(drop=True)"
   ]
  },
  {
   "cell_type": "code",
   "execution_count": 36,
   "metadata": {},
   "outputs": [
    {
     "data": {
      "text/html": [
       "<div>\n",
       "<style scoped>\n",
       "    .dataframe tbody tr th:only-of-type {\n",
       "        vertical-align: middle;\n",
       "    }\n",
       "\n",
       "    .dataframe tbody tr th {\n",
       "        vertical-align: top;\n",
       "    }\n",
       "\n",
       "    .dataframe thead th {\n",
       "        text-align: right;\n",
       "    }\n",
       "</style>\n",
       "<table border=\"1\" class=\"dataframe\">\n",
       "  <thead>\n",
       "    <tr style=\"text-align: right;\">\n",
       "      <th></th>\n",
       "      <th>ip</th>\n",
       "      <th>app</th>\n",
       "      <th>device</th>\n",
       "      <th>os</th>\n",
       "      <th>channel</th>\n",
       "      <th>click_timeHour</th>\n",
       "      <th>click_timeDay</th>\n",
       "      <th>is_attributed</th>\n",
       "    </tr>\n",
       "  </thead>\n",
       "  <tbody>\n",
       "    <tr>\n",
       "      <th>0</th>\n",
       "      <td>15</td>\n",
       "      <td>1</td>\n",
       "      <td>1</td>\n",
       "      <td>2</td>\n",
       "      <td>1</td>\n",
       "      <td>11</td>\n",
       "      <td>2</td>\n",
       "      <td>0</td>\n",
       "    </tr>\n",
       "  </tbody>\n",
       "</table>\n",
       "</div>"
      ],
      "text/plain": [
       "   ip  app  device  os  channel  click_timeHour  click_timeDay  is_attributed\n",
       "0  15    1       1   2        1              11              2              0"
      ]
     },
     "execution_count": 36,
     "metadata": {},
     "output_type": "execute_result"
    }
   ],
   "source": [
    "train.head(1)"
   ]
  },
  {
   "cell_type": "code",
   "execution_count": 37,
   "metadata": {},
   "outputs": [
    {
     "data": {
      "text/html": [
       "<div>\n",
       "<style scoped>\n",
       "    .dataframe tbody tr th:only-of-type {\n",
       "        vertical-align: middle;\n",
       "    }\n",
       "\n",
       "    .dataframe tbody tr th {\n",
       "        vertical-align: top;\n",
       "    }\n",
       "\n",
       "    .dataframe thead th {\n",
       "        text-align: right;\n",
       "    }\n",
       "</style>\n",
       "<table border=\"1\" class=\"dataframe\">\n",
       "  <thead>\n",
       "    <tr style=\"text-align: right;\">\n",
       "      <th></th>\n",
       "      <th>ip</th>\n",
       "      <th>app</th>\n",
       "      <th>device</th>\n",
       "      <th>os</th>\n",
       "      <th>channel</th>\n",
       "      <th>click_timeHour</th>\n",
       "      <th>click_timeDay</th>\n",
       "      <th>is_attributed</th>\n",
       "    </tr>\n",
       "  </thead>\n",
       "  <tbody>\n",
       "    <tr>\n",
       "      <th>0</th>\n",
       "      <td>328</td>\n",
       "      <td>13</td>\n",
       "      <td>0</td>\n",
       "      <td>0</td>\n",
       "      <td>51</td>\n",
       "      <td>23</td>\n",
       "      <td>3</td>\n",
       "      <td>0</td>\n",
       "    </tr>\n",
       "  </tbody>\n",
       "</table>\n",
       "</div>"
      ],
      "text/plain": [
       "    ip  app  device  os  channel  click_timeHour  click_timeDay  is_attributed\n",
       "0  328   13       0   0       51              23              3              0"
      ]
     },
     "execution_count": 37,
     "metadata": {},
     "output_type": "execute_result"
    }
   ],
   "source": [
    "val.head(1)"
   ]
  },
  {
   "cell_type": "code",
   "execution_count": 38,
   "metadata": {},
   "outputs": [
    {
     "data": {
      "text/html": [
       "<div>\n",
       "<style scoped>\n",
       "    .dataframe tbody tr th:only-of-type {\n",
       "        vertical-align: middle;\n",
       "    }\n",
       "\n",
       "    .dataframe tbody tr th {\n",
       "        vertical-align: top;\n",
       "    }\n",
       "\n",
       "    .dataframe thead th {\n",
       "        text-align: right;\n",
       "    }\n",
       "</style>\n",
       "<table border=\"1\" class=\"dataframe\">\n",
       "  <thead>\n",
       "    <tr style=\"text-align: right;\">\n",
       "      <th></th>\n",
       "      <th>ip</th>\n",
       "      <th>app</th>\n",
       "      <th>device</th>\n",
       "      <th>os</th>\n",
       "      <th>channel</th>\n",
       "      <th>click_timeHour</th>\n",
       "      <th>click_timeDay</th>\n",
       "    </tr>\n",
       "  </thead>\n",
       "  <tbody>\n",
       "    <tr>\n",
       "      <th>0</th>\n",
       "      <td>5337</td>\n",
       "      <td>0</td>\n",
       "      <td>0</td>\n",
       "      <td>47</td>\n",
       "      <td>79</td>\n",
       "      <td>9</td>\n",
       "      <td>4</td>\n",
       "    </tr>\n",
       "  </tbody>\n",
       "</table>\n",
       "</div>"
      ],
      "text/plain": [
       "     ip  app  device  os  channel  click_timeHour  click_timeDay\n",
       "0  5337    0       0  47       79               9              4"
      ]
     },
     "execution_count": 38,
     "metadata": {},
     "output_type": "execute_result"
    }
   ],
   "source": [
    "test.head(1)"
   ]
  },
  {
   "cell_type": "code",
   "execution_count": 39,
   "metadata": {},
   "outputs": [
    {
     "data": {
      "text/html": [
       "<div>\n",
       "<style scoped>\n",
       "    .dataframe tbody tr th:only-of-type {\n",
       "        vertical-align: middle;\n",
       "    }\n",
       "\n",
       "    .dataframe tbody tr th {\n",
       "        vertical-align: top;\n",
       "    }\n",
       "\n",
       "    .dataframe thead th {\n",
       "        text-align: right;\n",
       "    }\n",
       "</style>\n",
       "<table border=\"1\" class=\"dataframe\">\n",
       "  <thead>\n",
       "    <tr style=\"text-align: right;\">\n",
       "      <th></th>\n",
       "      <th>ip</th>\n",
       "      <th>app</th>\n",
       "      <th>device</th>\n",
       "      <th>os</th>\n",
       "      <th>channel</th>\n",
       "      <th>click_timeHour</th>\n",
       "      <th>click_timeDay</th>\n",
       "      <th>is_attributed</th>\n",
       "    </tr>\n",
       "  </thead>\n",
       "  <tbody>\n",
       "    <tr>\n",
       "      <th>0</th>\n",
       "      <td>15</td>\n",
       "      <td>1</td>\n",
       "      <td>1</td>\n",
       "      <td>2</td>\n",
       "      <td>1</td>\n",
       "      <td>11</td>\n",
       "      <td>2</td>\n",
       "      <td>0</td>\n",
       "    </tr>\n",
       "  </tbody>\n",
       "</table>\n",
       "</div>"
      ],
      "text/plain": [
       "   ip  app  device  os  channel  click_timeHour  click_timeDay  is_attributed\n",
       "0  15    1       1   2        1              11              2              0"
      ]
     },
     "execution_count": 39,
     "metadata": {},
     "output_type": "execute_result"
    }
   ],
   "source": [
    "train_val.head(1)"
   ]
  },
  {
   "cell_type": "markdown",
   "metadata": {},
   "source": [
    "#### 4) Target Mean-Count Encoding"
   ]
  },
  {
   "cell_type": "code",
   "execution_count": 66,
   "metadata": {},
   "outputs": [
    {
     "data": {
      "text/plain": [
       "100000"
      ]
     },
     "execution_count": 66,
     "metadata": {},
     "output_type": "execute_result"
    }
   ],
   "source": [
    "len(is_attributed)"
   ]
  },
  {
   "cell_type": "code",
   "execution_count": 67,
   "metadata": {},
   "outputs": [
    {
     "data": {
      "text/plain": [
       "(15897, 15897)"
      ]
     },
     "execution_count": 67,
     "metadata": {},
     "output_type": "execute_result"
    }
   ],
   "source": [
    "len(train), sum(train_msk)"
   ]
  },
  {
   "cell_type": "code",
   "execution_count": 68,
   "metadata": {},
   "outputs": [],
   "source": [
    "from sklearn.model_selection import KFold"
   ]
  },
  {
   "cell_type": "code",
   "execution_count": 69,
   "metadata": {},
   "outputs": [],
   "source": [
    "def reg_mean_encoding(train, col, new_col, target, splits=10, seed=42, dtype=\"float32\"):\n",
    "    \"\"\" Computes regularize mean encoding.\n",
    "        Use this to create mean encoding for training data\n",
    "        \n",
    "    Inputs:\n",
    "        train: training dataframe\n",
    "        col: a single column as string or list of columns to groupby \n",
    "        during mean target encoding\n",
    "        new_col: name of new created column\n",
    "        splits: splits to use for cv\n",
    "    Returns:\n",
    "        train: dataframe with new column added\n",
    "    \"\"\"\n",
    "    # single column to groupby\n",
    "    train[new_col] = 0\n",
    "    if isinstance(col, str):\n",
    "        for split, (trn_idx, val_idx) in enumerate(KFold(splits, shuffle=True, random_state=seed).split(train)):\n",
    "            groups = train.iloc[trn_idx].groupby(col)[target].mean()\n",
    "            train.loc[val_idx, new_col] = train.loc[val_idx, col].map(groups)\n",
    "            \n",
    "    # multiple columns to groupby\n",
    "    elif isinstance(col, list):        \n",
    "        for split, (trn_idx, val_idx) in enumerate(KFold(splits, shuffle=True, random_state=seed).split(train)):\n",
    "            stats = train.iloc[trn_idx].groupby(col)[target].mean().reset_index()\n",
    "            vals = pd.merge(train.iloc[val_idx], stats, \"left\", on=col, suffixes=[\"_\", \"\"])[target]\n",
    "            vals.index = val_idx\n",
    "            train.loc[val_idx, new_col] = vals\n",
    "    \n",
    "    train[new_col].fillna(train[new_col].mean(), inplace=True)\n",
    "    train[new_col] = train[new_col].astype(dtype)\n",
    "    return train"
   ]
  },
  {
   "cell_type": "code",
   "execution_count": 70,
   "metadata": {},
   "outputs": [],
   "source": [
    "def reg_mean_encoding_test(test, train, col, new_col, target, dtype=\"float32\"):\n",
    "    \"\"\" Computes target enconding for test data.\n",
    "        Use this to create mean encoding for valdiation and test data\n",
    "        Inputs:\n",
    "            train: training dataframe to compute means\n",
    "            test: training dataframe to create new column\n",
    "            col: a single column as string or list of columns\n",
    "            new_col: name of new created column\n",
    "        Returns:\n",
    "            test: dataframe with new column added\n",
    "    This is similar to how we do validation\n",
    "    \"\"\"\n",
    "    # single column to groupby\n",
    "    test[new_col] = 0\n",
    "    if isinstance(col, str):\n",
    "        test[new_col] = test[col].map(train.groupby(col)[target].mean())\n",
    "        test[new_col].fillna(train[target].mean(), inplace=True)\n",
    "    # multiple columns to groupby\n",
    "    elif isinstance(col, list):\n",
    "        stats = train.groupby(col)[target].mean().reset_index()\n",
    "        vals = pd.merge(test, stats, \"left\", on=col, suffixes=[\"_\", \"\"])[target]\n",
    "        test[new_col] = vals\n",
    "    \n",
    "    test[new_col].fillna(train[target].mean(), inplace=True)\n",
    "    test[new_col] = test[new_col].astype(dtype)\n",
    "    return test"
   ]
  },
  {
   "cell_type": "code",
   "execution_count": 71,
   "metadata": {
    "scrolled": true
   },
   "outputs": [],
   "source": [
    "# may add more random columns or column combinations\n",
    "random_encoding_cols = \\\n",
    "    ['ip', 'app', 'device', 'os', 'channel', 'click_timeHour', 'click_timeDay']+\\\n",
    "    [['ip','click_timeDay','click_timeHour'], ['ip','app'], ['ip','app', 'os'], ['ip','app', 'click_timeHour']]\n",
    "\n",
    "\n",
    "    \n",
    "for c in random_encoding_cols:\n",
    "    if isinstance(c, list): name = \"_\".join(c)\n",
    "    else: name = c\n",
    "    # regularized mean encoding for train\n",
    "    train = reg_mean_encoding(train,\n",
    "                             c,\n",
    "                             f'random_mean_encode_{name}',\n",
    "                             'is_attributed')\n",
    "    #print(\"done1\")\n",
    "    # regularized mean encoding fo validation\n",
    "    val = reg_mean_encoding_test(val,\n",
    "                                 train,\n",
    "                                 c,\n",
    "                                 f'random_mean_encode_{name}',\n",
    "                                 'is_attributed')\n",
    "    #print(\"done2\")\n",
    "    # regularized mean encoding fo test\n",
    "    test = reg_mean_encoding_test(test,\n",
    "                                 train_val,\n",
    "                                 c,\n",
    "                                 f'random_mean_encode_{name}',\n",
    "                                 'is_attributed')\n",
    "    #print(\"done3\")\n",
    "    # encodings for full train: train + val\n",
    "    train_val = reg_mean_encoding(train_val,\n",
    "                             c,\n",
    "                             f'random_mean_encode_{name}',\n",
    "                             'is_attributed')\n",
    "    #print(\"done4\")"
   ]
  },
  {
   "cell_type": "code",
   "execution_count": 72,
   "metadata": {},
   "outputs": [],
   "source": [
    "def reg_count_encoding(train, col, new_col, target, splits=10, seed=42, dtype=\"int16\"):\n",
    "    \"\"\" Computes regularize count encoding.\n",
    "        Use this to create count encoding for training data\n",
    "        \n",
    "    Inputs:\n",
    "        train: training dataframe\n",
    "        col: a single column as string or list of columns to groupby \n",
    "        during count target encoding\n",
    "        new_col: name of new created column\n",
    "        splits: splits to use for cv\n",
    "    Returns:\n",
    "        train: dataframe with new column added\n",
    "    \"\"\"\n",
    "    # single column to groupby\n",
    "    train[new_col] = 0\n",
    "    if isinstance(col, str):\n",
    "        for split, (trn_idx, val_idx) in enumerate(KFold(splits, shuffle=True, random_state=seed).split(train)):\n",
    "            groups = train.iloc[trn_idx].groupby(col)[target].count()\n",
    "            train.loc[val_idx, new_col] = train.loc[val_idx, col].map(groups)\n",
    "\n",
    "    # multiple columns to groupby\n",
    "    elif isinstance(col, list):        \n",
    "        for split, (trn_idx, val_idx) in enumerate(KFold(splits, shuffle=True, random_state=seed).split(train)):\n",
    "            stats = train.iloc[trn_idx].groupby(col)[target].count().reset_index()\n",
    "            vals = pd.merge(train.iloc[val_idx], stats, \"left\", on=col, suffixes=[\"_\", \"\"])[target]\n",
    "            vals.index = val_idx\n",
    "            train.loc[val_idx, new_col] = vals \n",
    "    \n",
    "    train[new_col].fillna(train[new_col].count(), inplace=True)\n",
    "    train[new_col] = train[new_col].astype(dtype)\n",
    "    return train"
   ]
  },
  {
   "cell_type": "code",
   "execution_count": 73,
   "metadata": {},
   "outputs": [],
   "source": [
    "def reg_count_encoding_test(test, train, col, new_col, target, dtype=\"int16\"):\n",
    "    \"\"\" Computes target enconding for test data.\n",
    "        Use this to create count encoding for valdiation and test data\n",
    "        Inputs:\n",
    "            train: training dataframe to compute counts\n",
    "            test: training dataframe to create new column\n",
    "            col: a single column as string or list of columns\n",
    "            new_col: name of new created column\n",
    "        Returns:\n",
    "            test: dataframe with new column added\n",
    "    This is similar to how we do validation\n",
    "    \"\"\"\n",
    "    # single column to groupby\n",
    "    test[new_col] = 0\n",
    "    if isinstance(col, str):\n",
    "        test[new_col] = test[col].map(train.groupby(col)[target].count())\n",
    "        test[new_col].fillna(train[target].count(), inplace=True)\n",
    "    # multiple columns to groupby\n",
    "    elif isinstance(col, list):\n",
    "        stats = train.groupby(col)[target].count().reset_index()\n",
    "        vals = pd.merge(test, stats, \"left\", on=col, suffixes=[\"_\", \"\"])[target]\n",
    "        test[new_col] = vals \n",
    "    \n",
    "    test[new_col].fillna(train[target].count(), inplace=True)\n",
    "    test[new_col] = test[new_col].astype(dtype)\n",
    "    return test"
   ]
  },
  {
   "cell_type": "code",
   "execution_count": 74,
   "metadata": {},
   "outputs": [],
   "source": [
    "# may add more random columns or column combinations\n",
    "random_encoding_cols = \\\n",
    "    ['ip', 'app', 'device', 'os', 'channel', 'click_timeHour', 'click_timeDay']+\\\n",
    "    [['ip','click_timeDay','click_timeHour'], ['ip','app'], ['ip','app', 'os'], ['ip','app', 'click_timeHour']]\n",
    "\n",
    "for c in random_encoding_cols:\n",
    "    if isinstance(c, list): name = \"_\".join(c)\n",
    "    else: name = c\n",
    "    # regularized count encoding for train\n",
    "    train = reg_count_encoding(train,\n",
    "                             c,\n",
    "                             f'random_count_encode_{name}',\n",
    "                             'is_attributed')\n",
    "    #print(\"done\")\n",
    "    # regularized count encoding for validation\n",
    "    val = reg_count_encoding_test(val,\n",
    "                                 train,\n",
    "                                 c,\n",
    "                                 f'random_count_encode_{name}',\n",
    "                                 'is_attributed')\n",
    "    #print(\"done\")count encoding for test\n",
    "    test = reg_count_encoding_test(test,\n",
    "                                 train_val,\n",
    "                                 c,\n",
    "                                 f'random_count_encode_{name}',\n",
    "                                 'is_attributed')\n",
    "    \n",
    "    # encodings for full train: train + val\n",
    "    train_val = reg_count_encoding(train_val,\n",
    "                             c,\n",
    "                             f'random_count_encode_{name}',\n",
    "                             'is_attributed')\n",
    "    #print(\"done\")"
   ]
  },
  {
   "cell_type": "code",
   "execution_count": null,
   "metadata": {},
   "outputs": [],
   "source": [
    "dst = \"../../../data/talking/\"\n",
    "train.to_feather(dst+\"train_prepd.feather\")\n",
    "val.to_feather(dst+\"val_prepd.feather\")\n",
    "train_val.to_feather(dst+\"train_val_prepd.feather\")\n",
    "test.to_feather(dst+\"test_prepd.feather\")"
   ]
  },
  {
   "cell_type": "code",
   "execution_count": 81,
   "metadata": {},
   "outputs": [
    {
     "data": {
      "text/html": [
       "<div>\n",
       "<style scoped>\n",
       "    .dataframe tbody tr th:only-of-type {\n",
       "        vertical-align: middle;\n",
       "    }\n",
       "\n",
       "    .dataframe tbody tr th {\n",
       "        vertical-align: top;\n",
       "    }\n",
       "\n",
       "    .dataframe thead th {\n",
       "        text-align: right;\n",
       "    }\n",
       "</style>\n",
       "<table border=\"1\" class=\"dataframe\">\n",
       "  <thead>\n",
       "    <tr style=\"text-align: right;\">\n",
       "      <th></th>\n",
       "      <th>ip</th>\n",
       "      <th>app</th>\n",
       "      <th>device</th>\n",
       "      <th>os</th>\n",
       "      <th>channel</th>\n",
       "      <th>click_timeHour</th>\n",
       "      <th>click_timeDay</th>\n",
       "      <th>is_attributed</th>\n",
       "      <th>random_mean_encode_ip</th>\n",
       "      <th>random_mean_encode_app</th>\n",
       "      <th>random_mean_encode_device</th>\n",
       "      <th>random_mean_encode_os</th>\n",
       "      <th>random_mean_encode_channel</th>\n",
       "      <th>random_mean_encode_click_timeHour</th>\n",
       "      <th>random_mean_encode_click_timeDay</th>\n",
       "      <th>random_mean_encode_ip_click_timeDay_click_timeHour</th>\n",
       "      <th>random_mean_encode_ip_app</th>\n",
       "      <th>random_mean_encode_ip_app_os</th>\n",
       "      <th>random_mean_encode_ip_app_click_timeHour</th>\n",
       "      <th>random_count_encode_ip</th>\n",
       "      <th>random_count_encode_app</th>\n",
       "      <th>random_count_encode_device</th>\n",
       "      <th>random_count_encode_os</th>\n",
       "      <th>random_count_encode_channel</th>\n",
       "      <th>random_count_encode_click_timeHour</th>\n",
       "      <th>random_count_encode_click_timeDay</th>\n",
       "      <th>random_count_encode_ip_click_timeDay_click_timeHour</th>\n",
       "      <th>random_count_encode_ip_app</th>\n",
       "      <th>random_count_encode_ip_app_os</th>\n",
       "      <th>random_count_encode_ip_app_click_timeHour</th>\n",
       "    </tr>\n",
       "  </thead>\n",
       "  <tbody>\n",
       "    <tr>\n",
       "      <th>0</th>\n",
       "      <td>15</td>\n",
       "      <td>1</td>\n",
       "      <td>1</td>\n",
       "      <td>2</td>\n",
       "      <td>1</td>\n",
       "      <td>11</td>\n",
       "      <td>2</td>\n",
       "      <td>0</td>\n",
       "      <td>0.001294</td>\n",
       "      <td>0.0</td>\n",
       "      <td>0.0</td>\n",
       "      <td>0.002104</td>\n",
       "      <td>0.0</td>\n",
       "      <td>0.003091</td>\n",
       "      <td>0.001775</td>\n",
       "      <td>0.000451</td>\n",
       "      <td>0.0</td>\n",
       "      <td>0.0</td>\n",
       "      <td>0.0</td>\n",
       "      <td>8114</td>\n",
       "      <td>125</td>\n",
       "      <td>520</td>\n",
       "      <td>3802</td>\n",
       "      <td>489</td>\n",
       "      <td>2265</td>\n",
       "      <td>11267</td>\n",
       "      <td>2216</td>\n",
       "      <td>2272</td>\n",
       "      <td>543</td>\n",
       "      <td>559</td>\n",
       "    </tr>\n",
       "  </tbody>\n",
       "</table>\n",
       "</div>"
      ],
      "text/plain": [
       "   ip  app  device  os  channel  click_timeHour  click_timeDay  is_attributed  \\\n",
       "0  15    1       1   2        1              11              2              0   \n",
       "\n",
       "   random_mean_encode_ip  random_mean_encode_app  random_mean_encode_device  \\\n",
       "0               0.001294                     0.0                        0.0   \n",
       "\n",
       "   random_mean_encode_os  random_mean_encode_channel  \\\n",
       "0               0.002104                         0.0   \n",
       "\n",
       "   random_mean_encode_click_timeHour  random_mean_encode_click_timeDay  \\\n",
       "0                           0.003091                          0.001775   \n",
       "\n",
       "   random_mean_encode_ip_click_timeDay_click_timeHour  \\\n",
       "0                                           0.000451    \n",
       "\n",
       "   random_mean_encode_ip_app  random_mean_encode_ip_app_os  \\\n",
       "0                        0.0                           0.0   \n",
       "\n",
       "   random_mean_encode_ip_app_click_timeHour  random_count_encode_ip  \\\n",
       "0                                       0.0                    8114   \n",
       "\n",
       "   random_count_encode_app  random_count_encode_device  \\\n",
       "0                      125                         520   \n",
       "\n",
       "   random_count_encode_os  random_count_encode_channel  \\\n",
       "0                    3802                          489   \n",
       "\n",
       "   random_count_encode_click_timeHour  random_count_encode_click_timeDay  \\\n",
       "0                                2265                              11267   \n",
       "\n",
       "   random_count_encode_ip_click_timeDay_click_timeHour  \\\n",
       "0                                               2216     \n",
       "\n",
       "   random_count_encode_ip_app  random_count_encode_ip_app_os  \\\n",
       "0                        2272                            543   \n",
       "\n",
       "   random_count_encode_ip_app_click_timeHour  \n",
       "0                                        559  "
      ]
     },
     "execution_count": 81,
     "metadata": {},
     "output_type": "execute_result"
    }
   ],
   "source": [
    "train_val.head(1)"
   ]
  },
  {
   "cell_type": "code",
   "execution_count": 78,
   "metadata": {},
   "outputs": [
    {
     "data": {
      "text/html": [
       "<div>\n",
       "<style scoped>\n",
       "    .dataframe tbody tr th:only-of-type {\n",
       "        vertical-align: middle;\n",
       "    }\n",
       "\n",
       "    .dataframe tbody tr th {\n",
       "        vertical-align: top;\n",
       "    }\n",
       "\n",
       "    .dataframe thead th {\n",
       "        text-align: right;\n",
       "    }\n",
       "</style>\n",
       "<table border=\"1\" class=\"dataframe\">\n",
       "  <thead>\n",
       "    <tr style=\"text-align: right;\">\n",
       "      <th></th>\n",
       "      <th>ip</th>\n",
       "      <th>app</th>\n",
       "      <th>device</th>\n",
       "      <th>os</th>\n",
       "      <th>channel</th>\n",
       "      <th>click_timeHour</th>\n",
       "      <th>click_timeDay</th>\n",
       "      <th>is_attributed</th>\n",
       "      <th>random_mean_encode_ip</th>\n",
       "      <th>random_mean_encode_app</th>\n",
       "      <th>random_mean_encode_device</th>\n",
       "      <th>random_mean_encode_os</th>\n",
       "      <th>random_mean_encode_channel</th>\n",
       "      <th>random_mean_encode_click_timeHour</th>\n",
       "      <th>random_mean_encode_click_timeDay</th>\n",
       "      <th>random_mean_encode_ip_click_timeDay_click_timeHour</th>\n",
       "      <th>random_mean_encode_ip_app</th>\n",
       "      <th>random_mean_encode_ip_app_os</th>\n",
       "      <th>random_mean_encode_ip_app_click_timeHour</th>\n",
       "      <th>random_count_encode_ip</th>\n",
       "      <th>random_count_encode_app</th>\n",
       "      <th>random_count_encode_device</th>\n",
       "      <th>random_count_encode_os</th>\n",
       "      <th>random_count_encode_channel</th>\n",
       "      <th>random_count_encode_click_timeHour</th>\n",
       "      <th>random_count_encode_click_timeDay</th>\n",
       "      <th>random_count_encode_ip_click_timeDay_click_timeHour</th>\n",
       "      <th>random_count_encode_ip_app</th>\n",
       "      <th>random_count_encode_ip_app_os</th>\n",
       "      <th>random_count_encode_ip_app_click_timeHour</th>\n",
       "    </tr>\n",
       "  </thead>\n",
       "  <tbody>\n",
       "    <tr>\n",
       "      <th>0</th>\n",
       "      <td>15</td>\n",
       "      <td>1</td>\n",
       "      <td>1</td>\n",
       "      <td>2</td>\n",
       "      <td>1</td>\n",
       "      <td>11</td>\n",
       "      <td>2</td>\n",
       "      <td>0</td>\n",
       "      <td>0.001141</td>\n",
       "      <td>0.0</td>\n",
       "      <td>0.0</td>\n",
       "      <td>0.001679</td>\n",
       "      <td>0.0</td>\n",
       "      <td>0.002213</td>\n",
       "      <td>0.001955</td>\n",
       "      <td>0.000469</td>\n",
       "      <td>0.0</td>\n",
       "      <td>0.0</td>\n",
       "      <td>0.0</td>\n",
       "      <td>7325</td>\n",
       "      <td>112</td>\n",
       "      <td>475</td>\n",
       "      <td>3574</td>\n",
       "      <td>438</td>\n",
       "      <td>2259</td>\n",
       "      <td>11255</td>\n",
       "      <td>2130</td>\n",
       "      <td>2061</td>\n",
       "      <td>480</td>\n",
       "      <td>554</td>\n",
       "    </tr>\n",
       "  </tbody>\n",
       "</table>\n",
       "</div>"
      ],
      "text/plain": [
       "   ip  app  device  os  channel  click_timeHour  click_timeDay  is_attributed  \\\n",
       "0  15    1       1   2        1              11              2              0   \n",
       "\n",
       "   random_mean_encode_ip  random_mean_encode_app  random_mean_encode_device  \\\n",
       "0               0.001141                     0.0                        0.0   \n",
       "\n",
       "   random_mean_encode_os  random_mean_encode_channel  \\\n",
       "0               0.001679                         0.0   \n",
       "\n",
       "   random_mean_encode_click_timeHour  random_mean_encode_click_timeDay  \\\n",
       "0                           0.002213                          0.001955   \n",
       "\n",
       "   random_mean_encode_ip_click_timeDay_click_timeHour  \\\n",
       "0                                           0.000469    \n",
       "\n",
       "   random_mean_encode_ip_app  random_mean_encode_ip_app_os  \\\n",
       "0                        0.0                           0.0   \n",
       "\n",
       "   random_mean_encode_ip_app_click_timeHour  random_count_encode_ip  \\\n",
       "0                                       0.0                    7325   \n",
       "\n",
       "   random_count_encode_app  random_count_encode_device  \\\n",
       "0                      112                         475   \n",
       "\n",
       "   random_count_encode_os  random_count_encode_channel  \\\n",
       "0                    3574                          438   \n",
       "\n",
       "   random_count_encode_click_timeHour  random_count_encode_click_timeDay  \\\n",
       "0                                2259                              11255   \n",
       "\n",
       "   random_count_encode_ip_click_timeDay_click_timeHour  \\\n",
       "0                                               2130     \n",
       "\n",
       "   random_count_encode_ip_app  random_count_encode_ip_app_os  \\\n",
       "0                        2061                            480   \n",
       "\n",
       "   random_count_encode_ip_app_click_timeHour  \n",
       "0                                        554  "
      ]
     },
     "execution_count": 78,
     "metadata": {},
     "output_type": "execute_result"
    }
   ],
   "source": [
    "train.head(1)"
   ]
  },
  {
   "cell_type": "code",
   "execution_count": 79,
   "metadata": {},
   "outputs": [
    {
     "data": {
      "text/html": [
       "<div>\n",
       "<style scoped>\n",
       "    .dataframe tbody tr th:only-of-type {\n",
       "        vertical-align: middle;\n",
       "    }\n",
       "\n",
       "    .dataframe tbody tr th {\n",
       "        vertical-align: top;\n",
       "    }\n",
       "\n",
       "    .dataframe thead th {\n",
       "        text-align: right;\n",
       "    }\n",
       "</style>\n",
       "<table border=\"1\" class=\"dataframe\">\n",
       "  <thead>\n",
       "    <tr style=\"text-align: right;\">\n",
       "      <th></th>\n",
       "      <th>ip</th>\n",
       "      <th>app</th>\n",
       "      <th>device</th>\n",
       "      <th>os</th>\n",
       "      <th>channel</th>\n",
       "      <th>click_timeHour</th>\n",
       "      <th>click_timeDay</th>\n",
       "      <th>is_attributed</th>\n",
       "      <th>random_mean_encode_ip</th>\n",
       "      <th>random_mean_encode_app</th>\n",
       "      <th>random_mean_encode_device</th>\n",
       "      <th>random_mean_encode_os</th>\n",
       "      <th>random_mean_encode_channel</th>\n",
       "      <th>random_mean_encode_click_timeHour</th>\n",
       "      <th>random_mean_encode_click_timeDay</th>\n",
       "      <th>random_mean_encode_ip_click_timeDay_click_timeHour</th>\n",
       "      <th>random_mean_encode_ip_app</th>\n",
       "      <th>random_mean_encode_ip_app_os</th>\n",
       "      <th>random_mean_encode_ip_app_click_timeHour</th>\n",
       "      <th>random_count_encode_ip</th>\n",
       "      <th>random_count_encode_app</th>\n",
       "      <th>random_count_encode_device</th>\n",
       "      <th>random_count_encode_os</th>\n",
       "      <th>random_count_encode_channel</th>\n",
       "      <th>random_count_encode_click_timeHour</th>\n",
       "      <th>random_count_encode_click_timeDay</th>\n",
       "      <th>random_count_encode_ip_click_timeDay_click_timeHour</th>\n",
       "      <th>random_count_encode_ip_app</th>\n",
       "      <th>random_count_encode_ip_app_os</th>\n",
       "      <th>random_count_encode_ip_app_click_timeHour</th>\n",
       "    </tr>\n",
       "  </thead>\n",
       "  <tbody>\n",
       "    <tr>\n",
       "      <th>0</th>\n",
       "      <td>328</td>\n",
       "      <td>13</td>\n",
       "      <td>0</td>\n",
       "      <td>0</td>\n",
       "      <td>51</td>\n",
       "      <td>23</td>\n",
       "      <td>3</td>\n",
       "      <td>0</td>\n",
       "      <td>0.0</td>\n",
       "      <td>0.001512</td>\n",
       "      <td>0.00158</td>\n",
       "      <td>0.001149</td>\n",
       "      <td>0.0</td>\n",
       "      <td>0.002076</td>\n",
       "      <td>0.001771</td>\n",
       "      <td>0.002076</td>\n",
       "      <td>0.002076</td>\n",
       "      <td>0.002076</td>\n",
       "      <td>0.002076</td>\n",
       "      <td>2</td>\n",
       "      <td>1323</td>\n",
       "      <td>15193</td>\n",
       "      <td>3481</td>\n",
       "      <td>516</td>\n",
       "      <td>15897</td>\n",
       "      <td>3387</td>\n",
       "      <td>15897</td>\n",
       "      <td>15897</td>\n",
       "      <td>15897</td>\n",
       "      <td>15897</td>\n",
       "    </tr>\n",
       "  </tbody>\n",
       "</table>\n",
       "</div>"
      ],
      "text/plain": [
       "    ip  app  device  os  channel  click_timeHour  click_timeDay  \\\n",
       "0  328   13       0   0       51              23              3   \n",
       "\n",
       "   is_attributed  random_mean_encode_ip  random_mean_encode_app  \\\n",
       "0              0                    0.0                0.001512   \n",
       "\n",
       "   random_mean_encode_device  random_mean_encode_os  \\\n",
       "0                    0.00158               0.001149   \n",
       "\n",
       "   random_mean_encode_channel  random_mean_encode_click_timeHour  \\\n",
       "0                         0.0                           0.002076   \n",
       "\n",
       "   random_mean_encode_click_timeDay  \\\n",
       "0                          0.001771   \n",
       "\n",
       "   random_mean_encode_ip_click_timeDay_click_timeHour  \\\n",
       "0                                           0.002076    \n",
       "\n",
       "   random_mean_encode_ip_app  random_mean_encode_ip_app_os  \\\n",
       "0                   0.002076                      0.002076   \n",
       "\n",
       "   random_mean_encode_ip_app_click_timeHour  random_count_encode_ip  \\\n",
       "0                                  0.002076                       2   \n",
       "\n",
       "   random_count_encode_app  random_count_encode_device  \\\n",
       "0                     1323                       15193   \n",
       "\n",
       "   random_count_encode_os  random_count_encode_channel  \\\n",
       "0                    3481                          516   \n",
       "\n",
       "   random_count_encode_click_timeHour  random_count_encode_click_timeDay  \\\n",
       "0                               15897                               3387   \n",
       "\n",
       "   random_count_encode_ip_click_timeDay_click_timeHour  \\\n",
       "0                                              15897     \n",
       "\n",
       "   random_count_encode_ip_app  random_count_encode_ip_app_os  \\\n",
       "0                       15897                          15897   \n",
       "\n",
       "   random_count_encode_ip_app_click_timeHour  \n",
       "0                                      15897  "
      ]
     },
     "execution_count": 79,
     "metadata": {},
     "output_type": "execute_result"
    }
   ],
   "source": [
    "val.head(1)"
   ]
  },
  {
   "cell_type": "code",
   "execution_count": 80,
   "metadata": {},
   "outputs": [
    {
     "data": {
      "text/html": [
       "<div>\n",
       "<style scoped>\n",
       "    .dataframe tbody tr th:only-of-type {\n",
       "        vertical-align: middle;\n",
       "    }\n",
       "\n",
       "    .dataframe tbody tr th {\n",
       "        vertical-align: top;\n",
       "    }\n",
       "\n",
       "    .dataframe thead th {\n",
       "        text-align: right;\n",
       "    }\n",
       "</style>\n",
       "<table border=\"1\" class=\"dataframe\">\n",
       "  <thead>\n",
       "    <tr style=\"text-align: right;\">\n",
       "      <th></th>\n",
       "      <th>ip</th>\n",
       "      <th>app</th>\n",
       "      <th>device</th>\n",
       "      <th>os</th>\n",
       "      <th>channel</th>\n",
       "      <th>click_timeHour</th>\n",
       "      <th>click_timeDay</th>\n",
       "      <th>random_mean_encode_ip</th>\n",
       "      <th>random_mean_encode_app</th>\n",
       "      <th>random_mean_encode_device</th>\n",
       "      <th>random_mean_encode_os</th>\n",
       "      <th>random_mean_encode_channel</th>\n",
       "      <th>random_mean_encode_click_timeHour</th>\n",
       "      <th>random_mean_encode_click_timeDay</th>\n",
       "      <th>random_mean_encode_ip_click_timeDay_click_timeHour</th>\n",
       "      <th>random_mean_encode_ip_app</th>\n",
       "      <th>random_mean_encode_ip_app_os</th>\n",
       "      <th>random_mean_encode_ip_app_click_timeHour</th>\n",
       "      <th>random_count_encode_ip</th>\n",
       "      <th>random_count_encode_app</th>\n",
       "      <th>random_count_encode_device</th>\n",
       "      <th>random_count_encode_os</th>\n",
       "      <th>random_count_encode_channel</th>\n",
       "      <th>random_count_encode_click_timeHour</th>\n",
       "      <th>random_count_encode_click_timeDay</th>\n",
       "      <th>random_count_encode_ip_click_timeDay_click_timeHour</th>\n",
       "      <th>random_count_encode_ip_app</th>\n",
       "      <th>random_count_encode_ip_app_os</th>\n",
       "      <th>random_count_encode_ip_app_click_timeHour</th>\n",
       "    </tr>\n",
       "  </thead>\n",
       "  <tbody>\n",
       "    <tr>\n",
       "      <th>0</th>\n",
       "      <td>5337</td>\n",
       "      <td>0</td>\n",
       "      <td>0</td>\n",
       "      <td>47</td>\n",
       "      <td>79</td>\n",
       "      <td>9</td>\n",
       "      <td>4</td>\n",
       "      <td>0.002046</td>\n",
       "      <td>0.000448</td>\n",
       "      <td>0.001594</td>\n",
       "      <td>0.055556</td>\n",
       "      <td>0.0</td>\n",
       "      <td>0.002046</td>\n",
       "      <td>0.002046</td>\n",
       "      <td>0.002046</td>\n",
       "      <td>0.002046</td>\n",
       "      <td>0.002046</td>\n",
       "      <td>0.002046</td>\n",
       "      <td>17107</td>\n",
       "      <td>2232</td>\n",
       "      <td>16316</td>\n",
       "      <td>18</td>\n",
       "      <td>72</td>\n",
       "      <td>17107</td>\n",
       "      <td>17107</td>\n",
       "      <td>17107</td>\n",
       "      <td>17107</td>\n",
       "      <td>17107</td>\n",
       "      <td>17107</td>\n",
       "    </tr>\n",
       "  </tbody>\n",
       "</table>\n",
       "</div>"
      ],
      "text/plain": [
       "     ip  app  device  os  channel  click_timeHour  click_timeDay  \\\n",
       "0  5337    0       0  47       79               9              4   \n",
       "\n",
       "   random_mean_encode_ip  random_mean_encode_app  random_mean_encode_device  \\\n",
       "0               0.002046                0.000448                   0.001594   \n",
       "\n",
       "   random_mean_encode_os  random_mean_encode_channel  \\\n",
       "0               0.055556                         0.0   \n",
       "\n",
       "   random_mean_encode_click_timeHour  random_mean_encode_click_timeDay  \\\n",
       "0                           0.002046                          0.002046   \n",
       "\n",
       "   random_mean_encode_ip_click_timeDay_click_timeHour  \\\n",
       "0                                           0.002046    \n",
       "\n",
       "   random_mean_encode_ip_app  random_mean_encode_ip_app_os  \\\n",
       "0                   0.002046                      0.002046   \n",
       "\n",
       "   random_mean_encode_ip_app_click_timeHour  random_count_encode_ip  \\\n",
       "0                                  0.002046                   17107   \n",
       "\n",
       "   random_count_encode_app  random_count_encode_device  \\\n",
       "0                     2232                       16316   \n",
       "\n",
       "   random_count_encode_os  random_count_encode_channel  \\\n",
       "0                      18                           72   \n",
       "\n",
       "   random_count_encode_click_timeHour  random_count_encode_click_timeDay  \\\n",
       "0                               17107                              17107   \n",
       "\n",
       "   random_count_encode_ip_click_timeDay_click_timeHour  \\\n",
       "0                                              17107     \n",
       "\n",
       "   random_count_encode_ip_app  random_count_encode_ip_app_os  \\\n",
       "0                       17107                          17107   \n",
       "\n",
       "   random_count_encode_ip_app_click_timeHour  \n",
       "0                                      17107  "
      ]
     },
     "execution_count": 80,
     "metadata": {},
     "output_type": "execute_result"
    }
   ],
   "source": [
    "test.head(1)"
   ]
  },
  {
   "cell_type": "code",
   "execution_count": null,
   "metadata": {},
   "outputs": [],
   "source": []
  },
  {
   "cell_type": "code",
   "execution_count": null,
   "metadata": {},
   "outputs": [],
   "source": []
  },
  {
   "cell_type": "code",
   "execution_count": null,
   "metadata": {},
   "outputs": [],
   "source": []
  },
  {
   "cell_type": "code",
   "execution_count": null,
   "metadata": {},
   "outputs": [],
   "source": []
  },
  {
   "cell_type": "code",
   "execution_count": null,
   "metadata": {},
   "outputs": [],
   "source": []
  },
  {
   "cell_type": "code",
   "execution_count": null,
   "metadata": {},
   "outputs": [],
   "source": []
  },
  {
   "cell_type": "code",
   "execution_count": null,
   "metadata": {},
   "outputs": [],
   "source": []
  },
  {
   "cell_type": "code",
   "execution_count": null,
   "metadata": {},
   "outputs": [],
   "source": []
  },
  {
   "cell_type": "code",
   "execution_count": null,
   "metadata": {},
   "outputs": [],
   "source": []
  },
  {
   "cell_type": "code",
   "execution_count": null,
   "metadata": {},
   "outputs": [],
   "source": []
  },
  {
   "cell_type": "code",
   "execution_count": null,
   "metadata": {},
   "outputs": [],
   "source": []
  },
  {
   "cell_type": "code",
   "execution_count": null,
   "metadata": {},
   "outputs": [],
   "source": []
  }
 ],
 "metadata": {
  "kernelspec": {
   "display_name": "Python 3",
   "language": "python",
   "name": "python3"
  },
  "language_info": {
   "codemirror_mode": {
    "name": "ipython",
    "version": 3
   },
   "file_extension": ".py",
   "mimetype": "text/x-python",
   "name": "python",
   "nbconvert_exporter": "python",
   "pygments_lexer": "ipython3",
   "version": "3.6.4"
  }
 },
 "nbformat": 4,
 "nbformat_minor": 2
}
