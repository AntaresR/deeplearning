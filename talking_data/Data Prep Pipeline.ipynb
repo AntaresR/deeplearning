{
 "cells": [
  {
   "cell_type": "code",
   "execution_count": 1,
   "metadata": {},
   "outputs": [],
   "source": [
    "import torch\n",
    "import pandas as pd\n",
    "import sys\n",
    "import gc\n",
    "\n",
    "pd.set_option('display.max_column', 100)\n",
    "pd.set_option('display.max_row', 100)\n",
    "\n",
    "sys.path.append('../../../fastai/')\n",
    "sys.path.append('../../')\n",
    "\n",
    "# embeddings\n",
    "from fastai.column_data import *\n",
    "from fastai.structured import *\n",
    "\n",
    "from pathlib import *"
   ]
  },
  {
   "cell_type": "code",
   "execution_count": 2,
   "metadata": {},
   "outputs": [],
   "source": [
    "train_dtype_dict={\"ip\":\"int32\",\n",
    "      \"app\":\"int16\",\n",
    "      \"device\":\"int16\",\n",
    "      \"os\":\"int16\",\n",
    "      \"channel\":\"int16\",\n",
    "      \"is_attributed\":\"int8\"}\n",
    "\n",
    "test_dtype_dict={\"ip\":\"int32\",\n",
    "      \"app\":\"int16\",\n",
    "      \"device\":\"int16\",\n",
    "      \"os\":\"int16\",\n",
    "      \"channel\":\"int16\",\n",
    "      \"click_id\":\"int32\"}"
   ]
  },
  {
   "cell_type": "code",
   "execution_count": 3,
   "metadata": {},
   "outputs": [],
   "source": [
    "train = pd.read_csv(\"../../../data/talking/train_sample.csv\",\n",
    "                    parse_dates=[\"click_time\", \"attributed_time\"],\n",
    "                    dtype=train_dtype_dict)"
   ]
  },
  {
   "cell_type": "code",
   "execution_count": 4,
   "metadata": {},
   "outputs": [],
   "source": [
    "test = pd.read_csv(\"../../../data/talking/test.csv\",\n",
    "                   parse_dates=[\"click_time\"],\n",
    "                   skiprows=range(1,18700000),\n",
    "                   dtype=test_dtype_dict)"
   ]
  },
  {
   "cell_type": "code",
   "execution_count": 5,
   "metadata": {},
   "outputs": [
    {
     "name": "stdout",
     "output_type": "stream",
     "text": [
      "<class 'pandas.core.frame.DataFrame'>\n",
      "RangeIndex: 100000 entries, 0 to 99999\n",
      "Data columns (total 8 columns):\n",
      "ip                 100000 non-null int32\n",
      "app                100000 non-null int16\n",
      "device             100000 non-null int16\n",
      "os                 100000 non-null int16\n",
      "channel            100000 non-null int16\n",
      "click_time         100000 non-null datetime64[ns]\n",
      "attributed_time    227 non-null datetime64[ns]\n",
      "is_attributed      100000 non-null int8\n",
      "dtypes: datetime64[ns](2), int16(4), int32(1), int8(1)\n",
      "memory usage: 2.8 MB\n"
     ]
    }
   ],
   "source": [
    "train.info(\"deep\")"
   ]
  },
  {
   "cell_type": "code",
   "execution_count": 6,
   "metadata": {},
   "outputs": [
    {
     "name": "stdout",
     "output_type": "stream",
     "text": [
      "<class 'pandas.core.frame.DataFrame'>\n",
      "RangeIndex: 90470 entries, 0 to 90469\n",
      "Data columns (total 7 columns):\n",
      "click_id      90470 non-null int32\n",
      "ip            90470 non-null int32\n",
      "app           90470 non-null int16\n",
      "device        90470 non-null int16\n",
      "os            90470 non-null int16\n",
      "channel       90470 non-null int16\n",
      "click_time    90470 non-null datetime64[ns]\n",
      "dtypes: datetime64[ns](1), int16(4), int32(2)\n",
      "memory usage: 2.1 MB\n"
     ]
    }
   ],
   "source": [
    "test.info(\"deep\")"
   ]
  },
  {
   "cell_type": "code",
   "execution_count": 7,
   "metadata": {},
   "outputs": [
    {
     "data": {
      "text/plain": [
       "90465    18790464\n",
       "90466    18790465\n",
       "90467    18790467\n",
       "90468    18790466\n",
       "90469    18790468\n",
       "Name: click_id, dtype: int32"
      ]
     },
     "execution_count": 7,
     "metadata": {},
     "output_type": "execute_result"
    }
   ],
   "source": [
    "test.click_id.tail()"
   ]
  },
  {
   "cell_type": "code",
   "execution_count": 8,
   "metadata": {},
   "outputs": [],
   "source": [
    "common_cols = ['ip', 'app', 'device', 'os', 'channel', 'click_time']"
   ]
  },
  {
   "cell_type": "code",
   "execution_count": 9,
   "metadata": {},
   "outputs": [],
   "source": [
    "merged = pd.concat([train[common_cols], test[common_cols]]) # use this when necessary"
   ]
  },
  {
   "cell_type": "code",
   "execution_count": 10,
   "metadata": {},
   "outputs": [
    {
     "name": "stdout",
     "output_type": "stream",
     "text": [
      "<class 'pandas.core.frame.DataFrame'>\n",
      "Int64Index: 190470 entries, 0 to 90469\n",
      "Data columns (total 6 columns):\n",
      "ip            190470 non-null int32\n",
      "app           190470 non-null int16\n",
      "device        190470 non-null int16\n",
      "os            190470 non-null int16\n",
      "channel       190470 non-null int16\n",
      "click_time    190470 non-null datetime64[ns]\n",
      "dtypes: datetime64[ns](1), int16(4), int32(1)\n",
      "memory usage: 5.1 MB\n"
     ]
    }
   ],
   "source": [
    "merged.info(\"deep\")"
   ]
  },
  {
   "cell_type": "code",
   "execution_count": 11,
   "metadata": {},
   "outputs": [],
   "source": [
    "# train data length to separate test\n",
    "train_len = len(train)"
   ]
  },
  {
   "cell_type": "code",
   "execution_count": 12,
   "metadata": {},
   "outputs": [],
   "source": [
    "# collec target\n",
    "is_attributed = train.is_attributed"
   ]
  },
  {
   "cell_type": "code",
   "execution_count": 13,
   "metadata": {},
   "outputs": [
    {
     "data": {
      "text/plain": [
       "223"
      ]
     },
     "execution_count": 13,
     "metadata": {},
     "output_type": "execute_result"
    }
   ],
   "source": [
    "# delete if not needed\n",
    "del train\n",
    "del test\n",
    "gc.collect()"
   ]
  },
  {
   "cell_type": "markdown",
   "metadata": {},
   "source": [
    "#### 1) Get day-hour - datetime components other's are not necessary"
   ]
  },
  {
   "cell_type": "code",
   "execution_count": 14,
   "metadata": {},
   "outputs": [],
   "source": [
    "def add_dayhour(data):\n",
    "    # extract time information\n",
    "    data['click_time'] = pd.to_datetime(data['click_time'])\n",
    "    data['click_timeHour'] = data.click_time.dt.hour.astype(\"int8\")\n",
    "    data['click_timeDay'] = data.click_time.dt.day.astype(\"int8\")\n",
    "    data.drop('click_time', 1, inplace=True)\n",
    "    return data"
   ]
  },
  {
   "cell_type": "code",
   "execution_count": 15,
   "metadata": {},
   "outputs": [],
   "source": [
    "merged = add_dayhour(merged)"
   ]
  },
  {
   "cell_type": "code",
   "execution_count": 16,
   "metadata": {},
   "outputs": [
    {
     "data": {
      "text/html": [
       "<div>\n",
       "<style scoped>\n",
       "    .dataframe tbody tr th:only-of-type {\n",
       "        vertical-align: middle;\n",
       "    }\n",
       "\n",
       "    .dataframe tbody tr th {\n",
       "        vertical-align: top;\n",
       "    }\n",
       "\n",
       "    .dataframe thead th {\n",
       "        text-align: right;\n",
       "    }\n",
       "</style>\n",
       "<table border=\"1\" class=\"dataframe\">\n",
       "  <thead>\n",
       "    <tr style=\"text-align: right;\">\n",
       "      <th></th>\n",
       "      <th>ip</th>\n",
       "      <th>app</th>\n",
       "      <th>device</th>\n",
       "      <th>os</th>\n",
       "      <th>channel</th>\n",
       "      <th>click_timeHour</th>\n",
       "      <th>click_timeDay</th>\n",
       "    </tr>\n",
       "  </thead>\n",
       "  <tbody>\n",
       "    <tr>\n",
       "      <th>0</th>\n",
       "      <td>87540</td>\n",
       "      <td>12</td>\n",
       "      <td>1</td>\n",
       "      <td>13</td>\n",
       "      <td>497</td>\n",
       "      <td>9</td>\n",
       "      <td>7</td>\n",
       "    </tr>\n",
       "    <tr>\n",
       "      <th>1</th>\n",
       "      <td>105560</td>\n",
       "      <td>25</td>\n",
       "      <td>1</td>\n",
       "      <td>17</td>\n",
       "      <td>259</td>\n",
       "      <td>13</td>\n",
       "      <td>7</td>\n",
       "    </tr>\n",
       "    <tr>\n",
       "      <th>2</th>\n",
       "      <td>101424</td>\n",
       "      <td>12</td>\n",
       "      <td>1</td>\n",
       "      <td>19</td>\n",
       "      <td>212</td>\n",
       "      <td>18</td>\n",
       "      <td>7</td>\n",
       "    </tr>\n",
       "    <tr>\n",
       "      <th>3</th>\n",
       "      <td>94584</td>\n",
       "      <td>13</td>\n",
       "      <td>1</td>\n",
       "      <td>13</td>\n",
       "      <td>477</td>\n",
       "      <td>4</td>\n",
       "      <td>7</td>\n",
       "    </tr>\n",
       "    <tr>\n",
       "      <th>4</th>\n",
       "      <td>68413</td>\n",
       "      <td>12</td>\n",
       "      <td>1</td>\n",
       "      <td>1</td>\n",
       "      <td>178</td>\n",
       "      <td>9</td>\n",
       "      <td>9</td>\n",
       "    </tr>\n",
       "  </tbody>\n",
       "</table>\n",
       "</div>"
      ],
      "text/plain": [
       "       ip  app  device  os  channel  click_timeHour  click_timeDay\n",
       "0   87540   12       1  13      497               9              7\n",
       "1  105560   25       1  17      259              13              7\n",
       "2  101424   12       1  19      212              18              7\n",
       "3   94584   13       1  13      477               4              7\n",
       "4   68413   12       1   1      178               9              9"
      ]
     },
     "execution_count": 16,
     "metadata": {},
     "output_type": "execute_result"
    }
   ],
   "source": [
    "merged.head()"
   ]
  },
  {
   "cell_type": "markdown",
   "metadata": {},
   "source": [
    "#### 2) normalize all cats - cats should have indexes starting from 0"
   ]
  },
  {
   "cell_type": "code",
   "execution_count": 17,
   "metadata": {},
   "outputs": [],
   "source": [
    "cats = ['ip', 'app', 'device', 'os', 'channel',\n",
    "'click_timeDay', 'click_timeHour']"
   ]
  },
  {
   "cell_type": "code",
   "execution_count": 18,
   "metadata": {},
   "outputs": [],
   "source": [
    "def norm_cats(data, cats):\n",
    "    for c in cats:\n",
    "        cat2emb = {v:k for k, v in enumerate(data[c].unique())}\n",
    "        data[c] = data[c].map(cat2emb)\n",
    "    return data"
   ]
  },
  {
   "cell_type": "code",
   "execution_count": 19,
   "metadata": {},
   "outputs": [],
   "source": [
    "merged = norm_cats(merged, cats)"
   ]
  },
  {
   "cell_type": "code",
   "execution_count": 20,
   "metadata": {},
   "outputs": [
    {
     "data": {
      "text/html": [
       "<div>\n",
       "<style scoped>\n",
       "    .dataframe tbody tr th:only-of-type {\n",
       "        vertical-align: middle;\n",
       "    }\n",
       "\n",
       "    .dataframe tbody tr th {\n",
       "        vertical-align: top;\n",
       "    }\n",
       "\n",
       "    .dataframe thead th {\n",
       "        text-align: right;\n",
       "    }\n",
       "</style>\n",
       "<table border=\"1\" class=\"dataframe\">\n",
       "  <thead>\n",
       "    <tr style=\"text-align: right;\">\n",
       "      <th></th>\n",
       "      <th>ip</th>\n",
       "      <th>app</th>\n",
       "      <th>device</th>\n",
       "      <th>os</th>\n",
       "      <th>channel</th>\n",
       "      <th>click_timeHour</th>\n",
       "      <th>click_timeDay</th>\n",
       "    </tr>\n",
       "  </thead>\n",
       "  <tbody>\n",
       "    <tr>\n",
       "      <th>0</th>\n",
       "      <td>0</td>\n",
       "      <td>0</td>\n",
       "      <td>0</td>\n",
       "      <td>0</td>\n",
       "      <td>0</td>\n",
       "      <td>0</td>\n",
       "      <td>0</td>\n",
       "    </tr>\n",
       "    <tr>\n",
       "      <th>1</th>\n",
       "      <td>1</td>\n",
       "      <td>1</td>\n",
       "      <td>0</td>\n",
       "      <td>1</td>\n",
       "      <td>1</td>\n",
       "      <td>1</td>\n",
       "      <td>0</td>\n",
       "    </tr>\n",
       "    <tr>\n",
       "      <th>2</th>\n",
       "      <td>2</td>\n",
       "      <td>0</td>\n",
       "      <td>0</td>\n",
       "      <td>2</td>\n",
       "      <td>2</td>\n",
       "      <td>2</td>\n",
       "      <td>0</td>\n",
       "    </tr>\n",
       "    <tr>\n",
       "      <th>3</th>\n",
       "      <td>3</td>\n",
       "      <td>2</td>\n",
       "      <td>0</td>\n",
       "      <td>0</td>\n",
       "      <td>3</td>\n",
       "      <td>3</td>\n",
       "      <td>0</td>\n",
       "    </tr>\n",
       "    <tr>\n",
       "      <th>4</th>\n",
       "      <td>4</td>\n",
       "      <td>0</td>\n",
       "      <td>0</td>\n",
       "      <td>3</td>\n",
       "      <td>4</td>\n",
       "      <td>0</td>\n",
       "      <td>1</td>\n",
       "    </tr>\n",
       "  </tbody>\n",
       "</table>\n",
       "</div>"
      ],
      "text/plain": [
       "   ip  app  device  os  channel  click_timeHour  click_timeDay\n",
       "0   0    0       0   0        0               0              0\n",
       "1   1    1       0   1        1               1              0\n",
       "2   2    0       0   2        2               2              0\n",
       "3   3    2       0   0        3               3              0\n",
       "4   4    0       0   3        4               0              1"
      ]
     },
     "execution_count": 20,
     "metadata": {},
     "output_type": "execute_result"
    }
   ],
   "source": [
    "merged.head()"
   ]
  },
  {
   "cell_type": "markdown",
   "metadata": {},
   "source": [
    "#### 3) Separate data to train, val and test"
   ]
  },
  {
   "cell_type": "code",
   "execution_count": 21,
   "metadata": {},
   "outputs": [
    {
     "data": {
      "text/plain": [
       "array([0, 1, 2, 3, 4])"
      ]
     },
     "execution_count": 21,
     "metadata": {},
     "output_type": "execute_result"
    }
   ],
   "source": [
    "merged.click_timeDay.unique()"
   ]
  },
  {
   "cell_type": "code",
   "execution_count": 22,
   "metadata": {},
   "outputs": [
    {
     "data": {
      "text/plain": [
       "array([ 0,  1,  2,  3,  4,  5,  6,  7,  8,  9, 10, 11, 12, 13, 14, 15, 16, 17, 18, 19, 20, 21, 22, 23])"
      ]
     },
     "execution_count": 22,
     "metadata": {},
     "output_type": "execute_result"
    }
   ],
   "source": [
    "merged.click_timeHour.unique()"
   ]
  },
  {
   "cell_type": "code",
   "execution_count": 23,
   "metadata": {},
   "outputs": [],
   "source": [
    "train_lower_limits = (2, 10) # from day 2 hour 10 including\n",
    "train_upper_limits = (3, 18) # to day 3 hour 18 including\n",
    "\n",
    "train_msk = ((merged.click_timeDay >= train_lower_limits[0]) & (merged.click_timeHour >= train_lower_limits[1]))\\\n",
    "&\\\n",
    "((merged.click_timeDay <= train_upper_limits[0]) & (merged.click_timeHour <= train_upper_limits[1]))\n",
    "\n",
    "val_lower_limits = (3, 19) # from day 2 hour 10 including\n",
    "val_upper_limits = (4, 23) # to day 3 hour 18 including\n",
    "\n",
    "val_msk = ((merged.click_timeDay >= val_lower_limits[0]) & (merged.click_timeHour >= val_lower_limits[1]))\\\n",
    "&\\\n",
    "((merged.click_timeDay <= val_upper_limits[0]) & (merged.click_timeHour <= val_upper_limits[1]))"
   ]
  },
  {
   "cell_type": "code",
   "execution_count": 24,
   "metadata": {},
   "outputs": [],
   "source": [
    "# get test, train, val \n",
    "test = merged[train_len:]\n",
    "train = merged[train_msk]\n",
    "val = merged[val_msk]"
   ]
  },
  {
   "cell_type": "code",
   "execution_count": 25,
   "metadata": {},
   "outputs": [
    {
     "name": "stdout",
     "output_type": "stream",
     "text": [
      "Rows train: 15897, val: 1709, test: 90470\n"
     ]
    }
   ],
   "source": [
    "print(f\"Rows train: {len(train)}, val: {len(val)}, test: {len(test)}\")"
   ]
  },
  {
   "cell_type": "code",
   "execution_count": 26,
   "metadata": {},
   "outputs": [
    {
     "data": {
      "text/plain": [
       "16"
      ]
     },
     "execution_count": 26,
     "metadata": {},
     "output_type": "execute_result"
    }
   ],
   "source": [
    "# delete merged\n",
    "del merged\n",
    "gc.collect()"
   ]
  },
  {
   "cell_type": "code",
   "execution_count": 27,
   "metadata": {},
   "outputs": [
    {
     "data": {
      "text/html": [
       "<div>\n",
       "<style scoped>\n",
       "    .dataframe tbody tr th:only-of-type {\n",
       "        vertical-align: middle;\n",
       "    }\n",
       "\n",
       "    .dataframe tbody tr th {\n",
       "        vertical-align: top;\n",
       "    }\n",
       "\n",
       "    .dataframe thead th {\n",
       "        text-align: right;\n",
       "    }\n",
       "</style>\n",
       "<table border=\"1\" class=\"dataframe\">\n",
       "  <thead>\n",
       "    <tr style=\"text-align: right;\">\n",
       "      <th></th>\n",
       "      <th>ip</th>\n",
       "      <th>app</th>\n",
       "      <th>device</th>\n",
       "      <th>os</th>\n",
       "      <th>channel</th>\n",
       "      <th>click_timeHour</th>\n",
       "      <th>click_timeDay</th>\n",
       "    </tr>\n",
       "  </thead>\n",
       "  <tbody>\n",
       "    <tr>\n",
       "      <th>15</th>\n",
       "      <td>15</td>\n",
       "      <td>1</td>\n",
       "      <td>1</td>\n",
       "      <td>2</td>\n",
       "      <td>1</td>\n",
       "      <td>11</td>\n",
       "      <td>2</td>\n",
       "    </tr>\n",
       "  </tbody>\n",
       "</table>\n",
       "</div>"
      ],
      "text/plain": [
       "    ip  app  device  os  channel  click_timeHour  click_timeDay\n",
       "15  15    1       1   2        1              11              2"
      ]
     },
     "execution_count": 27,
     "metadata": {},
     "output_type": "execute_result"
    }
   ],
   "source": [
    "train.head(1)"
   ]
  },
  {
   "cell_type": "code",
   "execution_count": 28,
   "metadata": {},
   "outputs": [
    {
     "data": {
      "text/html": [
       "<div>\n",
       "<style scoped>\n",
       "    .dataframe tbody tr th:only-of-type {\n",
       "        vertical-align: middle;\n",
       "    }\n",
       "\n",
       "    .dataframe tbody tr th {\n",
       "        vertical-align: top;\n",
       "    }\n",
       "\n",
       "    .dataframe thead th {\n",
       "        text-align: right;\n",
       "    }\n",
       "</style>\n",
       "<table border=\"1\" class=\"dataframe\">\n",
       "  <thead>\n",
       "    <tr style=\"text-align: right;\">\n",
       "      <th></th>\n",
       "      <th>ip</th>\n",
       "      <th>app</th>\n",
       "      <th>device</th>\n",
       "      <th>os</th>\n",
       "      <th>channel</th>\n",
       "      <th>click_timeHour</th>\n",
       "      <th>click_timeDay</th>\n",
       "    </tr>\n",
       "  </thead>\n",
       "  <tbody>\n",
       "    <tr>\n",
       "      <th>337</th>\n",
       "      <td>328</td>\n",
       "      <td>13</td>\n",
       "      <td>0</td>\n",
       "      <td>0</td>\n",
       "      <td>51</td>\n",
       "      <td>23</td>\n",
       "      <td>3</td>\n",
       "    </tr>\n",
       "  </tbody>\n",
       "</table>\n",
       "</div>"
      ],
      "text/plain": [
       "      ip  app  device  os  channel  click_timeHour  click_timeDay\n",
       "337  328   13       0   0       51              23              3"
      ]
     },
     "execution_count": 28,
     "metadata": {},
     "output_type": "execute_result"
    }
   ],
   "source": [
    "val.head(1)"
   ]
  },
  {
   "cell_type": "code",
   "execution_count": 29,
   "metadata": {},
   "outputs": [
    {
     "data": {
      "text/html": [
       "<div>\n",
       "<style scoped>\n",
       "    .dataframe tbody tr th:only-of-type {\n",
       "        vertical-align: middle;\n",
       "    }\n",
       "\n",
       "    .dataframe tbody tr th {\n",
       "        vertical-align: top;\n",
       "    }\n",
       "\n",
       "    .dataframe thead th {\n",
       "        text-align: right;\n",
       "    }\n",
       "</style>\n",
       "<table border=\"1\" class=\"dataframe\">\n",
       "  <thead>\n",
       "    <tr style=\"text-align: right;\">\n",
       "      <th></th>\n",
       "      <th>ip</th>\n",
       "      <th>app</th>\n",
       "      <th>device</th>\n",
       "      <th>os</th>\n",
       "      <th>channel</th>\n",
       "      <th>click_timeHour</th>\n",
       "      <th>click_timeDay</th>\n",
       "    </tr>\n",
       "  </thead>\n",
       "  <tbody>\n",
       "    <tr>\n",
       "      <th>0</th>\n",
       "      <td>5337</td>\n",
       "      <td>0</td>\n",
       "      <td>0</td>\n",
       "      <td>47</td>\n",
       "      <td>79</td>\n",
       "      <td>9</td>\n",
       "      <td>4</td>\n",
       "    </tr>\n",
       "  </tbody>\n",
       "</table>\n",
       "</div>"
      ],
      "text/plain": [
       "     ip  app  device  os  channel  click_timeHour  click_timeDay\n",
       "0  5337    0       0  47       79               9              4"
      ]
     },
     "execution_count": 29,
     "metadata": {},
     "output_type": "execute_result"
    }
   ],
   "source": [
    "test.head(1)"
   ]
  },
  {
   "cell_type": "markdown",
   "metadata": {},
   "source": [
    "#### 4) Target Mean-Count Encoding"
   ]
  },
  {
   "cell_type": "code",
   "execution_count": 30,
   "metadata": {},
   "outputs": [],
   "source": [
    "# plug target back for calculations\n",
    "train[\"is_attributed\"] = is_attributed"
   ]
  },
  {
   "cell_type": "code",
   "execution_count": 31,
   "metadata": {},
   "outputs": [],
   "source": [
    "from sklearn.model_selection import KFold"
   ]
  },
  {
   "cell_type": "code",
   "execution_count": 32,
   "metadata": {},
   "outputs": [],
   "source": [
    "def reg_mean_encoding(train, col, new_col, target, splits=10, seed=42):\n",
    "    \"\"\" Computes regularize mean encoding.\n",
    "        Use this to create mean encoding for training data\n",
    "        \n",
    "    Inputs:\n",
    "        train: training dataframe\n",
    "        col: a single column as string or list of columns to groupby \n",
    "        during mean target encoding\n",
    "        new_col: name of new created column\n",
    "        splits: splits to use for cv\n",
    "    Returns:\n",
    "        train: dataframe with new column added\n",
    "    \"\"\"\n",
    "    # single column to groupby\n",
    "    train[new_col] = 0\n",
    "    if isinstance(col, str):\n",
    "        for split, (trn_idx, val_idx) in enumerate(KFold(splits, shuffle=True, random_state=seed).split(train)):\n",
    "            groups = train.iloc[trn_idx].groupby(col)[target].mean()\n",
    "            train.loc[val_idx, new_col] = train.loc[val_idx, col].map(groups)\n",
    "\n",
    "    # multiple columns to groupby\n",
    "    elif isinstance(col, list):        \n",
    "        for split, (trn_idx, val_idx) in enumerate(KFold(splits, shuffle=True, random_state=seed).split(train)):\n",
    "            stats = train.iloc[trn_idx].groupby(col)[target].mean().reset_index()\n",
    "            vals = pd.merge(train.iloc[val_idx], stats, \"left\", on=col, suffixes=[\"_\", \"\"])[target]\n",
    "            vals.index = val_idx\n",
    "            train.loc[val_idx, new_col] = vals \n",
    "    \n",
    "    train[new_col].fillna(train[new_col].mean(), inplace=True)\n",
    "    return train"
   ]
  },
  {
   "cell_type": "code",
   "execution_count": 33,
   "metadata": {},
   "outputs": [],
   "source": [
    "def reg_mean_encoding_test(test, train, col, new_col, target):\n",
    "    \"\"\" Computes target enconding for test data.\n",
    "        Use this to create mean encoding for valdiation and test data\n",
    "        Inputs:\n",
    "            train: training dataframe to compute means\n",
    "            test: training dataframe to create new column\n",
    "            col: a single column as string or list of columns\n",
    "            new_col: name of new created column\n",
    "        Returns:\n",
    "            test: dataframe with new column added\n",
    "    This is similar to how we do validation\n",
    "    \"\"\"\n",
    "    # single column to groupby\n",
    "    test[new_col] = 0\n",
    "    if isinstance(col, str):\n",
    "        test[new_col] = test[col].map(train.groupby(col)[target].mean())\n",
    "        test[new_col].fillna(train[target].mean(), inplace=True)\n",
    "    # multiple columns to groupby\n",
    "    elif isinstance(col, list):\n",
    "        stats = train.groupby(col)[target].mean().reset_index()\n",
    "        vals = pd.merge(test, stats, \"left\", on=col, suffixes=[\"_\", \"\"])[target]\n",
    "        test[new_col] = vals \n",
    "    \n",
    "    test[new_col].fillna(train[target].mean(), inplace=True)\n",
    "    return test"
   ]
  },
  {
   "cell_type": "code",
   "execution_count": 34,
   "metadata": {},
   "outputs": [],
   "source": [
    "# may add more random columns or column combinations\n",
    "random_encoding_cols = \\\n",
    "    ['ip', 'app', 'device', 'os', 'channel', 'click_timeHour', 'click_timeDay']+\\\n",
    "    [['ip','click_timeDay','click_timeHour'], ['ip','app'], ['ip','app', 'os'], ['ip','app', 'click_timeHour']]\n",
    "\n",
    "for c in random_encoding_cols:\n",
    "    if isinstance(c, list): name = \"_\".join(c)\n",
    "    else: name = c\n",
    "    # regularized mean encoding for train\n",
    "    train = reg_mean_encoding(train.reset_index(drop=True),\n",
    "                             c,\n",
    "                             f'random_mean_encode_{name}',\n",
    "                             'is_attributed')\n",
    "    #print(\"done\")\n",
    "    # regularized mean encoding fo validation\n",
    "    val = reg_mean_encoding_test(val.reset_index(drop=True),\n",
    "                                 train.reset_index(drop=True),\n",
    "                                 c,\n",
    "                                 f'random_mean_encode_{name}',\n",
    "                                 'is_attributed')\n",
    "    #print(\"done\")\n",
    "    # regularized mean encoding fo test\n",
    "    val = reg_mean_encoding_test(test,\n",
    "                                 pd.concat([train.reset_index(drop=True), val.reset_index(drop=True)]),\n",
    "                                 c,\n",
    "                                 f'random_mean_encode_{name}',\n",
    "                                 'is_attributed')\n",
    "    #print(\"done\")"
   ]
  },
  {
   "cell_type": "code",
   "execution_count": 35,
   "metadata": {},
   "outputs": [],
   "source": [
    "def reg_count_encoding(train, col, new_col, target, splits=10, seed=42):\n",
    "    \"\"\" Computes regularize count encoding.\n",
    "        Use this to create count encoding for training data\n",
    "        \n",
    "    Inputs:\n",
    "        train: training dataframe\n",
    "        col: a single column as string or list of columns to groupby \n",
    "        during count target encoding\n",
    "        new_col: name of new created column\n",
    "        splits: splits to use for cv\n",
    "    Returns:\n",
    "        train: dataframe with new column added\n",
    "    \"\"\"\n",
    "    # single column to groupby\n",
    "    train[new_col] = 0\n",
    "    if isinstance(col, str):\n",
    "        for split, (trn_idx, val_idx) in enumerate(KFold(splits, shuffle=True, random_state=seed).split(train)):\n",
    "            groups = train.iloc[trn_idx].groupby(col)[target].count()\n",
    "            train.loc[val_idx, new_col] = train.loc[val_idx, col].map(groups)\n",
    "\n",
    "    # multiple columns to groupby\n",
    "    elif isinstance(col, list):        \n",
    "        for split, (trn_idx, val_idx) in enumerate(KFold(splits, shuffle=True, random_state=seed).split(train)):\n",
    "            stats = train.iloc[trn_idx].groupby(col)[target].count().reset_index()\n",
    "            vals = pd.merge(train.iloc[val_idx], stats, \"left\", on=col, suffixes=[\"_\", \"\"])[target]\n",
    "            vals.index = val_idx\n",
    "            train.loc[val_idx, new_col] = vals \n",
    "    \n",
    "    train[new_col].fillna(train[new_col].count(), inplace=True)\n",
    "    return train"
   ]
  },
  {
   "cell_type": "code",
   "execution_count": 36,
   "metadata": {},
   "outputs": [],
   "source": [
    "def reg_count_encoding_test(test, train, col, new_col, target):\n",
    "    \"\"\" Computes target enconding for test data.\n",
    "        Use this to create count encoding for valdiation and test data\n",
    "        Inputs:\n",
    "            train: training dataframe to compute counts\n",
    "            test: training dataframe to create new column\n",
    "            col: a single column as string or list of columns\n",
    "            new_col: name of new created column\n",
    "        Returns:\n",
    "            test: dataframe with new column added\n",
    "    This is similar to how we do validation\n",
    "    \"\"\"\n",
    "    # single column to groupby\n",
    "    test[new_col] = 0\n",
    "    if isinstance(col, str):\n",
    "        test[new_col] = test[col].map(train.groupby(col)[target].count())\n",
    "        test[new_col].fillna(train[target].count(), inplace=True)\n",
    "    # multiple columns to groupby\n",
    "    elif isinstance(col, list):\n",
    "        stats = train.groupby(col)[target].count().reset_index()\n",
    "        vals = pd.merge(test, stats, \"left\", on=col, suffixes=[\"_\", \"\"])[target]\n",
    "        test[new_col] = vals \n",
    "    \n",
    "    test[new_col].fillna(train[target].count(), inplace=True)\n",
    "    return test"
   ]
  },
  {
   "cell_type": "code",
   "execution_count": 37,
   "metadata": {},
   "outputs": [],
   "source": [
    "# may add more random columns or column combinations\n",
    "random_encoding_cols = \\\n",
    "    ['ip', 'app', 'device', 'os', 'channel', 'click_timeHour', 'click_timeDay']+\\\n",
    "    [['ip','click_timeDay','click_timeHour'], ['ip','app'], ['ip','app', 'os'], ['ip','app', 'click_timeHour']]\n",
    "\n",
    "for c in random_encoding_cols:\n",
    "    if isinstance(c, list): name = \"_\".join(c)\n",
    "    else: name = c\n",
    "    # regularized count encoding for train\n",
    "    train = reg_count_encoding(train.reset_index(drop=True),\n",
    "                             c,\n",
    "                             f'random_count_encode_{name}',\n",
    "                             'is_attributed')\n",
    "    #print(\"done\")\n",
    "    # regularized count encoding fo validation\n",
    "    val = reg_mean_encoding_test(val.reset_index(drop=True),\n",
    "                                 train.reset_index(drop=True),\n",
    "                                 c,\n",
    "                                 f'random_count_encode_{name}',\n",
    "                                 'is_attributed')\n",
    "    #print(\"done\")count encoding fo test\n",
    "    test = reg_mean_encoding_test(test.reset_index(drop=True),\n",
    "                                 pd.concat([train.reset_index(drop=True), val.reset_index(drop=True)]),\n",
    "                                 c,\n",
    "                                 f'random_count_encode_{name}',\n",
    "                                 'is_attributed')\n",
    "    #print(\"done\")"
   ]
  },
  {
   "cell_type": "code",
   "execution_count": 39,
   "metadata": {},
   "outputs": [
    {
     "data": {
      "text/html": [
       "<div>\n",
       "<style scoped>\n",
       "    .dataframe tbody tr th:only-of-type {\n",
       "        vertical-align: middle;\n",
       "    }\n",
       "\n",
       "    .dataframe tbody tr th {\n",
       "        vertical-align: top;\n",
       "    }\n",
       "\n",
       "    .dataframe thead th {\n",
       "        text-align: right;\n",
       "    }\n",
       "</style>\n",
       "<table border=\"1\" class=\"dataframe\">\n",
       "  <thead>\n",
       "    <tr style=\"text-align: right;\">\n",
       "      <th></th>\n",
       "      <th>0</th>\n",
       "    </tr>\n",
       "  </thead>\n",
       "  <tbody>\n",
       "    <tr>\n",
       "      <th>ip</th>\n",
       "      <td>15.000000</td>\n",
       "    </tr>\n",
       "    <tr>\n",
       "      <th>app</th>\n",
       "      <td>1.000000</td>\n",
       "    </tr>\n",
       "    <tr>\n",
       "      <th>device</th>\n",
       "      <td>1.000000</td>\n",
       "    </tr>\n",
       "    <tr>\n",
       "      <th>os</th>\n",
       "      <td>2.000000</td>\n",
       "    </tr>\n",
       "    <tr>\n",
       "      <th>channel</th>\n",
       "      <td>1.000000</td>\n",
       "    </tr>\n",
       "    <tr>\n",
       "      <th>click_timeHour</th>\n",
       "      <td>11.000000</td>\n",
       "    </tr>\n",
       "    <tr>\n",
       "      <th>click_timeDay</th>\n",
       "      <td>2.000000</td>\n",
       "    </tr>\n",
       "    <tr>\n",
       "      <th>is_attributed</th>\n",
       "      <td>0.000000</td>\n",
       "    </tr>\n",
       "    <tr>\n",
       "      <th>random_mean_encode_ip</th>\n",
       "      <td>0.001141</td>\n",
       "    </tr>\n",
       "    <tr>\n",
       "      <th>random_mean_encode_app</th>\n",
       "      <td>0.000000</td>\n",
       "    </tr>\n",
       "    <tr>\n",
       "      <th>random_mean_encode_device</th>\n",
       "      <td>0.000000</td>\n",
       "    </tr>\n",
       "    <tr>\n",
       "      <th>random_mean_encode_os</th>\n",
       "      <td>0.001679</td>\n",
       "    </tr>\n",
       "    <tr>\n",
       "      <th>random_mean_encode_channel</th>\n",
       "      <td>0.000000</td>\n",
       "    </tr>\n",
       "    <tr>\n",
       "      <th>random_mean_encode_click_timeHour</th>\n",
       "      <td>0.002213</td>\n",
       "    </tr>\n",
       "    <tr>\n",
       "      <th>random_mean_encode_click_timeDay</th>\n",
       "      <td>0.001955</td>\n",
       "    </tr>\n",
       "    <tr>\n",
       "      <th>random_mean_encode_ip_click_timeDay_click_timeHour</th>\n",
       "      <td>0.000469</td>\n",
       "    </tr>\n",
       "    <tr>\n",
       "      <th>random_mean_encode_ip_app</th>\n",
       "      <td>0.000000</td>\n",
       "    </tr>\n",
       "    <tr>\n",
       "      <th>random_mean_encode_ip_app_os</th>\n",
       "      <td>0.000000</td>\n",
       "    </tr>\n",
       "    <tr>\n",
       "      <th>random_mean_encode_ip_app_click_timeHour</th>\n",
       "      <td>0.000000</td>\n",
       "    </tr>\n",
       "    <tr>\n",
       "      <th>random_count_encode_ip</th>\n",
       "      <td>7325.000000</td>\n",
       "    </tr>\n",
       "    <tr>\n",
       "      <th>random_count_encode_app</th>\n",
       "      <td>112.000000</td>\n",
       "    </tr>\n",
       "    <tr>\n",
       "      <th>random_count_encode_device</th>\n",
       "      <td>475.000000</td>\n",
       "    </tr>\n",
       "    <tr>\n",
       "      <th>random_count_encode_os</th>\n",
       "      <td>3574.000000</td>\n",
       "    </tr>\n",
       "    <tr>\n",
       "      <th>random_count_encode_channel</th>\n",
       "      <td>438.000000</td>\n",
       "    </tr>\n",
       "    <tr>\n",
       "      <th>random_count_encode_click_timeHour</th>\n",
       "      <td>2259.000000</td>\n",
       "    </tr>\n",
       "    <tr>\n",
       "      <th>random_count_encode_click_timeDay</th>\n",
       "      <td>11255.000000</td>\n",
       "    </tr>\n",
       "    <tr>\n",
       "      <th>random_count_encode_ip_click_timeDay_click_timeHour</th>\n",
       "      <td>2130.000000</td>\n",
       "    </tr>\n",
       "    <tr>\n",
       "      <th>random_count_encode_ip_app</th>\n",
       "      <td>2061.000000</td>\n",
       "    </tr>\n",
       "    <tr>\n",
       "      <th>random_count_encode_ip_app_os</th>\n",
       "      <td>480.000000</td>\n",
       "    </tr>\n",
       "    <tr>\n",
       "      <th>random_count_encode_ip_app_click_timeHour</th>\n",
       "      <td>554.000000</td>\n",
       "    </tr>\n",
       "  </tbody>\n",
       "</table>\n",
       "</div>"
      ],
      "text/plain": [
       "                                                               0\n",
       "ip                                                     15.000000\n",
       "app                                                     1.000000\n",
       "device                                                  1.000000\n",
       "os                                                      2.000000\n",
       "channel                                                 1.000000\n",
       "click_timeHour                                         11.000000\n",
       "click_timeDay                                           2.000000\n",
       "is_attributed                                           0.000000\n",
       "random_mean_encode_ip                                   0.001141\n",
       "random_mean_encode_app                                  0.000000\n",
       "random_mean_encode_device                               0.000000\n",
       "random_mean_encode_os                                   0.001679\n",
       "random_mean_encode_channel                              0.000000\n",
       "random_mean_encode_click_timeHour                       0.002213\n",
       "random_mean_encode_click_timeDay                        0.001955\n",
       "random_mean_encode_ip_click_timeDay_click_timeHour      0.000469\n",
       "random_mean_encode_ip_app                               0.000000\n",
       "random_mean_encode_ip_app_os                            0.000000\n",
       "random_mean_encode_ip_app_click_timeHour                0.000000\n",
       "random_count_encode_ip                               7325.000000\n",
       "random_count_encode_app                               112.000000\n",
       "random_count_encode_device                            475.000000\n",
       "random_count_encode_os                               3574.000000\n",
       "random_count_encode_channel                           438.000000\n",
       "random_count_encode_click_timeHour                   2259.000000\n",
       "random_count_encode_click_timeDay                   11255.000000\n",
       "random_count_encode_ip_click_timeDay_click_time...   2130.000000\n",
       "random_count_encode_ip_app                           2061.000000\n",
       "random_count_encode_ip_app_os                         480.000000\n",
       "random_count_encode_ip_app_click_timeHour             554.000000"
      ]
     },
     "execution_count": 39,
     "metadata": {},
     "output_type": "execute_result"
    }
   ],
   "source": [
    "train.head(1).T"
   ]
  },
  {
   "cell_type": "code",
   "execution_count": null,
   "metadata": {},
   "outputs": [],
   "source": []
  },
  {
   "cell_type": "code",
   "execution_count": null,
   "metadata": {},
   "outputs": [],
   "source": []
  },
  {
   "cell_type": "code",
   "execution_count": null,
   "metadata": {},
   "outputs": [],
   "source": []
  },
  {
   "cell_type": "code",
   "execution_count": null,
   "metadata": {},
   "outputs": [],
   "source": []
  },
  {
   "cell_type": "code",
   "execution_count": null,
   "metadata": {},
   "outputs": [],
   "source": []
  },
  {
   "cell_type": "code",
   "execution_count": null,
   "metadata": {},
   "outputs": [],
   "source": []
  },
  {
   "cell_type": "code",
   "execution_count": null,
   "metadata": {},
   "outputs": [],
   "source": []
  },
  {
   "cell_type": "code",
   "execution_count": null,
   "metadata": {},
   "outputs": [],
   "source": []
  },
  {
   "cell_type": "code",
   "execution_count": null,
   "metadata": {},
   "outputs": [],
   "source": []
  },
  {
   "cell_type": "code",
   "execution_count": null,
   "metadata": {},
   "outputs": [],
   "source": []
  },
  {
   "cell_type": "code",
   "execution_count": null,
   "metadata": {},
   "outputs": [],
   "source": []
  },
  {
   "cell_type": "code",
   "execution_count": null,
   "metadata": {},
   "outputs": [],
   "source": []
  },
  {
   "cell_type": "code",
   "execution_count": null,
   "metadata": {},
   "outputs": [],
   "source": []
  },
  {
   "cell_type": "code",
   "execution_count": null,
   "metadata": {},
   "outputs": [],
   "source": []
  },
  {
   "cell_type": "code",
   "execution_count": null,
   "metadata": {},
   "outputs": [],
   "source": []
  },
  {
   "cell_type": "code",
   "execution_count": null,
   "metadata": {},
   "outputs": [],
   "source": []
  },
  {
   "cell_type": "code",
   "execution_count": null,
   "metadata": {},
   "outputs": [],
   "source": []
  },
  {
   "cell_type": "code",
   "execution_count": null,
   "metadata": {},
   "outputs": [],
   "source": []
  },
  {
   "cell_type": "code",
   "execution_count": null,
   "metadata": {},
   "outputs": [],
   "source": []
  },
  {
   "cell_type": "code",
   "execution_count": null,
   "metadata": {},
   "outputs": [],
   "source": []
  }
 ],
 "metadata": {
  "kernelspec": {
   "display_name": "Python 3",
   "language": "python",
   "name": "python3"
  },
  "language_info": {
   "codemirror_mode": {
    "name": "ipython",
    "version": 3
   },
   "file_extension": ".py",
   "mimetype": "text/x-python",
   "name": "python",
   "nbconvert_exporter": "python",
   "pygments_lexer": "ipython3",
   "version": "3.6.5"
  }
 },
 "nbformat": 4,
 "nbformat_minor": 2
}
