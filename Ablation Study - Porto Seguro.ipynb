{
 "cells": [
  {
   "cell_type": "code",
   "execution_count": 1,
   "metadata": {},
   "outputs": [],
   "source": [
    "import pandas as pd\n",
    "import numpy as np\n",
    "\n",
    "# Load custom modules\n",
    "from nets import *\n",
    "from sampling import *\n",
    "from model_data import *\n",
    "from preprocess import *\n",
    "from model import *\n",
    "from metrics import gini_normalized\n",
    "\n",
    "\n",
    "# Others\n",
    "from tqdm import tqdm\n",
    "from torch.autograd import Variable as V\n",
    "import matplotlib.pyplot as plt\n",
    "%matplotlib inline"
   ]
  },
  {
   "cell_type": "code",
   "execution_count": 2,
   "metadata": {},
   "outputs": [],
   "source": [
    "import sys"
   ]
  },
  {
   "cell_type": "code",
   "execution_count": 3,
   "metadata": {},
   "outputs": [],
   "source": [
    "sys.path.append('../../../Desktop/FASTAI/fastai/')"
   ]
  },
  {
   "cell_type": "code",
   "execution_count": 4,
   "metadata": {},
   "outputs": [],
   "source": [
    "from fastai import column_data"
   ]
  },
  {
   "cell_type": "markdown",
   "metadata": {},
   "source": [
    "### LOAD DATA\n",
    "\n",
    "For fast iterations and experimentaions we will work with a random subsample."
   ]
  },
  {
   "cell_type": "code",
   "execution_count": 5,
   "metadata": {},
   "outputs": [],
   "source": [
    "train = pd.read_csv('./data/Porto_Seguro/train.csv')"
   ]
  },
  {
   "cell_type": "code",
   "execution_count": 6,
   "metadata": {},
   "outputs": [
    {
     "data": {
      "text/plain": [
       "(595212, 59)"
      ]
     },
     "execution_count": 6,
     "metadata": {},
     "output_type": "execute_result"
    }
   ],
   "source": [
    "train.shape"
   ]
  },
  {
   "cell_type": "code",
   "execution_count": 7,
   "metadata": {},
   "outputs": [
    {
     "data": {
      "image/png": "[encoded data removed]",
      "text/plain": [
       "<matplotlib.figure.Figure at 0x7f979b612b00>"
      ]
     },
     "metadata": {},
     "output_type": "display_data"
    }
   ],
   "source": [
    "plot = plt.hist(train.target)"
   ]
  },
  {
   "cell_type": "code",
   "execution_count": 57,
   "metadata": {},
   "outputs": [],
   "source": [
    "sampledata = subsample(train, 0.25)"
   ]
  },
  {
   "cell_type": "code",
   "execution_count": 58,
   "metadata": {},
   "outputs": [
    {
     "data": {
      "image/png": "[encoded data removed]",
      "text/plain": [
       "<matplotlib.figure.Figure at 0x7f977cfd1048>"
      ]
     },
     "metadata": {},
     "output_type": "display_data"
    }
   ],
   "source": [
    "plot = plt.hist(sampledata.target)"
   ]
  },
  {
   "cell_type": "code",
   "execution_count": 59,
   "metadata": {},
   "outputs": [],
   "source": [
    "# Get ohe for cats\n",
    "cats = [c for c in sampledata.columns if 'cat' in c]\n",
    "sampledata = num_df(sampledata, cats)"
   ]
  },
  {
   "cell_type": "markdown",
   "metadata": {},
   "source": [
    "### SIMPLENET\n",
    "\n",
    "* Simple Fully Connected Net\n",
    "* OHE data \n",
    "* Normalized data "
   ]
  },
  {
   "cell_type": "code",
   "execution_count": 60,
   "metadata": {},
   "outputs": [],
   "source": [
    "# Normalize data by rankgauss, ignore id and target\n",
    "sampledata = rankgauss(sampledata, exclude=['id', 'target'])"
   ]
  },
  {
   "cell_type": "code",
   "execution_count": 61,
   "metadata": {},
   "outputs": [
    {
     "data": {
      "image/png": "[encoded data removed]",
      "text/plain": [
       "<matplotlib.figure.Figure at 0x7f977d12d198>"
      ]
     },
     "metadata": {},
     "output_type": "display_data"
    }
   ],
   "source": [
    "plot = plt.hist(sampledata.ps_car_01_cat)"
   ]
  },
  {
   "cell_type": "code",
   "execution_count": 62,
   "metadata": {},
   "outputs": [],
   "source": [
    "# Do 5 fold cv split\n",
    "cv = kfold_cv_idx(sampledata, 5)"
   ]
  },
  {
   "cell_type": "code",
   "execution_count": 63,
   "metadata": {},
   "outputs": [],
   "source": [
    "# Create model data\n",
    "modeldata = SimpleColumnModelData.from_dataframe(dataframe=sampledata.drop('id', 1), bs=256, cv=cv, target='target', test=None)"
   ]
  },
  {
   "cell_type": "code",
   "execution_count": 64,
   "metadata": {},
   "outputs": [],
   "source": [
    "# init simple net\n",
    "snet = SimpleNet([241, 500, 1000, 2])"
   ]
  },
  {
   "cell_type": "code",
   "execution_count": 65,
   "metadata": {},
   "outputs": [],
   "source": [
    "model = snet\n",
    "data = modeldata\n",
    "epochs = 5\n",
    "optimizer = Adam(snet.parameters())\n",
    "criterion = nn.NLLLoss()"
   ]
  },
  {
   "cell_type": "code",
   "execution_count": 66,
   "metadata": {
    "scrolled": true
   },
   "outputs": [],
   "source": [
    "def fit_cv(model, data, epochs, optimizer, crit, metric=None):\n",
    "    cv_trn_losses = []\n",
    "    cv_val_losses = []\n",
    "    metric_scores = []\n",
    "    for cv_pair in tqdm(data.cv_dls):\n",
    "\n",
    "        # Get fold train and validation\n",
    "        trn_dl = cv_pair[0]\n",
    "        val_dl = cv_pair[1]\n",
    "\n",
    "        # Tranining\n",
    "        alpha = 0.98\n",
    "        smooth_loss, batch_num = 0., 0\n",
    "        for epoch in range(epochs):\n",
    "            for (x, y) in iter(trn_dl):\n",
    "                batch_num += 1\n",
    "                #Calculate loss\n",
    "                outputs, labels = model(V(x)), V(y)\n",
    "                loss = criterion(outputs, labels.squeeze(-1))\n",
    "                smooth_loss = (alpha)*smooth_loss + (1 - alpha)*loss.data\n",
    "\n",
    "                #Update Weights\n",
    "                optimizer.zero_grad()\n",
    "                loss.backward()\n",
    "                optimizer.step()\n",
    "        # final training loss - debias loss\n",
    "        smooth_loss = smooth_loss / (1 - alpha**batch_num)\n",
    "\n",
    "\n",
    "        # Validation \n",
    "        val_loss = 0\n",
    "        num_obs = 0\n",
    "        val_true = []\n",
    "        val_preds = []\n",
    "        for (x, y) in iter(val_dl):\n",
    "            outputs, labels = model(V(x)), V(y)\n",
    "            loss = criterion(outputs, labels.squeeze(-1))\n",
    "            n = len(labels)\n",
    "            num_obs += n\n",
    "            val_loss += loss.data[0]*n\n",
    "            \n",
    "            # Collect data for custom validation\n",
    "            if metric: \n",
    "                val_true += list(labels.data.numpy())\n",
    "                val_preds += list(outputs.data.numpy())   \n",
    "\n",
    "\n",
    "        # Collect Aggreagated losses\n",
    "        cv_trn_loss = smooth_loss[0]\n",
    "        cv_val_loss = val_loss/num_obs\n",
    "        cv_trn_losses.append(cv_trn_loss)\n",
    "        cv_val_losses.append(cv_val_loss)\n",
    "        \n",
    "        # return val_true, val_preds\n",
    "        #return (val_true, val_preds)\n",
    "        # Custom validation\n",
    "        if metric:\n",
    "            metric_score = metric(val_true, val_preds)\n",
    "            metric_scores.append(metric_score)\n",
    "        \n",
    "    trn_loss_avg = round(np.mean(cv_trn_losses), 4)\n",
    "    trn_loss_std = round(np.std(cv_trn_losses), 4)\n",
    "    val_loss_avg = round(np.mean(cv_val_losses), 4)\n",
    "    val_loss_std = round(np.std(cv_val_losses), 4)\n",
    "\n",
    "    print(f'training loss: {trn_loss_avg} +/- {trn_loss_std}, validation loss:  {val_loss_avg} +/- {val_loss_std}')\n",
    "    if metric:\n",
    "        custom_avg = np.mean(metric_scores)\n",
    "        custom_std = np.std(metric_scores)\n",
    "        print(f'{metric_scores}')\n",
    "        print(f'custom mean: {custom_avg} +/- {custom_std}')"
   ]
  },
  {
   "cell_type": "code",
   "execution_count": 68,
   "metadata": {
    "scrolled": false
   },
   "outputs": [
    {
     "name": "stderr",
     "output_type": "stream",
     "text": [
      "100%|██████████| 5/5 [04:33<00:00, 54.66s/it]"
     ]
    },
    {
     "name": "stdout",
     "output_type": "stream",
     "text": [
      "training loss: 0.0421 +/- 0.0348, validation loss:  0.0908 +/- 0.0574\n",
      "[0.31240225955476697, 0.72848274467944085, 0.94735964771218495, 0.98711184437210919, 0.99131182335827017]\n",
      "custom mean: 0.7933336639353544 +/- 0.25921805336361375\n"
     ]
    },
    {
     "name": "stderr",
     "output_type": "stream",
     "text": [
      "\n"
     ]
    }
   ],
   "source": [
    "# re-init model\n",
    "model = snet\n",
    "fit_cv(model, data, 5, optimizer, criterion, metric=gini_normalized)"
   ]
  },
  {
   "cell_type": "code",
   "execution_count": null,
   "metadata": {},
   "outputs": [],
   "source": []
  }
 ],
 "metadata": {
  "kernelspec": {
   "display_name": "Python 3",
   "language": "python",
   "name": "python3"
  },
  "language_info": {
   "codemirror_mode": {
    "name": "ipython",
    "version": 3
   },
   "file_extension": ".py",
   "mimetype": "text/x-python",
   "name": "python",
   "nbconvert_exporter": "python",
   "pygments_lexer": "ipython3",
   "version": "3.6.3"
  }
 },
 "nbformat": 4,
 "nbformat_minor": 2
}
